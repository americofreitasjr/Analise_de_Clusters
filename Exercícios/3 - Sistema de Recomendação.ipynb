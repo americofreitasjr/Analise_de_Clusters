{
  "nbformat": 4,
  "nbformat_minor": 0,
  "metadata": {
    "colab": {
      "name": "3 - Sistema de Recomendação.ipynb",
      "version": "0.3.2",
      "provenance": [],
      "collapsed_sections": [
        "WBU1VCsAqsNU"
      ],
      "include_colab_link": true
    },
    "language_info": {
      "codemirror_mode": "r",
      "file_extension": ".r",
      "mimetype": "text/x-r-source",
      "name": "R",
      "pygments_lexer": "r",
      "version": "3.5.1"
    },
    "kernelspec": {
      "display_name": "R",
      "language": "R",
      "name": "ir"
    }
  },
  "cells": [
    {
      "cell_type": "markdown",
      "metadata": {
        "id": "view-in-github",
        "colab_type": "text"
      },
      "source": [
        "<a href=\"https://colab.research.google.com/github/lauramoraes/Analise_de_Clusters/blob/master/Exerc%C3%ADcios/3%20-%20Sistema%20de%20Recomenda%C3%A7%C3%A3o.ipynb\" target=\"_parent\"><img src=\"https://colab.research.google.com/assets/colab-badge.svg\" alt=\"Open In Colab\"/></a>"
      ]
    },
    {
      "cell_type": "markdown",
      "metadata": {
        "id": "2ax1wW1bqsNP",
        "colab_type": "text"
      },
      "source": [
        "# Sistema de Recomendação"
      ]
    },
    {
      "cell_type": "markdown",
      "metadata": {
        "id": "WBU1VCsAqsNU",
        "colab_type": "text"
      },
      "source": [
        "### Importando bibliotecas a serem usadas"
      ]
    },
    {
      "cell_type": "code",
      "metadata": {
        "id": "Er2PmKaBqsNX",
        "colab_type": "code",
        "colab": {}
      },
      "source": [
        "suppressMessages(suppressWarnings(library(tidyverse)))\n",
        "suppressMessages(suppressWarnings(library(ggplot2)))"
      ],
      "execution_count": 0,
      "outputs": []
    },
    {
      "cell_type": "code",
      "metadata": {
        "id": "fEzjBnBTqsNk",
        "colab_type": "code",
        "colab": {}
      },
      "source": [
        "# Multiple plot function\n",
        "#\n",
        "# ggplot objects can be passed in ..., or to plotlist (as a list of ggplot objects)\n",
        "# - cols:   Number of columns in layout\n",
        "# - layout: A matrix specifying the layout. If present, 'cols' is ignored.\n",
        "#\n",
        "# If the layout is something like matrix(c(1,2,3,3), nrow=2, byrow=TRUE),\n",
        "# then plot 1 will go in the upper left, 2 will go in the upper right, and\n",
        "# 3 will go all the way across the bottom.\n",
        "#\n",
        "multiplot <- function(..., plotlist=NULL, file, cols=1, layout=NULL) {\n",
        "  library(grid)\n",
        "\n",
        "  # Make a list from the ... arguments and plotlist\n",
        "  plots <- c(list(...), plotlist)\n",
        "\n",
        "  numPlots = length(plots)\n",
        "\n",
        "  # If layout is NULL, then use 'cols' to determine layout\n",
        "  if (is.null(layout)) {\n",
        "    # Make the panel\n",
        "    # ncol: Number of columns of plots\n",
        "    # nrow: Number of rows needed, calculated from # of cols\n",
        "    layout <- matrix(seq(1, cols * ceiling(numPlots/cols)),\n",
        "                    ncol = cols, nrow = ceiling(numPlots/cols))\n",
        "  }\n",
        "\n",
        " if (numPlots==1) {\n",
        "    print(plots[[1]])\n",
        "\n",
        "  } else {\n",
        "    # Set up the page\n",
        "    grid.newpage()\n",
        "    pushViewport(viewport(layout = grid.layout(nrow(layout), ncol(layout))))\n",
        "\n",
        "    # Make each plot, in the correct location\n",
        "    for (i in 1:numPlots) {\n",
        "      # Get the i,j matrix positions of the regions that contain this subplot\n",
        "      matchidx <- as.data.frame(which(layout == i, arr.ind = TRUE))\n",
        "\n",
        "      print(plots[[i]], vp = viewport(layout.pos.row = matchidx$row,\n",
        "                                      layout.pos.col = matchidx$col))\n",
        "    }\n",
        "  }\n",
        "}"
      ],
      "execution_count": 0,
      "outputs": []
    },
    {
      "cell_type": "markdown",
      "metadata": {
        "id": "aU3O09tQqsNt",
        "colab_type": "text"
      },
      "source": [
        "### 1) Carregue os dados salvos anteriormente"
      ]
    },
    {
      "cell_type": "code",
      "metadata": {
        "id": "YcZK5oMb5Jp2",
        "colab_type": "code",
        "colab": {}
      },
      "source": [
        "# Escreva seu código aqui"
      ],
      "execution_count": 0,
      "outputs": []
    },
    {
      "cell_type": "markdown",
      "metadata": {
        "id": "ayLEI-zIqsOC",
        "colab_type": "text"
      },
      "source": [
        "### 2) Descubra características intrínsecas dos seus dados fatorando ele na dimensão descoberta no exercício anterior"
      ]
    },
    {
      "cell_type": "code",
      "metadata": {
        "id": "GRfnJWp1qsOE",
        "colab_type": "code",
        "colab": {}
      },
      "source": [
        "# Escreva seu código aqui"
      ],
      "execution_count": 0,
      "outputs": []
    },
    {
      "cell_type": "markdown",
      "metadata": {
        "id": "ICk4WS4BqsON",
        "colab_type": "text"
      },
      "source": [
        "### 3) Baseando-se no notebook de Recomendação de Filmes, crie um sistema de recomendação que utilize seus dados."
      ]
    },
    {
      "cell_type": "code",
      "metadata": {
        "id": "ZHR5tvjSqsOQ",
        "colab_type": "code",
        "colab": {}
      },
      "source": [
        "# Escreva seu código aqui"
      ],
      "execution_count": 0,
      "outputs": []
    }
  ]
}