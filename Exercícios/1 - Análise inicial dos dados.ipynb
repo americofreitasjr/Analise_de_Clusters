{
  "nbformat": 4,
  "nbformat_minor": 0,
  "metadata": {
    "colab": {
      "name": "1 - Análise inicial dos dados.ipynb",
      "version": "0.3.2",
      "provenance": [],
      "include_colab_link": true
    },
    "language_info": {
      "codemirror_mode": "r",
      "file_extension": ".r",
      "mimetype": "text/x-r-source",
      "name": "R",
      "pygments_lexer": "r",
      "version": "3.3.1"
    },
    "kernelspec": {
      "display_name": "R",
      "language": "R",
      "name": "ir"
    }
  },
  "cells": [
    {
      "cell_type": "markdown",
      "metadata": {
        "id": "view-in-github",
        "colab_type": "text"
      },
      "source": [
        "<a href=\"https://colab.research.google.com/github/lauramoraes/Analise_de_Clusters/blob/master/Exerc%C3%ADcios/1%20-%20An%C3%A1lise%20inicial%20dos%20dados.ipynb\" target=\"_parent\"><img src=\"https://colab.research.google.com/assets/colab-badge.svg\" alt=\"Open In Colab\"/></a>"
      ]
    },
    {
      "cell_type": "markdown",
      "metadata": {
        "id": "wn9t4aUDQH2z",
        "colab_type": "text"
      },
      "source": [
        "# Datasets"
      ]
    },
    {
      "cell_type": "markdown",
      "metadata": {
        "id": "UixQ-Y9VKjwy",
        "colab_type": "text"
      },
      "source": [
        "### Importando bibliotecas a serem usadas"
      ]
    },
    {
      "cell_type": "code",
      "metadata": {
        "id": "SvGJ9AF0OH45",
        "colab_type": "code",
        "outputId": "7fb9d054-fac0-4a8e-a63e-3e2cff926fdf",
        "colab": {
          "base_uri": "https://localhost:8080/",
          "height": 91
        }
      },
      "source": [
        "install.packages('gdata')\n",
        "install.packages('caret')"
      ],
      "execution_count": 0,
      "outputs": [
        {
          "output_type": "stream",
          "text": [
            "Installing package into ‘/usr/local/lib/R/site-library’\n",
            "(as ‘lib’ is unspecified)\n",
            "Installing package into ‘/usr/local/lib/R/site-library’\n",
            "(as ‘lib’ is unspecified)\n"
          ],
          "name": "stderr"
        }
      ]
    },
    {
      "cell_type": "code",
      "metadata": {
        "id": "Unsb8k4MKWgb",
        "colab_type": "code",
        "colab": {}
      },
      "source": [
        "suppressMessages(suppressWarnings(library(tidyverse)))\n",
        "suppressMessages(suppressWarnings(library(gdata)))\n",
        "suppressMessages(suppressWarnings(library(caret)))"
      ],
      "execution_count": 0,
      "outputs": []
    },
    {
      "cell_type": "code",
      "metadata": {
        "id": "EIg5MqdygTvo",
        "colab_type": "code",
        "colab": {}
      },
      "source": [
        "# Multiple plot function\n",
        "#\n",
        "# ggplot objects can be passed in ..., or to plotlist (as a list of ggplot objects)\n",
        "# - cols:   Number of columns in layout\n",
        "# - layout: A matrix specifying the layout. If present, 'cols' is ignored.\n",
        "#\n",
        "# If the layout is something like matrix(c(1,2,3,3), nrow=2, byrow=TRUE),\n",
        "# then plot 1 will go in the upper left, 2 will go in the upper right, and\n",
        "# 3 will go all the way across the bottom.\n",
        "#\n",
        "multiplot <- function(..., plotlist=NULL, file, cols=1, layout=NULL) {\n",
        "  library(grid)\n",
        "\n",
        "  # Make a list from the ... arguments and plotlist\n",
        "  plots <- c(list(...), plotlist)\n",
        "\n",
        "  numPlots = length(plots)\n",
        "\n",
        "  # If layout is NULL, then use 'cols' to determine layout\n",
        "  if (is.null(layout)) {\n",
        "    # Make the panel\n",
        "    # ncol: Number of columns of plots\n",
        "    # nrow: Number of rows needed, calculated from # of cols\n",
        "    layout <- matrix(seq(1, cols * ceiling(numPlots/cols)),\n",
        "                    ncol = cols, nrow = ceiling(numPlots/cols))\n",
        "  }\n",
        "\n",
        " if (numPlots==1) {\n",
        "    print(plots[[1]])\n",
        "\n",
        "  } else {\n",
        "    # Set up the page\n",
        "    grid.newpage()\n",
        "    pushViewport(viewport(layout = grid.layout(nrow(layout), ncol(layout))))\n",
        "\n",
        "    # Make each plot, in the correct location\n",
        "    for (i in 1:numPlots) {\n",
        "      # Get the i,j matrix positions of the regions that contain this subplot\n",
        "      matchidx <- as.data.frame(which(layout == i, arr.ind = TRUE))\n",
        "\n",
        "      print(plots[[i]], vp = viewport(layout.pos.row = matchidx$row,\n",
        "                                      layout.pos.col = matchidx$col))\n",
        "    }\n",
        "  }\n",
        "}"
      ],
      "execution_count": 0,
      "outputs": []
    },
    {
      "cell_type": "markdown",
      "metadata": {
        "id": "M6AakX8RAiP7",
        "colab_type": "text"
      },
      "source": [
        "## Reunindo e explorando alguns datasets disponíveis\n",
        "Lista:\n",
        "\n",
        "\n",
        "1. [Whisky](http://adn.biol.umontreal.ca/~numericalecology/data/scotch.html)\n",
        "2. [Netflix Prize](https://www.kaggle.com/netflix-inc/netflix-prize-dalibrary(dplyr)ta)\n",
        "3. [S&P 500](https://www.kaggle.com/camnugent/sandp500)\n",
        "4. [Circulação de bicicleta](https://github.com/jattenberg/PDS-Spring-2014)\n",
        "5. [Vinho](https://archive.ics.uci.edu/ml/datasets/wine)\n",
        "6. [Housing](https://www.kaggle.com/c/house-prices-advanced-regression-techniques/data)\n",
        "7. [Telco](https://www.kaggle.com/blastchar/telco-customer-churn)\n",
        "8. [MovieLens](https://grouplens.org/datasets/movielens/1m/)\n",
        "\n",
        "\n"
      ]
    },
    {
      "cell_type": "markdown",
      "metadata": {
        "id": "J2pa0m1z05Om",
        "colab_type": "text"
      },
      "source": [
        "### Download dos dados"
      ]
    },
    {
      "cell_type": "code",
      "metadata": {
        "id": "oFhW9pLjAiQo",
        "colab_type": "code",
        "colab": {}
      },
      "source": [
        "whisky <- \"https://www.dropbox.com/s/tw7fb2rtbjh5gvo/scotch.csv?dl=1\"\n",
        "sandp500 <- \"https://www.dropbox.com/s/fg4cz6g1qzbkkc2/all_stocks_5yr.csv?dl=1\"\n",
        "citibike <- \"https://www.dropbox.com/s/ecm3gokkuvtgayc/citi_bike.csv?dl=1\"\n",
        "wine <- \"https://www.dropbox.com/s/m4h8s53ymei4spl/wine_data.csv?dl=1\"\n",
        "telco <- \"https://www.dropbox.com/s/w3jw1fd9u445afy/telco_treino.csv?dl=1\"\n",
        "housing <- \"https://www.dropbox.com/s/2h5lm59tcp0663d/housing_treino.csv?dl=1\""
      ],
      "execution_count": 0,
      "outputs": []
    },
    {
      "cell_type": "markdown",
      "metadata": {
        "id": "i00vGtCs1dHn",
        "colab_type": "text"
      },
      "source": [
        "### 1) Escolha um dataset e o importe aqui como um data frame. Pode ser uma das opções acima ou usar a sua própria opçao."
      ]
    },
    {
      "cell_type": "code",
      "metadata": {
        "id": "CzrptO-T1nZV",
        "colab_type": "code",
        "colab": {}
      },
      "source": [
        "# Escreva o código aqui"
      ],
      "execution_count": 0,
      "outputs": []
    },
    {
      "cell_type": "markdown",
      "metadata": {
        "id": "dIJbcVYgMcC1",
        "colab_type": "text"
      },
      "source": [
        "### 2) Qual o objetivo da sua análise? Podemos recomendar algo nesse dataset? Esse dataset se beneficiaria de uma redução de dimensão? Por que?"
      ]
    },
    {
      "cell_type": "markdown",
      "metadata": {
        "id": "I-AJOT5t17P0",
        "colab_type": "text"
      },
      "source": [
        "**Escreva o texto aqui**"
      ]
    },
    {
      "cell_type": "markdown",
      "metadata": {
        "id": "4V-ogs0pAiRc",
        "colab_type": "text"
      },
      "source": [
        "### 3) Colocando nossos dados no espaço vetorial\n",
        "\n",
        "\n",
        "\n",
        "\n"
      ]
    },
    {
      "cell_type": "markdown",
      "metadata": {
        "id": "jSIwzt2wHs9A",
        "colab_type": "text"
      },
      "source": [
        "O *dataframe* criado já está bem parecido com uma matriz? Como limpamos?"
      ]
    },
    {
      "cell_type": "markdown",
      "metadata": {
        "id": "i1qtHGk8aDqa",
        "colab_type": "text"
      },
      "source": [
        "#### Lidando com dados categóricos\n",
        "\n",
        "Como inserir uma informação categórica em um espaço vetorial? Antes de escolher a melhor maneira, é preciso se perguntar algumas características sobre essa variável.\n",
        "\n",
        "##### Ela é **nominal** ou **ordinal**?\n",
        "\n",
        "**Nominais** são aquelas onde não existe nenhum tipo de ordem ou ranking entre as categorias, como gênero, por exemplo. Já as **ordinais**, possuem alguma ordem embutida, como por exemplo, escolaridade.\n",
        "\n",
        "##### Tipos de codificadores\n",
        " - Ordinal: converte cada valor para um inteiro.\n",
        " - OneHot (ou Dummy) - cria-se uma nova coluna/atributo para cada valor.\n",
        " - Hashing — Como o OneHot, mas utilizando hash. Pode-se perder alguma informação por causa de colisões.\n",
        " \n",
        " \n",
        " Então vamos verificar quais das nossas colunas possui variáveis categóricas e transformá-las para números. Em R, as variáveis do tipo *factor* são as variáveis categóricas."
      ]
    },
    {
      "cell_type": "markdown",
      "metadata": {
        "id": "DlqxhSfW0yiZ",
        "colab_type": "text"
      },
      "source": [
        "### a) Codifique as variáveis categóricas do seu dataset"
      ]
    },
    {
      "cell_type": "code",
      "metadata": {
        "id": "54IFTAxlLumx",
        "colab_type": "code",
        "colab": {}
      },
      "source": [
        "# Escreva o código aqui"
      ],
      "execution_count": 0,
      "outputs": []
    },
    {
      "cell_type": "markdown",
      "metadata": {
        "id": "8--aCCGKgBIz",
        "colab_type": "text"
      },
      "source": [
        "### 4) Visualizando os dados\n",
        "\n",
        "Agora que já limpamos nossos dataframes e condificamos eles, qual a melhor maneira de realmente entender sua informações?"
      ]
    },
    {
      "cell_type": "markdown",
      "metadata": {
        "id": "WXZC4Ddf09J2",
        "colab_type": "text"
      },
      "source": [
        "### a) Produza alguns plots de descrições estatísticas que te ajude a entender um pouco mais o dataset"
      ]
    },
    {
      "cell_type": "code",
      "metadata": {
        "id": "EN1sbxkogBvg",
        "colab_type": "code",
        "colab": {}
      },
      "source": [
        "# Escreva o código aqui"
      ],
      "execution_count": 0,
      "outputs": []
    },
    {
      "cell_type": "markdown",
      "metadata": {
        "id": "QuZKKFHc3Lsx",
        "colab_type": "text"
      },
      "source": [
        "### b) Que hipóteses e conclusões você pode tirar olhando as descrições estatísticas?"
      ]
    },
    {
      "cell_type": "markdown",
      "metadata": {
        "id": "5ZBZGpc73Xp2",
        "colab_type": "text"
      },
      "source": [
        "**Escreva seu texto aqui**"
      ]
    },
    {
      "cell_type": "markdown",
      "metadata": {
        "id": "RGMGuG-xgt7-",
        "colab_type": "text"
      },
      "source": [
        "-------------------------------------------------\n",
        "As descrições estatísticas são ótimas para ter um **visão geral** do que acontece no dataset, mas não te dá informações sobre uma observação específica. Como essa observação se compara com as outras? Quem é parecido com essa?\n",
        "\n",
        "#### Dimensão do dado\n",
        "Isso nos leva ao assunto da **dimensão do dado**. A dimensão é basicamente o número de atributos **independentes** que um dataset contém. No entanto, nem sempre conseguimos medi-los diretamente, e acabamos medindo atributos **relacionados**.\n",
        "\n",
        "\n",
        "#### Visualizando altas dimensões\n",
        "Mas por que estamos falando de dimensão? Nosso olho consegue visualizar somente 3 dimensões espaciais. Em um gráfico estático 3D, parte da informação fica escondida e muitas vezes termos que recorrer ao 2D. É possível ainda adicionar informações extras combinando a visualização com formas e cores. Mas há um limite antes que o gráfico fique poluído e com informação demais. \n",
        "\n",
        "Então como podemos comparar observações individualmente se elas estão em um espaço com alta dimensão?"
      ]
    }
  ]
}