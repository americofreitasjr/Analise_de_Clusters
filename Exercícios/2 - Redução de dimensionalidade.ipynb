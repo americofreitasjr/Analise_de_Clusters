{
  "nbformat": 4,
  "nbformat_minor": 0,
  "metadata": {
    "colab": {
      "name": "2 - Redução de dimensionalidade.ipynb",
      "version": "0.3.2",
      "provenance": [],
      "collapsed_sections": [
        "WBU1VCsAqsNU"
      ],
      "include_colab_link": true
    },
    "language_info": {
      "codemirror_mode": "r",
      "file_extension": ".r",
      "mimetype": "text/x-r-source",
      "name": "R",
      "pygments_lexer": "r",
      "version": "3.5.1"
    },
    "kernelspec": {
      "display_name": "R",
      "language": "R",
      "name": "ir"
    }
  },
  "cells": [
    {
      "cell_type": "markdown",
      "metadata": {
        "id": "view-in-github",
        "colab_type": "text"
      },
      "source": [
        "<a href=\"https://colab.research.google.com/github/lauramoraes/Analise_de_Clusters/blob/master/Exerc%C3%ADcios/2%20-%20Redu%C3%A7%C3%A3o%20de%20dimensionalidade.ipynb\" target=\"_parent\"><img src=\"https://colab.research.google.com/assets/colab-badge.svg\" alt=\"Open In Colab\"/></a>"
      ]
    },
    {
      "cell_type": "markdown",
      "metadata": {
        "id": "2ax1wW1bqsNP",
        "colab_type": "text"
      },
      "source": [
        "# Visualização dos dados de alta dimensão"
      ]
    },
    {
      "cell_type": "markdown",
      "metadata": {
        "id": "WBU1VCsAqsNU",
        "colab_type": "text"
      },
      "source": [
        "### Importando bibliotecas a serem usadas"
      ]
    },
    {
      "cell_type": "code",
      "metadata": {
        "id": "Er2PmKaBqsNX",
        "colab_type": "code",
        "colab": {}
      },
      "source": [
        "suppressMessages(suppressWarnings(library(tidyverse)))\n",
        "suppressMessages(suppressWarnings(library(ggplot2)))"
      ],
      "execution_count": 0,
      "outputs": []
    },
    {
      "cell_type": "code",
      "metadata": {
        "id": "fEzjBnBTqsNk",
        "colab_type": "code",
        "colab": {}
      },
      "source": [
        "# Multiple plot function\n",
        "#\n",
        "# ggplot objects can be passed in ..., or to plotlist (as a list of ggplot objects)\n",
        "# - cols:   Number of columns in layout\n",
        "# - layout: A matrix specifying the layout. If present, 'cols' is ignored.\n",
        "#\n",
        "# If the layout is something like matrix(c(1,2,3,3), nrow=2, byrow=TRUE),\n",
        "# then plot 1 will go in the upper left, 2 will go in the upper right, and\n",
        "# 3 will go all the way across the bottom.\n",
        "#\n",
        "multiplot <- function(..., plotlist=NULL, file, cols=1, layout=NULL) {\n",
        "  library(grid)\n",
        "\n",
        "  # Make a list from the ... arguments and plotlist\n",
        "  plots <- c(list(...), plotlist)\n",
        "\n",
        "  numPlots = length(plots)\n",
        "\n",
        "  # If layout is NULL, then use 'cols' to determine layout\n",
        "  if (is.null(layout)) {\n",
        "    # Make the panel\n",
        "    # ncol: Number of columns of plots\n",
        "    # nrow: Number of rows needed, calculated from # of cols\n",
        "    layout <- matrix(seq(1, cols * ceiling(numPlots/cols)),\n",
        "                    ncol = cols, nrow = ceiling(numPlots/cols))\n",
        "  }\n",
        "\n",
        " if (numPlots==1) {\n",
        "    print(plots[[1]])\n",
        "\n",
        "  } else {\n",
        "    # Set up the page\n",
        "    grid.newpage()\n",
        "    pushViewport(viewport(layout = grid.layout(nrow(layout), ncol(layout))))\n",
        "\n",
        "    # Make each plot, in the correct location\n",
        "    for (i in 1:numPlots) {\n",
        "      # Get the i,j matrix positions of the regions that contain this subplot\n",
        "      matchidx <- as.data.frame(which(layout == i, arr.ind = TRUE))\n",
        "\n",
        "      print(plots[[i]], vp = viewport(layout.pos.row = matchidx$row,\n",
        "                                      layout.pos.col = matchidx$col))\n",
        "    }\n",
        "  }\n",
        "}"
      ],
      "execution_count": 0,
      "outputs": []
    },
    {
      "cell_type": "markdown",
      "metadata": {
        "id": "aU3O09tQqsNt",
        "colab_type": "text"
      },
      "source": [
        "### 1) Carregue os dados salvos anteriormente"
      ]
    },
    {
      "cell_type": "code",
      "metadata": {
        "id": "YcZK5oMb5Jp2",
        "colab_type": "code",
        "colab": {}
      },
      "source": [
        "# Escreva seu código aqui"
      ],
      "execution_count": 0,
      "outputs": []
    },
    {
      "cell_type": "markdown",
      "metadata": {
        "id": "ayLEI-zIqsOC",
        "colab_type": "text"
      },
      "source": [
        "### 2) Visualizando em 2D: reduza as dimensões do seus dados para que possamos visualizá-lo em 2D"
      ]
    },
    {
      "cell_type": "code",
      "metadata": {
        "id": "GRfnJWp1qsOE",
        "colab_type": "code",
        "colab": {}
      },
      "source": [
        "# Escreva seu código aqui"
      ],
      "execution_count": 0,
      "outputs": []
    },
    {
      "cell_type": "markdown",
      "metadata": {
        "id": "ICk4WS4BqsON",
        "colab_type": "text"
      },
      "source": [
        "### 3) Adicionando um pouco mais de informação: incremente o plot anterior com cores e formas para ganharmos mais informação"
      ]
    },
    {
      "cell_type": "code",
      "metadata": {
        "id": "ZHR5tvjSqsOQ",
        "colab_type": "code",
        "colab": {}
      },
      "source": [
        "# Escreva seu código aqui"
      ],
      "execution_count": 0,
      "outputs": []
    },
    {
      "cell_type": "markdown",
      "metadata": {
        "id": "tUvwTPdqqsOe",
        "colab_type": "text"
      },
      "source": [
        "### Como vamos para um espaço reduzido que equilibre quantidade de informação e erro?\n",
        "Podemos escolher ir para dimensões baixas (que vimos que nos ajuda a **visualizar**), mas, se o nosso dado tiver muitos atributos essas dimensões não são suficientes para conter **toda a informação** necessária para uma análise, deixando o **erro** em relação à informação original **muito grande**. Além disso, nem sempre precisamos visualizar o dado. Se quisermos utilizar essa informação para eliminar ruído e realizar um **agrupamento ou um sistema de recomendação**, podemos ainda trabalhar em dimensões altas (mas não tão altas quanto o original). Mas qual seria uma dimensão boa?\n",
        "\n",
        "### 4) Variância explicada ou erro acumulado: verifique quanto cada dimensão está contribuindo\n",
        "Uma técnica utilizada é verificar o quanto que cada nova dimensão está contribuindo na explicação do dado (aumento da variância ou diminuição do erro). Em determinado momento, as novas dimensões contribuem tão pouco que podemos dispensá-las. Essa técnica é chamada de \"cotovelo\" ou \"joelho\", pois no ponto em que as dimensões passam a contribuir bem menos do que vinham contribuindo antes, a curva forma um joelho."
      ]
    },
    {
      "cell_type": "code",
      "metadata": {
        "id": "h_ZklTzmqsOz",
        "colab_type": "code",
        "colab": {}
      },
      "source": [
        "# Escreva seu código aqui"
      ],
      "execution_count": 0,
      "outputs": []
    },
    {
      "cell_type": "markdown",
      "metadata": {
        "id": "_V5vQ9IE8C0m",
        "colab_type": "text"
      },
      "source": [
        "### 5) Que número você proporia para a quantidade de dimensões reduzidas? Por que?"
      ]
    },
    {
      "cell_type": "markdown",
      "metadata": {
        "id": "FaN2HgMv8ROV",
        "colab_type": "text"
      },
      "source": [
        "**Escreva seu texto aqui**"
      ]
    }
  ]
}