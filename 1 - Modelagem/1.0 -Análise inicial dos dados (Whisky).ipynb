{
  "nbformat": 4,
  "nbformat_minor": 0,
  "metadata": {
    "colab": {
      "name": "1.0 - Análise inicial dos dados (Whisky).ipynb",
      "version": "0.3.2",
      "provenance": [],
      "include_colab_link": true
    },
    "language_info": {
      "codemirror_mode": "r",
      "file_extension": ".r",
      "mimetype": "text/x-r-source",
      "name": "R",
      "pygments_lexer": "r",
      "version": "3.3.1"
    },
    "kernelspec": {
      "display_name": "R",
      "language": "R",
      "name": "ir"
    }
  },
  "cells": [
    {
      "cell_type": "markdown",
      "metadata": {
        "id": "view-in-github",
        "colab_type": "text"
      },
      "source": [
        "<a href=\"https://colab.research.google.com/github/lauramoraes/Analise_de_Clusters/blob/master/1%20-%20Modelagem/1.0%20-An%C3%A1lise%20inicial%20dos%20dados%20(Whisky).ipynb\" target=\"_parent\"><img src=\"https://colab.research.google.com/assets/colab-badge.svg\" alt=\"Open In Colab\"/></a>"
      ]
    },
    {
      "cell_type": "markdown",
      "metadata": {
        "id": "wn9t4aUDQH2z",
        "colab_type": "text"
      },
      "source": [
        "# Datasets"
      ]
    },
    {
      "cell_type": "markdown",
      "metadata": {
        "id": "UixQ-Y9VKjwy",
        "colab_type": "text"
      },
      "source": [
        "### Importando bibliotecas a serem usadas"
      ]
    },
    {
      "cell_type": "code",
      "metadata": {
        "id": "Unsb8k4MKWgb",
        "colab_type": "code",
        "colab": {
          "base_uri": "https://localhost:8080/",
          "height": 593
        },
        "outputId": "188e6484-1513-4f88-e156-76eeb220854f"
      },
      "source": [
        "library(tidyverse)\n",
        "library(gdata)"
      ],
      "execution_count": 53,
      "outputs": [
        {
          "output_type": "stream",
          "text": [
            "gdata: read.xls support for 'XLS' (Excel 97-2004) files ENABLED.\n",
            "\n",
            "gdata: Unable to load perl libaries needed by read.xls()\n",
            "gdata: to support 'XLSX' (Excel 2007+) files.\n",
            "\n",
            "gdata: Run the function 'installXLSXsupport()'\n",
            "gdata: to automatically download and install the perl\n",
            "gdata: libaries needed to support Excel XLS and XLSX formats.\n",
            "\n",
            "Attaching package: ‘gdata’\n",
            "\n",
            "The following object is masked from ‘package:purrr’:\n",
            "\n",
            "    keep\n",
            "\n",
            "The following objects are masked from ‘package:dplyr’:\n",
            "\n",
            "    combine, first, last\n",
            "\n",
            "The following object is masked from ‘package:stats’:\n",
            "\n",
            "    nobs\n",
            "\n",
            "The following object is masked from ‘package:utils’:\n",
            "\n",
            "    object.size\n",
            "\n",
            "The following object is masked from ‘package:base’:\n",
            "\n",
            "    startsWith\n",
            "\n"
          ],
          "name": "stderr"
        }
      ]
    },
    {
      "cell_type": "markdown",
      "metadata": {
        "id": "M6AakX8RAiP7",
        "colab_type": "text"
      },
      "source": [
        "## Reunindo e explorando alguns datasets disponíveis\n",
        "Lista:\n",
        "\n",
        "\n",
        "1. [Whisky](http://adn.biol.umontreal.ca/~numericalecology/data/scotch.html)\n",
        "2. [Netflix Prize](https://www.kaggle.com/netflix-inc/netflix-prize-dalibrary(dplyr)ta)\n",
        "3. [S&P 500](https://www.kaggle.com/camnugent/sandp500)\n",
        "4. [Circulação de bicicleta](https://github.com/jattenberg/PDS-Spring-2014)\n",
        "5. [Vinho](https://archive.ics.uci.edu/ml/datasets/wine)\n",
        "6. [Housing](https://www.kaggle.com/c/house-prices-advanced-regression-techniques/data)\n",
        "7. [Telco](https://www.kaggle.com/blastchar/telco-customer-churn)\n",
        "\n",
        "\n"
      ]
    },
    {
      "cell_type": "markdown",
      "metadata": {
        "id": "J2pa0m1z05Om",
        "colab_type": "text"
      },
      "source": [
        "### Download dos dados"
      ]
    },
    {
      "cell_type": "code",
      "metadata": {
        "id": "oFhW9pLjAiQo",
        "colab_type": "code",
        "colab": {}
      },
      "source": [
        "whisky <- \"https://www.dropbox.com/s/tw7fb2rtbjh5gvo/scotch.csv?dl=1\"\n",
        "sandp500 <- \"https://www.dropbox.com/s/fg4cz6g1qzbkkc2/all_stocks_5yr.csv?dl=1\"\n",
        "citibike <- \"https://www.dropbox.com/s/ecm3gokkuvtgayc/citi_bike.csv?dl=1\"\n",
        "wine <- \"https://www.dropbox.com/s/m4h8s53ymei4spl/wine_data.csv?dl=1\"\n",
        "telco <- \"https://www.dropbox.com/s/w3jw1fd9u445afy/telco_treino.csv?dl=1\"\n",
        "housing <- \"https://www.dropbox.com/s/2h5lm59tcp0663d/housing_treino.csv?dl=1\"\n",
        "\n",
        "\n",
        "# Escolha um dataset e faça o download\n",
        "data <- read.csv(whisky, sep=\";\")"
      ],
      "execution_count": 0,
      "outputs": []
    },
    {
      "cell_type": "markdown",
      "metadata": {
        "id": "dIJbcVYgMcC1",
        "colab_type": "text"
      },
      "source": [
        "## Objetivo\n",
        "\n",
        "Dado que eu sei um *whisky* que eu gosto e tenho dados sobre a **composição do whisky**, como **recomendar** um outro whisky?"
      ]
    },
    {
      "cell_type": "markdown",
      "metadata": {
        "id": "DgZFJ93dQspD",
        "colab_type": "text"
      },
      "source": [
        "### Qual a ideia por trás?"
      ]
    },
    {
      "cell_type": "markdown",
      "metadata": {
        "id": "JTzDKjWdN07U",
        "colab_type": "text"
      },
      "source": [
        "Para recomendar um novo whisky, precisa-se saber quais são **parecidos** ou **similares** à aqueles que eu tomei e gostei.\n",
        "\n",
        "Existem diversas métricas de similaridade, as mais comuns baseadas em **geometria**. Uma maneira de conseguir calculá-las é representar os dados através de **vetores** e localizá-los em um espaço vetorial. Dessa maneira, é possível utilizar funções de distância entre vetores (como euclidiana, coseno, entre outras) como medidas de similaridade.\n",
        "\n",
        "Para facilitar a visualização das diferentes observações e facilitar os cálculos, podemos reunir um conjunto de **vetores** e realizar as contas todas de uma vez. O conjunto de vetores é chamado **matriz**, onde cada linha representa um dado diferente e cada coluna uma característica ou **atributo** do dado.\n",
        "\n",
        "\n"
      ]
    },
    {
      "cell_type": "markdown",
      "metadata": {
        "id": "4V-ogs0pAiRc",
        "colab_type": "text"
      },
      "source": [
        "### Colocando nossos dados no espaço vetorial\n",
        "\n",
        "\n",
        "\n",
        "\n"
      ]
    },
    {
      "cell_type": "code",
      "metadata": {
        "id": "sfloOZJPAiRi",
        "colab_type": "code",
        "outputId": "75199a5d-bd7c-4ae9-eef1-f9db0a8694e0",
        "colab": {
          "base_uri": "https://localhost:8080/",
          "height": 1382
        }
      },
      "source": [
        "data"
      ],
      "execution_count": 30,
      "outputs": [
        {
          "output_type": "display_data",
          "data": {
            "text/plain": [
              "    NAME               X          wyne yellow v.pale pale p.gold gold o.gold\n",
              "1   Aberfeldy          Aberfeldy  0    1      0      0    0      0    0     \n",
              "2   Aberlour           Aberlour   0    0      0      0    0      0    0     \n",
              "3   Ardberg            Ardberg    0    0      0      0    0      0    0     \n",
              "4   Ardmore            Ardmore    0    0      0      0    1      0    0     \n",
              "5   Auchentoshan       Auchentosh 0    0      0      0    1      0    0     \n",
              "6   Aultmore           Aultmore   0    0      1      0    0      0    0     \n",
              "7   Balblair           Balblair   1    0      0      0    0      0    0     \n",
              "8   Balmenach          Balmenach  0    0      0      0    1      0    0     \n",
              "9   Balvenie           Balvenie   0    0      0      0    0      0    0     \n",
              "10  Banff              Banff      0    0      0      0    0      0    0     \n",
              "11  Ben Nevis          Ben Nevis  0    0      0      0    0      0    0     \n",
              "12  Benriach           Benriach   0    0      0      0    0      1    0     \n",
              "13  Benrinnes          Benrinnes  0    0      0      0    0      0    0     \n",
              "14  Benromach          Benromach  0    0      0      0    0      0    0     \n",
              "15  Bladnoch           Bladnoch   0    1      0      0    0      0    0     \n",
              "16  Blair Athol        Blair Atho 0    0      0      0    1      0    0     \n",
              "17  Bowmore            Bowmore    0    0      0      0    0      0    1     \n",
              "18  Brackla            Brackla    0    0      0      0    0      0    1     \n",
              "19  Bruichladdich      Bruichladd 0    0      0      1    0      0    0     \n",
              "20  Bunnahabhain       Bunnahabha 0    0      0      0    0      1    0     \n",
              "21  Caol Ila           Caol Ila   1    0      0      0    0      0    0     \n",
              "22  Caperdonich        Caperdonic 0    0      0      0    0      0    0     \n",
              "23  Cardhu             Cardhu     0    0      0      1    0      0    0     \n",
              "24  Clynelish          Clynelish  0    0      0      0    0      0    0     \n",
              "25  Coleburn           Coleburn   0    0      0      0    1      0    0     \n",
              "26  Convalmore         Convalmore 0    0      0      0    0      0    0     \n",
              "27  Cragganmore        Cragganmor 0    0      0      0    0      1    0     \n",
              "28  Craigellachie      Craigellac 0    0      0      0    0      0    0     \n",
              "29  Dailuaine          Dailuaine  0    0      0      0    0      1    0     \n",
              "30  Dallas Dhu         Dallas Dhu 0    0      0      0    0      0    0     \n",
              "⋮   ⋮                  ⋮          ⋮    ⋮      ⋮      ⋮    ⋮      ⋮    ⋮     \n",
              "82  Lochnagar          Lochnagar   0    0      0      0    0      0    0    \n",
              "83  Lochside           Lochside    0    0      0      0    0      0    0    \n",
              "84  Longmorn           Longmorn    0    0      0      0    0      0    0    \n",
              "85  Macallan           Macallan    0    0      0      0    0      0    0    \n",
              "86  Millburn           Millburn    0    0      0      0    0      0    0    \n",
              "87  Miltonduff         Miltonduff  0    0      0      0    1      0    0    \n",
              "88  Mortlach           Mortlach    0    0      0      0    0      0    0    \n",
              "89  North Port         North Port  0    0      0      0    0      0    0    \n",
              "90  Oban               Oban        0    0      0      0    0      0    0    \n",
              "91  Port Ellen         Port Ellen  0    0      0      0    0      0    0    \n",
              "92  Pulteney           Pulteney    0    0      0      0    0      0    0    \n",
              "93  Rosebank           Rosebank    0    0      0      0    0      0    0    \n",
              "94  Saint Magdalene    Saint Magd  0    0      0      0    0      0    0    \n",
              "95  Scapa              Scapa       0    0      0      0    0      0    0    \n",
              "96  Singleton          Singleton   0    0      0      0    0      0    0    \n",
              "97  Speyburn           Speyburn    0    0      0      0    0      0    0    \n",
              "98  Springbank         Springbank  0    0      0      0    0      1    0    \n",
              "99  Springbank-Longrow Longrow     0    0      0      0    0      1    0    \n",
              "100 Strathisla         Strathisla  0    0      0      0    0      0    0    \n",
              "101 Talisker           Talisker    0    0      0      0    0      0    0    \n",
              "102 Tamdhu             Tamdhu      0    0      0      0    0      0    0    \n",
              "103 Tamnavulin         Tamnavulin  1    0      0      0    0      0    0    \n",
              "104 Teaninich          Teaninich   0    0      0      0    0      0    0    \n",
              "105 Tobermory          Tobermory   0    0      0      0    0      0    0    \n",
              "106 Tomatin            Tomatin     0    0      0      0    0      0    0    \n",
              "107 Tomintoul          Tomintoul   0    0      0      0    0      0    0    \n",
              "108 Tormore            Tormore     0    0      0      0    0      0    0    \n",
              "109 Tullibardine       Tullibardi  0    0      0      0    0      1    0    \n",
              "110                               NA   NA     NA     NA   NA     NA   NA    \n",
              "111                                8    2      2      4   10     21    2    \n",
              "    f.gold ⋯ DISTRICT islay midland spey east west north lowland campbell\n",
              "1   0      ⋯ MIDLAND  0     1       0    0    0    0     0       0       \n",
              "2   0      ⋯ SPEY     0     0       1    0    0    0     0       0       \n",
              "3   0      ⋯ SOUTH    1     0       0    0    0    0     0       0       \n",
              "4   0      ⋯ SPEY     0     0       1    0    0    0     0       0       \n",
              "5   0      ⋯ WEST     0     0       0    0    0    0     1       0       \n",
              "6   0      ⋯ SPEY     0     0       1    0    0    0     0       0       \n",
              "7   0      ⋯ NORTH    0     0       0    0    0    1     0       0       \n",
              "8   0      ⋯ SPEY     0     0       1    0    0    0     0       0       \n",
              "9   0      ⋯ SPEY     0     0       1    0    0    0     0       0       \n",
              "10  1      ⋯ SPEY     0     0       1    0    0    0     0       0       \n",
              "11  0      ⋯ WEST     0     0       0    0    1    0     0       0       \n",
              "12  0      ⋯ SPEY     0     0       1    0    0    0     0       0       \n",
              "13  0      ⋯ SPEY     0     0       1    0    0    0     0       0       \n",
              "14  0      ⋯ SPEY     0     0       1    0    0    0     0       0       \n",
              "15  0      ⋯ BORDERS  0     0       0    0    0    0     1       0       \n",
              "16  0      ⋯ MIDLAND  0     1       0    0    0    0     0       0       \n",
              "17  0      ⋯ LOCH     1     0       0    0    0    0     0       0       \n",
              "18  0      ⋯ SPEY     0     0       1    0    0    0     0       0       \n",
              "19  0      ⋯ LOCH     1     0       0    0    0    0     0       0       \n",
              "20  0      ⋯ NORTH    1     0       0    0    0    0     0       0       \n",
              "21  0      ⋯ NORTH    1     0       0    0    0    0     0       0       \n",
              "22  1      ⋯ SPEY     0     0       1    0    0    0     0       0       \n",
              "23  0      ⋯ SPEY     0     0       1    0    0    0     0       0       \n",
              "24  0      ⋯ NORTH    0     0       0    0    0    1     0       0       \n",
              "25  0      ⋯ SPEY     0     0       1    0    0    0     0       0       \n",
              "26  1      ⋯ SPEY     0     0       1    0    0    0     0       0       \n",
              "27  0      ⋯ SPEY     0     0       1    0    0    0     0       0       \n",
              "28  1      ⋯ SPEY     0     0       1    0    0    0     0       0       \n",
              "29  0      ⋯ SPEY     0     0       1    0    0    0     0       0       \n",
              "30  0      ⋯ SPEY     0     0       1    0    0    0     0       0       \n",
              "⋮   ⋮      ⋱ ⋮        ⋮     ⋮       ⋮    ⋮    ⋮    ⋮     ⋮       ⋮       \n",
              "82   1     ⋯ EAST      0     0       0    1    0    0     0       0      \n",
              "83   0     ⋯ EAST      0     0       0    1    0    0     0       0      \n",
              "84   1     ⋯ SPEY      0     0       1    0    0    0     0       0      \n",
              "85   0     ⋯ SPEY      0     0       1    0    0    0     0       0      \n",
              "86   0     ⋯ SPEY      0     0       1    0    0    0     0       0      \n",
              "87   0     ⋯ SPEY      0     0       1    0    0    0     0       0      \n",
              "88   0     ⋯ SPEY      0     0       1    0    0    0     0       0      \n",
              "89   1     ⋯ EAST      0     0       0    1    0    0     0       0      \n",
              "90   0     ⋯ WEST      0     0       0    1    0    0     0       0      \n",
              "91   0     ⋯ SOUTH     0     0       0    0    1    0     0       0      \n",
              "92   0     ⋯ NORTH     0     0       0    0    0    1     0       0      \n",
              "93   0     ⋯ CENTRAL   0     0       0    0    0    0     1       0      \n",
              "94   0     ⋯ CENTRAL   0     0       0    0    0    0     1       0      \n",
              "95   0     ⋯ ORKNEY    0     0       0    0    0    0     0       0      \n",
              "96   0     ⋯ SPEY      0     0       1    0    0    0     0       0      \n",
              "97   0     ⋯ SPEY      0     0       1    0    0    0     0       0      \n",
              "98   0     ⋯ CAMPBEL   0     0       0    0    0    0     0       1      \n",
              "99   0     ⋯ CAMPBEL   0     0       0    0    0    0     0       1      \n",
              "100  0     ⋯ SPEY      0     0       1    0    0    0     0       0      \n",
              "101  0     ⋯ SKYE      0     0       0    0    0    0     0       0      \n",
              "102  0     ⋯ SPEY      0     0       1    0    0    0     0       0      \n",
              "103  0     ⋯ SPEY      0     0       1    0    0    0     0       0      \n",
              "104  0     ⋯ NORTH     0     0       0    0    0    1     0       0      \n",
              "105  1     ⋯ MULL      0     0       0    0    0    0     0       0      \n",
              "106  1     ⋯ SPEY      0     0       1    0    0    0     0       0      \n",
              "107  1     ⋯ SPEY      0     0       1    0    0    0     0       0      \n",
              "108  1     ⋯ SPEY      0     0       1    0    0    0     0       0      \n",
              "109  0     ⋯ MIDLAND   0     1       0    0    0    0     0       0      \n",
              "110 NA     ⋯          NA    NA      NA   NA   NA   NA    NA      NA      \n",
              "111 27     ⋯           7     6      57   10    5    7     9       3      \n",
              "    islands\n",
              "1   0      \n",
              "2   0      \n",
              "3   0      \n",
              "4   0      \n",
              "5   0      \n",
              "6   0      \n",
              "7   0      \n",
              "8   0      \n",
              "9   0      \n",
              "10  0      \n",
              "11  0      \n",
              "12  0      \n",
              "13  0      \n",
              "14  0      \n",
              "15  0      \n",
              "16  0      \n",
              "17  0      \n",
              "18  0      \n",
              "19  0      \n",
              "20  0      \n",
              "21  0      \n",
              "22  0      \n",
              "23  0      \n",
              "24  0      \n",
              "25  0      \n",
              "26  0      \n",
              "27  0      \n",
              "28  0      \n",
              "29  0      \n",
              "30  0      \n",
              "⋮   ⋮      \n",
              "82   0     \n",
              "83   0     \n",
              "84   0     \n",
              "85   0     \n",
              "86   0     \n",
              "87   0     \n",
              "88   0     \n",
              "89   0     \n",
              "90   0     \n",
              "91   0     \n",
              "92   0     \n",
              "93   0     \n",
              "94   0     \n",
              "95   1     \n",
              "96   0     \n",
              "97   0     \n",
              "98   0     \n",
              "99   0     \n",
              "100  0     \n",
              "101  1     \n",
              "102  0     \n",
              "103  0     \n",
              "104  0     \n",
              "105  1     \n",
              "106  0     \n",
              "107  0     \n",
              "108  0     \n",
              "109  0     \n",
              "110 NA     \n",
              "111  5     "
            ],
            "text/latex": "A data.frame: 111 × 85\n\\begin{tabular}{r|lllllllllllllllllllllllllllllllllllllllllllllllllllllllllllllllllllllllllllllllllllll}\n NAME & X & wyne & yellow & v.pale & pale & p.gold & gold & o.gold & f.gold & bronze & p.amber & amber & f.amber & red & sherry & AROMA & PEAT & SWEET & LIGHT & FRESH & DRY & FRUIT & GRASS & SEA & SHERRY & SPICY & RICH & soft & med & full & round & smooth & light & firm & oily & full.1 & dry & sherry.1 & big & light.1 & smooth.1 & clean & fruit & grass & smoke & sweet & spice & oil & salt & arome & full.2 & dry.1 & warm & big.1 & light.2 & smooth.2 & clean.1 & fruit.1 & grass.1 & smoke.1 & sweet.1 & spice.1 & oil.1 & salt.1 & arome.1 & ling & long & very & quick & AGE & DIST & SCORE & X. & REGION & DISTRICT & islay & midland & spey & east & west & north & lowland & campbell & islands\\\\\n <fct> & <fct> & <int> & <int> & <int> & <int> & <int> & <int> & <int> & <int> & <int> & <int> & <int> & <int> & <int> & <int> & <int> & <int> & <int> & <int> & <int> & <int> & <int> & <int> & <int> & <int> & <int> & <int> & <int> & <int> & <int> & <int> & <int> & <int> & <int> & <int> & <int> & <int> & <int> & <int> & <int> & <int> & <int> & <int> & <int> & <int> & <int> & <int> & <int> & <int> & <int> & <int> & <int> & <int> & <int> & <int> & <int> & <int> & <int> & <int> & <int> & <int> & <int> & <int> & <int> & <int> & <int> & <int> & <int> & <int> & <int> & <int> & <int> & <fct> & <fct> & <fct> & <int> & <int> & <int> & <int> & <int> & <int> & <int> & <int> & <int>\\\\\n\\hline\n\t Aberfeldy     & Aberfeldy  & 0 & 1 & 0 & 0 & 0 & 0 & 0 & 0 & 0 & 0 & 0 & 0 & 0 & 0 & 1 & 1 & 0 & 0 & 0 & 0 & 1 & 0 & 0 & 0 & 0 & 0 & 1 & 1 & 0 & 0 & 0 & 0 & 0 & 0 & 0 & 0 & 1 & 0 & 0 & 0 & 0 & 0 & 0 & 0 & 0 & 0 & 1 & 0 & 0 & 1 & 1 & 0 & 0 & 0 & 0 & 0 & 1 & 0 & 0 & 0 & 1 & 0 & 0 & 0 & 0 & 0 & 0 & 0 & -9 & 2 & 69 & 40 & HIGH  & MIDLAND & 0 & 1 & 0 & 0 & 0 & 0 & 0 & 0 & 0\\\\\n\t Aberlour      & Aberlour   & 0 & 0 & 0 & 0 & 0 & 0 & 0 & 0 & 0 & 0 & 0 & 0 & 1 & 0 & 0 & 0 & 1 & 0 & 0 & 0 & 0 & 0 & 0 & 0 & 0 & 1 & 1 & 1 & 1 & 1 & 1 & 0 & 0 & 0 & 1 & 0 & 1 & 0 & 0 & 0 & 0 & 1 & 0 & 0 & 1 & 1 & 0 & 0 & 0 & 0 & 0 & 0 & 0 & 0 & 0 & 1 & 0 & 0 & 0 & 0 & 0 & 0 & 0 & 0 & 1 & 0 & 0 & 0 & 12 & 4 & 83 & 43 & HIGH  & SPEY    & 0 & 0 & 1 & 0 & 0 & 0 & 0 & 0 & 0\\\\\n\t Ardberg       & Ardberg    & 0 & 0 & 0 & 0 & 0 & 0 & 0 & 0 & 0 & 0 & 0 & 0 & 0 & 1 & 0 & 1 & 0 & 0 & 0 & 1 & 0 & 0 & 1 & 0 & 0 & 0 & 0 & 1 & 1 & 0 & 0 & 1 & 1 & 0 & 0 & 0 & 0 & 0 & 0 & 0 & 0 & 0 & 0 & 0 & 1 & 0 & 0 & 0 & 0 & 0 & 0 & 0 & 0 & 0 & 0 & 0 & 0 & 0 & 0 & 0 & 0 & 0 & 1 & 0 & 0 & 0 & 0 & 0 & 10 & 4 & 85 & 40 & ISLAY & SOUTH   & 1 & 0 & 0 & 0 & 0 & 0 & 0 & 0 & 0\\\\\n\t Ardmore       & Ardmore    & 0 & 0 & 0 & 0 & 1 & 0 & 0 & 0 & 0 & 0 & 0 & 0 & 0 & 0 & 0 & 0 & 1 & 0 & 0 & 0 & 0 & 1 & 0 & 1 & 0 & 0 & 0 & 0 & 1 & 0 & 0 & 0 & 0 & 0 & 0 & 0 & 0 & 1 & 0 & 0 & 0 & 0 & 1 & 0 & 1 & 0 & 0 & 0 & 0 & 0 & 0 & 0 & 1 & 0 & 0 & 0 & 0 & 0 & 0 & 0 & 0 & 0 & 0 & 0 & 0 & 0 & 0 & 0 & 18 & 2 & 66 & 46 & HIGH  & SPEY    & 0 & 0 & 1 & 0 & 0 & 0 & 0 & 0 & 0\\\\\n\t Auchentoshan  & Auchentosh & 0 & 0 & 0 & 0 & 1 & 0 & 0 & 0 & 0 & 0 & 0 & 0 & 0 & 0 & 0 & 0 & 0 & 0 & 1 & 0 & 1 & 1 & 0 & 0 & 0 & 0 & 1 & 0 & 0 & 0 & 0 & 0 & 0 & 0 & 0 & 0 & 0 & 0 & 1 & 0 & 0 & 1 & 1 & 0 & 1 & 0 & 0 & 0 & 0 & 0 & 0 & 0 & 0 & 0 & 0 & 0 & 0 & 0 & 0 & 0 & 1 & 0 & 0 & 0 & 0 & 0 & 0 & 0 & 10 & 5 & 85 & 40 & LOW   & WEST    & 0 & 0 & 0 & 0 & 0 & 0 & 1 & 0 & 0\\\\\n\t Aultmore      & Aultmore   & 0 & 0 & 1 & 0 & 0 & 0 & 0 & 0 & 0 & 0 & 0 & 0 & 0 & 0 & 1 & 0 & 0 & 0 & 1 & 0 & 0 & 0 & 0 & 0 & 0 & 0 & 0 & 0 & 0 & 0 & 0 & 0 & 1 & 0 & 0 & 0 & 0 & 0 & 1 & 0 & 0 & 1 & 0 & 0 & 0 & 1 & 0 & 0 & 0 & 0 & 1 & 0 & 0 & 0 & 0 & 0 & 0 & 0 & 0 & 0 & 0 & 0 & 0 & 0 & 0 & 0 & 0 & 0 & 12 & 3 & 75 & 40 & HIGH  & SPEY    & 0 & 0 & 1 & 0 & 0 & 0 & 0 & 0 & 0\\\\\n\t Balblair      & Balblair   & 1 & 0 & 0 & 0 & 0 & 0 & 0 & 0 & 0 & 0 & 0 & 0 & 0 & 0 & 0 & 0 & 0 & 0 & 1 & 0 & 1 & 0 & 0 & 0 & 0 & 0 & 0 & 0 & 0 & 0 & 0 & 1 & 0 & 0 & 0 & 0 & 0 & 0 & 0 & 0 & 0 & 1 & 0 & 0 & 1 & 1 & 0 & 0 & 0 & 0 & 1 & 0 & 0 & 0 & 0 & 0 & 1 & 0 & 0 & 0 & 0 & 0 & 0 & 0 & 1 & 0 & 0 & 0 & 10 & 3 & 76 & 40 & HIGH  & NORTH   & 0 & 0 & 0 & 0 & 0 & 1 & 0 & 0 & 0\\\\\n\t Balmenach     & Balmenach  & 0 & 0 & 0 & 0 & 1 & 0 & 0 & 0 & 0 & 0 & 0 & 0 & 0 & 0 & 1 & 1 & 1 & 0 & 0 & 0 & 1 & 1 & 0 & 0 & 0 & 0 & 1 & 1 & 0 & 0 & 1 & 1 & 0 & 0 & 0 & 1 & 0 & 0 & 0 & 0 & 0 & 0 & 0 & 0 & 1 & 0 & 0 & 0 & 0 & 0 & 0 & 0 & 0 & 0 & 0 & 0 & 0 & 0 & 0 & 0 & 0 & 0 & 0 & 0 & 0 & 1 & 0 & 0 & -9 & 3 & 69 & 40 & HIGH  & SPEY    & 0 & 0 & 1 & 0 & 0 & 0 & 0 & 0 & 0\\\\\n\t Balvenie      & Balvenie   & 0 & 0 & 0 & 0 & 0 & 0 & 0 & 0 & 0 & 0 & 1 & 0 & 0 & 0 & 1 & 0 & 0 & 0 & 0 & 0 & 1 & 0 & 0 & 0 & 0 & 0 & 0 & 1 & 0 & 0 & 0 & 0 & 0 & 0 & 1 & 1 & 0 & 0 & 0 & 0 & 0 & 0 & 0 & 0 & 1 & 0 & 0 & 0 & 0 & 0 & 0 & 0 & 0 & 0 & 0 & 0 & 0 & 0 & 0 & 0 & 0 & 1 & 0 & 0 & 1 & 0 & 0 & 0 & -9 & 4 & 85 & 40 & HIGH  & SPEY    & 0 & 0 & 1 & 0 & 0 & 0 & 0 & 0 & 0\\\\\n\t Banff         & Banff      & 0 & 0 & 0 & 0 & 0 & 0 & 0 & 1 & 0 & 0 & 0 & 0 & 0 & 0 & 1 & 1 & 0 & 0 & 0 & 0 & 0 & 0 & 0 & 0 & 0 & 0 & 0 & 1 & 0 & 0 & 0 & 0 & 0 & 0 & 0 & 0 & 0 & 0 & 0 & 0 & 1 & 0 & 0 & 1 & 1 & 0 & 0 & 0 & 0 & 0 & 0 & 0 & 0 & 0 & 0 & 1 & 0 & 0 & 0 & 0 & 1 & 0 & 0 & 0 & 0 & 0 & 0 & 0 & -9 & 2 & 66 & 40 & HIGH  & SPEY    & 0 & 0 & 1 & 0 & 0 & 0 & 0 & 0 & 0\\\\\n\t Ben Nevis     & Ben Nevis  & 0 & 0 & 0 & 0 & 0 & 0 & 0 & 0 & 0 & 0 & 0 & 1 & 0 & 0 & 0 & 0 & 0 & 0 & 0 & 0 & 1 & 1 & 0 & 0 & 0 & 0 & 0 & 0 & 0 & 0 & 0 & 0 & 1 & 1 & 0 & 0 & 0 & 0 & 0 & 0 & 0 & 1 & 0 & 0 & 1 & 0 & 0 & 0 & 0 & 0 & 0 & 0 & 0 & 0 & 0 & 0 & 0 & 0 & 0 & 1 & 0 & 0 & 0 & 0 & 0 & 0 & 0 & 0 & -9 & 1 & 55 & 40 & HIGH  & WEST    & 0 & 0 & 0 & 0 & 1 & 0 & 0 & 0 & 0\\\\\n\t Benriach      & Benriach   & 0 & 0 & 0 & 0 & 0 & 1 & 0 & 0 & 0 & 0 & 0 & 0 & 0 & 0 & 1 & 0 & 0 & 0 & 0 & 0 & 0 & 1 & 0 & 0 & 0 & 0 & 0 & 1 & 0 & 0 & 0 & 1 & 0 & 0 & 0 & 1 & 0 & 0 & 0 & 0 & 0 & 0 & 0 & 0 & 1 & 0 & 0 & 0 & 0 & 0 & 1 & 1 & 0 & 0 & 0 & 0 & 0 & 0 & 1 & 0 & 0 & 0 & 0 & 0 & 0 & 0 & 0 & 0 & -9 & 3 & 69 & 40 & HIGH  & SPEY    & 0 & 0 & 1 & 0 & 0 & 0 & 0 & 0 & 0\\\\\n\t Benrinnes     & Benrinnes  & 0 & 0 & 0 & 0 & 0 & 0 & 0 & 0 & 0 & 0 & 1 & 0 & 0 & 0 & 1 & 1 & 0 & 0 & 0 & 0 & 0 & 0 & 0 & 0 & 0 & 0 & 0 & 1 & 0 & 1 & 1 & 0 & 1 & 0 & 1 & 1 & 0 & 0 & 0 & 0 & 0 & 0 & 0 & 0 & 0 & 0 & 0 & 0 & 0 & 0 & 1 & 0 & 1 & 0 & 0 & 0 & 0 & 0 & 1 & 0 & 0 & 0 & 0 & 0 & 0 & 0 & 0 & 0 & -9 & 3 & 78 & 40 & HIGH  & SPEY    & 0 & 0 & 1 & 0 & 0 & 0 & 0 & 0 & 0\\\\\n\t Benromach     & Benromach  & 0 & 0 & 0 & 0 & 0 & 0 & 0 & 0 & 0 & 0 & 1 & 0 & 0 & 0 & 1 & 1 & 0 & 0 & 0 & 1 & 0 & 1 & 0 & 0 & 0 & 0 & 0 & 1 & 0 & 0 & 0 & 0 & 0 & 0 & 1 & 0 & 0 & 0 & 1 & 1 & 0 & 1 & 1 & 1 & 1 & 0 & 0 & 0 & 0 & 0 & 0 & 0 & 0 & 0 & 0 & 0 & 1 & 0 & 1 & 0 & 0 & 0 & 0 & 0 & 0 & 0 & 0 & 0 & -9 & 3 & 75 & 40 & HIGH  & SPEY    & 0 & 0 & 1 & 0 & 0 & 0 & 0 & 0 & 0\\\\\n\t Bladnoch      & Bladnoch   & 0 & 1 & 0 & 0 & 0 & 0 & 0 & 0 & 0 & 0 & 0 & 0 & 0 & 0 & 0 & 0 & 0 & 0 & 0 & 0 & 1 & 1 & 0 & 0 & 0 & 0 & 0 & 0 & 0 & 0 & 0 & 1 & 1 & 0 & 1 & 0 & 0 & 0 & 0 & 0 & 0 & 0 & 0 & 0 & 0 & 0 & 0 & 0 & 0 & 0 & 0 & 0 & 1 & 1 & 0 & 0 & 1 & 0 & 0 & 0 & 0 & 0 & 0 & 0 & 0 & 0 & 0 & 0 &  8 & 4 & 85 & 40 & LOW   & BORDERS & 0 & 0 & 0 & 0 & 0 & 0 & 1 & 0 & 0\\\\\n\t Blair Athol   & Blair Atho & 0 & 0 & 0 & 0 & 1 & 0 & 0 & 0 & 0 & 0 & 0 & 0 & 0 & 0 & 0 & 0 & 0 & 0 & 1 & 0 & 0 & 0 & 0 & 0 & 1 & 0 & 0 & 1 & 0 & 0 & 0 & 1 & 0 & 0 & 0 & 1 & 0 & 0 & 1 & 0 & 0 & 0 & 0 & 0 & 1 & 1 & 0 & 0 & 1 & 0 & 0 & 0 & 0 & 0 & 1 & 0 & 0 & 0 & 0 & 0 & 1 & 0 & 0 & 0 & 0 & 0 & 0 & 0 &  8 & 3 & 75 & 40 & HIGH  & MIDLAND & 0 & 1 & 0 & 0 & 0 & 0 & 0 & 0 & 0\\\\\n\t Bowmore       & Bowmore    & 0 & 0 & 0 & 0 & 0 & 0 & 1 & 0 & 0 & 0 & 0 & 0 & 0 & 0 & 0 & 1 & 0 & 0 & 0 & 1 & 0 & 1 & 1 & 0 & 0 & 0 & 0 & 1 & 0 & 0 & 0 & 1 & 0 & 0 & 0 & 0 & 0 & 0 & 0 & 0 & 0 & 0 & 0 & 0 & 1 & 0 & 0 & 0 & 0 & 0 & 0 & 0 & 0 & 0 & 0 & 0 & 0 & 0 & 0 & 0 & 0 & 0 & 1 & 0 & 0 & 0 & 0 & 1 & 10 & 4 & 81 & 40 & ISLAY & LOCH    & 1 & 0 & 0 & 0 & 0 & 0 & 0 & 0 & 0\\\\\n\t Brackla       & Brackla    & 0 & 0 & 0 & 0 & 0 & 0 & 1 & 0 & 0 & 0 & 0 & 0 & 0 & 0 & 0 & 1 & 1 & 0 & 0 & 0 & 0 & 0 & 0 & 0 & 0 & 0 & 0 & 1 & 1 & 0 & 0 & 0 & 0 & 0 & 0 & 0 & 0 & 0 & 0 & 1 & 0 & 1 & 0 & 0 & 1 & 0 & 0 & 0 & 1 & 0 & 1 & 0 & 0 & 0 & 0 & 0 & 0 & 1 & 0 & 0 & 0 & 0 & 0 & 0 & 0 & 0 & 0 & 0 & -9 & 3 & 77 & 40 & HIGH  & SPEY    & 0 & 0 & 1 & 0 & 0 & 0 & 0 & 0 & 0\\\\\n\t Bruichladdich & Bruichladd & 0 & 0 & 0 & 1 & 0 & 0 & 0 & 0 & 0 & 0 & 0 & 0 & 0 & 0 & 0 & 0 & 0 & 1 & 0 & 0 & 0 & 0 & 0 & 0 & 0 & 0 & 0 & 0 & 0 & 0 & 1 & 1 & 1 & 0 & 0 & 1 & 0 & 0 & 0 & 0 & 1 & 0 & 0 & 1 & 1 & 0 & 0 & 0 & 0 & 1 & 0 & 0 & 0 & 0 & 0 & 0 & 0 & 0 & 0 & 0 & 0 & 0 & 0 & 0 & 0 & 0 & 0 & 0 & 10 & 3 & 76 & 40 & ISLAY & LOCH    & 1 & 0 & 0 & 0 & 0 & 0 & 0 & 0 & 0\\\\\n\t Bunnahabhain  & Bunnahabha & 0 & 0 & 0 & 0 & 0 & 1 & 0 & 0 & 0 & 0 & 0 & 0 & 0 & 0 & 0 & 0 & 0 & 0 & 1 & 0 & 0 & 0 & 1 & 0 & 0 & 0 & 0 & 1 & 0 & 0 & 0 & 1 & 1 & 0 & 0 & 0 & 0 & 0 & 0 & 0 & 1 & 1 & 0 & 0 & 1 & 0 & 0 & 0 & 0 & 1 & 0 & 0 & 0 & 0 & 0 & 0 & 0 & 0 & 0 & 0 & 0 & 0 & 0 & 0 & 0 & 0 & 0 & 0 & 12 & 3 & 77 & 40 & ISLAY & NORTH   & 1 & 0 & 0 & 0 & 0 & 0 & 0 & 0 & 0\\\\\n\t Caol Ila      & Caol Ila   & 1 & 0 & 0 & 0 & 0 & 0 & 0 & 0 & 0 & 0 & 0 & 0 & 0 & 0 & 0 & 1 & 0 & 0 & 0 & 0 & 1 & 0 & 1 & 0 & 0 & 0 & 0 & 0 & 0 & 0 & 0 & 1 & 1 & 1 & 0 & 0 & 0 & 0 & 0 & 0 & 0 & 0 & 0 & 1 & 0 & 1 & 0 & 0 & 0 & 0 & 0 & 1 & 0 & 0 & 0 & 0 & 0 & 0 & 0 & 0 & 1 & 0 & 0 & 0 & 0 & 0 & 0 & 0 & 12 & 4 & 77 & 40 & ISLAY & NORTH   & 1 & 0 & 0 & 0 & 0 & 0 & 0 & 0 & 0\\\\\n\t Caperdonich   & Caperdonic & 0 & 0 & 0 & 0 & 0 & 0 & 0 & 1 & 0 & 0 & 0 & 0 & 0 & 0 & 1 & 1 & 0 & 0 & 0 & 0 & 0 & 0 & 0 & 0 & 0 & 0 & 0 & 1 & 0 & 0 & 0 & 1 & 0 & 0 & 0 & 0 & 0 & 0 & 0 & 0 & 0 & 1 & 0 & 0 & 1 & 0 & 0 & 0 & 0 & 0 & 0 & 1 & 0 & 0 & 0 & 0 & 0 & 0 & 1 & 0 & 0 & 0 & 0 & 0 & 1 & 0 & 0 & 0 & -9 & 3 & 73 & 40 & HIGH  & SPEY    & 0 & 0 & 1 & 0 & 0 & 0 & 0 & 0 & 0\\\\\n\t Cardhu        & Cardhu     & 0 & 0 & 0 & 1 & 0 & 0 & 0 & 0 & 0 & 0 & 0 & 0 & 0 & 0 & 1 & 1 & 0 & 1 & 0 & 0 & 0 & 0 & 0 & 0 & 0 & 0 & 0 & 0 & 0 & 0 & 1 & 1 & 0 & 0 & 0 & 0 & 0 & 0 & 1 & 0 & 0 & 0 & 0 & 0 & 1 & 0 & 0 & 0 & 0 & 0 & 1 & 0 & 0 & 0 & 0 & 0 & 0 & 0 & 1 & 1 & 0 & 1 & 0 & 0 & 1 & 0 & 0 & 0 & 12 & 3 & 72 & 40 & HIGH  & SPEY    & 0 & 0 & 1 & 0 & 0 & 0 & 0 & 0 & 0\\\\\n\t Clynelish     & Clynelish  & 0 & 0 & 0 & 0 & 0 & 0 & 0 & 0 & 0 & 0 & 1 & 0 & 0 & 0 & 0 & 0 & 0 & 0 & 0 & 0 & 0 & 0 & 1 & 0 & 0 & 0 & 0 & 0 & 1 & 0 & 0 & 0 & 0 & 1 & 1 & 0 & 0 & 0 & 0 & 0 & 0 & 0 & 1 & 0 & 1 & 1 & 0 & 1 & 0 & 0 & 0 & 0 & 0 & 0 & 0 & 0 & 0 & 0 & 0 & 0 & 1 & 0 & 0 & 0 & 1 & 0 & 0 & 0 & 12 & 4 & 81 & 40 & HIGH  & NORTH   & 0 & 0 & 0 & 0 & 0 & 1 & 0 & 0 & 0\\\\\n\t Coleburn      & Coleburn   & 0 & 0 & 0 & 0 & 1 & 0 & 0 & 0 & 0 & 0 & 0 & 0 & 0 & 0 & 0 & 0 & 0 & 0 & 0 & 1 & 1 & 1 & 0 & 0 & 0 & 0 & 0 & 0 & 0 & 0 & 0 & 1 & 0 & 1 & 0 & 1 & 0 & 0 & 0 & 0 & 0 & 1 & 0 & 1 & 1 & 0 & 0 & 0 & 1 & 0 & 0 & 0 & 0 & 0 & 0 & 0 & 0 & 0 & 0 & 0 & 0 & 0 & 0 & 0 & 0 & 0 & 0 & 1 & -9 & 2 & 67 & 40 & HIGH  & SPEY    & 0 & 0 & 1 & 0 & 0 & 0 & 0 & 0 & 0\\\\\n\t Convalmore    & Convalmore & 0 & 0 & 0 & 0 & 0 & 0 & 0 & 1 & 0 & 0 & 0 & 0 & 0 & 0 & 0 & 0 & 1 & 0 & 0 & 0 & 0 & 0 & 0 & 0 & 0 & 0 & 0 & 1 & 1 & 0 & 0 & 0 & 0 & 0 & 0 & 1 & 0 & 0 & 0 & 1 & 0 & 0 & 0 & 0 & 1 & 0 & 1 & 0 & 0 & 0 & 1 & 0 & 0 & 0 & 0 & 0 & 0 & 0 & 1 & 0 & 1 & 0 & 0 & 0 & 0 & 0 & 0 & 0 & -9 & 2 & 68 & 40 & HIGH  & SPEY    & 0 & 0 & 1 & 0 & 0 & 0 & 0 & 0 & 0\\\\\n\t Cragganmore   & Cragganmor & 0 & 0 & 0 & 0 & 0 & 1 & 0 & 0 & 0 & 0 & 0 & 0 & 0 & 0 & 1 & 0 & 1 & 0 & 0 & 0 & 0 & 1 & 0 & 0 & 0 & 1 & 0 & 1 & 0 & 0 & 1 & 1 & 1 & 0 & 0 & 0 & 0 & 0 & 0 & 0 & 1 & 0 & 1 & 0 & 0 & 0 & 0 & 0 & 0 & 0 & 0 & 0 & 0 & 0 & 0 & 0 & 0 & 0 & 0 & 0 & 0 & 0 & 0 & 0 & 0 & 1 & 0 & 0 & 12 & 4 & 90 & 40 & HIGH  & SPEY    & 0 & 0 & 1 & 0 & 0 & 0 & 0 & 0 & 0\\\\\n\t Craigellachie & Craigellac & 0 & 0 & 0 & 0 & 0 & 0 & 0 & 1 & 0 & 0 & 0 & 0 & 0 & 0 & 1 & 1 & 1 & 0 & 0 & 1 & 1 & 0 & 0 & 0 & 0 & 0 & 0 & 1 & 0 & 0 & 0 & 0 & 0 & 0 & 0 & 0 & 0 & 0 & 0 & 0 & 0 & 1 & 0 & 0 & 1 & 0 & 0 & 0 & 0 & 0 & 0 & 0 & 1 & 0 & 0 & 0 & 0 & 0 & 0 & 0 & 0 & 0 & 0 & 0 & 0 & 0 & 0 & 0 & -9 & 3 & 72 & 40 & HIGH  & SPEY    & 0 & 0 & 1 & 0 & 0 & 0 & 0 & 0 & 0\\\\\n\t Dailuaine     & Dailuaine  & 0 & 0 & 0 & 0 & 0 & 1 & 0 & 0 & 0 & 0 & 0 & 0 & 0 & 0 & 1 & 0 & 1 & 0 & 0 & 1 & 0 & 0 & 0 & 1 & 0 & 0 & 0 & 1 & 1 & 0 & 0 & 0 & 0 & 0 & 0 & 0 & 0 & 0 & 0 & 0 & 0 & 1 & 0 & 0 & 1 & 0 & 1 & 0 & 0 & 0 & 0 & 0 & 0 & 0 & 0 & 0 & 0 & 1 & 0 & 0 & 0 & 0 & 0 & 0 & 0 & 0 & 0 & 0 & -9 & 3 & 74 & 40 & HIGH  & SPEY    & 0 & 0 & 1 & 0 & 0 & 0 & 0 & 0 & 0\\\\\n\t Dallas Dhu    & Dallas Dhu & 0 & 0 & 0 & 0 & 0 & 0 & 0 & 0 & 0 & 0 & 0 & 1 & 0 & 0 & 0 & 1 & 1 & 0 & 0 & 0 & 0 & 1 & 0 & 0 & 0 & 1 & 0 & 0 & 1 & 0 & 0 & 0 & 0 & 0 & 0 & 0 & 0 & 0 & 0 & 0 & 0 & 0 & 0 & 1 & 1 & 0 & 0 & 0 & 0 & 0 & 1 & 0 & 0 & 0 & 1 & 0 & 0 & 1 & 0 & 0 & 0 & 0 & 0 & 0 & 0 & 1 & 0 & 0 & -9 & 4 & 85 & 40 & HIGH  & SPEY    & 0 & 0 & 1 & 0 & 0 & 0 & 0 & 0 & 0\\\\\n\t ⋮ & ⋮ & ⋮ & ⋮ & ⋮ & ⋮ & ⋮ & ⋮ & ⋮ & ⋮ & ⋮ & ⋮ & ⋮ & ⋮ & ⋮ & ⋮ & ⋮ & ⋮ & ⋮ & ⋮ & ⋮ & ⋮ & ⋮ & ⋮ & ⋮ & ⋮ & ⋮ & ⋮ & ⋮ & ⋮ & ⋮ & ⋮ & ⋮ & ⋮ & ⋮ & ⋮ & ⋮ & ⋮ & ⋮ & ⋮ & ⋮ & ⋮ & ⋮ & ⋮ & ⋮ & ⋮ & ⋮ & ⋮ & ⋮ & ⋮ & ⋮ & ⋮ & ⋮ & ⋮ & ⋮ & ⋮ & ⋮ & ⋮ & ⋮ & ⋮ & ⋮ & ⋮ & ⋮ & ⋮ & ⋮ & ⋮ & ⋮ & ⋮ & ⋮ & ⋮ & ⋮ & ⋮ & ⋮ & ⋮ & ⋮ & ⋮ & ⋮ & ⋮ & ⋮ & ⋮ & ⋮ & ⋮ & ⋮ & ⋮ & ⋮\\\\\n\t Lochnagar          & Lochnagar  &  0 &  0 &  0 &  0 &  0 &  0 &  0 &  1 &  0 &  0 &  0 &  0 &  0 &  0 &  0 &  1 &  0 &  0 &  0 &  0 &  0 &  0 &  0 &  0 &  0 &  0 &  0 &  1 &  1 &  0 &  1 &  0 &  0 &  0 &  0 &  0 &  0 &  0 &  1 &  0 &  0 &  1 &  0 &  1 &  1 &  0 &  0 &  0 &  0 &  0 &  1 &  0 &  0 &  0 &  0 &  0 &  0 &  0 &  1 &  1 &  0 &  0 &  0 &  0 &  0 &  0 &  0 &  0 & 12 &  4 & 80 & 43   & HIGH  & EAST    &  0 &  0 &  0 &  1 &  0 &  0 &  0 &  0 &  0\\\\\n\t Lochside           & Lochside   &  0 &  0 &  0 &  0 &  0 &  0 &  0 &  0 &  0 &  0 &  1 &  0 &  0 &  0 &  0 &  0 &  0 &  0 &  0 &  0 &  1 &  0 &  0 &  1 &  0 &  1 &  1 &  1 &  0 &  0 &  1 &  0 &  0 &  0 &  0 &  1 &  1 &  0 &  0 &  0 &  0 &  0 &  0 &  0 &  0 &  0 &  0 &  0 &  0 &  0 &  0 &  0 &  1 &  0 &  0 &  0 &  0 &  0 &  0 &  0 &  0 &  0 &  0 &  0 &  0 &  1 &  0 &  0 & -9 &  3 & 71 & 40   & HIGH  & EAST    &  0 &  0 &  0 &  1 &  0 &  0 &  0 &  0 &  0\\\\\n\t Longmorn           & Longmorn   &  0 &  0 &  0 &  0 &  0 &  0 &  0 &  1 &  0 &  0 &  0 &  0 &  0 &  0 &  0 &  0 &  0 &  0 &  0 &  0 &  0 &  1 &  0 &  0 &  0 &  1 &  0 &  0 &  0 &  0 &  1 &  0 &  1 &  0 &  0 &  0 &  0 &  0 &  0 &  0 &  1 &  1 &  1 &  0 &  1 &  0 &  0 &  0 &  0 &  0 &  0 &  0 &  0 &  0 &  1 &  1 &  0 &  0 &  0 &  0 &  0 &  0 &  0 &  0 &  0 &  0 &  0 &  0 & 12 &  4 & 85 & 40   & HIGH  & SPEY    &  0 &  0 &  1 &  0 &  0 &  0 &  0 &  0 &  0\\\\\n\t Macallan           & Macallan   &  0 &  0 &  0 &  0 &  0 &  0 &  0 &  0 &  0 &  0 &  1 &  0 &  0 &  0 &  0 &  0 &  1 &  0 &  0 &  0 &  1 &  0 &  0 &  1 &  0 &  1 &  0 &  0 &  1 &  0 &  0 &  0 &  0 &  0 &  0 &  0 &  1 &  0 &  0 &  0 &  0 &  0 &  0 &  0 &  1 &  0 &  0 &  0 &  0 &  0 &  1 &  0 &  0 &  0 &  0 &  0 &  0 &  0 &  1 &  1 &  1 &  0 &  0 &  0 &  0 &  0 &  0 &  0 & 10 &  5 & 87 & 40   & HIGH  & SPEY    &  0 &  0 &  1 &  0 &  0 &  0 &  0 &  0 &  0\\\\\n\t Millburn           & Millburn   &  0 &  0 &  0 &  0 &  0 &  0 &  0 &  0 &  0 &  0 &  0 &  0 &  1 &  0 &  1 &  0 &  0 &  0 &  0 &  0 &  0 &  0 &  0 &  1 &  0 &  1 &  0 &  0 &  1 &  0 &  1 &  0 &  0 &  0 &  0 &  0 &  1 &  0 &  0 &  0 &  0 &  0 &  0 &  1 &  1 &  0 &  0 &  0 &  0 &  0 &  0 &  1 &  0 &  0 &  0 &  0 &  0 &  0 &  1 &  0 &  0 &  0 &  0 &  0 &  0 &  1 &  0 &  0 & -9 &  3 & 76 & 40   & HIGH  & SPEY    &  0 &  0 &  1 &  0 &  0 &  0 &  0 &  0 &  0\\\\\n\t Miltonduff         & Miltonduff &  0 &  0 &  0 &  0 &  1 &  0 &  0 &  0 &  0 &  0 &  0 &  0 &  0 &  0 &  1 &  1 &  0 &  0 &  0 &  1 &  0 &  1 &  0 &  0 &  0 &  0 &  0 &  1 &  0 &  0 &  1 &  0 &  1 &  0 &  0 &  0 &  0 &  0 &  0 &  0 &  1 &  0 &  0 &  0 &  1 &  0 &  0 &  0 &  1 &  0 &  1 &  0 &  0 &  0 &  0 &  0 &  0 &  0 &  0 &  1 &  0 &  0 &  0 &  1 &  0 &  0 &  0 &  0 & 12 &  3 & 76 & 43   & HIGH  & SPEY    &  0 &  0 &  1 &  0 &  0 &  0 &  0 &  0 &  0\\\\\n\t Mortlach           & Mortlach   &  0 &  0 &  0 &  0 &  0 &  0 &  0 &  0 &  0 &  1 &  0 &  0 &  0 &  0 &  0 &  1 &  1 &  0 &  0 &  0 &  0 &  0 &  0 &  0 &  0 &  1 &  0 &  1 &  1 &  0 &  0 &  0 &  0 &  0 &  1 &  0 &  0 &  0 &  0 &  0 &  0 &  1 &  0 &  1 &  1 &  0 &  0 &  0 &  0 &  0 &  1 &  0 &  0 &  0 &  0 &  0 &  0 &  0 &  0 &  0 &  0 &  0 &  0 &  0 &  0 &  1 &  0 &  0 & 12 &  4 & 81 & 40   & HIGH  & SPEY    &  0 &  0 &  1 &  0 &  0 &  0 &  0 &  0 &  0\\\\\n\t North Port         & North Port &  0 &  0 &  0 &  0 &  0 &  0 &  0 &  1 &  0 &  0 &  0 &  0 &  0 &  0 &  0 &  1 &  0 &  0 &  0 &  1 &  0 &  0 &  0 &  1 &  0 &  0 &  0 &  1 &  0 &  0 &  0 &  1 &  0 &  0 &  1 &  1 &  0 &  0 &  0 &  0 &  0 &  0 &  0 &  1 &  1 &  0 &  0 &  0 &  0 &  0 &  1 &  0 &  0 &  0 &  0 &  0 &  0 &  0 &  0 &  0 &  0 &  0 &  0 &  0 &  0 &  0 &  0 &  0 & -9 &  2 & 64 & 40   & HIGH  & EAST    &  0 &  0 &  0 &  1 &  0 &  0 &  0 &  0 &  0\\\\\n\t Oban               & Oban       &  0 &  0 &  0 &  0 &  0 &  0 &  0 &  0 &  0 &  0 &  1 &  0 &  0 &  0 &  0 &  1 &  1 &  0 &  1 &  0 &  0 &  0 &  1 &  0 &  0 &  0 &  0 &  1 &  1 &  0 &  1 &  0 &  1 &  0 &  0 &  1 &  0 &  0 &  0 &  1 &  0 &  1 &  0 &  1 &  1 &  0 &  0 &  0 &  0 &  0 &  0 &  1 &  0 &  0 &  0 &  0 &  0 &  0 &  0 &  1 &  1 &  0 &  0 &  0 &  0 &  0 &  0 &  0 & 12 &  4 & 76 & 43   & HIGH  & WEST    &  0 &  0 &  0 &  1 &  0 &  0 &  0 &  0 &  0\\\\\n\t Port Ellen         & Port Ellen &  0 &  0 &  0 &  0 &  0 &  0 &  0 &  0 &  0 &  0 &  1 &  0 &  0 &  0 &  1 &  1 &  1 &  0 &  0 &  0 &  0 &  1 &  1 &  0 &  1 &  0 &  0 &  1 &  0 &  0 &  1 &  0 &  0 &  0 &  0 &  1 &  0 &  0 &  0 &  0 &  0 &  0 &  0 &  0 &  1 &  1 &  0 &  0 &  1 &  0 &  0 &  0 &  1 &  0 &  0 &  0 &  0 &  0 &  0 &  0 &  1 &  1 &  0 &  0 &  0 &  1 &  0 &  0 & -9 &  4 & 79 & 40   & ISLAY & SOUTH   &  0 &  0 &  0 &  0 &  1 &  0 &  0 &  0 &  0\\\\\n\t Pulteney           & Pulteney   &  0 &  0 &  0 &  0 &  0 &  0 &  0 &  0 &  0 &  0 &  1 &  0 &  0 &  0 &  0 &  0 &  0 &  0 &  1 &  1 &  0 &  0 &  1 &  0 &  0 &  0 &  0 &  0 &  0 &  0 &  0 &  1 &  1 &  0 &  0 &  0 &  0 &  0 &  0 &  1 &  0 &  0 &  0 &  0 &  1 &  1 &  0 &  1 &  0 &  0 &  0 &  1 &  0 &  0 &  0 &  0 &  0 &  0 &  0 &  0 &  0 &  0 &  1 &  0 &  0 &  1 &  0 &  0 &  8 &  3 & 77 & 40   & HIGH  & NORTH   &  0 &  0 &  0 &  0 &  0 &  1 &  0 &  0 &  0\\\\\n\t Rosebank           & Rosebank   &  0 &  0 &  0 &  0 &  0 &  0 &  0 &  0 &  0 &  0 &  1 &  0 &  0 &  0 &  1 &  0 &  0 &  0 &  0 &  1 &  0 &  1 &  0 &  1 &  0 &  0 &  0 &  0 &  0 &  0 &  1 &  1 &  0 &  0 &  0 &  1 &  0 &  0 &  0 &  0 &  0 &  1 &  1 &  0 &  0 &  0 &  0 &  0 &  0 &  0 &  1 &  0 &  0 &  0 &  0 &  0 &  0 &  0 &  0 &  0 &  0 &  0 &  0 &  0 &  0 &  0 &  0 &  0 &  8 &  4 & 76 & 40   & LOW   & CENTRAL &  0 &  0 &  0 &  0 &  0 &  0 &  1 &  0 &  0\\\\\n\t Saint Magdalene    & Saint Magd &  0 &  0 &  0 &  0 &  0 &  0 &  0 &  0 &  0 &  0 &  0 &  0 &  1 &  0 &  0 &  1 &  0 &  0 &  0 &  1 &  0 &  0 &  0 &  1 &  0 &  0 &  0 &  1 &  0 &  0 &  1 &  1 &  0 &  0 &  0 &  0 &  0 &  0 &  0 &  0 &  0 &  0 &  1 &  1 &  1 &  0 &  0 &  0 &  0 &  0 &  1 &  0 &  0 &  0 &  0 &  0 &  0 &  1 &  0 &  0 &  0 &  0 &  0 &  0 &  0 &  0 &  0 &  0 & 18 &  2 & 67 & 40   & LOW   & CENTRAL &  0 &  0 &  0 &  0 &  0 &  0 &  1 &  0 &  0\\\\\n\t Scapa              & Scapa      &  0 &  0 &  0 &  0 &  0 &  0 &  0 &  0 &  0 &  0 &  1 &  0 &  0 &  0 &  0 &  0 &  0 &  0 &  1 &  0 &  1 &  1 &  1 &  0 &  0 &  0 &  0 &  1 &  0 &  0 &  0 &  0 &  0 &  0 &  0 &  0 &  0 &  0 &  0 &  0 &  0 &  0 &  0 &  0 &  0 &  0 &  0 &  1 &  0 &  0 &  1 &  0 &  0 &  0 &  0 &  0 &  0 &  0 &  0 &  0 &  0 &  1 &  0 &  0 &  0 &  0 &  0 &  0 &  8 &  3 & 76 & 40   & HIGH  & ORKNEY  &  0 &  0 &  0 &  0 &  0 &  0 &  0 &  0 &  1\\\\\n\t Singleton          & Singleton  &  0 &  0 &  0 &  0 &  0 &  0 &  0 &  0 &  0 &  0 &  0 &  1 &  0 &  0 &  0 &  0 &  0 &  0 &  0 &  0 &  0 &  0 &  0 &  1 &  0 &  0 &  0 &  1 &  0 &  0 &  1 &  0 &  0 &  0 &  0 &  0 &  1 &  0 &  0 &  0 &  0 &  1 &  0 &  0 &  0 &  1 &  0 &  0 &  0 &  0 &  0 &  0 &  0 &  0 &  0 &  0 &  0 &  0 &  1 &  0 &  0 &  0 &  0 &  0 &  0 &  0 &  0 &  0 & -9 &  4 & 79 & 40   & HIGH  & SPEY    &  0 &  0 &  1 &  0 &  0 &  0 &  0 &  0 &  0\\\\\n\t Speyburn           & Speyburn   &  0 &  0 &  0 &  0 &  0 &  0 &  0 &  0 &  1 &  0 &  0 &  0 &  0 &  0 &  0 &  0 &  0 &  0 &  0 &  1 &  1 &  0 &  0 &  1 &  0 &  0 &  0 &  0 &  0 &  0 &  1 &  0 &  0 &  0 &  0 &  1 &  0 &  0 &  0 &  0 &  0 &  1 &  0 &  0 &  1 &  0 &  0 &  0 &  0 &  0 &  0 &  0 &  0 &  0 &  1 &  0 &  0 &  0 &  0 &  1 &  0 &  0 &  0 &  0 &  0 &  0 &  0 &  1 & -9 &  3 & 71 & 40   & HIGH  & SPEY    &  0 &  0 &  1 &  0 &  0 &  0 &  0 &  0 &  0\\\\\n\t Springbank         & Springbank &  0 &  0 &  0 &  0 &  0 &  1 &  0 &  0 &  0 &  0 &  0 &  0 &  0 &  0 &  0 &  0 &  1 &  0 &  1 &  0 &  0 &  0 &  1 &  0 &  0 &  1 &  0 &  1 &  0 &  1 &  1 &  1 &  0 &  0 &  0 &  0 &  0 &  0 &  1 &  0 &  0 &  0 &  0 &  0 &  1 &  0 &  0 &  1 &  0 &  0 &  0 &  1 &  0 &  0 &  0 &  0 &  0 &  0 &  1 &  1 &  0 &  0 &  1 &  0 &  0 &  0 &  1 &  0 & 15 &  5 & 88 & 46   & LOW   & CAMPBEL &  0 &  0 &  0 &  0 &  0 &  0 &  0 &  1 &  0\\\\\n\t Springbank-Longrow & Longrow    &  0 &  0 &  0 &  0 &  0 &  1 &  0 &  0 &  0 &  0 &  0 &  0 &  0 &  0 &  0 &  1 &  0 &  0 &  0 &  0 &  0 &  1 &  1 &  0 &  0 &  0 &  0 &  1 &  0 &  0 &  0 &  0 &  0 &  1 &  0 &  1 &  0 &  0 &  0 &  0 &  0 &  0 &  0 &  1 &  0 &  0 &  0 &  0 &  0 &  0 &  0 &  0 &  1 &  0 &  0 &  0 &  0 &  0 &  0 &  0 &  0 &  0 &  1 &  0 &  1 &  0 &  0 &  0 & 14 &  5 & 90 & 46   & LOW   & CAMPBEL &  0 &  0 &  0 &  0 &  0 &  0 &  0 &  1 &  0\\\\\n\t Strathisla         & Strathisla &  0 &  0 &  0 &  0 &  0 &  0 &  0 &  0 &  0 &  0 &  1 &  0 &  0 &  0 &  0 &  0 &  0 &  0 &  0 &  1 &  0 &  0 &  0 &  1 &  0 &  1 &  0 &  1 &  0 &  0 &  0 &  0 &  1 &  0 &  0 &  1 &  1 &  0 &  0 &  0 &  0 &  0 &  1 &  0 &  1 &  0 &  0 &  0 &  0 &  0 &  1 &  0 &  1 &  0 &  0 &  0 &  0 &  0 &  0 &  0 &  0 &  0 &  0 &  0 &  1 &  0 &  0 &  0 &  8 &  3 & 79 & 40   & HIGH  & SPEY    &  0 &  0 &  1 &  0 &  0 &  0 &  0 &  0 &  0\\\\\n\t Talisker           & Talisker   &  0 &  0 &  0 &  0 &  0 &  0 &  0 &  0 &  0 &  0 &  0 &  0 &  1 &  0 &  0 &  1 &  1 &  0 &  0 &  0 &  0 &  0 &  1 &  0 &  0 &  1 &  0 &  0 &  1 &  0 &  0 &  0 &  0 &  1 &  0 &  0 &  0 &  1 &  0 &  0 &  0 &  0 &  0 &  1 &  1 &  1 &  0 &  0 &  0 &  0 &  0 &  0 &  1 &  0 &  0 &  0 &  0 &  0 &  0 &  0 &  1 &  0 &  0 &  0 &  0 &  1 &  0 &  0 & 10 &  4 & 90 & 45,8 & HIGH  & SKYE    &  0 &  0 &  0 &  0 &  0 &  0 &  0 &  0 &  1\\\\\n\t Tamdhu             & Tamdhu     &  0 &  0 &  0 &  0 &  0 &  0 &  0 &  0 &  0 &  1 &  0 &  0 &  0 &  0 &  0 &  1 &  1 &  1 &  0 &  0 &  0 &  0 &  0 &  1 &  0 &  0 &  0 &  1 &  0 &  1 &  0 &  1 &  0 &  0 &  0 &  0 &  0 &  0 &  0 &  0 &  0 &  0 &  0 &  0 &  1 &  0 &  0 &  0 &  1 &  1 &  0 &  0 &  0 &  0 &  0 &  0 &  0 &  0 &  0 &  0 &  0 &  0 &  0 &  0 &  0 &  0 &  0 &  0 & 10 &  3 & 75 & 40   & HIGH  & SPEY    &  0 &  0 &  1 &  0 &  0 &  0 &  0 &  0 &  0\\\\\n\t Tamnavulin         & Tamnavulin &  1 &  0 &  0 &  0 &  0 &  0 &  0 &  0 &  0 &  0 &  0 &  0 &  0 &  0 &  0 &  1 &  0 &  0 &  0 &  0 &  0 &  1 &  0 &  0 &  0 &  0 &  0 &  0 &  0 &  0 &  1 &  1 &  0 &  0 &  0 &  0 &  0 &  0 &  0 &  0 &  0 &  1 &  1 &  0 &  0 &  0 &  0 &  0 &  0 &  0 &  0 &  0 &  0 &  0 &  0 &  0 &  0 &  0 &  0 &  0 &  0 &  0 &  0 &  1 &  0 &  0 &  0 &  0 & 10 &  3 & 76 & 43   & HIGH  & SPEY    &  0 &  0 &  1 &  0 &  0 &  0 &  0 &  0 &  0\\\\\n\t Teaninich          & Teaninich  &  0 &  0 &  0 &  0 &  0 &  0 &  0 &  0 &  0 &  1 &  0 &  0 &  0 &  0 &  1 &  1 &  0 &  0 &  0 &  1 &  0 &  0 &  0 &  0 &  0 &  0 &  1 &  1 &  0 &  0 &  0 &  0 &  0 &  0 &  1 &  1 &  0 &  0 &  0 &  0 &  0 &  0 &  0 &  1 &  1 &  1 &  0 &  0 &  0 &  0 &  1 &  0 &  0 &  0 &  0 &  0 &  0 &  0 &  1 &  0 &  0 &  0 &  0 &  0 &  0 &  0 &  0 &  0 & -9 &  3 & 71 & 40   & HIGH  & NORTH   &  0 &  0 &  0 &  0 &  0 &  1 &  0 &  0 &  0\\\\\n\t Tobermory          & Tobermory  &  0 &  0 &  0 &  0 &  0 &  0 &  0 &  1 &  0 &  0 &  0 &  0 &  0 &  0 &  0 &  1 &  1 &  1 &  0 &  0 &  0 &  0 &  0 &  0 &  0 &  0 &  1 &  1 &  0 &  0 &  0 &  0 &  0 &  0 &  0 &  1 &  0 &  0 &  0 &  0 &  0 &  1 &  0 &  1 &  0 &  0 &  0 &  0 &  0 &  0 &  0 &  0 &  0 &  1 &  0 &  0 &  0 &  0 &  0 &  1 &  0 &  0 &  0 &  1 &  0 &  0 &  0 &  0 & -9 &  2 & 67 & 40   & HIGH  & MULL    &  0 &  0 &  0 &  0 &  0 &  0 &  0 &  0 &  1\\\\\n\t Tomatin            & Tomatin    &  0 &  0 &  0 &  0 &  0 &  0 &  0 &  1 &  0 &  0 &  0 &  0 &  0 &  0 &  1 &  1 &  1 &  0 &  1 &  1 &  0 &  0 &  0 &  0 &  0 &  0 &  1 &  1 &  0 &  0 &  1 &  0 &  0 &  0 &  0 &  1 &  0 &  0 &  0 &  0 &  0 &  0 &  0 &  0 &  1 &  1 &  0 &  0 &  0 &  0 &  0 &  0 &  0 &  0 &  0 &  0 &  0 &  0 &  0 &  0 &  0 &  1 &  0 &  0 &  0 &  0 &  0 &  0 & 10 &  3 & 75 & 40   & HIGH  & SPEY    &  0 &  0 &  1 &  0 &  0 &  0 &  0 &  0 &  0\\\\\n\t Tomintoul          & Tomintoul  &  0 &  0 &  0 &  0 &  0 &  0 &  0 &  1 &  0 &  0 &  0 &  0 &  0 &  0 &  1 &  0 &  0 &  0 &  0 &  0 &  0 &  1 &  0 &  0 &  0 &  0 &  1 &  0 &  0 &  0 &  1 &  1 &  0 &  0 &  0 &  0 &  0 &  0 &  0 &  0 &  0 &  0 &  1 &  0 &  1 &  0 &  0 &  0 &  0 &  0 &  0 &  0 &  0 &  0 &  0 &  0 &  0 &  0 &  0 &  0 &  0 &  0 &  0 &  0 &  0 &  1 &  0 &  0 & 12 &  3 & 76 & 40   & HIGH  & SPEY    &  0 &  0 &  1 &  0 &  0 &  0 &  0 &  0 &  0\\\\\n\t Tormore            & Tormore    &  0 &  0 &  0 &  0 &  0 &  0 &  0 &  1 &  0 &  0 &  0 &  0 &  0 &  0 &  0 &  1 &  0 &  0 &  0 &  1 &  1 &  0 &  0 &  0 &  0 &  0 &  0 &  1 &  1 &  0 &  1 &  0 &  0 &  0 &  1 &  0 &  0 &  0 &  0 &  1 &  0 &  0 &  0 &  0 &  0 &  0 &  0 &  0 &  0 &  1 &  0 &  0 &  0 &  0 &  1 &  0 &  0 &  0 &  0 &  0 &  0 &  0 &  0 &  0 &  0 &  0 &  1 &  0 & 10 &  3 & 76 & 43   & HIGH  & SPEY    &  0 &  0 &  1 &  0 &  0 &  0 &  0 &  0 &  0\\\\\n\t Tullibardine       & Tullibardi &  0 &  0 &  0 &  0 &  0 &  1 &  0 &  0 &  0 &  0 &  0 &  0 &  0 &  0 &  0 &  0 &  1 &  0 &  0 &  0 &  0 &  0 &  0 &  0 &  0 &  0 &  0 &  1 &  0 &  0 &  1 &  0 &  1 &  0 &  1 &  0 &  0 &  0 &  0 &  0 &  1 &  1 &  1 &  0 &  1 &  0 &  0 &  0 &  0 &  0 &  0 &  0 &  1 &  0 &  0 &  0 &  0 &  0 &  0 &  1 &  0 &  0 &  0 &  1 &  0 &  0 &  0 &  0 & 10 &  3 & 76 & 40   & HIGH  & MIDLAND &  0 &  1 &  0 &  0 &  0 &  0 &  0 &  0 &  0\\\\\n\t                    &            & NA & NA & NA & NA & NA & NA & NA & NA & NA & NA & NA & NA & NA & NA & NA & NA & NA & NA & NA & NA & NA & NA & NA & NA & NA & NA & NA & NA & NA & NA & NA & NA & NA & NA & NA & NA & NA & NA & NA & NA & NA & NA & NA & NA & NA & NA & NA & NA & NA & NA & NA & NA & NA & NA & NA & NA & NA & NA & NA & NA & NA & NA & NA & NA & NA & NA & NA & NA & NA & NA & NA &      &       &         & NA & NA & NA & NA & NA & NA & NA & NA & NA\\\\\n\t                    &            &  8 &  2 &  2 &  4 & 10 & 21 &  2 & 27 &  5 &  4 & 15 &  4 &  4 &  1 & 41 & 53 & 45 & 14 & 19 & 38 & 32 & 28 & 21 & 29 &  5 & 17 & 21 & 67 & 25 & 13 & 44 & 54 & 28 & 18 & 17 & 43 & 10 &  7 & 14 & 13 & 15 & 39 & 20 & 32 & 82 & 23 &  7 & 12 & 11 &  7 & 41 & 19 & 15 &  9 & 12 &  8 & 12 &  9 & 21 & 18 & 14 &  6 &  8 &  7 & 11 & 24 &  4 &  6 & NA & NA & NA &      &       &         &  7 &  6 & 57 & 10 &  5 &  7 &  9 &  3 &  5\\\\\n\\end{tabular}\n",
            "text/markdown": "\nA data.frame: 111 × 85\n\n| NAME &lt;fct&gt; | X &lt;fct&gt; | wyne &lt;int&gt; | yellow &lt;int&gt; | v.pale &lt;int&gt; | pale &lt;int&gt; | p.gold &lt;int&gt; | gold &lt;int&gt; | o.gold &lt;int&gt; | f.gold &lt;int&gt; | ⋯ ⋯ | DISTRICT &lt;fct&gt; | islay &lt;int&gt; | midland &lt;int&gt; | spey &lt;int&gt; | east &lt;int&gt; | west &lt;int&gt; | north &lt;int&gt; | lowland &lt;int&gt; | campbell &lt;int&gt; | islands &lt;int&gt; |\n|---|---|---|---|---|---|---|---|---|---|---|---|---|---|---|---|---|---|---|---|---|\n| Aberfeldy     | Aberfeldy  | 0 | 1 | 0 | 0 | 0 | 0 | 0 | 0 | ⋯ | MIDLAND | 0 | 1 | 0 | 0 | 0 | 0 | 0 | 0 | 0 |\n| Aberlour      | Aberlour   | 0 | 0 | 0 | 0 | 0 | 0 | 0 | 0 | ⋯ | SPEY    | 0 | 0 | 1 | 0 | 0 | 0 | 0 | 0 | 0 |\n| Ardberg       | Ardberg    | 0 | 0 | 0 | 0 | 0 | 0 | 0 | 0 | ⋯ | SOUTH   | 1 | 0 | 0 | 0 | 0 | 0 | 0 | 0 | 0 |\n| Ardmore       | Ardmore    | 0 | 0 | 0 | 0 | 1 | 0 | 0 | 0 | ⋯ | SPEY    | 0 | 0 | 1 | 0 | 0 | 0 | 0 | 0 | 0 |\n| Auchentoshan  | Auchentosh | 0 | 0 | 0 | 0 | 1 | 0 | 0 | 0 | ⋯ | WEST    | 0 | 0 | 0 | 0 | 0 | 0 | 1 | 0 | 0 |\n| Aultmore      | Aultmore   | 0 | 0 | 1 | 0 | 0 | 0 | 0 | 0 | ⋯ | SPEY    | 0 | 0 | 1 | 0 | 0 | 0 | 0 | 0 | 0 |\n| Balblair      | Balblair   | 1 | 0 | 0 | 0 | 0 | 0 | 0 | 0 | ⋯ | NORTH   | 0 | 0 | 0 | 0 | 0 | 1 | 0 | 0 | 0 |\n| Balmenach     | Balmenach  | 0 | 0 | 0 | 0 | 1 | 0 | 0 | 0 | ⋯ | SPEY    | 0 | 0 | 1 | 0 | 0 | 0 | 0 | 0 | 0 |\n| Balvenie      | Balvenie   | 0 | 0 | 0 | 0 | 0 | 0 | 0 | 0 | ⋯ | SPEY    | 0 | 0 | 1 | 0 | 0 | 0 | 0 | 0 | 0 |\n| Banff         | Banff      | 0 | 0 | 0 | 0 | 0 | 0 | 0 | 1 | ⋯ | SPEY    | 0 | 0 | 1 | 0 | 0 | 0 | 0 | 0 | 0 |\n| Ben Nevis     | Ben Nevis  | 0 | 0 | 0 | 0 | 0 | 0 | 0 | 0 | ⋯ | WEST    | 0 | 0 | 0 | 0 | 1 | 0 | 0 | 0 | 0 |\n| Benriach      | Benriach   | 0 | 0 | 0 | 0 | 0 | 1 | 0 | 0 | ⋯ | SPEY    | 0 | 0 | 1 | 0 | 0 | 0 | 0 | 0 | 0 |\n| Benrinnes     | Benrinnes  | 0 | 0 | 0 | 0 | 0 | 0 | 0 | 0 | ⋯ | SPEY    | 0 | 0 | 1 | 0 | 0 | 0 | 0 | 0 | 0 |\n| Benromach     | Benromach  | 0 | 0 | 0 | 0 | 0 | 0 | 0 | 0 | ⋯ | SPEY    | 0 | 0 | 1 | 0 | 0 | 0 | 0 | 0 | 0 |\n| Bladnoch      | Bladnoch   | 0 | 1 | 0 | 0 | 0 | 0 | 0 | 0 | ⋯ | BORDERS | 0 | 0 | 0 | 0 | 0 | 0 | 1 | 0 | 0 |\n| Blair Athol   | Blair Atho | 0 | 0 | 0 | 0 | 1 | 0 | 0 | 0 | ⋯ | MIDLAND | 0 | 1 | 0 | 0 | 0 | 0 | 0 | 0 | 0 |\n| Bowmore       | Bowmore    | 0 | 0 | 0 | 0 | 0 | 0 | 1 | 0 | ⋯ | LOCH    | 1 | 0 | 0 | 0 | 0 | 0 | 0 | 0 | 0 |\n| Brackla       | Brackla    | 0 | 0 | 0 | 0 | 0 | 0 | 1 | 0 | ⋯ | SPEY    | 0 | 0 | 1 | 0 | 0 | 0 | 0 | 0 | 0 |\n| Bruichladdich | Bruichladd | 0 | 0 | 0 | 1 | 0 | 0 | 0 | 0 | ⋯ | LOCH    | 1 | 0 | 0 | 0 | 0 | 0 | 0 | 0 | 0 |\n| Bunnahabhain  | Bunnahabha | 0 | 0 | 0 | 0 | 0 | 1 | 0 | 0 | ⋯ | NORTH   | 1 | 0 | 0 | 0 | 0 | 0 | 0 | 0 | 0 |\n| Caol Ila      | Caol Ila   | 1 | 0 | 0 | 0 | 0 | 0 | 0 | 0 | ⋯ | NORTH   | 1 | 0 | 0 | 0 | 0 | 0 | 0 | 0 | 0 |\n| Caperdonich   | Caperdonic | 0 | 0 | 0 | 0 | 0 | 0 | 0 | 1 | ⋯ | SPEY    | 0 | 0 | 1 | 0 | 0 | 0 | 0 | 0 | 0 |\n| Cardhu        | Cardhu     | 0 | 0 | 0 | 1 | 0 | 0 | 0 | 0 | ⋯ | SPEY    | 0 | 0 | 1 | 0 | 0 | 0 | 0 | 0 | 0 |\n| Clynelish     | Clynelish  | 0 | 0 | 0 | 0 | 0 | 0 | 0 | 0 | ⋯ | NORTH   | 0 | 0 | 0 | 0 | 0 | 1 | 0 | 0 | 0 |\n| Coleburn      | Coleburn   | 0 | 0 | 0 | 0 | 1 | 0 | 0 | 0 | ⋯ | SPEY    | 0 | 0 | 1 | 0 | 0 | 0 | 0 | 0 | 0 |\n| Convalmore    | Convalmore | 0 | 0 | 0 | 0 | 0 | 0 | 0 | 1 | ⋯ | SPEY    | 0 | 0 | 1 | 0 | 0 | 0 | 0 | 0 | 0 |\n| Cragganmore   | Cragganmor | 0 | 0 | 0 | 0 | 0 | 1 | 0 | 0 | ⋯ | SPEY    | 0 | 0 | 1 | 0 | 0 | 0 | 0 | 0 | 0 |\n| Craigellachie | Craigellac | 0 | 0 | 0 | 0 | 0 | 0 | 0 | 1 | ⋯ | SPEY    | 0 | 0 | 1 | 0 | 0 | 0 | 0 | 0 | 0 |\n| Dailuaine     | Dailuaine  | 0 | 0 | 0 | 0 | 0 | 1 | 0 | 0 | ⋯ | SPEY    | 0 | 0 | 1 | 0 | 0 | 0 | 0 | 0 | 0 |\n| Dallas Dhu    | Dallas Dhu | 0 | 0 | 0 | 0 | 0 | 0 | 0 | 0 | ⋯ | SPEY    | 0 | 0 | 1 | 0 | 0 | 0 | 0 | 0 | 0 |\n| ⋮ | ⋮ | ⋮ | ⋮ | ⋮ | ⋮ | ⋮ | ⋮ | ⋮ | ⋮ | ⋱ | ⋮ | ⋮ | ⋮ | ⋮ | ⋮ | ⋮ | ⋮ | ⋮ | ⋮ | ⋮ |\n| Lochnagar          | Lochnagar  |  0 |  0 |  0 |  0 |  0 |  0 |  0 |  1 | ⋯ | EAST    |  0 |  0 |  0 |  1 |  0 |  0 |  0 |  0 |  0 |\n| Lochside           | Lochside   |  0 |  0 |  0 |  0 |  0 |  0 |  0 |  0 | ⋯ | EAST    |  0 |  0 |  0 |  1 |  0 |  0 |  0 |  0 |  0 |\n| Longmorn           | Longmorn   |  0 |  0 |  0 |  0 |  0 |  0 |  0 |  1 | ⋯ | SPEY    |  0 |  0 |  1 |  0 |  0 |  0 |  0 |  0 |  0 |\n| Macallan           | Macallan   |  0 |  0 |  0 |  0 |  0 |  0 |  0 |  0 | ⋯ | SPEY    |  0 |  0 |  1 |  0 |  0 |  0 |  0 |  0 |  0 |\n| Millburn           | Millburn   |  0 |  0 |  0 |  0 |  0 |  0 |  0 |  0 | ⋯ | SPEY    |  0 |  0 |  1 |  0 |  0 |  0 |  0 |  0 |  0 |\n| Miltonduff         | Miltonduff |  0 |  0 |  0 |  0 |  1 |  0 |  0 |  0 | ⋯ | SPEY    |  0 |  0 |  1 |  0 |  0 |  0 |  0 |  0 |  0 |\n| Mortlach           | Mortlach   |  0 |  0 |  0 |  0 |  0 |  0 |  0 |  0 | ⋯ | SPEY    |  0 |  0 |  1 |  0 |  0 |  0 |  0 |  0 |  0 |\n| North Port         | North Port |  0 |  0 |  0 |  0 |  0 |  0 |  0 |  1 | ⋯ | EAST    |  0 |  0 |  0 |  1 |  0 |  0 |  0 |  0 |  0 |\n| Oban               | Oban       |  0 |  0 |  0 |  0 |  0 |  0 |  0 |  0 | ⋯ | WEST    |  0 |  0 |  0 |  1 |  0 |  0 |  0 |  0 |  0 |\n| Port Ellen         | Port Ellen |  0 |  0 |  0 |  0 |  0 |  0 |  0 |  0 | ⋯ | SOUTH   |  0 |  0 |  0 |  0 |  1 |  0 |  0 |  0 |  0 |\n| Pulteney           | Pulteney   |  0 |  0 |  0 |  0 |  0 |  0 |  0 |  0 | ⋯ | NORTH   |  0 |  0 |  0 |  0 |  0 |  1 |  0 |  0 |  0 |\n| Rosebank           | Rosebank   |  0 |  0 |  0 |  0 |  0 |  0 |  0 |  0 | ⋯ | CENTRAL |  0 |  0 |  0 |  0 |  0 |  0 |  1 |  0 |  0 |\n| Saint Magdalene    | Saint Magd |  0 |  0 |  0 |  0 |  0 |  0 |  0 |  0 | ⋯ | CENTRAL |  0 |  0 |  0 |  0 |  0 |  0 |  1 |  0 |  0 |\n| Scapa              | Scapa      |  0 |  0 |  0 |  0 |  0 |  0 |  0 |  0 | ⋯ | ORKNEY  |  0 |  0 |  0 |  0 |  0 |  0 |  0 |  0 |  1 |\n| Singleton          | Singleton  |  0 |  0 |  0 |  0 |  0 |  0 |  0 |  0 | ⋯ | SPEY    |  0 |  0 |  1 |  0 |  0 |  0 |  0 |  0 |  0 |\n| Speyburn           | Speyburn   |  0 |  0 |  0 |  0 |  0 |  0 |  0 |  0 | ⋯ | SPEY    |  0 |  0 |  1 |  0 |  0 |  0 |  0 |  0 |  0 |\n| Springbank         | Springbank |  0 |  0 |  0 |  0 |  0 |  1 |  0 |  0 | ⋯ | CAMPBEL |  0 |  0 |  0 |  0 |  0 |  0 |  0 |  1 |  0 |\n| Springbank-Longrow | Longrow    |  0 |  0 |  0 |  0 |  0 |  1 |  0 |  0 | ⋯ | CAMPBEL |  0 |  0 |  0 |  0 |  0 |  0 |  0 |  1 |  0 |\n| Strathisla         | Strathisla |  0 |  0 |  0 |  0 |  0 |  0 |  0 |  0 | ⋯ | SPEY    |  0 |  0 |  1 |  0 |  0 |  0 |  0 |  0 |  0 |\n| Talisker           | Talisker   |  0 |  0 |  0 |  0 |  0 |  0 |  0 |  0 | ⋯ | SKYE    |  0 |  0 |  0 |  0 |  0 |  0 |  0 |  0 |  1 |\n| Tamdhu             | Tamdhu     |  0 |  0 |  0 |  0 |  0 |  0 |  0 |  0 | ⋯ | SPEY    |  0 |  0 |  1 |  0 |  0 |  0 |  0 |  0 |  0 |\n| Tamnavulin         | Tamnavulin |  1 |  0 |  0 |  0 |  0 |  0 |  0 |  0 | ⋯ | SPEY    |  0 |  0 |  1 |  0 |  0 |  0 |  0 |  0 |  0 |\n| Teaninich          | Teaninich  |  0 |  0 |  0 |  0 |  0 |  0 |  0 |  0 | ⋯ | NORTH   |  0 |  0 |  0 |  0 |  0 |  1 |  0 |  0 |  0 |\n| Tobermory          | Tobermory  |  0 |  0 |  0 |  0 |  0 |  0 |  0 |  1 | ⋯ | MULL    |  0 |  0 |  0 |  0 |  0 |  0 |  0 |  0 |  1 |\n| Tomatin            | Tomatin    |  0 |  0 |  0 |  0 |  0 |  0 |  0 |  1 | ⋯ | SPEY    |  0 |  0 |  1 |  0 |  0 |  0 |  0 |  0 |  0 |\n| Tomintoul          | Tomintoul  |  0 |  0 |  0 |  0 |  0 |  0 |  0 |  1 | ⋯ | SPEY    |  0 |  0 |  1 |  0 |  0 |  0 |  0 |  0 |  0 |\n| Tormore            | Tormore    |  0 |  0 |  0 |  0 |  0 |  0 |  0 |  1 | ⋯ | SPEY    |  0 |  0 |  1 |  0 |  0 |  0 |  0 |  0 |  0 |\n| Tullibardine       | Tullibardi |  0 |  0 |  0 |  0 |  0 |  1 |  0 |  0 | ⋯ | MIDLAND |  0 |  1 |  0 |  0 |  0 |  0 |  0 |  0 |  0 |\n| <!----> | <!----> | NA | NA | NA | NA | NA | NA | NA | NA | ⋯ | <!----> | NA | NA | NA | NA | NA | NA | NA | NA | NA |\n| <!----> | <!----> |  8 |  2 |  2 |  4 | 10 | 21 |  2 | 27 | ⋯ | <!----> |  7 |  6 | 57 | 10 |  5 |  7 |  9 |  3 |  5 |\n\n",
            "text/html": [
              "<table>\n",
              "<caption>A data.frame: 111 × 85</caption>\n",
              "<thead>\n",
              "\t<tr><th scope=col>NAME</th><th scope=col>X</th><th scope=col>wyne</th><th scope=col>yellow</th><th scope=col>v.pale</th><th scope=col>pale</th><th scope=col>p.gold</th><th scope=col>gold</th><th scope=col>o.gold</th><th scope=col>f.gold</th><th scope=col>⋯</th><th scope=col>DISTRICT</th><th scope=col>islay</th><th scope=col>midland</th><th scope=col>spey</th><th scope=col>east</th><th scope=col>west</th><th scope=col>north</th><th scope=col>lowland</th><th scope=col>campbell</th><th scope=col>islands</th></tr>\n",
              "\t<tr><th scope=col>&lt;fct&gt;</th><th scope=col>&lt;fct&gt;</th><th scope=col>&lt;int&gt;</th><th scope=col>&lt;int&gt;</th><th scope=col>&lt;int&gt;</th><th scope=col>&lt;int&gt;</th><th scope=col>&lt;int&gt;</th><th scope=col>&lt;int&gt;</th><th scope=col>&lt;int&gt;</th><th scope=col>&lt;int&gt;</th><th scope=col>⋯</th><th scope=col>&lt;fct&gt;</th><th scope=col>&lt;int&gt;</th><th scope=col>&lt;int&gt;</th><th scope=col>&lt;int&gt;</th><th scope=col>&lt;int&gt;</th><th scope=col>&lt;int&gt;</th><th scope=col>&lt;int&gt;</th><th scope=col>&lt;int&gt;</th><th scope=col>&lt;int&gt;</th><th scope=col>&lt;int&gt;</th></tr>\n",
              "</thead>\n",
              "<tbody>\n",
              "\t<tr><td>Aberfeldy    </td><td>Aberfeldy </td><td>0</td><td>1</td><td>0</td><td>0</td><td>0</td><td>0</td><td>0</td><td>0</td><td>⋯</td><td>MIDLAND</td><td>0</td><td>1</td><td>0</td><td>0</td><td>0</td><td>0</td><td>0</td><td>0</td><td>0</td></tr>\n",
              "\t<tr><td>Aberlour     </td><td>Aberlour  </td><td>0</td><td>0</td><td>0</td><td>0</td><td>0</td><td>0</td><td>0</td><td>0</td><td>⋯</td><td>SPEY   </td><td>0</td><td>0</td><td>1</td><td>0</td><td>0</td><td>0</td><td>0</td><td>0</td><td>0</td></tr>\n",
              "\t<tr><td>Ardberg      </td><td>Ardberg   </td><td>0</td><td>0</td><td>0</td><td>0</td><td>0</td><td>0</td><td>0</td><td>0</td><td>⋯</td><td>SOUTH  </td><td>1</td><td>0</td><td>0</td><td>0</td><td>0</td><td>0</td><td>0</td><td>0</td><td>0</td></tr>\n",
              "\t<tr><td>Ardmore      </td><td>Ardmore   </td><td>0</td><td>0</td><td>0</td><td>0</td><td>1</td><td>0</td><td>0</td><td>0</td><td>⋯</td><td>SPEY   </td><td>0</td><td>0</td><td>1</td><td>0</td><td>0</td><td>0</td><td>0</td><td>0</td><td>0</td></tr>\n",
              "\t<tr><td>Auchentoshan </td><td>Auchentosh</td><td>0</td><td>0</td><td>0</td><td>0</td><td>1</td><td>0</td><td>0</td><td>0</td><td>⋯</td><td>WEST   </td><td>0</td><td>0</td><td>0</td><td>0</td><td>0</td><td>0</td><td>1</td><td>0</td><td>0</td></tr>\n",
              "\t<tr><td>Aultmore     </td><td>Aultmore  </td><td>0</td><td>0</td><td>1</td><td>0</td><td>0</td><td>0</td><td>0</td><td>0</td><td>⋯</td><td>SPEY   </td><td>0</td><td>0</td><td>1</td><td>0</td><td>0</td><td>0</td><td>0</td><td>0</td><td>0</td></tr>\n",
              "\t<tr><td>Balblair     </td><td>Balblair  </td><td>1</td><td>0</td><td>0</td><td>0</td><td>0</td><td>0</td><td>0</td><td>0</td><td>⋯</td><td>NORTH  </td><td>0</td><td>0</td><td>0</td><td>0</td><td>0</td><td>1</td><td>0</td><td>0</td><td>0</td></tr>\n",
              "\t<tr><td>Balmenach    </td><td>Balmenach </td><td>0</td><td>0</td><td>0</td><td>0</td><td>1</td><td>0</td><td>0</td><td>0</td><td>⋯</td><td>SPEY   </td><td>0</td><td>0</td><td>1</td><td>0</td><td>0</td><td>0</td><td>0</td><td>0</td><td>0</td></tr>\n",
              "\t<tr><td>Balvenie     </td><td>Balvenie  </td><td>0</td><td>0</td><td>0</td><td>0</td><td>0</td><td>0</td><td>0</td><td>0</td><td>⋯</td><td>SPEY   </td><td>0</td><td>0</td><td>1</td><td>0</td><td>0</td><td>0</td><td>0</td><td>0</td><td>0</td></tr>\n",
              "\t<tr><td>Banff        </td><td>Banff     </td><td>0</td><td>0</td><td>0</td><td>0</td><td>0</td><td>0</td><td>0</td><td>1</td><td>⋯</td><td>SPEY   </td><td>0</td><td>0</td><td>1</td><td>0</td><td>0</td><td>0</td><td>0</td><td>0</td><td>0</td></tr>\n",
              "\t<tr><td>Ben Nevis    </td><td>Ben Nevis </td><td>0</td><td>0</td><td>0</td><td>0</td><td>0</td><td>0</td><td>0</td><td>0</td><td>⋯</td><td>WEST   </td><td>0</td><td>0</td><td>0</td><td>0</td><td>1</td><td>0</td><td>0</td><td>0</td><td>0</td></tr>\n",
              "\t<tr><td>Benriach     </td><td>Benriach  </td><td>0</td><td>0</td><td>0</td><td>0</td><td>0</td><td>1</td><td>0</td><td>0</td><td>⋯</td><td>SPEY   </td><td>0</td><td>0</td><td>1</td><td>0</td><td>0</td><td>0</td><td>0</td><td>0</td><td>0</td></tr>\n",
              "\t<tr><td>Benrinnes    </td><td>Benrinnes </td><td>0</td><td>0</td><td>0</td><td>0</td><td>0</td><td>0</td><td>0</td><td>0</td><td>⋯</td><td>SPEY   </td><td>0</td><td>0</td><td>1</td><td>0</td><td>0</td><td>0</td><td>0</td><td>0</td><td>0</td></tr>\n",
              "\t<tr><td>Benromach    </td><td>Benromach </td><td>0</td><td>0</td><td>0</td><td>0</td><td>0</td><td>0</td><td>0</td><td>0</td><td>⋯</td><td>SPEY   </td><td>0</td><td>0</td><td>1</td><td>0</td><td>0</td><td>0</td><td>0</td><td>0</td><td>0</td></tr>\n",
              "\t<tr><td>Bladnoch     </td><td>Bladnoch  </td><td>0</td><td>1</td><td>0</td><td>0</td><td>0</td><td>0</td><td>0</td><td>0</td><td>⋯</td><td>BORDERS</td><td>0</td><td>0</td><td>0</td><td>0</td><td>0</td><td>0</td><td>1</td><td>0</td><td>0</td></tr>\n",
              "\t<tr><td>Blair Athol  </td><td>Blair Atho</td><td>0</td><td>0</td><td>0</td><td>0</td><td>1</td><td>0</td><td>0</td><td>0</td><td>⋯</td><td>MIDLAND</td><td>0</td><td>1</td><td>0</td><td>0</td><td>0</td><td>0</td><td>0</td><td>0</td><td>0</td></tr>\n",
              "\t<tr><td>Bowmore      </td><td>Bowmore   </td><td>0</td><td>0</td><td>0</td><td>0</td><td>0</td><td>0</td><td>1</td><td>0</td><td>⋯</td><td>LOCH   </td><td>1</td><td>0</td><td>0</td><td>0</td><td>0</td><td>0</td><td>0</td><td>0</td><td>0</td></tr>\n",
              "\t<tr><td>Brackla      </td><td>Brackla   </td><td>0</td><td>0</td><td>0</td><td>0</td><td>0</td><td>0</td><td>1</td><td>0</td><td>⋯</td><td>SPEY   </td><td>0</td><td>0</td><td>1</td><td>0</td><td>0</td><td>0</td><td>0</td><td>0</td><td>0</td></tr>\n",
              "\t<tr><td>Bruichladdich</td><td>Bruichladd</td><td>0</td><td>0</td><td>0</td><td>1</td><td>0</td><td>0</td><td>0</td><td>0</td><td>⋯</td><td>LOCH   </td><td>1</td><td>0</td><td>0</td><td>0</td><td>0</td><td>0</td><td>0</td><td>0</td><td>0</td></tr>\n",
              "\t<tr><td>Bunnahabhain </td><td>Bunnahabha</td><td>0</td><td>0</td><td>0</td><td>0</td><td>0</td><td>1</td><td>0</td><td>0</td><td>⋯</td><td>NORTH  </td><td>1</td><td>0</td><td>0</td><td>0</td><td>0</td><td>0</td><td>0</td><td>0</td><td>0</td></tr>\n",
              "\t<tr><td>Caol Ila     </td><td>Caol Ila  </td><td>1</td><td>0</td><td>0</td><td>0</td><td>0</td><td>0</td><td>0</td><td>0</td><td>⋯</td><td>NORTH  </td><td>1</td><td>0</td><td>0</td><td>0</td><td>0</td><td>0</td><td>0</td><td>0</td><td>0</td></tr>\n",
              "\t<tr><td>Caperdonich  </td><td>Caperdonic</td><td>0</td><td>0</td><td>0</td><td>0</td><td>0</td><td>0</td><td>0</td><td>1</td><td>⋯</td><td>SPEY   </td><td>0</td><td>0</td><td>1</td><td>0</td><td>0</td><td>0</td><td>0</td><td>0</td><td>0</td></tr>\n",
              "\t<tr><td>Cardhu       </td><td>Cardhu    </td><td>0</td><td>0</td><td>0</td><td>1</td><td>0</td><td>0</td><td>0</td><td>0</td><td>⋯</td><td>SPEY   </td><td>0</td><td>0</td><td>1</td><td>0</td><td>0</td><td>0</td><td>0</td><td>0</td><td>0</td></tr>\n",
              "\t<tr><td>Clynelish    </td><td>Clynelish </td><td>0</td><td>0</td><td>0</td><td>0</td><td>0</td><td>0</td><td>0</td><td>0</td><td>⋯</td><td>NORTH  </td><td>0</td><td>0</td><td>0</td><td>0</td><td>0</td><td>1</td><td>0</td><td>0</td><td>0</td></tr>\n",
              "\t<tr><td>Coleburn     </td><td>Coleburn  </td><td>0</td><td>0</td><td>0</td><td>0</td><td>1</td><td>0</td><td>0</td><td>0</td><td>⋯</td><td>SPEY   </td><td>0</td><td>0</td><td>1</td><td>0</td><td>0</td><td>0</td><td>0</td><td>0</td><td>0</td></tr>\n",
              "\t<tr><td>Convalmore   </td><td>Convalmore</td><td>0</td><td>0</td><td>0</td><td>0</td><td>0</td><td>0</td><td>0</td><td>1</td><td>⋯</td><td>SPEY   </td><td>0</td><td>0</td><td>1</td><td>0</td><td>0</td><td>0</td><td>0</td><td>0</td><td>0</td></tr>\n",
              "\t<tr><td>Cragganmore  </td><td>Cragganmor</td><td>0</td><td>0</td><td>0</td><td>0</td><td>0</td><td>1</td><td>0</td><td>0</td><td>⋯</td><td>SPEY   </td><td>0</td><td>0</td><td>1</td><td>0</td><td>0</td><td>0</td><td>0</td><td>0</td><td>0</td></tr>\n",
              "\t<tr><td>Craigellachie</td><td>Craigellac</td><td>0</td><td>0</td><td>0</td><td>0</td><td>0</td><td>0</td><td>0</td><td>1</td><td>⋯</td><td>SPEY   </td><td>0</td><td>0</td><td>1</td><td>0</td><td>0</td><td>0</td><td>0</td><td>0</td><td>0</td></tr>\n",
              "\t<tr><td>Dailuaine    </td><td>Dailuaine </td><td>0</td><td>0</td><td>0</td><td>0</td><td>0</td><td>1</td><td>0</td><td>0</td><td>⋯</td><td>SPEY   </td><td>0</td><td>0</td><td>1</td><td>0</td><td>0</td><td>0</td><td>0</td><td>0</td><td>0</td></tr>\n",
              "\t<tr><td>Dallas Dhu   </td><td>Dallas Dhu</td><td>0</td><td>0</td><td>0</td><td>0</td><td>0</td><td>0</td><td>0</td><td>0</td><td>⋯</td><td>SPEY   </td><td>0</td><td>0</td><td>1</td><td>0</td><td>0</td><td>0</td><td>0</td><td>0</td><td>0</td></tr>\n",
              "\t<tr><td>⋮</td><td>⋮</td><td>⋮</td><td>⋮</td><td>⋮</td><td>⋮</td><td>⋮</td><td>⋮</td><td>⋮</td><td>⋮</td><td>⋱</td><td>⋮</td><td>⋮</td><td>⋮</td><td>⋮</td><td>⋮</td><td>⋮</td><td>⋮</td><td>⋮</td><td>⋮</td><td>⋮</td></tr>\n",
              "\t<tr><td>Lochnagar         </td><td>Lochnagar </td><td> 0</td><td> 0</td><td> 0</td><td> 0</td><td> 0</td><td> 0</td><td> 0</td><td> 1</td><td>⋯</td><td>EAST   </td><td> 0</td><td> 0</td><td> 0</td><td> 1</td><td> 0</td><td> 0</td><td> 0</td><td> 0</td><td> 0</td></tr>\n",
              "\t<tr><td>Lochside          </td><td>Lochside  </td><td> 0</td><td> 0</td><td> 0</td><td> 0</td><td> 0</td><td> 0</td><td> 0</td><td> 0</td><td>⋯</td><td>EAST   </td><td> 0</td><td> 0</td><td> 0</td><td> 1</td><td> 0</td><td> 0</td><td> 0</td><td> 0</td><td> 0</td></tr>\n",
              "\t<tr><td>Longmorn          </td><td>Longmorn  </td><td> 0</td><td> 0</td><td> 0</td><td> 0</td><td> 0</td><td> 0</td><td> 0</td><td> 1</td><td>⋯</td><td>SPEY   </td><td> 0</td><td> 0</td><td> 1</td><td> 0</td><td> 0</td><td> 0</td><td> 0</td><td> 0</td><td> 0</td></tr>\n",
              "\t<tr><td>Macallan          </td><td>Macallan  </td><td> 0</td><td> 0</td><td> 0</td><td> 0</td><td> 0</td><td> 0</td><td> 0</td><td> 0</td><td>⋯</td><td>SPEY   </td><td> 0</td><td> 0</td><td> 1</td><td> 0</td><td> 0</td><td> 0</td><td> 0</td><td> 0</td><td> 0</td></tr>\n",
              "\t<tr><td>Millburn          </td><td>Millburn  </td><td> 0</td><td> 0</td><td> 0</td><td> 0</td><td> 0</td><td> 0</td><td> 0</td><td> 0</td><td>⋯</td><td>SPEY   </td><td> 0</td><td> 0</td><td> 1</td><td> 0</td><td> 0</td><td> 0</td><td> 0</td><td> 0</td><td> 0</td></tr>\n",
              "\t<tr><td>Miltonduff        </td><td>Miltonduff</td><td> 0</td><td> 0</td><td> 0</td><td> 0</td><td> 1</td><td> 0</td><td> 0</td><td> 0</td><td>⋯</td><td>SPEY   </td><td> 0</td><td> 0</td><td> 1</td><td> 0</td><td> 0</td><td> 0</td><td> 0</td><td> 0</td><td> 0</td></tr>\n",
              "\t<tr><td>Mortlach          </td><td>Mortlach  </td><td> 0</td><td> 0</td><td> 0</td><td> 0</td><td> 0</td><td> 0</td><td> 0</td><td> 0</td><td>⋯</td><td>SPEY   </td><td> 0</td><td> 0</td><td> 1</td><td> 0</td><td> 0</td><td> 0</td><td> 0</td><td> 0</td><td> 0</td></tr>\n",
              "\t<tr><td>North Port        </td><td>North Port</td><td> 0</td><td> 0</td><td> 0</td><td> 0</td><td> 0</td><td> 0</td><td> 0</td><td> 1</td><td>⋯</td><td>EAST   </td><td> 0</td><td> 0</td><td> 0</td><td> 1</td><td> 0</td><td> 0</td><td> 0</td><td> 0</td><td> 0</td></tr>\n",
              "\t<tr><td>Oban              </td><td>Oban      </td><td> 0</td><td> 0</td><td> 0</td><td> 0</td><td> 0</td><td> 0</td><td> 0</td><td> 0</td><td>⋯</td><td>WEST   </td><td> 0</td><td> 0</td><td> 0</td><td> 1</td><td> 0</td><td> 0</td><td> 0</td><td> 0</td><td> 0</td></tr>\n",
              "\t<tr><td>Port Ellen        </td><td>Port Ellen</td><td> 0</td><td> 0</td><td> 0</td><td> 0</td><td> 0</td><td> 0</td><td> 0</td><td> 0</td><td>⋯</td><td>SOUTH  </td><td> 0</td><td> 0</td><td> 0</td><td> 0</td><td> 1</td><td> 0</td><td> 0</td><td> 0</td><td> 0</td></tr>\n",
              "\t<tr><td>Pulteney          </td><td>Pulteney  </td><td> 0</td><td> 0</td><td> 0</td><td> 0</td><td> 0</td><td> 0</td><td> 0</td><td> 0</td><td>⋯</td><td>NORTH  </td><td> 0</td><td> 0</td><td> 0</td><td> 0</td><td> 0</td><td> 1</td><td> 0</td><td> 0</td><td> 0</td></tr>\n",
              "\t<tr><td>Rosebank          </td><td>Rosebank  </td><td> 0</td><td> 0</td><td> 0</td><td> 0</td><td> 0</td><td> 0</td><td> 0</td><td> 0</td><td>⋯</td><td>CENTRAL</td><td> 0</td><td> 0</td><td> 0</td><td> 0</td><td> 0</td><td> 0</td><td> 1</td><td> 0</td><td> 0</td></tr>\n",
              "\t<tr><td>Saint Magdalene   </td><td>Saint Magd</td><td> 0</td><td> 0</td><td> 0</td><td> 0</td><td> 0</td><td> 0</td><td> 0</td><td> 0</td><td>⋯</td><td>CENTRAL</td><td> 0</td><td> 0</td><td> 0</td><td> 0</td><td> 0</td><td> 0</td><td> 1</td><td> 0</td><td> 0</td></tr>\n",
              "\t<tr><td>Scapa             </td><td>Scapa     </td><td> 0</td><td> 0</td><td> 0</td><td> 0</td><td> 0</td><td> 0</td><td> 0</td><td> 0</td><td>⋯</td><td>ORKNEY </td><td> 0</td><td> 0</td><td> 0</td><td> 0</td><td> 0</td><td> 0</td><td> 0</td><td> 0</td><td> 1</td></tr>\n",
              "\t<tr><td>Singleton         </td><td>Singleton </td><td> 0</td><td> 0</td><td> 0</td><td> 0</td><td> 0</td><td> 0</td><td> 0</td><td> 0</td><td>⋯</td><td>SPEY   </td><td> 0</td><td> 0</td><td> 1</td><td> 0</td><td> 0</td><td> 0</td><td> 0</td><td> 0</td><td> 0</td></tr>\n",
              "\t<tr><td>Speyburn          </td><td>Speyburn  </td><td> 0</td><td> 0</td><td> 0</td><td> 0</td><td> 0</td><td> 0</td><td> 0</td><td> 0</td><td>⋯</td><td>SPEY   </td><td> 0</td><td> 0</td><td> 1</td><td> 0</td><td> 0</td><td> 0</td><td> 0</td><td> 0</td><td> 0</td></tr>\n",
              "\t<tr><td>Springbank        </td><td>Springbank</td><td> 0</td><td> 0</td><td> 0</td><td> 0</td><td> 0</td><td> 1</td><td> 0</td><td> 0</td><td>⋯</td><td>CAMPBEL</td><td> 0</td><td> 0</td><td> 0</td><td> 0</td><td> 0</td><td> 0</td><td> 0</td><td> 1</td><td> 0</td></tr>\n",
              "\t<tr><td>Springbank-Longrow</td><td>Longrow   </td><td> 0</td><td> 0</td><td> 0</td><td> 0</td><td> 0</td><td> 1</td><td> 0</td><td> 0</td><td>⋯</td><td>CAMPBEL</td><td> 0</td><td> 0</td><td> 0</td><td> 0</td><td> 0</td><td> 0</td><td> 0</td><td> 1</td><td> 0</td></tr>\n",
              "\t<tr><td>Strathisla        </td><td>Strathisla</td><td> 0</td><td> 0</td><td> 0</td><td> 0</td><td> 0</td><td> 0</td><td> 0</td><td> 0</td><td>⋯</td><td>SPEY   </td><td> 0</td><td> 0</td><td> 1</td><td> 0</td><td> 0</td><td> 0</td><td> 0</td><td> 0</td><td> 0</td></tr>\n",
              "\t<tr><td>Talisker          </td><td>Talisker  </td><td> 0</td><td> 0</td><td> 0</td><td> 0</td><td> 0</td><td> 0</td><td> 0</td><td> 0</td><td>⋯</td><td>SKYE   </td><td> 0</td><td> 0</td><td> 0</td><td> 0</td><td> 0</td><td> 0</td><td> 0</td><td> 0</td><td> 1</td></tr>\n",
              "\t<tr><td>Tamdhu            </td><td>Tamdhu    </td><td> 0</td><td> 0</td><td> 0</td><td> 0</td><td> 0</td><td> 0</td><td> 0</td><td> 0</td><td>⋯</td><td>SPEY   </td><td> 0</td><td> 0</td><td> 1</td><td> 0</td><td> 0</td><td> 0</td><td> 0</td><td> 0</td><td> 0</td></tr>\n",
              "\t<tr><td>Tamnavulin        </td><td>Tamnavulin</td><td> 1</td><td> 0</td><td> 0</td><td> 0</td><td> 0</td><td> 0</td><td> 0</td><td> 0</td><td>⋯</td><td>SPEY   </td><td> 0</td><td> 0</td><td> 1</td><td> 0</td><td> 0</td><td> 0</td><td> 0</td><td> 0</td><td> 0</td></tr>\n",
              "\t<tr><td>Teaninich         </td><td>Teaninich </td><td> 0</td><td> 0</td><td> 0</td><td> 0</td><td> 0</td><td> 0</td><td> 0</td><td> 0</td><td>⋯</td><td>NORTH  </td><td> 0</td><td> 0</td><td> 0</td><td> 0</td><td> 0</td><td> 1</td><td> 0</td><td> 0</td><td> 0</td></tr>\n",
              "\t<tr><td>Tobermory         </td><td>Tobermory </td><td> 0</td><td> 0</td><td> 0</td><td> 0</td><td> 0</td><td> 0</td><td> 0</td><td> 1</td><td>⋯</td><td>MULL   </td><td> 0</td><td> 0</td><td> 0</td><td> 0</td><td> 0</td><td> 0</td><td> 0</td><td> 0</td><td> 1</td></tr>\n",
              "\t<tr><td>Tomatin           </td><td>Tomatin   </td><td> 0</td><td> 0</td><td> 0</td><td> 0</td><td> 0</td><td> 0</td><td> 0</td><td> 1</td><td>⋯</td><td>SPEY   </td><td> 0</td><td> 0</td><td> 1</td><td> 0</td><td> 0</td><td> 0</td><td> 0</td><td> 0</td><td> 0</td></tr>\n",
              "\t<tr><td>Tomintoul         </td><td>Tomintoul </td><td> 0</td><td> 0</td><td> 0</td><td> 0</td><td> 0</td><td> 0</td><td> 0</td><td> 1</td><td>⋯</td><td>SPEY   </td><td> 0</td><td> 0</td><td> 1</td><td> 0</td><td> 0</td><td> 0</td><td> 0</td><td> 0</td><td> 0</td></tr>\n",
              "\t<tr><td>Tormore           </td><td>Tormore   </td><td> 0</td><td> 0</td><td> 0</td><td> 0</td><td> 0</td><td> 0</td><td> 0</td><td> 1</td><td>⋯</td><td>SPEY   </td><td> 0</td><td> 0</td><td> 1</td><td> 0</td><td> 0</td><td> 0</td><td> 0</td><td> 0</td><td> 0</td></tr>\n",
              "\t<tr><td>Tullibardine      </td><td>Tullibardi</td><td> 0</td><td> 0</td><td> 0</td><td> 0</td><td> 0</td><td> 1</td><td> 0</td><td> 0</td><td>⋯</td><td>MIDLAND</td><td> 0</td><td> 1</td><td> 0</td><td> 0</td><td> 0</td><td> 0</td><td> 0</td><td> 0</td><td> 0</td></tr>\n",
              "\t<tr><td>                  </td><td>          </td><td>NA</td><td>NA</td><td>NA</td><td>NA</td><td>NA</td><td>NA</td><td>NA</td><td>NA</td><td>⋯</td><td>       </td><td>NA</td><td>NA</td><td>NA</td><td>NA</td><td>NA</td><td>NA</td><td>NA</td><td>NA</td><td>NA</td></tr>\n",
              "\t<tr><td>                  </td><td>          </td><td> 8</td><td> 2</td><td> 2</td><td> 4</td><td>10</td><td>21</td><td> 2</td><td>27</td><td>⋯</td><td>       </td><td> 7</td><td> 6</td><td>57</td><td>10</td><td> 5</td><td> 7</td><td> 9</td><td> 3</td><td> 5</td></tr>\n",
              "</tbody>\n",
              "</table>\n"
            ]
          },
          "metadata": {
            "tags": []
          }
        }
      ]
    },
    {
      "cell_type": "markdown",
      "metadata": {
        "id": "jSIwzt2wHs9A",
        "colab_type": "text"
      },
      "source": [
        "O *dataframe* criado já está bem parecido com uma matriz, exceto por alguns dados extras. Como limpamos isso?"
      ]
    },
    {
      "cell_type": "code",
      "metadata": {
        "id": "FRhbL-rNZoxr",
        "colab_type": "code",
        "colab": {
          "base_uri": "https://localhost:8080/",
          "height": 1382
        },
        "outputId": "820a2130-4702-4fb6-dd24-948eb9abf13d"
      },
      "source": [
        "data_cleaned <- data %>% select(-NAME, -X, -X)\n",
        "data_cleaned"
      ],
      "execution_count": 37,
      "outputs": [
        {
          "output_type": "display_data",
          "data": {
            "text/plain": [
              "    wyne yellow v.pale pale p.gold gold o.gold f.gold bronze p.amber ⋯ DISTRICT\n",
              "1   0    1      0      0    0      0    0      0      0      0       ⋯ MIDLAND \n",
              "2   0    0      0      0    0      0    0      0      0      0       ⋯ SPEY    \n",
              "3   0    0      0      0    0      0    0      0      0      0       ⋯ SOUTH   \n",
              "4   0    0      0      0    1      0    0      0      0      0       ⋯ SPEY    \n",
              "5   0    0      0      0    1      0    0      0      0      0       ⋯ WEST    \n",
              "6   0    0      1      0    0      0    0      0      0      0       ⋯ SPEY    \n",
              "7   1    0      0      0    0      0    0      0      0      0       ⋯ NORTH   \n",
              "8   0    0      0      0    1      0    0      0      0      0       ⋯ SPEY    \n",
              "9   0    0      0      0    0      0    0      0      0      0       ⋯ SPEY    \n",
              "10  0    0      0      0    0      0    0      1      0      0       ⋯ SPEY    \n",
              "11  0    0      0      0    0      0    0      0      0      0       ⋯ WEST    \n",
              "12  0    0      0      0    0      1    0      0      0      0       ⋯ SPEY    \n",
              "13  0    0      0      0    0      0    0      0      0      0       ⋯ SPEY    \n",
              "14  0    0      0      0    0      0    0      0      0      0       ⋯ SPEY    \n",
              "15  0    1      0      0    0      0    0      0      0      0       ⋯ BORDERS \n",
              "16  0    0      0      0    1      0    0      0      0      0       ⋯ MIDLAND \n",
              "17  0    0      0      0    0      0    1      0      0      0       ⋯ LOCH    \n",
              "18  0    0      0      0    0      0    1      0      0      0       ⋯ SPEY    \n",
              "19  0    0      0      1    0      0    0      0      0      0       ⋯ LOCH    \n",
              "20  0    0      0      0    0      1    0      0      0      0       ⋯ NORTH   \n",
              "21  1    0      0      0    0      0    0      0      0      0       ⋯ NORTH   \n",
              "22  0    0      0      0    0      0    0      1      0      0       ⋯ SPEY    \n",
              "23  0    0      0      1    0      0    0      0      0      0       ⋯ SPEY    \n",
              "24  0    0      0      0    0      0    0      0      0      0       ⋯ NORTH   \n",
              "25  0    0      0      0    1      0    0      0      0      0       ⋯ SPEY    \n",
              "26  0    0      0      0    0      0    0      1      0      0       ⋯ SPEY    \n",
              "27  0    0      0      0    0      1    0      0      0      0       ⋯ SPEY    \n",
              "28  0    0      0      0    0      0    0      1      0      0       ⋯ SPEY    \n",
              "29  0    0      0      0    0      1    0      0      0      0       ⋯ SPEY    \n",
              "30  0    0      0      0    0      0    0      0      0      0       ⋯ SPEY    \n",
              "⋮   ⋮    ⋮      ⋮      ⋮    ⋮      ⋮    ⋮      ⋮      ⋮      ⋮       ⋱ ⋮       \n",
              "82   0    0      0      0    0      0    0      1      0      0      ⋯ EAST    \n",
              "83   0    0      0      0    0      0    0      0      0      0      ⋯ EAST    \n",
              "84   0    0      0      0    0      0    0      1      0      0      ⋯ SPEY    \n",
              "85   0    0      0      0    0      0    0      0      0      0      ⋯ SPEY    \n",
              "86   0    0      0      0    0      0    0      0      0      0      ⋯ SPEY    \n",
              "87   0    0      0      0    1      0    0      0      0      0      ⋯ SPEY    \n",
              "88   0    0      0      0    0      0    0      0      0      1      ⋯ SPEY    \n",
              "89   0    0      0      0    0      0    0      1      0      0      ⋯ EAST    \n",
              "90   0    0      0      0    0      0    0      0      0      0      ⋯ WEST    \n",
              "91   0    0      0      0    0      0    0      0      0      0      ⋯ SOUTH   \n",
              "92   0    0      0      0    0      0    0      0      0      0      ⋯ NORTH   \n",
              "93   0    0      0      0    0      0    0      0      0      0      ⋯ CENTRAL \n",
              "94   0    0      0      0    0      0    0      0      0      0      ⋯ CENTRAL \n",
              "95   0    0      0      0    0      0    0      0      0      0      ⋯ ORKNEY  \n",
              "96   0    0      0      0    0      0    0      0      0      0      ⋯ SPEY    \n",
              "97   0    0      0      0    0      0    0      0      1      0      ⋯ SPEY    \n",
              "98   0    0      0      0    0      1    0      0      0      0      ⋯ CAMPBEL \n",
              "99   0    0      0      0    0      1    0      0      0      0      ⋯ CAMPBEL \n",
              "100  0    0      0      0    0      0    0      0      0      0      ⋯ SPEY    \n",
              "101  0    0      0      0    0      0    0      0      0      0      ⋯ SKYE    \n",
              "102  0    0      0      0    0      0    0      0      0      1      ⋯ SPEY    \n",
              "103  1    0      0      0    0      0    0      0      0      0      ⋯ SPEY    \n",
              "104  0    0      0      0    0      0    0      0      0      1      ⋯ NORTH   \n",
              "105  0    0      0      0    0      0    0      1      0      0      ⋯ MULL    \n",
              "106  0    0      0      0    0      0    0      1      0      0      ⋯ SPEY    \n",
              "107  0    0      0      0    0      0    0      1      0      0      ⋯ SPEY    \n",
              "108  0    0      0      0    0      0    0      1      0      0      ⋯ SPEY    \n",
              "109  0    0      0      0    0      1    0      0      0      0      ⋯ MIDLAND \n",
              "110 NA   NA     NA     NA   NA     NA   NA     NA     NA     NA      ⋯         \n",
              "111  8    2      2      4   10     21    2     27      5      4      ⋯         \n",
              "    islay midland spey east west north lowland campbell islands\n",
              "1   0     1       0    0    0    0     0       0        0      \n",
              "2   0     0       1    0    0    0     0       0        0      \n",
              "3   1     0       0    0    0    0     0       0        0      \n",
              "4   0     0       1    0    0    0     0       0        0      \n",
              "5   0     0       0    0    0    0     1       0        0      \n",
              "6   0     0       1    0    0    0     0       0        0      \n",
              "7   0     0       0    0    0    1     0       0        0      \n",
              "8   0     0       1    0    0    0     0       0        0      \n",
              "9   0     0       1    0    0    0     0       0        0      \n",
              "10  0     0       1    0    0    0     0       0        0      \n",
              "11  0     0       0    0    1    0     0       0        0      \n",
              "12  0     0       1    0    0    0     0       0        0      \n",
              "13  0     0       1    0    0    0     0       0        0      \n",
              "14  0     0       1    0    0    0     0       0        0      \n",
              "15  0     0       0    0    0    0     1       0        0      \n",
              "16  0     1       0    0    0    0     0       0        0      \n",
              "17  1     0       0    0    0    0     0       0        0      \n",
              "18  0     0       1    0    0    0     0       0        0      \n",
              "19  1     0       0    0    0    0     0       0        0      \n",
              "20  1     0       0    0    0    0     0       0        0      \n",
              "21  1     0       0    0    0    0     0       0        0      \n",
              "22  0     0       1    0    0    0     0       0        0      \n",
              "23  0     0       1    0    0    0     0       0        0      \n",
              "24  0     0       0    0    0    1     0       0        0      \n",
              "25  0     0       1    0    0    0     0       0        0      \n",
              "26  0     0       1    0    0    0     0       0        0      \n",
              "27  0     0       1    0    0    0     0       0        0      \n",
              "28  0     0       1    0    0    0     0       0        0      \n",
              "29  0     0       1    0    0    0     0       0        0      \n",
              "30  0     0       1    0    0    0     0       0        0      \n",
              "⋮   ⋮     ⋮       ⋮    ⋮    ⋮    ⋮     ⋮       ⋮        ⋮      \n",
              "82   0     0       0    1    0    0     0       0        0     \n",
              "83   0     0       0    1    0    0     0       0        0     \n",
              "84   0     0       1    0    0    0     0       0        0     \n",
              "85   0     0       1    0    0    0     0       0        0     \n",
              "86   0     0       1    0    0    0     0       0        0     \n",
              "87   0     0       1    0    0    0     0       0        0     \n",
              "88   0     0       1    0    0    0     0       0        0     \n",
              "89   0     0       0    1    0    0     0       0        0     \n",
              "90   0     0       0    1    0    0     0       0        0     \n",
              "91   0     0       0    0    1    0     0       0        0     \n",
              "92   0     0       0    0    0    1     0       0        0     \n",
              "93   0     0       0    0    0    0     1       0        0     \n",
              "94   0     0       0    0    0    0     1       0        0     \n",
              "95   0     0       0    0    0    0     0       0        1     \n",
              "96   0     0       1    0    0    0     0       0        0     \n",
              "97   0     0       1    0    0    0     0       0        0     \n",
              "98   0     0       0    0    0    0     0       1        0     \n",
              "99   0     0       0    0    0    0     0       1        0     \n",
              "100  0     0       1    0    0    0     0       0        0     \n",
              "101  0     0       0    0    0    0     0       0        1     \n",
              "102  0     0       1    0    0    0     0       0        0     \n",
              "103  0     0       1    0    0    0     0       0        0     \n",
              "104  0     0       0    0    0    1     0       0        0     \n",
              "105  0     0       0    0    0    0     0       0        1     \n",
              "106  0     0       1    0    0    0     0       0        0     \n",
              "107  0     0       1    0    0    0     0       0        0     \n",
              "108  0     0       1    0    0    0     0       0        0     \n",
              "109  0     1       0    0    0    0     0       0        0     \n",
              "110 NA    NA      NA   NA   NA   NA    NA      NA       NA     \n",
              "111  7     6      57   10    5    7     9       3        5     "
            ],
            "text/latex": "A data.frame: 111 × 83\n\\begin{tabular}{r|lllllllllllllllllllllllllllllllllllllllllllllllllllllllllllllllllllllllllllllllllll}\n wyne & yellow & v.pale & pale & p.gold & gold & o.gold & f.gold & bronze & p.amber & amber & f.amber & red & sherry & AROMA & PEAT & SWEET & LIGHT & FRESH & DRY & FRUIT & GRASS & SEA & SHERRY & SPICY & RICH & soft & med & full & round & smooth & light & firm & oily & full.1 & dry & sherry.1 & big & light.1 & smooth.1 & clean & fruit & grass & smoke & sweet & spice & oil & salt & arome & full.2 & dry.1 & warm & big.1 & light.2 & smooth.2 & clean.1 & fruit.1 & grass.1 & smoke.1 & sweet.1 & spice.1 & oil.1 & salt.1 & arome.1 & ling & long & very & quick & AGE & DIST & SCORE & X. & REGION & DISTRICT & islay & midland & spey & east & west & north & lowland & campbell & islands\\\\\n <int> & <int> & <int> & <int> & <int> & <int> & <int> & <int> & <int> & <int> & <int> & <int> & <int> & <int> & <int> & <int> & <int> & <int> & <int> & <int> & <int> & <int> & <int> & <int> & <int> & <int> & <int> & <int> & <int> & <int> & <int> & <int> & <int> & <int> & <int> & <int> & <int> & <int> & <int> & <int> & <int> & <int> & <int> & <int> & <int> & <int> & <int> & <int> & <int> & <int> & <int> & <int> & <int> & <int> & <int> & <int> & <int> & <int> & <int> & <int> & <int> & <int> & <int> & <int> & <int> & <int> & <int> & <int> & <int> & <int> & <int> & <fct> & <fct> & <fct> & <int> & <int> & <int> & <int> & <int> & <int> & <int> & <int> & <int>\\\\\n\\hline\n\t 0 & 1 & 0 & 0 & 0 & 0 & 0 & 0 & 0 & 0 & 0 & 0 & 0 & 0 & 1 & 1 & 0 & 0 & 0 & 0 & 1 & 0 & 0 & 0 & 0 & 0 & 1 & 1 & 0 & 0 & 0 & 0 & 0 & 0 & 0 & 0 & 1 & 0 & 0 & 0 & 0 & 0 & 0 & 0 & 0 & 0 & 1 & 0 & 0 & 1 & 1 & 0 & 0 & 0 & 0 & 0 & 1 & 0 & 0 & 0 & 1 & 0 & 0 & 0 & 0 & 0 & 0 & 0 & -9 & 2 & 69 & 40 & HIGH  & MIDLAND & 0 & 1 & 0 & 0 & 0 & 0 & 0 & 0 & 0\\\\\n\t 0 & 0 & 0 & 0 & 0 & 0 & 0 & 0 & 0 & 0 & 0 & 0 & 1 & 0 & 0 & 0 & 1 & 0 & 0 & 0 & 0 & 0 & 0 & 0 & 0 & 1 & 1 & 1 & 1 & 1 & 1 & 0 & 0 & 0 & 1 & 0 & 1 & 0 & 0 & 0 & 0 & 1 & 0 & 0 & 1 & 1 & 0 & 0 & 0 & 0 & 0 & 0 & 0 & 0 & 0 & 1 & 0 & 0 & 0 & 0 & 0 & 0 & 0 & 0 & 1 & 0 & 0 & 0 & 12 & 4 & 83 & 43 & HIGH  & SPEY    & 0 & 0 & 1 & 0 & 0 & 0 & 0 & 0 & 0\\\\\n\t 0 & 0 & 0 & 0 & 0 & 0 & 0 & 0 & 0 & 0 & 0 & 0 & 0 & 1 & 0 & 1 & 0 & 0 & 0 & 1 & 0 & 0 & 1 & 0 & 0 & 0 & 0 & 1 & 1 & 0 & 0 & 1 & 1 & 0 & 0 & 0 & 0 & 0 & 0 & 0 & 0 & 0 & 0 & 0 & 1 & 0 & 0 & 0 & 0 & 0 & 0 & 0 & 0 & 0 & 0 & 0 & 0 & 0 & 0 & 0 & 0 & 0 & 1 & 0 & 0 & 0 & 0 & 0 & 10 & 4 & 85 & 40 & ISLAY & SOUTH   & 1 & 0 & 0 & 0 & 0 & 0 & 0 & 0 & 0\\\\\n\t 0 & 0 & 0 & 0 & 1 & 0 & 0 & 0 & 0 & 0 & 0 & 0 & 0 & 0 & 0 & 0 & 1 & 0 & 0 & 0 & 0 & 1 & 0 & 1 & 0 & 0 & 0 & 0 & 1 & 0 & 0 & 0 & 0 & 0 & 0 & 0 & 0 & 1 & 0 & 0 & 0 & 0 & 1 & 0 & 1 & 0 & 0 & 0 & 0 & 0 & 0 & 0 & 1 & 0 & 0 & 0 & 0 & 0 & 0 & 0 & 0 & 0 & 0 & 0 & 0 & 0 & 0 & 0 & 18 & 2 & 66 & 46 & HIGH  & SPEY    & 0 & 0 & 1 & 0 & 0 & 0 & 0 & 0 & 0\\\\\n\t 0 & 0 & 0 & 0 & 1 & 0 & 0 & 0 & 0 & 0 & 0 & 0 & 0 & 0 & 0 & 0 & 0 & 0 & 1 & 0 & 1 & 1 & 0 & 0 & 0 & 0 & 1 & 0 & 0 & 0 & 0 & 0 & 0 & 0 & 0 & 0 & 0 & 0 & 1 & 0 & 0 & 1 & 1 & 0 & 1 & 0 & 0 & 0 & 0 & 0 & 0 & 0 & 0 & 0 & 0 & 0 & 0 & 0 & 0 & 0 & 1 & 0 & 0 & 0 & 0 & 0 & 0 & 0 & 10 & 5 & 85 & 40 & LOW   & WEST    & 0 & 0 & 0 & 0 & 0 & 0 & 1 & 0 & 0\\\\\n\t 0 & 0 & 1 & 0 & 0 & 0 & 0 & 0 & 0 & 0 & 0 & 0 & 0 & 0 & 1 & 0 & 0 & 0 & 1 & 0 & 0 & 0 & 0 & 0 & 0 & 0 & 0 & 0 & 0 & 0 & 0 & 0 & 1 & 0 & 0 & 0 & 0 & 0 & 1 & 0 & 0 & 1 & 0 & 0 & 0 & 1 & 0 & 0 & 0 & 0 & 1 & 0 & 0 & 0 & 0 & 0 & 0 & 0 & 0 & 0 & 0 & 0 & 0 & 0 & 0 & 0 & 0 & 0 & 12 & 3 & 75 & 40 & HIGH  & SPEY    & 0 & 0 & 1 & 0 & 0 & 0 & 0 & 0 & 0\\\\\n\t 1 & 0 & 0 & 0 & 0 & 0 & 0 & 0 & 0 & 0 & 0 & 0 & 0 & 0 & 0 & 0 & 0 & 0 & 1 & 0 & 1 & 0 & 0 & 0 & 0 & 0 & 0 & 0 & 0 & 0 & 0 & 1 & 0 & 0 & 0 & 0 & 0 & 0 & 0 & 0 & 0 & 1 & 0 & 0 & 1 & 1 & 0 & 0 & 0 & 0 & 1 & 0 & 0 & 0 & 0 & 0 & 1 & 0 & 0 & 0 & 0 & 0 & 0 & 0 & 1 & 0 & 0 & 0 & 10 & 3 & 76 & 40 & HIGH  & NORTH   & 0 & 0 & 0 & 0 & 0 & 1 & 0 & 0 & 0\\\\\n\t 0 & 0 & 0 & 0 & 1 & 0 & 0 & 0 & 0 & 0 & 0 & 0 & 0 & 0 & 1 & 1 & 1 & 0 & 0 & 0 & 1 & 1 & 0 & 0 & 0 & 0 & 1 & 1 & 0 & 0 & 1 & 1 & 0 & 0 & 0 & 1 & 0 & 0 & 0 & 0 & 0 & 0 & 0 & 0 & 1 & 0 & 0 & 0 & 0 & 0 & 0 & 0 & 0 & 0 & 0 & 0 & 0 & 0 & 0 & 0 & 0 & 0 & 0 & 0 & 0 & 1 & 0 & 0 & -9 & 3 & 69 & 40 & HIGH  & SPEY    & 0 & 0 & 1 & 0 & 0 & 0 & 0 & 0 & 0\\\\\n\t 0 & 0 & 0 & 0 & 0 & 0 & 0 & 0 & 0 & 0 & 1 & 0 & 0 & 0 & 1 & 0 & 0 & 0 & 0 & 0 & 1 & 0 & 0 & 0 & 0 & 0 & 0 & 1 & 0 & 0 & 0 & 0 & 0 & 0 & 1 & 1 & 0 & 0 & 0 & 0 & 0 & 0 & 0 & 0 & 1 & 0 & 0 & 0 & 0 & 0 & 0 & 0 & 0 & 0 & 0 & 0 & 0 & 0 & 0 & 0 & 0 & 1 & 0 & 0 & 1 & 0 & 0 & 0 & -9 & 4 & 85 & 40 & HIGH  & SPEY    & 0 & 0 & 1 & 0 & 0 & 0 & 0 & 0 & 0\\\\\n\t 0 & 0 & 0 & 0 & 0 & 0 & 0 & 1 & 0 & 0 & 0 & 0 & 0 & 0 & 1 & 1 & 0 & 0 & 0 & 0 & 0 & 0 & 0 & 0 & 0 & 0 & 0 & 1 & 0 & 0 & 0 & 0 & 0 & 0 & 0 & 0 & 0 & 0 & 0 & 0 & 1 & 0 & 0 & 1 & 1 & 0 & 0 & 0 & 0 & 0 & 0 & 0 & 0 & 0 & 0 & 1 & 0 & 0 & 0 & 0 & 1 & 0 & 0 & 0 & 0 & 0 & 0 & 0 & -9 & 2 & 66 & 40 & HIGH  & SPEY    & 0 & 0 & 1 & 0 & 0 & 0 & 0 & 0 & 0\\\\\n\t 0 & 0 & 0 & 0 & 0 & 0 & 0 & 0 & 0 & 0 & 0 & 1 & 0 & 0 & 0 & 0 & 0 & 0 & 0 & 0 & 1 & 1 & 0 & 0 & 0 & 0 & 0 & 0 & 0 & 0 & 0 & 0 & 1 & 1 & 0 & 0 & 0 & 0 & 0 & 0 & 0 & 1 & 0 & 0 & 1 & 0 & 0 & 0 & 0 & 0 & 0 & 0 & 0 & 0 & 0 & 0 & 0 & 0 & 0 & 1 & 0 & 0 & 0 & 0 & 0 & 0 & 0 & 0 & -9 & 1 & 55 & 40 & HIGH  & WEST    & 0 & 0 & 0 & 0 & 1 & 0 & 0 & 0 & 0\\\\\n\t 0 & 0 & 0 & 0 & 0 & 1 & 0 & 0 & 0 & 0 & 0 & 0 & 0 & 0 & 1 & 0 & 0 & 0 & 0 & 0 & 0 & 1 & 0 & 0 & 0 & 0 & 0 & 1 & 0 & 0 & 0 & 1 & 0 & 0 & 0 & 1 & 0 & 0 & 0 & 0 & 0 & 0 & 0 & 0 & 1 & 0 & 0 & 0 & 0 & 0 & 1 & 1 & 0 & 0 & 0 & 0 & 0 & 0 & 1 & 0 & 0 & 0 & 0 & 0 & 0 & 0 & 0 & 0 & -9 & 3 & 69 & 40 & HIGH  & SPEY    & 0 & 0 & 1 & 0 & 0 & 0 & 0 & 0 & 0\\\\\n\t 0 & 0 & 0 & 0 & 0 & 0 & 0 & 0 & 0 & 0 & 1 & 0 & 0 & 0 & 1 & 1 & 0 & 0 & 0 & 0 & 0 & 0 & 0 & 0 & 0 & 0 & 0 & 1 & 0 & 1 & 1 & 0 & 1 & 0 & 1 & 1 & 0 & 0 & 0 & 0 & 0 & 0 & 0 & 0 & 0 & 0 & 0 & 0 & 0 & 0 & 1 & 0 & 1 & 0 & 0 & 0 & 0 & 0 & 1 & 0 & 0 & 0 & 0 & 0 & 0 & 0 & 0 & 0 & -9 & 3 & 78 & 40 & HIGH  & SPEY    & 0 & 0 & 1 & 0 & 0 & 0 & 0 & 0 & 0\\\\\n\t 0 & 0 & 0 & 0 & 0 & 0 & 0 & 0 & 0 & 0 & 1 & 0 & 0 & 0 & 1 & 1 & 0 & 0 & 0 & 1 & 0 & 1 & 0 & 0 & 0 & 0 & 0 & 1 & 0 & 0 & 0 & 0 & 0 & 0 & 1 & 0 & 0 & 0 & 1 & 1 & 0 & 1 & 1 & 1 & 1 & 0 & 0 & 0 & 0 & 0 & 0 & 0 & 0 & 0 & 0 & 0 & 1 & 0 & 1 & 0 & 0 & 0 & 0 & 0 & 0 & 0 & 0 & 0 & -9 & 3 & 75 & 40 & HIGH  & SPEY    & 0 & 0 & 1 & 0 & 0 & 0 & 0 & 0 & 0\\\\\n\t 0 & 1 & 0 & 0 & 0 & 0 & 0 & 0 & 0 & 0 & 0 & 0 & 0 & 0 & 0 & 0 & 0 & 0 & 0 & 0 & 1 & 1 & 0 & 0 & 0 & 0 & 0 & 0 & 0 & 0 & 0 & 1 & 1 & 0 & 1 & 0 & 0 & 0 & 0 & 0 & 0 & 0 & 0 & 0 & 0 & 0 & 0 & 0 & 0 & 0 & 0 & 0 & 1 & 1 & 0 & 0 & 1 & 0 & 0 & 0 & 0 & 0 & 0 & 0 & 0 & 0 & 0 & 0 &  8 & 4 & 85 & 40 & LOW   & BORDERS & 0 & 0 & 0 & 0 & 0 & 0 & 1 & 0 & 0\\\\\n\t 0 & 0 & 0 & 0 & 1 & 0 & 0 & 0 & 0 & 0 & 0 & 0 & 0 & 0 & 0 & 0 & 0 & 0 & 1 & 0 & 0 & 0 & 0 & 0 & 1 & 0 & 0 & 1 & 0 & 0 & 0 & 1 & 0 & 0 & 0 & 1 & 0 & 0 & 1 & 0 & 0 & 0 & 0 & 0 & 1 & 1 & 0 & 0 & 1 & 0 & 0 & 0 & 0 & 0 & 1 & 0 & 0 & 0 & 0 & 0 & 1 & 0 & 0 & 0 & 0 & 0 & 0 & 0 &  8 & 3 & 75 & 40 & HIGH  & MIDLAND & 0 & 1 & 0 & 0 & 0 & 0 & 0 & 0 & 0\\\\\n\t 0 & 0 & 0 & 0 & 0 & 0 & 1 & 0 & 0 & 0 & 0 & 0 & 0 & 0 & 0 & 1 & 0 & 0 & 0 & 1 & 0 & 1 & 1 & 0 & 0 & 0 & 0 & 1 & 0 & 0 & 0 & 1 & 0 & 0 & 0 & 0 & 0 & 0 & 0 & 0 & 0 & 0 & 0 & 0 & 1 & 0 & 0 & 0 & 0 & 0 & 0 & 0 & 0 & 0 & 0 & 0 & 0 & 0 & 0 & 0 & 0 & 0 & 1 & 0 & 0 & 0 & 0 & 1 & 10 & 4 & 81 & 40 & ISLAY & LOCH    & 1 & 0 & 0 & 0 & 0 & 0 & 0 & 0 & 0\\\\\n\t 0 & 0 & 0 & 0 & 0 & 0 & 1 & 0 & 0 & 0 & 0 & 0 & 0 & 0 & 0 & 1 & 1 & 0 & 0 & 0 & 0 & 0 & 0 & 0 & 0 & 0 & 0 & 1 & 1 & 0 & 0 & 0 & 0 & 0 & 0 & 0 & 0 & 0 & 0 & 1 & 0 & 1 & 0 & 0 & 1 & 0 & 0 & 0 & 1 & 0 & 1 & 0 & 0 & 0 & 0 & 0 & 0 & 1 & 0 & 0 & 0 & 0 & 0 & 0 & 0 & 0 & 0 & 0 & -9 & 3 & 77 & 40 & HIGH  & SPEY    & 0 & 0 & 1 & 0 & 0 & 0 & 0 & 0 & 0\\\\\n\t 0 & 0 & 0 & 1 & 0 & 0 & 0 & 0 & 0 & 0 & 0 & 0 & 0 & 0 & 0 & 0 & 0 & 1 & 0 & 0 & 0 & 0 & 0 & 0 & 0 & 0 & 0 & 0 & 0 & 0 & 1 & 1 & 1 & 0 & 0 & 1 & 0 & 0 & 0 & 0 & 1 & 0 & 0 & 1 & 1 & 0 & 0 & 0 & 0 & 1 & 0 & 0 & 0 & 0 & 0 & 0 & 0 & 0 & 0 & 0 & 0 & 0 & 0 & 0 & 0 & 0 & 0 & 0 & 10 & 3 & 76 & 40 & ISLAY & LOCH    & 1 & 0 & 0 & 0 & 0 & 0 & 0 & 0 & 0\\\\\n\t 0 & 0 & 0 & 0 & 0 & 1 & 0 & 0 & 0 & 0 & 0 & 0 & 0 & 0 & 0 & 0 & 0 & 0 & 1 & 0 & 0 & 0 & 1 & 0 & 0 & 0 & 0 & 1 & 0 & 0 & 0 & 1 & 1 & 0 & 0 & 0 & 0 & 0 & 0 & 0 & 1 & 1 & 0 & 0 & 1 & 0 & 0 & 0 & 0 & 1 & 0 & 0 & 0 & 0 & 0 & 0 & 0 & 0 & 0 & 0 & 0 & 0 & 0 & 0 & 0 & 0 & 0 & 0 & 12 & 3 & 77 & 40 & ISLAY & NORTH   & 1 & 0 & 0 & 0 & 0 & 0 & 0 & 0 & 0\\\\\n\t 1 & 0 & 0 & 0 & 0 & 0 & 0 & 0 & 0 & 0 & 0 & 0 & 0 & 0 & 0 & 1 & 0 & 0 & 0 & 0 & 1 & 0 & 1 & 0 & 0 & 0 & 0 & 0 & 0 & 0 & 0 & 1 & 1 & 1 & 0 & 0 & 0 & 0 & 0 & 0 & 0 & 0 & 0 & 1 & 0 & 1 & 0 & 0 & 0 & 0 & 0 & 1 & 0 & 0 & 0 & 0 & 0 & 0 & 0 & 0 & 1 & 0 & 0 & 0 & 0 & 0 & 0 & 0 & 12 & 4 & 77 & 40 & ISLAY & NORTH   & 1 & 0 & 0 & 0 & 0 & 0 & 0 & 0 & 0\\\\\n\t 0 & 0 & 0 & 0 & 0 & 0 & 0 & 1 & 0 & 0 & 0 & 0 & 0 & 0 & 1 & 1 & 0 & 0 & 0 & 0 & 0 & 0 & 0 & 0 & 0 & 0 & 0 & 1 & 0 & 0 & 0 & 1 & 0 & 0 & 0 & 0 & 0 & 0 & 0 & 0 & 0 & 1 & 0 & 0 & 1 & 0 & 0 & 0 & 0 & 0 & 0 & 1 & 0 & 0 & 0 & 0 & 0 & 0 & 1 & 0 & 0 & 0 & 0 & 0 & 1 & 0 & 0 & 0 & -9 & 3 & 73 & 40 & HIGH  & SPEY    & 0 & 0 & 1 & 0 & 0 & 0 & 0 & 0 & 0\\\\\n\t 0 & 0 & 0 & 1 & 0 & 0 & 0 & 0 & 0 & 0 & 0 & 0 & 0 & 0 & 1 & 1 & 0 & 1 & 0 & 0 & 0 & 0 & 0 & 0 & 0 & 0 & 0 & 0 & 0 & 0 & 1 & 1 & 0 & 0 & 0 & 0 & 0 & 0 & 1 & 0 & 0 & 0 & 0 & 0 & 1 & 0 & 0 & 0 & 0 & 0 & 1 & 0 & 0 & 0 & 0 & 0 & 0 & 0 & 1 & 1 & 0 & 1 & 0 & 0 & 1 & 0 & 0 & 0 & 12 & 3 & 72 & 40 & HIGH  & SPEY    & 0 & 0 & 1 & 0 & 0 & 0 & 0 & 0 & 0\\\\\n\t 0 & 0 & 0 & 0 & 0 & 0 & 0 & 0 & 0 & 0 & 1 & 0 & 0 & 0 & 0 & 0 & 0 & 0 & 0 & 0 & 0 & 0 & 1 & 0 & 0 & 0 & 0 & 0 & 1 & 0 & 0 & 0 & 0 & 1 & 1 & 0 & 0 & 0 & 0 & 0 & 0 & 0 & 1 & 0 & 1 & 1 & 0 & 1 & 0 & 0 & 0 & 0 & 0 & 0 & 0 & 0 & 0 & 0 & 0 & 0 & 1 & 0 & 0 & 0 & 1 & 0 & 0 & 0 & 12 & 4 & 81 & 40 & HIGH  & NORTH   & 0 & 0 & 0 & 0 & 0 & 1 & 0 & 0 & 0\\\\\n\t 0 & 0 & 0 & 0 & 1 & 0 & 0 & 0 & 0 & 0 & 0 & 0 & 0 & 0 & 0 & 0 & 0 & 0 & 0 & 1 & 1 & 1 & 0 & 0 & 0 & 0 & 0 & 0 & 0 & 0 & 0 & 1 & 0 & 1 & 0 & 1 & 0 & 0 & 0 & 0 & 0 & 1 & 0 & 1 & 1 & 0 & 0 & 0 & 1 & 0 & 0 & 0 & 0 & 0 & 0 & 0 & 0 & 0 & 0 & 0 & 0 & 0 & 0 & 0 & 0 & 0 & 0 & 1 & -9 & 2 & 67 & 40 & HIGH  & SPEY    & 0 & 0 & 1 & 0 & 0 & 0 & 0 & 0 & 0\\\\\n\t 0 & 0 & 0 & 0 & 0 & 0 & 0 & 1 & 0 & 0 & 0 & 0 & 0 & 0 & 0 & 0 & 1 & 0 & 0 & 0 & 0 & 0 & 0 & 0 & 0 & 0 & 0 & 1 & 1 & 0 & 0 & 0 & 0 & 0 & 0 & 1 & 0 & 0 & 0 & 1 & 0 & 0 & 0 & 0 & 1 & 0 & 1 & 0 & 0 & 0 & 1 & 0 & 0 & 0 & 0 & 0 & 0 & 0 & 1 & 0 & 1 & 0 & 0 & 0 & 0 & 0 & 0 & 0 & -9 & 2 & 68 & 40 & HIGH  & SPEY    & 0 & 0 & 1 & 0 & 0 & 0 & 0 & 0 & 0\\\\\n\t 0 & 0 & 0 & 0 & 0 & 1 & 0 & 0 & 0 & 0 & 0 & 0 & 0 & 0 & 1 & 0 & 1 & 0 & 0 & 0 & 0 & 1 & 0 & 0 & 0 & 1 & 0 & 1 & 0 & 0 & 1 & 1 & 1 & 0 & 0 & 0 & 0 & 0 & 0 & 0 & 1 & 0 & 1 & 0 & 0 & 0 & 0 & 0 & 0 & 0 & 0 & 0 & 0 & 0 & 0 & 0 & 0 & 0 & 0 & 0 & 0 & 0 & 0 & 0 & 0 & 1 & 0 & 0 & 12 & 4 & 90 & 40 & HIGH  & SPEY    & 0 & 0 & 1 & 0 & 0 & 0 & 0 & 0 & 0\\\\\n\t 0 & 0 & 0 & 0 & 0 & 0 & 0 & 1 & 0 & 0 & 0 & 0 & 0 & 0 & 1 & 1 & 1 & 0 & 0 & 1 & 1 & 0 & 0 & 0 & 0 & 0 & 0 & 1 & 0 & 0 & 0 & 0 & 0 & 0 & 0 & 0 & 0 & 0 & 0 & 0 & 0 & 1 & 0 & 0 & 1 & 0 & 0 & 0 & 0 & 0 & 0 & 0 & 1 & 0 & 0 & 0 & 0 & 0 & 0 & 0 & 0 & 0 & 0 & 0 & 0 & 0 & 0 & 0 & -9 & 3 & 72 & 40 & HIGH  & SPEY    & 0 & 0 & 1 & 0 & 0 & 0 & 0 & 0 & 0\\\\\n\t 0 & 0 & 0 & 0 & 0 & 1 & 0 & 0 & 0 & 0 & 0 & 0 & 0 & 0 & 1 & 0 & 1 & 0 & 0 & 1 & 0 & 0 & 0 & 1 & 0 & 0 & 0 & 1 & 1 & 0 & 0 & 0 & 0 & 0 & 0 & 0 & 0 & 0 & 0 & 0 & 0 & 1 & 0 & 0 & 1 & 0 & 1 & 0 & 0 & 0 & 0 & 0 & 0 & 0 & 0 & 0 & 0 & 1 & 0 & 0 & 0 & 0 & 0 & 0 & 0 & 0 & 0 & 0 & -9 & 3 & 74 & 40 & HIGH  & SPEY    & 0 & 0 & 1 & 0 & 0 & 0 & 0 & 0 & 0\\\\\n\t 0 & 0 & 0 & 0 & 0 & 0 & 0 & 0 & 0 & 0 & 0 & 1 & 0 & 0 & 0 & 1 & 1 & 0 & 0 & 0 & 0 & 1 & 0 & 0 & 0 & 1 & 0 & 0 & 1 & 0 & 0 & 0 & 0 & 0 & 0 & 0 & 0 & 0 & 0 & 0 & 0 & 0 & 0 & 1 & 1 & 0 & 0 & 0 & 0 & 0 & 1 & 0 & 0 & 0 & 1 & 0 & 0 & 1 & 0 & 0 & 0 & 0 & 0 & 0 & 0 & 1 & 0 & 0 & -9 & 4 & 85 & 40 & HIGH  & SPEY    & 0 & 0 & 1 & 0 & 0 & 0 & 0 & 0 & 0\\\\\n\t ⋮ & ⋮ & ⋮ & ⋮ & ⋮ & ⋮ & ⋮ & ⋮ & ⋮ & ⋮ & ⋮ & ⋮ & ⋮ & ⋮ & ⋮ & ⋮ & ⋮ & ⋮ & ⋮ & ⋮ & ⋮ & ⋮ & ⋮ & ⋮ & ⋮ & ⋮ & ⋮ & ⋮ & ⋮ & ⋮ & ⋮ & ⋮ & ⋮ & ⋮ & ⋮ & ⋮ & ⋮ & ⋮ & ⋮ & ⋮ & ⋮ & ⋮ & ⋮ & ⋮ & ⋮ & ⋮ & ⋮ & ⋮ & ⋮ & ⋮ & ⋮ & ⋮ & ⋮ & ⋮ & ⋮ & ⋮ & ⋮ & ⋮ & ⋮ & ⋮ & ⋮ & ⋮ & ⋮ & ⋮ & ⋮ & ⋮ & ⋮ & ⋮ & ⋮ & ⋮ & ⋮ & ⋮ & ⋮ & ⋮ & ⋮ & ⋮ & ⋮ & ⋮ & ⋮ & ⋮ & ⋮ & ⋮ & ⋮\\\\\n\t  0 &  0 &  0 &  0 &  0 &  0 &  0 &  1 &  0 &  0 &  0 &  0 &  0 &  0 &  0 &  1 &  0 &  0 &  0 &  0 &  0 &  0 &  0 &  0 &  0 &  0 &  0 &  1 &  1 &  0 &  1 &  0 &  0 &  0 &  0 &  0 &  0 &  0 &  1 &  0 &  0 &  1 &  0 &  1 &  1 &  0 &  0 &  0 &  0 &  0 &  1 &  0 &  0 &  0 &  0 &  0 &  0 &  0 &  1 &  1 &  0 &  0 &  0 &  0 &  0 &  0 &  0 &  0 & 12 &  4 & 80 & 43   & HIGH  & EAST    &  0 &  0 &  0 &  1 &  0 &  0 &  0 &  0 &  0\\\\\n\t  0 &  0 &  0 &  0 &  0 &  0 &  0 &  0 &  0 &  0 &  1 &  0 &  0 &  0 &  0 &  0 &  0 &  0 &  0 &  0 &  1 &  0 &  0 &  1 &  0 &  1 &  1 &  1 &  0 &  0 &  1 &  0 &  0 &  0 &  0 &  1 &  1 &  0 &  0 &  0 &  0 &  0 &  0 &  0 &  0 &  0 &  0 &  0 &  0 &  0 &  0 &  0 &  1 &  0 &  0 &  0 &  0 &  0 &  0 &  0 &  0 &  0 &  0 &  0 &  0 &  1 &  0 &  0 & -9 &  3 & 71 & 40   & HIGH  & EAST    &  0 &  0 &  0 &  1 &  0 &  0 &  0 &  0 &  0\\\\\n\t  0 &  0 &  0 &  0 &  0 &  0 &  0 &  1 &  0 &  0 &  0 &  0 &  0 &  0 &  0 &  0 &  0 &  0 &  0 &  0 &  0 &  1 &  0 &  0 &  0 &  1 &  0 &  0 &  0 &  0 &  1 &  0 &  1 &  0 &  0 &  0 &  0 &  0 &  0 &  0 &  1 &  1 &  1 &  0 &  1 &  0 &  0 &  0 &  0 &  0 &  0 &  0 &  0 &  0 &  1 &  1 &  0 &  0 &  0 &  0 &  0 &  0 &  0 &  0 &  0 &  0 &  0 &  0 & 12 &  4 & 85 & 40   & HIGH  & SPEY    &  0 &  0 &  1 &  0 &  0 &  0 &  0 &  0 &  0\\\\\n\t  0 &  0 &  0 &  0 &  0 &  0 &  0 &  0 &  0 &  0 &  1 &  0 &  0 &  0 &  0 &  0 &  1 &  0 &  0 &  0 &  1 &  0 &  0 &  1 &  0 &  1 &  0 &  0 &  1 &  0 &  0 &  0 &  0 &  0 &  0 &  0 &  1 &  0 &  0 &  0 &  0 &  0 &  0 &  0 &  1 &  0 &  0 &  0 &  0 &  0 &  1 &  0 &  0 &  0 &  0 &  0 &  0 &  0 &  1 &  1 &  1 &  0 &  0 &  0 &  0 &  0 &  0 &  0 & 10 &  5 & 87 & 40   & HIGH  & SPEY    &  0 &  0 &  1 &  0 &  0 &  0 &  0 &  0 &  0\\\\\n\t  0 &  0 &  0 &  0 &  0 &  0 &  0 &  0 &  0 &  0 &  0 &  0 &  1 &  0 &  1 &  0 &  0 &  0 &  0 &  0 &  0 &  0 &  0 &  1 &  0 &  1 &  0 &  0 &  1 &  0 &  1 &  0 &  0 &  0 &  0 &  0 &  1 &  0 &  0 &  0 &  0 &  0 &  0 &  1 &  1 &  0 &  0 &  0 &  0 &  0 &  0 &  1 &  0 &  0 &  0 &  0 &  0 &  0 &  1 &  0 &  0 &  0 &  0 &  0 &  0 &  1 &  0 &  0 & -9 &  3 & 76 & 40   & HIGH  & SPEY    &  0 &  0 &  1 &  0 &  0 &  0 &  0 &  0 &  0\\\\\n\t  0 &  0 &  0 &  0 &  1 &  0 &  0 &  0 &  0 &  0 &  0 &  0 &  0 &  0 &  1 &  1 &  0 &  0 &  0 &  1 &  0 &  1 &  0 &  0 &  0 &  0 &  0 &  1 &  0 &  0 &  1 &  0 &  1 &  0 &  0 &  0 &  0 &  0 &  0 &  0 &  1 &  0 &  0 &  0 &  1 &  0 &  0 &  0 &  1 &  0 &  1 &  0 &  0 &  0 &  0 &  0 &  0 &  0 &  0 &  1 &  0 &  0 &  0 &  1 &  0 &  0 &  0 &  0 & 12 &  3 & 76 & 43   & HIGH  & SPEY    &  0 &  0 &  1 &  0 &  0 &  0 &  0 &  0 &  0\\\\\n\t  0 &  0 &  0 &  0 &  0 &  0 &  0 &  0 &  0 &  1 &  0 &  0 &  0 &  0 &  0 &  1 &  1 &  0 &  0 &  0 &  0 &  0 &  0 &  0 &  0 &  1 &  0 &  1 &  1 &  0 &  0 &  0 &  0 &  0 &  1 &  0 &  0 &  0 &  0 &  0 &  0 &  1 &  0 &  1 &  1 &  0 &  0 &  0 &  0 &  0 &  1 &  0 &  0 &  0 &  0 &  0 &  0 &  0 &  0 &  0 &  0 &  0 &  0 &  0 &  0 &  1 &  0 &  0 & 12 &  4 & 81 & 40   & HIGH  & SPEY    &  0 &  0 &  1 &  0 &  0 &  0 &  0 &  0 &  0\\\\\n\t  0 &  0 &  0 &  0 &  0 &  0 &  0 &  1 &  0 &  0 &  0 &  0 &  0 &  0 &  0 &  1 &  0 &  0 &  0 &  1 &  0 &  0 &  0 &  1 &  0 &  0 &  0 &  1 &  0 &  0 &  0 &  1 &  0 &  0 &  1 &  1 &  0 &  0 &  0 &  0 &  0 &  0 &  0 &  1 &  1 &  0 &  0 &  0 &  0 &  0 &  1 &  0 &  0 &  0 &  0 &  0 &  0 &  0 &  0 &  0 &  0 &  0 &  0 &  0 &  0 &  0 &  0 &  0 & -9 &  2 & 64 & 40   & HIGH  & EAST    &  0 &  0 &  0 &  1 &  0 &  0 &  0 &  0 &  0\\\\\n\t  0 &  0 &  0 &  0 &  0 &  0 &  0 &  0 &  0 &  0 &  1 &  0 &  0 &  0 &  0 &  1 &  1 &  0 &  1 &  0 &  0 &  0 &  1 &  0 &  0 &  0 &  0 &  1 &  1 &  0 &  1 &  0 &  1 &  0 &  0 &  1 &  0 &  0 &  0 &  1 &  0 &  1 &  0 &  1 &  1 &  0 &  0 &  0 &  0 &  0 &  0 &  1 &  0 &  0 &  0 &  0 &  0 &  0 &  0 &  1 &  1 &  0 &  0 &  0 &  0 &  0 &  0 &  0 & 12 &  4 & 76 & 43   & HIGH  & WEST    &  0 &  0 &  0 &  1 &  0 &  0 &  0 &  0 &  0\\\\\n\t  0 &  0 &  0 &  0 &  0 &  0 &  0 &  0 &  0 &  0 &  1 &  0 &  0 &  0 &  1 &  1 &  1 &  0 &  0 &  0 &  0 &  1 &  1 &  0 &  1 &  0 &  0 &  1 &  0 &  0 &  1 &  0 &  0 &  0 &  0 &  1 &  0 &  0 &  0 &  0 &  0 &  0 &  0 &  0 &  1 &  1 &  0 &  0 &  1 &  0 &  0 &  0 &  1 &  0 &  0 &  0 &  0 &  0 &  0 &  0 &  1 &  1 &  0 &  0 &  0 &  1 &  0 &  0 & -9 &  4 & 79 & 40   & ISLAY & SOUTH   &  0 &  0 &  0 &  0 &  1 &  0 &  0 &  0 &  0\\\\\n\t  0 &  0 &  0 &  0 &  0 &  0 &  0 &  0 &  0 &  0 &  1 &  0 &  0 &  0 &  0 &  0 &  0 &  0 &  1 &  1 &  0 &  0 &  1 &  0 &  0 &  0 &  0 &  0 &  0 &  0 &  0 &  1 &  1 &  0 &  0 &  0 &  0 &  0 &  0 &  1 &  0 &  0 &  0 &  0 &  1 &  1 &  0 &  1 &  0 &  0 &  0 &  1 &  0 &  0 &  0 &  0 &  0 &  0 &  0 &  0 &  0 &  0 &  1 &  0 &  0 &  1 &  0 &  0 &  8 &  3 & 77 & 40   & HIGH  & NORTH   &  0 &  0 &  0 &  0 &  0 &  1 &  0 &  0 &  0\\\\\n\t  0 &  0 &  0 &  0 &  0 &  0 &  0 &  0 &  0 &  0 &  1 &  0 &  0 &  0 &  1 &  0 &  0 &  0 &  0 &  1 &  0 &  1 &  0 &  1 &  0 &  0 &  0 &  0 &  0 &  0 &  1 &  1 &  0 &  0 &  0 &  1 &  0 &  0 &  0 &  0 &  0 &  1 &  1 &  0 &  0 &  0 &  0 &  0 &  0 &  0 &  1 &  0 &  0 &  0 &  0 &  0 &  0 &  0 &  0 &  0 &  0 &  0 &  0 &  0 &  0 &  0 &  0 &  0 &  8 &  4 & 76 & 40   & LOW   & CENTRAL &  0 &  0 &  0 &  0 &  0 &  0 &  1 &  0 &  0\\\\\n\t  0 &  0 &  0 &  0 &  0 &  0 &  0 &  0 &  0 &  0 &  0 &  0 &  1 &  0 &  0 &  1 &  0 &  0 &  0 &  1 &  0 &  0 &  0 &  1 &  0 &  0 &  0 &  1 &  0 &  0 &  1 &  1 &  0 &  0 &  0 &  0 &  0 &  0 &  0 &  0 &  0 &  0 &  1 &  1 &  1 &  0 &  0 &  0 &  0 &  0 &  1 &  0 &  0 &  0 &  0 &  0 &  0 &  1 &  0 &  0 &  0 &  0 &  0 &  0 &  0 &  0 &  0 &  0 & 18 &  2 & 67 & 40   & LOW   & CENTRAL &  0 &  0 &  0 &  0 &  0 &  0 &  1 &  0 &  0\\\\\n\t  0 &  0 &  0 &  0 &  0 &  0 &  0 &  0 &  0 &  0 &  1 &  0 &  0 &  0 &  0 &  0 &  0 &  0 &  1 &  0 &  1 &  1 &  1 &  0 &  0 &  0 &  0 &  1 &  0 &  0 &  0 &  0 &  0 &  0 &  0 &  0 &  0 &  0 &  0 &  0 &  0 &  0 &  0 &  0 &  0 &  0 &  0 &  1 &  0 &  0 &  1 &  0 &  0 &  0 &  0 &  0 &  0 &  0 &  0 &  0 &  0 &  1 &  0 &  0 &  0 &  0 &  0 &  0 &  8 &  3 & 76 & 40   & HIGH  & ORKNEY  &  0 &  0 &  0 &  0 &  0 &  0 &  0 &  0 &  1\\\\\n\t  0 &  0 &  0 &  0 &  0 &  0 &  0 &  0 &  0 &  0 &  0 &  1 &  0 &  0 &  0 &  0 &  0 &  0 &  0 &  0 &  0 &  0 &  0 &  1 &  0 &  0 &  0 &  1 &  0 &  0 &  1 &  0 &  0 &  0 &  0 &  0 &  1 &  0 &  0 &  0 &  0 &  1 &  0 &  0 &  0 &  1 &  0 &  0 &  0 &  0 &  0 &  0 &  0 &  0 &  0 &  0 &  0 &  0 &  1 &  0 &  0 &  0 &  0 &  0 &  0 &  0 &  0 &  0 & -9 &  4 & 79 & 40   & HIGH  & SPEY    &  0 &  0 &  1 &  0 &  0 &  0 &  0 &  0 &  0\\\\\n\t  0 &  0 &  0 &  0 &  0 &  0 &  0 &  0 &  1 &  0 &  0 &  0 &  0 &  0 &  0 &  0 &  0 &  0 &  0 &  1 &  1 &  0 &  0 &  1 &  0 &  0 &  0 &  0 &  0 &  0 &  1 &  0 &  0 &  0 &  0 &  1 &  0 &  0 &  0 &  0 &  0 &  1 &  0 &  0 &  1 &  0 &  0 &  0 &  0 &  0 &  0 &  0 &  0 &  0 &  1 &  0 &  0 &  0 &  0 &  1 &  0 &  0 &  0 &  0 &  0 &  0 &  0 &  1 & -9 &  3 & 71 & 40   & HIGH  & SPEY    &  0 &  0 &  1 &  0 &  0 &  0 &  0 &  0 &  0\\\\\n\t  0 &  0 &  0 &  0 &  0 &  1 &  0 &  0 &  0 &  0 &  0 &  0 &  0 &  0 &  0 &  0 &  1 &  0 &  1 &  0 &  0 &  0 &  1 &  0 &  0 &  1 &  0 &  1 &  0 &  1 &  1 &  1 &  0 &  0 &  0 &  0 &  0 &  0 &  1 &  0 &  0 &  0 &  0 &  0 &  1 &  0 &  0 &  1 &  0 &  0 &  0 &  1 &  0 &  0 &  0 &  0 &  0 &  0 &  1 &  1 &  0 &  0 &  1 &  0 &  0 &  0 &  1 &  0 & 15 &  5 & 88 & 46   & LOW   & CAMPBEL &  0 &  0 &  0 &  0 &  0 &  0 &  0 &  1 &  0\\\\\n\t  0 &  0 &  0 &  0 &  0 &  1 &  0 &  0 &  0 &  0 &  0 &  0 &  0 &  0 &  0 &  1 &  0 &  0 &  0 &  0 &  0 &  1 &  1 &  0 &  0 &  0 &  0 &  1 &  0 &  0 &  0 &  0 &  0 &  1 &  0 &  1 &  0 &  0 &  0 &  0 &  0 &  0 &  0 &  1 &  0 &  0 &  0 &  0 &  0 &  0 &  0 &  0 &  1 &  0 &  0 &  0 &  0 &  0 &  0 &  0 &  0 &  0 &  1 &  0 &  1 &  0 &  0 &  0 & 14 &  5 & 90 & 46   & LOW   & CAMPBEL &  0 &  0 &  0 &  0 &  0 &  0 &  0 &  1 &  0\\\\\n\t  0 &  0 &  0 &  0 &  0 &  0 &  0 &  0 &  0 &  0 &  1 &  0 &  0 &  0 &  0 &  0 &  0 &  0 &  0 &  1 &  0 &  0 &  0 &  1 &  0 &  1 &  0 &  1 &  0 &  0 &  0 &  0 &  1 &  0 &  0 &  1 &  1 &  0 &  0 &  0 &  0 &  0 &  1 &  0 &  1 &  0 &  0 &  0 &  0 &  0 &  1 &  0 &  1 &  0 &  0 &  0 &  0 &  0 &  0 &  0 &  0 &  0 &  0 &  0 &  1 &  0 &  0 &  0 &  8 &  3 & 79 & 40   & HIGH  & SPEY    &  0 &  0 &  1 &  0 &  0 &  0 &  0 &  0 &  0\\\\\n\t  0 &  0 &  0 &  0 &  0 &  0 &  0 &  0 &  0 &  0 &  0 &  0 &  1 &  0 &  0 &  1 &  1 &  0 &  0 &  0 &  0 &  0 &  1 &  0 &  0 &  1 &  0 &  0 &  1 &  0 &  0 &  0 &  0 &  1 &  0 &  0 &  0 &  1 &  0 &  0 &  0 &  0 &  0 &  1 &  1 &  1 &  0 &  0 &  0 &  0 &  0 &  0 &  1 &  0 &  0 &  0 &  0 &  0 &  0 &  0 &  1 &  0 &  0 &  0 &  0 &  1 &  0 &  0 & 10 &  4 & 90 & 45,8 & HIGH  & SKYE    &  0 &  0 &  0 &  0 &  0 &  0 &  0 &  0 &  1\\\\\n\t  0 &  0 &  0 &  0 &  0 &  0 &  0 &  0 &  0 &  1 &  0 &  0 &  0 &  0 &  0 &  1 &  1 &  1 &  0 &  0 &  0 &  0 &  0 &  1 &  0 &  0 &  0 &  1 &  0 &  1 &  0 &  1 &  0 &  0 &  0 &  0 &  0 &  0 &  0 &  0 &  0 &  0 &  0 &  0 &  1 &  0 &  0 &  0 &  1 &  1 &  0 &  0 &  0 &  0 &  0 &  0 &  0 &  0 &  0 &  0 &  0 &  0 &  0 &  0 &  0 &  0 &  0 &  0 & 10 &  3 & 75 & 40   & HIGH  & SPEY    &  0 &  0 &  1 &  0 &  0 &  0 &  0 &  0 &  0\\\\\n\t  1 &  0 &  0 &  0 &  0 &  0 &  0 &  0 &  0 &  0 &  0 &  0 &  0 &  0 &  0 &  1 &  0 &  0 &  0 &  0 &  0 &  1 &  0 &  0 &  0 &  0 &  0 &  0 &  0 &  0 &  1 &  1 &  0 &  0 &  0 &  0 &  0 &  0 &  0 &  0 &  0 &  1 &  1 &  0 &  0 &  0 &  0 &  0 &  0 &  0 &  0 &  0 &  0 &  0 &  0 &  0 &  0 &  0 &  0 &  0 &  0 &  0 &  0 &  1 &  0 &  0 &  0 &  0 & 10 &  3 & 76 & 43   & HIGH  & SPEY    &  0 &  0 &  1 &  0 &  0 &  0 &  0 &  0 &  0\\\\\n\t  0 &  0 &  0 &  0 &  0 &  0 &  0 &  0 &  0 &  1 &  0 &  0 &  0 &  0 &  1 &  1 &  0 &  0 &  0 &  1 &  0 &  0 &  0 &  0 &  0 &  0 &  1 &  1 &  0 &  0 &  0 &  0 &  0 &  0 &  1 &  1 &  0 &  0 &  0 &  0 &  0 &  0 &  0 &  1 &  1 &  1 &  0 &  0 &  0 &  0 &  1 &  0 &  0 &  0 &  0 &  0 &  0 &  0 &  1 &  0 &  0 &  0 &  0 &  0 &  0 &  0 &  0 &  0 & -9 &  3 & 71 & 40   & HIGH  & NORTH   &  0 &  0 &  0 &  0 &  0 &  1 &  0 &  0 &  0\\\\\n\t  0 &  0 &  0 &  0 &  0 &  0 &  0 &  1 &  0 &  0 &  0 &  0 &  0 &  0 &  0 &  1 &  1 &  1 &  0 &  0 &  0 &  0 &  0 &  0 &  0 &  0 &  1 &  1 &  0 &  0 &  0 &  0 &  0 &  0 &  0 &  1 &  0 &  0 &  0 &  0 &  0 &  1 &  0 &  1 &  0 &  0 &  0 &  0 &  0 &  0 &  0 &  0 &  0 &  1 &  0 &  0 &  0 &  0 &  0 &  1 &  0 &  0 &  0 &  1 &  0 &  0 &  0 &  0 & -9 &  2 & 67 & 40   & HIGH  & MULL    &  0 &  0 &  0 &  0 &  0 &  0 &  0 &  0 &  1\\\\\n\t  0 &  0 &  0 &  0 &  0 &  0 &  0 &  1 &  0 &  0 &  0 &  0 &  0 &  0 &  1 &  1 &  1 &  0 &  1 &  1 &  0 &  0 &  0 &  0 &  0 &  0 &  1 &  1 &  0 &  0 &  1 &  0 &  0 &  0 &  0 &  1 &  0 &  0 &  0 &  0 &  0 &  0 &  0 &  0 &  1 &  1 &  0 &  0 &  0 &  0 &  0 &  0 &  0 &  0 &  0 &  0 &  0 &  0 &  0 &  0 &  0 &  1 &  0 &  0 &  0 &  0 &  0 &  0 & 10 &  3 & 75 & 40   & HIGH  & SPEY    &  0 &  0 &  1 &  0 &  0 &  0 &  0 &  0 &  0\\\\\n\t  0 &  0 &  0 &  0 &  0 &  0 &  0 &  1 &  0 &  0 &  0 &  0 &  0 &  0 &  1 &  0 &  0 &  0 &  0 &  0 &  0 &  1 &  0 &  0 &  0 &  0 &  1 &  0 &  0 &  0 &  1 &  1 &  0 &  0 &  0 &  0 &  0 &  0 &  0 &  0 &  0 &  0 &  1 &  0 &  1 &  0 &  0 &  0 &  0 &  0 &  0 &  0 &  0 &  0 &  0 &  0 &  0 &  0 &  0 &  0 &  0 &  0 &  0 &  0 &  0 &  1 &  0 &  0 & 12 &  3 & 76 & 40   & HIGH  & SPEY    &  0 &  0 &  1 &  0 &  0 &  0 &  0 &  0 &  0\\\\\n\t  0 &  0 &  0 &  0 &  0 &  0 &  0 &  1 &  0 &  0 &  0 &  0 &  0 &  0 &  0 &  1 &  0 &  0 &  0 &  1 &  1 &  0 &  0 &  0 &  0 &  0 &  0 &  1 &  1 &  0 &  1 &  0 &  0 &  0 &  1 &  0 &  0 &  0 &  0 &  1 &  0 &  0 &  0 &  0 &  0 &  0 &  0 &  0 &  0 &  1 &  0 &  0 &  0 &  0 &  1 &  0 &  0 &  0 &  0 &  0 &  0 &  0 &  0 &  0 &  0 &  0 &  1 &  0 & 10 &  3 & 76 & 43   & HIGH  & SPEY    &  0 &  0 &  1 &  0 &  0 &  0 &  0 &  0 &  0\\\\\n\t  0 &  0 &  0 &  0 &  0 &  1 &  0 &  0 &  0 &  0 &  0 &  0 &  0 &  0 &  0 &  0 &  1 &  0 &  0 &  0 &  0 &  0 &  0 &  0 &  0 &  0 &  0 &  1 &  0 &  0 &  1 &  0 &  1 &  0 &  1 &  0 &  0 &  0 &  0 &  0 &  1 &  1 &  1 &  0 &  1 &  0 &  0 &  0 &  0 &  0 &  0 &  0 &  1 &  0 &  0 &  0 &  0 &  0 &  0 &  1 &  0 &  0 &  0 &  1 &  0 &  0 &  0 &  0 & 10 &  3 & 76 & 40   & HIGH  & MIDLAND &  0 &  1 &  0 &  0 &  0 &  0 &  0 &  0 &  0\\\\\n\t NA & NA & NA & NA & NA & NA & NA & NA & NA & NA & NA & NA & NA & NA & NA & NA & NA & NA & NA & NA & NA & NA & NA & NA & NA & NA & NA & NA & NA & NA & NA & NA & NA & NA & NA & NA & NA & NA & NA & NA & NA & NA & NA & NA & NA & NA & NA & NA & NA & NA & NA & NA & NA & NA & NA & NA & NA & NA & NA & NA & NA & NA & NA & NA & NA & NA & NA & NA & NA & NA & NA &      &       &         & NA & NA & NA & NA & NA & NA & NA & NA & NA\\\\\n\t  8 &  2 &  2 &  4 & 10 & 21 &  2 & 27 &  5 &  4 & 15 &  4 &  4 &  1 & 41 & 53 & 45 & 14 & 19 & 38 & 32 & 28 & 21 & 29 &  5 & 17 & 21 & 67 & 25 & 13 & 44 & 54 & 28 & 18 & 17 & 43 & 10 &  7 & 14 & 13 & 15 & 39 & 20 & 32 & 82 & 23 &  7 & 12 & 11 &  7 & 41 & 19 & 15 &  9 & 12 &  8 & 12 &  9 & 21 & 18 & 14 &  6 &  8 &  7 & 11 & 24 &  4 &  6 & NA & NA & NA &      &       &         &  7 &  6 & 57 & 10 &  5 &  7 &  9 &  3 &  5\\\\\n\\end{tabular}\n",
            "text/markdown": "\nA data.frame: 111 × 83\n\n| wyne &lt;int&gt; | yellow &lt;int&gt; | v.pale &lt;int&gt; | pale &lt;int&gt; | p.gold &lt;int&gt; | gold &lt;int&gt; | o.gold &lt;int&gt; | f.gold &lt;int&gt; | bronze &lt;int&gt; | p.amber &lt;int&gt; | ⋯ ⋯ | DISTRICT &lt;fct&gt; | islay &lt;int&gt; | midland &lt;int&gt; | spey &lt;int&gt; | east &lt;int&gt; | west &lt;int&gt; | north &lt;int&gt; | lowland &lt;int&gt; | campbell &lt;int&gt; | islands &lt;int&gt; |\n|---|---|---|---|---|---|---|---|---|---|---|---|---|---|---|---|---|---|---|---|---|\n| 0 | 1 | 0 | 0 | 0 | 0 | 0 | 0 | 0 | 0 | ⋯ | MIDLAND | 0 | 1 | 0 | 0 | 0 | 0 | 0 | 0 | 0 |\n| 0 | 0 | 0 | 0 | 0 | 0 | 0 | 0 | 0 | 0 | ⋯ | SPEY    | 0 | 0 | 1 | 0 | 0 | 0 | 0 | 0 | 0 |\n| 0 | 0 | 0 | 0 | 0 | 0 | 0 | 0 | 0 | 0 | ⋯ | SOUTH   | 1 | 0 | 0 | 0 | 0 | 0 | 0 | 0 | 0 |\n| 0 | 0 | 0 | 0 | 1 | 0 | 0 | 0 | 0 | 0 | ⋯ | SPEY    | 0 | 0 | 1 | 0 | 0 | 0 | 0 | 0 | 0 |\n| 0 | 0 | 0 | 0 | 1 | 0 | 0 | 0 | 0 | 0 | ⋯ | WEST    | 0 | 0 | 0 | 0 | 0 | 0 | 1 | 0 | 0 |\n| 0 | 0 | 1 | 0 | 0 | 0 | 0 | 0 | 0 | 0 | ⋯ | SPEY    | 0 | 0 | 1 | 0 | 0 | 0 | 0 | 0 | 0 |\n| 1 | 0 | 0 | 0 | 0 | 0 | 0 | 0 | 0 | 0 | ⋯ | NORTH   | 0 | 0 | 0 | 0 | 0 | 1 | 0 | 0 | 0 |\n| 0 | 0 | 0 | 0 | 1 | 0 | 0 | 0 | 0 | 0 | ⋯ | SPEY    | 0 | 0 | 1 | 0 | 0 | 0 | 0 | 0 | 0 |\n| 0 | 0 | 0 | 0 | 0 | 0 | 0 | 0 | 0 | 0 | ⋯ | SPEY    | 0 | 0 | 1 | 0 | 0 | 0 | 0 | 0 | 0 |\n| 0 | 0 | 0 | 0 | 0 | 0 | 0 | 1 | 0 | 0 | ⋯ | SPEY    | 0 | 0 | 1 | 0 | 0 | 0 | 0 | 0 | 0 |\n| 0 | 0 | 0 | 0 | 0 | 0 | 0 | 0 | 0 | 0 | ⋯ | WEST    | 0 | 0 | 0 | 0 | 1 | 0 | 0 | 0 | 0 |\n| 0 | 0 | 0 | 0 | 0 | 1 | 0 | 0 | 0 | 0 | ⋯ | SPEY    | 0 | 0 | 1 | 0 | 0 | 0 | 0 | 0 | 0 |\n| 0 | 0 | 0 | 0 | 0 | 0 | 0 | 0 | 0 | 0 | ⋯ | SPEY    | 0 | 0 | 1 | 0 | 0 | 0 | 0 | 0 | 0 |\n| 0 | 0 | 0 | 0 | 0 | 0 | 0 | 0 | 0 | 0 | ⋯ | SPEY    | 0 | 0 | 1 | 0 | 0 | 0 | 0 | 0 | 0 |\n| 0 | 1 | 0 | 0 | 0 | 0 | 0 | 0 | 0 | 0 | ⋯ | BORDERS | 0 | 0 | 0 | 0 | 0 | 0 | 1 | 0 | 0 |\n| 0 | 0 | 0 | 0 | 1 | 0 | 0 | 0 | 0 | 0 | ⋯ | MIDLAND | 0 | 1 | 0 | 0 | 0 | 0 | 0 | 0 | 0 |\n| 0 | 0 | 0 | 0 | 0 | 0 | 1 | 0 | 0 | 0 | ⋯ | LOCH    | 1 | 0 | 0 | 0 | 0 | 0 | 0 | 0 | 0 |\n| 0 | 0 | 0 | 0 | 0 | 0 | 1 | 0 | 0 | 0 | ⋯ | SPEY    | 0 | 0 | 1 | 0 | 0 | 0 | 0 | 0 | 0 |\n| 0 | 0 | 0 | 1 | 0 | 0 | 0 | 0 | 0 | 0 | ⋯ | LOCH    | 1 | 0 | 0 | 0 | 0 | 0 | 0 | 0 | 0 |\n| 0 | 0 | 0 | 0 | 0 | 1 | 0 | 0 | 0 | 0 | ⋯ | NORTH   | 1 | 0 | 0 | 0 | 0 | 0 | 0 | 0 | 0 |\n| 1 | 0 | 0 | 0 | 0 | 0 | 0 | 0 | 0 | 0 | ⋯ | NORTH   | 1 | 0 | 0 | 0 | 0 | 0 | 0 | 0 | 0 |\n| 0 | 0 | 0 | 0 | 0 | 0 | 0 | 1 | 0 | 0 | ⋯ | SPEY    | 0 | 0 | 1 | 0 | 0 | 0 | 0 | 0 | 0 |\n| 0 | 0 | 0 | 1 | 0 | 0 | 0 | 0 | 0 | 0 | ⋯ | SPEY    | 0 | 0 | 1 | 0 | 0 | 0 | 0 | 0 | 0 |\n| 0 | 0 | 0 | 0 | 0 | 0 | 0 | 0 | 0 | 0 | ⋯ | NORTH   | 0 | 0 | 0 | 0 | 0 | 1 | 0 | 0 | 0 |\n| 0 | 0 | 0 | 0 | 1 | 0 | 0 | 0 | 0 | 0 | ⋯ | SPEY    | 0 | 0 | 1 | 0 | 0 | 0 | 0 | 0 | 0 |\n| 0 | 0 | 0 | 0 | 0 | 0 | 0 | 1 | 0 | 0 | ⋯ | SPEY    | 0 | 0 | 1 | 0 | 0 | 0 | 0 | 0 | 0 |\n| 0 | 0 | 0 | 0 | 0 | 1 | 0 | 0 | 0 | 0 | ⋯ | SPEY    | 0 | 0 | 1 | 0 | 0 | 0 | 0 | 0 | 0 |\n| 0 | 0 | 0 | 0 | 0 | 0 | 0 | 1 | 0 | 0 | ⋯ | SPEY    | 0 | 0 | 1 | 0 | 0 | 0 | 0 | 0 | 0 |\n| 0 | 0 | 0 | 0 | 0 | 1 | 0 | 0 | 0 | 0 | ⋯ | SPEY    | 0 | 0 | 1 | 0 | 0 | 0 | 0 | 0 | 0 |\n| 0 | 0 | 0 | 0 | 0 | 0 | 0 | 0 | 0 | 0 | ⋯ | SPEY    | 0 | 0 | 1 | 0 | 0 | 0 | 0 | 0 | 0 |\n| ⋮ | ⋮ | ⋮ | ⋮ | ⋮ | ⋮ | ⋮ | ⋮ | ⋮ | ⋮ | ⋱ | ⋮ | ⋮ | ⋮ | ⋮ | ⋮ | ⋮ | ⋮ | ⋮ | ⋮ | ⋮ |\n|  0 |  0 |  0 |  0 |  0 |  0 |  0 |  1 |  0 |  0 | ⋯ | EAST    |  0 |  0 |  0 |  1 |  0 |  0 |  0 |  0 |  0 |\n|  0 |  0 |  0 |  0 |  0 |  0 |  0 |  0 |  0 |  0 | ⋯ | EAST    |  0 |  0 |  0 |  1 |  0 |  0 |  0 |  0 |  0 |\n|  0 |  0 |  0 |  0 |  0 |  0 |  0 |  1 |  0 |  0 | ⋯ | SPEY    |  0 |  0 |  1 |  0 |  0 |  0 |  0 |  0 |  0 |\n|  0 |  0 |  0 |  0 |  0 |  0 |  0 |  0 |  0 |  0 | ⋯ | SPEY    |  0 |  0 |  1 |  0 |  0 |  0 |  0 |  0 |  0 |\n|  0 |  0 |  0 |  0 |  0 |  0 |  0 |  0 |  0 |  0 | ⋯ | SPEY    |  0 |  0 |  1 |  0 |  0 |  0 |  0 |  0 |  0 |\n|  0 |  0 |  0 |  0 |  1 |  0 |  0 |  0 |  0 |  0 | ⋯ | SPEY    |  0 |  0 |  1 |  0 |  0 |  0 |  0 |  0 |  0 |\n|  0 |  0 |  0 |  0 |  0 |  0 |  0 |  0 |  0 |  1 | ⋯ | SPEY    |  0 |  0 |  1 |  0 |  0 |  0 |  0 |  0 |  0 |\n|  0 |  0 |  0 |  0 |  0 |  0 |  0 |  1 |  0 |  0 | ⋯ | EAST    |  0 |  0 |  0 |  1 |  0 |  0 |  0 |  0 |  0 |\n|  0 |  0 |  0 |  0 |  0 |  0 |  0 |  0 |  0 |  0 | ⋯ | WEST    |  0 |  0 |  0 |  1 |  0 |  0 |  0 |  0 |  0 |\n|  0 |  0 |  0 |  0 |  0 |  0 |  0 |  0 |  0 |  0 | ⋯ | SOUTH   |  0 |  0 |  0 |  0 |  1 |  0 |  0 |  0 |  0 |\n|  0 |  0 |  0 |  0 |  0 |  0 |  0 |  0 |  0 |  0 | ⋯ | NORTH   |  0 |  0 |  0 |  0 |  0 |  1 |  0 |  0 |  0 |\n|  0 |  0 |  0 |  0 |  0 |  0 |  0 |  0 |  0 |  0 | ⋯ | CENTRAL |  0 |  0 |  0 |  0 |  0 |  0 |  1 |  0 |  0 |\n|  0 |  0 |  0 |  0 |  0 |  0 |  0 |  0 |  0 |  0 | ⋯ | CENTRAL |  0 |  0 |  0 |  0 |  0 |  0 |  1 |  0 |  0 |\n|  0 |  0 |  0 |  0 |  0 |  0 |  0 |  0 |  0 |  0 | ⋯ | ORKNEY  |  0 |  0 |  0 |  0 |  0 |  0 |  0 |  0 |  1 |\n|  0 |  0 |  0 |  0 |  0 |  0 |  0 |  0 |  0 |  0 | ⋯ | SPEY    |  0 |  0 |  1 |  0 |  0 |  0 |  0 |  0 |  0 |\n|  0 |  0 |  0 |  0 |  0 |  0 |  0 |  0 |  1 |  0 | ⋯ | SPEY    |  0 |  0 |  1 |  0 |  0 |  0 |  0 |  0 |  0 |\n|  0 |  0 |  0 |  0 |  0 |  1 |  0 |  0 |  0 |  0 | ⋯ | CAMPBEL |  0 |  0 |  0 |  0 |  0 |  0 |  0 |  1 |  0 |\n|  0 |  0 |  0 |  0 |  0 |  1 |  0 |  0 |  0 |  0 | ⋯ | CAMPBEL |  0 |  0 |  0 |  0 |  0 |  0 |  0 |  1 |  0 |\n|  0 |  0 |  0 |  0 |  0 |  0 |  0 |  0 |  0 |  0 | ⋯ | SPEY    |  0 |  0 |  1 |  0 |  0 |  0 |  0 |  0 |  0 |\n|  0 |  0 |  0 |  0 |  0 |  0 |  0 |  0 |  0 |  0 | ⋯ | SKYE    |  0 |  0 |  0 |  0 |  0 |  0 |  0 |  0 |  1 |\n|  0 |  0 |  0 |  0 |  0 |  0 |  0 |  0 |  0 |  1 | ⋯ | SPEY    |  0 |  0 |  1 |  0 |  0 |  0 |  0 |  0 |  0 |\n|  1 |  0 |  0 |  0 |  0 |  0 |  0 |  0 |  0 |  0 | ⋯ | SPEY    |  0 |  0 |  1 |  0 |  0 |  0 |  0 |  0 |  0 |\n|  0 |  0 |  0 |  0 |  0 |  0 |  0 |  0 |  0 |  1 | ⋯ | NORTH   |  0 |  0 |  0 |  0 |  0 |  1 |  0 |  0 |  0 |\n|  0 |  0 |  0 |  0 |  0 |  0 |  0 |  1 |  0 |  0 | ⋯ | MULL    |  0 |  0 |  0 |  0 |  0 |  0 |  0 |  0 |  1 |\n|  0 |  0 |  0 |  0 |  0 |  0 |  0 |  1 |  0 |  0 | ⋯ | SPEY    |  0 |  0 |  1 |  0 |  0 |  0 |  0 |  0 |  0 |\n|  0 |  0 |  0 |  0 |  0 |  0 |  0 |  1 |  0 |  0 | ⋯ | SPEY    |  0 |  0 |  1 |  0 |  0 |  0 |  0 |  0 |  0 |\n|  0 |  0 |  0 |  0 |  0 |  0 |  0 |  1 |  0 |  0 | ⋯ | SPEY    |  0 |  0 |  1 |  0 |  0 |  0 |  0 |  0 |  0 |\n|  0 |  0 |  0 |  0 |  0 |  1 |  0 |  0 |  0 |  0 | ⋯ | MIDLAND |  0 |  1 |  0 |  0 |  0 |  0 |  0 |  0 |  0 |\n| NA | NA | NA | NA | NA | NA | NA | NA | NA | NA | ⋯ | <!----> | NA | NA | NA | NA | NA | NA | NA | NA | NA |\n|  8 |  2 |  2 |  4 | 10 | 21 |  2 | 27 |  5 |  4 | ⋯ | <!----> |  7 |  6 | 57 | 10 |  5 |  7 |  9 |  3 |  5 |\n\n",
            "text/html": [
              "<table>\n",
              "<caption>A data.frame: 111 × 83</caption>\n",
              "<thead>\n",
              "\t<tr><th scope=col>wyne</th><th scope=col>yellow</th><th scope=col>v.pale</th><th scope=col>pale</th><th scope=col>p.gold</th><th scope=col>gold</th><th scope=col>o.gold</th><th scope=col>f.gold</th><th scope=col>bronze</th><th scope=col>p.amber</th><th scope=col>⋯</th><th scope=col>DISTRICT</th><th scope=col>islay</th><th scope=col>midland</th><th scope=col>spey</th><th scope=col>east</th><th scope=col>west</th><th scope=col>north</th><th scope=col>lowland</th><th scope=col>campbell</th><th scope=col>islands</th></tr>\n",
              "\t<tr><th scope=col>&lt;int&gt;</th><th scope=col>&lt;int&gt;</th><th scope=col>&lt;int&gt;</th><th scope=col>&lt;int&gt;</th><th scope=col>&lt;int&gt;</th><th scope=col>&lt;int&gt;</th><th scope=col>&lt;int&gt;</th><th scope=col>&lt;int&gt;</th><th scope=col>&lt;int&gt;</th><th scope=col>&lt;int&gt;</th><th scope=col>⋯</th><th scope=col>&lt;fct&gt;</th><th scope=col>&lt;int&gt;</th><th scope=col>&lt;int&gt;</th><th scope=col>&lt;int&gt;</th><th scope=col>&lt;int&gt;</th><th scope=col>&lt;int&gt;</th><th scope=col>&lt;int&gt;</th><th scope=col>&lt;int&gt;</th><th scope=col>&lt;int&gt;</th><th scope=col>&lt;int&gt;</th></tr>\n",
              "</thead>\n",
              "<tbody>\n",
              "\t<tr><td>0</td><td>1</td><td>0</td><td>0</td><td>0</td><td>0</td><td>0</td><td>0</td><td>0</td><td>0</td><td>⋯</td><td>MIDLAND</td><td>0</td><td>1</td><td>0</td><td>0</td><td>0</td><td>0</td><td>0</td><td>0</td><td>0</td></tr>\n",
              "\t<tr><td>0</td><td>0</td><td>0</td><td>0</td><td>0</td><td>0</td><td>0</td><td>0</td><td>0</td><td>0</td><td>⋯</td><td>SPEY   </td><td>0</td><td>0</td><td>1</td><td>0</td><td>0</td><td>0</td><td>0</td><td>0</td><td>0</td></tr>\n",
              "\t<tr><td>0</td><td>0</td><td>0</td><td>0</td><td>0</td><td>0</td><td>0</td><td>0</td><td>0</td><td>0</td><td>⋯</td><td>SOUTH  </td><td>1</td><td>0</td><td>0</td><td>0</td><td>0</td><td>0</td><td>0</td><td>0</td><td>0</td></tr>\n",
              "\t<tr><td>0</td><td>0</td><td>0</td><td>0</td><td>1</td><td>0</td><td>0</td><td>0</td><td>0</td><td>0</td><td>⋯</td><td>SPEY   </td><td>0</td><td>0</td><td>1</td><td>0</td><td>0</td><td>0</td><td>0</td><td>0</td><td>0</td></tr>\n",
              "\t<tr><td>0</td><td>0</td><td>0</td><td>0</td><td>1</td><td>0</td><td>0</td><td>0</td><td>0</td><td>0</td><td>⋯</td><td>WEST   </td><td>0</td><td>0</td><td>0</td><td>0</td><td>0</td><td>0</td><td>1</td><td>0</td><td>0</td></tr>\n",
              "\t<tr><td>0</td><td>0</td><td>1</td><td>0</td><td>0</td><td>0</td><td>0</td><td>0</td><td>0</td><td>0</td><td>⋯</td><td>SPEY   </td><td>0</td><td>0</td><td>1</td><td>0</td><td>0</td><td>0</td><td>0</td><td>0</td><td>0</td></tr>\n",
              "\t<tr><td>1</td><td>0</td><td>0</td><td>0</td><td>0</td><td>0</td><td>0</td><td>0</td><td>0</td><td>0</td><td>⋯</td><td>NORTH  </td><td>0</td><td>0</td><td>0</td><td>0</td><td>0</td><td>1</td><td>0</td><td>0</td><td>0</td></tr>\n",
              "\t<tr><td>0</td><td>0</td><td>0</td><td>0</td><td>1</td><td>0</td><td>0</td><td>0</td><td>0</td><td>0</td><td>⋯</td><td>SPEY   </td><td>0</td><td>0</td><td>1</td><td>0</td><td>0</td><td>0</td><td>0</td><td>0</td><td>0</td></tr>\n",
              "\t<tr><td>0</td><td>0</td><td>0</td><td>0</td><td>0</td><td>0</td><td>0</td><td>0</td><td>0</td><td>0</td><td>⋯</td><td>SPEY   </td><td>0</td><td>0</td><td>1</td><td>0</td><td>0</td><td>0</td><td>0</td><td>0</td><td>0</td></tr>\n",
              "\t<tr><td>0</td><td>0</td><td>0</td><td>0</td><td>0</td><td>0</td><td>0</td><td>1</td><td>0</td><td>0</td><td>⋯</td><td>SPEY   </td><td>0</td><td>0</td><td>1</td><td>0</td><td>0</td><td>0</td><td>0</td><td>0</td><td>0</td></tr>\n",
              "\t<tr><td>0</td><td>0</td><td>0</td><td>0</td><td>0</td><td>0</td><td>0</td><td>0</td><td>0</td><td>0</td><td>⋯</td><td>WEST   </td><td>0</td><td>0</td><td>0</td><td>0</td><td>1</td><td>0</td><td>0</td><td>0</td><td>0</td></tr>\n",
              "\t<tr><td>0</td><td>0</td><td>0</td><td>0</td><td>0</td><td>1</td><td>0</td><td>0</td><td>0</td><td>0</td><td>⋯</td><td>SPEY   </td><td>0</td><td>0</td><td>1</td><td>0</td><td>0</td><td>0</td><td>0</td><td>0</td><td>0</td></tr>\n",
              "\t<tr><td>0</td><td>0</td><td>0</td><td>0</td><td>0</td><td>0</td><td>0</td><td>0</td><td>0</td><td>0</td><td>⋯</td><td>SPEY   </td><td>0</td><td>0</td><td>1</td><td>0</td><td>0</td><td>0</td><td>0</td><td>0</td><td>0</td></tr>\n",
              "\t<tr><td>0</td><td>0</td><td>0</td><td>0</td><td>0</td><td>0</td><td>0</td><td>0</td><td>0</td><td>0</td><td>⋯</td><td>SPEY   </td><td>0</td><td>0</td><td>1</td><td>0</td><td>0</td><td>0</td><td>0</td><td>0</td><td>0</td></tr>\n",
              "\t<tr><td>0</td><td>1</td><td>0</td><td>0</td><td>0</td><td>0</td><td>0</td><td>0</td><td>0</td><td>0</td><td>⋯</td><td>BORDERS</td><td>0</td><td>0</td><td>0</td><td>0</td><td>0</td><td>0</td><td>1</td><td>0</td><td>0</td></tr>\n",
              "\t<tr><td>0</td><td>0</td><td>0</td><td>0</td><td>1</td><td>0</td><td>0</td><td>0</td><td>0</td><td>0</td><td>⋯</td><td>MIDLAND</td><td>0</td><td>1</td><td>0</td><td>0</td><td>0</td><td>0</td><td>0</td><td>0</td><td>0</td></tr>\n",
              "\t<tr><td>0</td><td>0</td><td>0</td><td>0</td><td>0</td><td>0</td><td>1</td><td>0</td><td>0</td><td>0</td><td>⋯</td><td>LOCH   </td><td>1</td><td>0</td><td>0</td><td>0</td><td>0</td><td>0</td><td>0</td><td>0</td><td>0</td></tr>\n",
              "\t<tr><td>0</td><td>0</td><td>0</td><td>0</td><td>0</td><td>0</td><td>1</td><td>0</td><td>0</td><td>0</td><td>⋯</td><td>SPEY   </td><td>0</td><td>0</td><td>1</td><td>0</td><td>0</td><td>0</td><td>0</td><td>0</td><td>0</td></tr>\n",
              "\t<tr><td>0</td><td>0</td><td>0</td><td>1</td><td>0</td><td>0</td><td>0</td><td>0</td><td>0</td><td>0</td><td>⋯</td><td>LOCH   </td><td>1</td><td>0</td><td>0</td><td>0</td><td>0</td><td>0</td><td>0</td><td>0</td><td>0</td></tr>\n",
              "\t<tr><td>0</td><td>0</td><td>0</td><td>0</td><td>0</td><td>1</td><td>0</td><td>0</td><td>0</td><td>0</td><td>⋯</td><td>NORTH  </td><td>1</td><td>0</td><td>0</td><td>0</td><td>0</td><td>0</td><td>0</td><td>0</td><td>0</td></tr>\n",
              "\t<tr><td>1</td><td>0</td><td>0</td><td>0</td><td>0</td><td>0</td><td>0</td><td>0</td><td>0</td><td>0</td><td>⋯</td><td>NORTH  </td><td>1</td><td>0</td><td>0</td><td>0</td><td>0</td><td>0</td><td>0</td><td>0</td><td>0</td></tr>\n",
              "\t<tr><td>0</td><td>0</td><td>0</td><td>0</td><td>0</td><td>0</td><td>0</td><td>1</td><td>0</td><td>0</td><td>⋯</td><td>SPEY   </td><td>0</td><td>0</td><td>1</td><td>0</td><td>0</td><td>0</td><td>0</td><td>0</td><td>0</td></tr>\n",
              "\t<tr><td>0</td><td>0</td><td>0</td><td>1</td><td>0</td><td>0</td><td>0</td><td>0</td><td>0</td><td>0</td><td>⋯</td><td>SPEY   </td><td>0</td><td>0</td><td>1</td><td>0</td><td>0</td><td>0</td><td>0</td><td>0</td><td>0</td></tr>\n",
              "\t<tr><td>0</td><td>0</td><td>0</td><td>0</td><td>0</td><td>0</td><td>0</td><td>0</td><td>0</td><td>0</td><td>⋯</td><td>NORTH  </td><td>0</td><td>0</td><td>0</td><td>0</td><td>0</td><td>1</td><td>0</td><td>0</td><td>0</td></tr>\n",
              "\t<tr><td>0</td><td>0</td><td>0</td><td>0</td><td>1</td><td>0</td><td>0</td><td>0</td><td>0</td><td>0</td><td>⋯</td><td>SPEY   </td><td>0</td><td>0</td><td>1</td><td>0</td><td>0</td><td>0</td><td>0</td><td>0</td><td>0</td></tr>\n",
              "\t<tr><td>0</td><td>0</td><td>0</td><td>0</td><td>0</td><td>0</td><td>0</td><td>1</td><td>0</td><td>0</td><td>⋯</td><td>SPEY   </td><td>0</td><td>0</td><td>1</td><td>0</td><td>0</td><td>0</td><td>0</td><td>0</td><td>0</td></tr>\n",
              "\t<tr><td>0</td><td>0</td><td>0</td><td>0</td><td>0</td><td>1</td><td>0</td><td>0</td><td>0</td><td>0</td><td>⋯</td><td>SPEY   </td><td>0</td><td>0</td><td>1</td><td>0</td><td>0</td><td>0</td><td>0</td><td>0</td><td>0</td></tr>\n",
              "\t<tr><td>0</td><td>0</td><td>0</td><td>0</td><td>0</td><td>0</td><td>0</td><td>1</td><td>0</td><td>0</td><td>⋯</td><td>SPEY   </td><td>0</td><td>0</td><td>1</td><td>0</td><td>0</td><td>0</td><td>0</td><td>0</td><td>0</td></tr>\n",
              "\t<tr><td>0</td><td>0</td><td>0</td><td>0</td><td>0</td><td>1</td><td>0</td><td>0</td><td>0</td><td>0</td><td>⋯</td><td>SPEY   </td><td>0</td><td>0</td><td>1</td><td>0</td><td>0</td><td>0</td><td>0</td><td>0</td><td>0</td></tr>\n",
              "\t<tr><td>0</td><td>0</td><td>0</td><td>0</td><td>0</td><td>0</td><td>0</td><td>0</td><td>0</td><td>0</td><td>⋯</td><td>SPEY   </td><td>0</td><td>0</td><td>1</td><td>0</td><td>0</td><td>0</td><td>0</td><td>0</td><td>0</td></tr>\n",
              "\t<tr><td>⋮</td><td>⋮</td><td>⋮</td><td>⋮</td><td>⋮</td><td>⋮</td><td>⋮</td><td>⋮</td><td>⋮</td><td>⋮</td><td>⋱</td><td>⋮</td><td>⋮</td><td>⋮</td><td>⋮</td><td>⋮</td><td>⋮</td><td>⋮</td><td>⋮</td><td>⋮</td><td>⋮</td></tr>\n",
              "\t<tr><td> 0</td><td> 0</td><td> 0</td><td> 0</td><td> 0</td><td> 0</td><td> 0</td><td> 1</td><td> 0</td><td> 0</td><td>⋯</td><td>EAST   </td><td> 0</td><td> 0</td><td> 0</td><td> 1</td><td> 0</td><td> 0</td><td> 0</td><td> 0</td><td> 0</td></tr>\n",
              "\t<tr><td> 0</td><td> 0</td><td> 0</td><td> 0</td><td> 0</td><td> 0</td><td> 0</td><td> 0</td><td> 0</td><td> 0</td><td>⋯</td><td>EAST   </td><td> 0</td><td> 0</td><td> 0</td><td> 1</td><td> 0</td><td> 0</td><td> 0</td><td> 0</td><td> 0</td></tr>\n",
              "\t<tr><td> 0</td><td> 0</td><td> 0</td><td> 0</td><td> 0</td><td> 0</td><td> 0</td><td> 1</td><td> 0</td><td> 0</td><td>⋯</td><td>SPEY   </td><td> 0</td><td> 0</td><td> 1</td><td> 0</td><td> 0</td><td> 0</td><td> 0</td><td> 0</td><td> 0</td></tr>\n",
              "\t<tr><td> 0</td><td> 0</td><td> 0</td><td> 0</td><td> 0</td><td> 0</td><td> 0</td><td> 0</td><td> 0</td><td> 0</td><td>⋯</td><td>SPEY   </td><td> 0</td><td> 0</td><td> 1</td><td> 0</td><td> 0</td><td> 0</td><td> 0</td><td> 0</td><td> 0</td></tr>\n",
              "\t<tr><td> 0</td><td> 0</td><td> 0</td><td> 0</td><td> 0</td><td> 0</td><td> 0</td><td> 0</td><td> 0</td><td> 0</td><td>⋯</td><td>SPEY   </td><td> 0</td><td> 0</td><td> 1</td><td> 0</td><td> 0</td><td> 0</td><td> 0</td><td> 0</td><td> 0</td></tr>\n",
              "\t<tr><td> 0</td><td> 0</td><td> 0</td><td> 0</td><td> 1</td><td> 0</td><td> 0</td><td> 0</td><td> 0</td><td> 0</td><td>⋯</td><td>SPEY   </td><td> 0</td><td> 0</td><td> 1</td><td> 0</td><td> 0</td><td> 0</td><td> 0</td><td> 0</td><td> 0</td></tr>\n",
              "\t<tr><td> 0</td><td> 0</td><td> 0</td><td> 0</td><td> 0</td><td> 0</td><td> 0</td><td> 0</td><td> 0</td><td> 1</td><td>⋯</td><td>SPEY   </td><td> 0</td><td> 0</td><td> 1</td><td> 0</td><td> 0</td><td> 0</td><td> 0</td><td> 0</td><td> 0</td></tr>\n",
              "\t<tr><td> 0</td><td> 0</td><td> 0</td><td> 0</td><td> 0</td><td> 0</td><td> 0</td><td> 1</td><td> 0</td><td> 0</td><td>⋯</td><td>EAST   </td><td> 0</td><td> 0</td><td> 0</td><td> 1</td><td> 0</td><td> 0</td><td> 0</td><td> 0</td><td> 0</td></tr>\n",
              "\t<tr><td> 0</td><td> 0</td><td> 0</td><td> 0</td><td> 0</td><td> 0</td><td> 0</td><td> 0</td><td> 0</td><td> 0</td><td>⋯</td><td>WEST   </td><td> 0</td><td> 0</td><td> 0</td><td> 1</td><td> 0</td><td> 0</td><td> 0</td><td> 0</td><td> 0</td></tr>\n",
              "\t<tr><td> 0</td><td> 0</td><td> 0</td><td> 0</td><td> 0</td><td> 0</td><td> 0</td><td> 0</td><td> 0</td><td> 0</td><td>⋯</td><td>SOUTH  </td><td> 0</td><td> 0</td><td> 0</td><td> 0</td><td> 1</td><td> 0</td><td> 0</td><td> 0</td><td> 0</td></tr>\n",
              "\t<tr><td> 0</td><td> 0</td><td> 0</td><td> 0</td><td> 0</td><td> 0</td><td> 0</td><td> 0</td><td> 0</td><td> 0</td><td>⋯</td><td>NORTH  </td><td> 0</td><td> 0</td><td> 0</td><td> 0</td><td> 0</td><td> 1</td><td> 0</td><td> 0</td><td> 0</td></tr>\n",
              "\t<tr><td> 0</td><td> 0</td><td> 0</td><td> 0</td><td> 0</td><td> 0</td><td> 0</td><td> 0</td><td> 0</td><td> 0</td><td>⋯</td><td>CENTRAL</td><td> 0</td><td> 0</td><td> 0</td><td> 0</td><td> 0</td><td> 0</td><td> 1</td><td> 0</td><td> 0</td></tr>\n",
              "\t<tr><td> 0</td><td> 0</td><td> 0</td><td> 0</td><td> 0</td><td> 0</td><td> 0</td><td> 0</td><td> 0</td><td> 0</td><td>⋯</td><td>CENTRAL</td><td> 0</td><td> 0</td><td> 0</td><td> 0</td><td> 0</td><td> 0</td><td> 1</td><td> 0</td><td> 0</td></tr>\n",
              "\t<tr><td> 0</td><td> 0</td><td> 0</td><td> 0</td><td> 0</td><td> 0</td><td> 0</td><td> 0</td><td> 0</td><td> 0</td><td>⋯</td><td>ORKNEY </td><td> 0</td><td> 0</td><td> 0</td><td> 0</td><td> 0</td><td> 0</td><td> 0</td><td> 0</td><td> 1</td></tr>\n",
              "\t<tr><td> 0</td><td> 0</td><td> 0</td><td> 0</td><td> 0</td><td> 0</td><td> 0</td><td> 0</td><td> 0</td><td> 0</td><td>⋯</td><td>SPEY   </td><td> 0</td><td> 0</td><td> 1</td><td> 0</td><td> 0</td><td> 0</td><td> 0</td><td> 0</td><td> 0</td></tr>\n",
              "\t<tr><td> 0</td><td> 0</td><td> 0</td><td> 0</td><td> 0</td><td> 0</td><td> 0</td><td> 0</td><td> 1</td><td> 0</td><td>⋯</td><td>SPEY   </td><td> 0</td><td> 0</td><td> 1</td><td> 0</td><td> 0</td><td> 0</td><td> 0</td><td> 0</td><td> 0</td></tr>\n",
              "\t<tr><td> 0</td><td> 0</td><td> 0</td><td> 0</td><td> 0</td><td> 1</td><td> 0</td><td> 0</td><td> 0</td><td> 0</td><td>⋯</td><td>CAMPBEL</td><td> 0</td><td> 0</td><td> 0</td><td> 0</td><td> 0</td><td> 0</td><td> 0</td><td> 1</td><td> 0</td></tr>\n",
              "\t<tr><td> 0</td><td> 0</td><td> 0</td><td> 0</td><td> 0</td><td> 1</td><td> 0</td><td> 0</td><td> 0</td><td> 0</td><td>⋯</td><td>CAMPBEL</td><td> 0</td><td> 0</td><td> 0</td><td> 0</td><td> 0</td><td> 0</td><td> 0</td><td> 1</td><td> 0</td></tr>\n",
              "\t<tr><td> 0</td><td> 0</td><td> 0</td><td> 0</td><td> 0</td><td> 0</td><td> 0</td><td> 0</td><td> 0</td><td> 0</td><td>⋯</td><td>SPEY   </td><td> 0</td><td> 0</td><td> 1</td><td> 0</td><td> 0</td><td> 0</td><td> 0</td><td> 0</td><td> 0</td></tr>\n",
              "\t<tr><td> 0</td><td> 0</td><td> 0</td><td> 0</td><td> 0</td><td> 0</td><td> 0</td><td> 0</td><td> 0</td><td> 0</td><td>⋯</td><td>SKYE   </td><td> 0</td><td> 0</td><td> 0</td><td> 0</td><td> 0</td><td> 0</td><td> 0</td><td> 0</td><td> 1</td></tr>\n",
              "\t<tr><td> 0</td><td> 0</td><td> 0</td><td> 0</td><td> 0</td><td> 0</td><td> 0</td><td> 0</td><td> 0</td><td> 1</td><td>⋯</td><td>SPEY   </td><td> 0</td><td> 0</td><td> 1</td><td> 0</td><td> 0</td><td> 0</td><td> 0</td><td> 0</td><td> 0</td></tr>\n",
              "\t<tr><td> 1</td><td> 0</td><td> 0</td><td> 0</td><td> 0</td><td> 0</td><td> 0</td><td> 0</td><td> 0</td><td> 0</td><td>⋯</td><td>SPEY   </td><td> 0</td><td> 0</td><td> 1</td><td> 0</td><td> 0</td><td> 0</td><td> 0</td><td> 0</td><td> 0</td></tr>\n",
              "\t<tr><td> 0</td><td> 0</td><td> 0</td><td> 0</td><td> 0</td><td> 0</td><td> 0</td><td> 0</td><td> 0</td><td> 1</td><td>⋯</td><td>NORTH  </td><td> 0</td><td> 0</td><td> 0</td><td> 0</td><td> 0</td><td> 1</td><td> 0</td><td> 0</td><td> 0</td></tr>\n",
              "\t<tr><td> 0</td><td> 0</td><td> 0</td><td> 0</td><td> 0</td><td> 0</td><td> 0</td><td> 1</td><td> 0</td><td> 0</td><td>⋯</td><td>MULL   </td><td> 0</td><td> 0</td><td> 0</td><td> 0</td><td> 0</td><td> 0</td><td> 0</td><td> 0</td><td> 1</td></tr>\n",
              "\t<tr><td> 0</td><td> 0</td><td> 0</td><td> 0</td><td> 0</td><td> 0</td><td> 0</td><td> 1</td><td> 0</td><td> 0</td><td>⋯</td><td>SPEY   </td><td> 0</td><td> 0</td><td> 1</td><td> 0</td><td> 0</td><td> 0</td><td> 0</td><td> 0</td><td> 0</td></tr>\n",
              "\t<tr><td> 0</td><td> 0</td><td> 0</td><td> 0</td><td> 0</td><td> 0</td><td> 0</td><td> 1</td><td> 0</td><td> 0</td><td>⋯</td><td>SPEY   </td><td> 0</td><td> 0</td><td> 1</td><td> 0</td><td> 0</td><td> 0</td><td> 0</td><td> 0</td><td> 0</td></tr>\n",
              "\t<tr><td> 0</td><td> 0</td><td> 0</td><td> 0</td><td> 0</td><td> 0</td><td> 0</td><td> 1</td><td> 0</td><td> 0</td><td>⋯</td><td>SPEY   </td><td> 0</td><td> 0</td><td> 1</td><td> 0</td><td> 0</td><td> 0</td><td> 0</td><td> 0</td><td> 0</td></tr>\n",
              "\t<tr><td> 0</td><td> 0</td><td> 0</td><td> 0</td><td> 0</td><td> 1</td><td> 0</td><td> 0</td><td> 0</td><td> 0</td><td>⋯</td><td>MIDLAND</td><td> 0</td><td> 1</td><td> 0</td><td> 0</td><td> 0</td><td> 0</td><td> 0</td><td> 0</td><td> 0</td></tr>\n",
              "\t<tr><td>NA</td><td>NA</td><td>NA</td><td>NA</td><td>NA</td><td>NA</td><td>NA</td><td>NA</td><td>NA</td><td>NA</td><td>⋯</td><td>       </td><td>NA</td><td>NA</td><td>NA</td><td>NA</td><td>NA</td><td>NA</td><td>NA</td><td>NA</td><td>NA</td></tr>\n",
              "\t<tr><td> 8</td><td> 2</td><td> 2</td><td> 4</td><td>10</td><td>21</td><td> 2</td><td>27</td><td> 5</td><td> 4</td><td>⋯</td><td>       </td><td> 7</td><td> 6</td><td>57</td><td>10</td><td> 5</td><td> 7</td><td> 9</td><td> 3</td><td> 5</td></tr>\n",
              "</tbody>\n",
              "</table>\n"
            ]
          },
          "metadata": {
            "tags": []
          }
        }
      ]
    },
    {
      "cell_type": "markdown",
      "metadata": {
        "id": "i1qtHGk8aDqa",
        "colab_type": "text"
      },
      "source": [
        "#### Lidando com dados categóricos\n",
        "\n",
        "Como inserir uma informação categórica em um espaço vetorial? Antes de escolher a melhor maneira, é preciso se perguntar algumas características sobre essa variável.\n",
        "\n",
        "##### Ela é **nominal** ou **ordinal**?\n",
        "\n",
        "**Nominais** são aquelas onde não existe nenhum tipo de ordem ou ranking entre as categorias, como gênero, por exemplo. Já as **ordinais**, possuem alguma ordem embutida, como por exemplo, escolaridade.\n",
        "\n",
        "##### Tipos de codificadores\n",
        " - Ordinal: converte cada valor para um inteiro.\n",
        " - OneHot (ou Dummy) - cria-se uma nova coluna/atributo para cada valor.\n",
        " - Hashing — Como o OneHot, mas utilizando hash. Pode-se perder alguma informação por causa de colisões.\n",
        " \n",
        " \n",
        " Então vamos verificar quais das nossas colunas possui variáveis categóricas e transformá-las para números. Em R, as variáveis do tipo *factor* são as variáveis categóricas."
      ]
    },
    {
      "cell_type": "code",
      "metadata": {
        "id": "54IFTAxlLumx",
        "colab_type": "code",
        "colab": {
          "base_uri": "https://localhost:8080/",
          "height": 2928
        },
        "outputId": "8ec6b385-9a62-467c-d830-5be5e0a88fee"
      },
      "source": [
        "sapply(data_cleaned, class)"
      ],
      "execution_count": 39,
      "outputs": [
        {
          "output_type": "display_data",
          "data": {
            "text/plain": [
              "     wyne    yellow    v.pale      pale    p.gold      gold    o.gold    f.gold \n",
              "\"integer\" \"integer\" \"integer\" \"integer\" \"integer\" \"integer\" \"integer\" \"integer\" \n",
              "   bronze   p.amber     amber   f.amber       red    sherry     AROMA      PEAT \n",
              "\"integer\" \"integer\" \"integer\" \"integer\" \"integer\" \"integer\" \"integer\" \"integer\" \n",
              "    SWEET     LIGHT     FRESH       DRY     FRUIT     GRASS       SEA    SHERRY \n",
              "\"integer\" \"integer\" \"integer\" \"integer\" \"integer\" \"integer\" \"integer\" \"integer\" \n",
              "    SPICY      RICH      soft       med      full     round    smooth     light \n",
              "\"integer\" \"integer\" \"integer\" \"integer\" \"integer\" \"integer\" \"integer\" \"integer\" \n",
              "     firm      oily    full.1       dry  sherry.1       big   light.1  smooth.1 \n",
              "\"integer\" \"integer\" \"integer\" \"integer\" \"integer\" \"integer\" \"integer\" \"integer\" \n",
              "    clean     fruit     grass     smoke     sweet     spice       oil      salt \n",
              "\"integer\" \"integer\" \"integer\" \"integer\" \"integer\" \"integer\" \"integer\" \"integer\" \n",
              "    arome    full.2     dry.1      warm     big.1   light.2  smooth.2   clean.1 \n",
              "\"integer\" \"integer\" \"integer\" \"integer\" \"integer\" \"integer\" \"integer\" \"integer\" \n",
              "  fruit.1   grass.1   smoke.1   sweet.1   spice.1     oil.1    salt.1   arome.1 \n",
              "\"integer\" \"integer\" \"integer\" \"integer\" \"integer\" \"integer\" \"integer\" \"integer\" \n",
              "     ling      long      very     quick       AGE      DIST     SCORE        X. \n",
              "\"integer\" \"integer\" \"integer\" \"integer\" \"integer\" \"integer\" \"integer\"  \"factor\" \n",
              "   REGION  DISTRICT     islay   midland      spey      east      west     north \n",
              " \"factor\"  \"factor\" \"integer\" \"integer\" \"integer\" \"integer\" \"integer\" \"integer\" \n",
              "  lowland  campbell   islands \n",
              "\"integer\" \"integer\" \"integer\" "
            ],
            "text/latex": "\\begin{description*}\n\\item[wyne] 'integer'\n\\item[yellow] 'integer'\n\\item[v.pale] 'integer'\n\\item[pale] 'integer'\n\\item[p.gold] 'integer'\n\\item[gold] 'integer'\n\\item[o.gold] 'integer'\n\\item[f.gold] 'integer'\n\\item[bronze] 'integer'\n\\item[p.amber] 'integer'\n\\item[amber] 'integer'\n\\item[f.amber] 'integer'\n\\item[red] 'integer'\n\\item[sherry] 'integer'\n\\item[AROMA] 'integer'\n\\item[PEAT] 'integer'\n\\item[SWEET] 'integer'\n\\item[LIGHT] 'integer'\n\\item[FRESH] 'integer'\n\\item[DRY] 'integer'\n\\item[FRUIT] 'integer'\n\\item[GRASS] 'integer'\n\\item[SEA] 'integer'\n\\item[SHERRY] 'integer'\n\\item[SPICY] 'integer'\n\\item[RICH] 'integer'\n\\item[soft] 'integer'\n\\item[med] 'integer'\n\\item[full] 'integer'\n\\item[round] 'integer'\n\\item[smooth] 'integer'\n\\item[light] 'integer'\n\\item[firm] 'integer'\n\\item[oily] 'integer'\n\\item[full.1] 'integer'\n\\item[dry] 'integer'\n\\item[sherry.1] 'integer'\n\\item[big] 'integer'\n\\item[light.1] 'integer'\n\\item[smooth.1] 'integer'\n\\item[clean] 'integer'\n\\item[fruit] 'integer'\n\\item[grass] 'integer'\n\\item[smoke] 'integer'\n\\item[sweet] 'integer'\n\\item[spice] 'integer'\n\\item[oil] 'integer'\n\\item[salt] 'integer'\n\\item[arome] 'integer'\n\\item[full.2] 'integer'\n\\item[dry.1] 'integer'\n\\item[warm] 'integer'\n\\item[big.1] 'integer'\n\\item[light.2] 'integer'\n\\item[smooth.2] 'integer'\n\\item[clean.1] 'integer'\n\\item[fruit.1] 'integer'\n\\item[grass.1] 'integer'\n\\item[smoke.1] 'integer'\n\\item[sweet.1] 'integer'\n\\item[spice.1] 'integer'\n\\item[oil.1] 'integer'\n\\item[salt.1] 'integer'\n\\item[arome.1] 'integer'\n\\item[ling] 'integer'\n\\item[long] 'integer'\n\\item[very] 'integer'\n\\item[quick] 'integer'\n\\item[AGE] 'integer'\n\\item[DIST] 'integer'\n\\item[SCORE] 'integer'\n\\item[X.] 'factor'\n\\item[REGION] 'factor'\n\\item[DISTRICT] 'factor'\n\\item[islay] 'integer'\n\\item[midland] 'integer'\n\\item[spey] 'integer'\n\\item[east] 'integer'\n\\item[west] 'integer'\n\\item[north] 'integer'\n\\item[lowland] 'integer'\n\\item[campbell] 'integer'\n\\item[islands] 'integer'\n\\end{description*}\n",
            "text/markdown": "wyne\n:   'integer'yellow\n:   'integer'v.pale\n:   'integer'pale\n:   'integer'p.gold\n:   'integer'gold\n:   'integer'o.gold\n:   'integer'f.gold\n:   'integer'bronze\n:   'integer'p.amber\n:   'integer'amber\n:   'integer'f.amber\n:   'integer'red\n:   'integer'sherry\n:   'integer'AROMA\n:   'integer'PEAT\n:   'integer'SWEET\n:   'integer'LIGHT\n:   'integer'FRESH\n:   'integer'DRY\n:   'integer'FRUIT\n:   'integer'GRASS\n:   'integer'SEA\n:   'integer'SHERRY\n:   'integer'SPICY\n:   'integer'RICH\n:   'integer'soft\n:   'integer'med\n:   'integer'full\n:   'integer'round\n:   'integer'smooth\n:   'integer'light\n:   'integer'firm\n:   'integer'oily\n:   'integer'full.1\n:   'integer'dry\n:   'integer'sherry.1\n:   'integer'big\n:   'integer'light.1\n:   'integer'smooth.1\n:   'integer'clean\n:   'integer'fruit\n:   'integer'grass\n:   'integer'smoke\n:   'integer'sweet\n:   'integer'spice\n:   'integer'oil\n:   'integer'salt\n:   'integer'arome\n:   'integer'full.2\n:   'integer'dry.1\n:   'integer'warm\n:   'integer'big.1\n:   'integer'light.2\n:   'integer'smooth.2\n:   'integer'clean.1\n:   'integer'fruit.1\n:   'integer'grass.1\n:   'integer'smoke.1\n:   'integer'sweet.1\n:   'integer'spice.1\n:   'integer'oil.1\n:   'integer'salt.1\n:   'integer'arome.1\n:   'integer'ling\n:   'integer'long\n:   'integer'very\n:   'integer'quick\n:   'integer'AGE\n:   'integer'DIST\n:   'integer'SCORE\n:   'integer'X.\n:   'factor'REGION\n:   'factor'DISTRICT\n:   'factor'islay\n:   'integer'midland\n:   'integer'spey\n:   'integer'east\n:   'integer'west\n:   'integer'north\n:   'integer'lowland\n:   'integer'campbell\n:   'integer'islands\n:   'integer'\n\n",
            "text/html": [
              "<dl class=dl-horizontal>\n",
              "\t<dt>wyne</dt>\n",
              "\t\t<dd>'integer'</dd>\n",
              "\t<dt>yellow</dt>\n",
              "\t\t<dd>'integer'</dd>\n",
              "\t<dt>v.pale</dt>\n",
              "\t\t<dd>'integer'</dd>\n",
              "\t<dt>pale</dt>\n",
              "\t\t<dd>'integer'</dd>\n",
              "\t<dt>p.gold</dt>\n",
              "\t\t<dd>'integer'</dd>\n",
              "\t<dt>gold</dt>\n",
              "\t\t<dd>'integer'</dd>\n",
              "\t<dt>o.gold</dt>\n",
              "\t\t<dd>'integer'</dd>\n",
              "\t<dt>f.gold</dt>\n",
              "\t\t<dd>'integer'</dd>\n",
              "\t<dt>bronze</dt>\n",
              "\t\t<dd>'integer'</dd>\n",
              "\t<dt>p.amber</dt>\n",
              "\t\t<dd>'integer'</dd>\n",
              "\t<dt>amber</dt>\n",
              "\t\t<dd>'integer'</dd>\n",
              "\t<dt>f.amber</dt>\n",
              "\t\t<dd>'integer'</dd>\n",
              "\t<dt>red</dt>\n",
              "\t\t<dd>'integer'</dd>\n",
              "\t<dt>sherry</dt>\n",
              "\t\t<dd>'integer'</dd>\n",
              "\t<dt>AROMA</dt>\n",
              "\t\t<dd>'integer'</dd>\n",
              "\t<dt>PEAT</dt>\n",
              "\t\t<dd>'integer'</dd>\n",
              "\t<dt>SWEET</dt>\n",
              "\t\t<dd>'integer'</dd>\n",
              "\t<dt>LIGHT</dt>\n",
              "\t\t<dd>'integer'</dd>\n",
              "\t<dt>FRESH</dt>\n",
              "\t\t<dd>'integer'</dd>\n",
              "\t<dt>DRY</dt>\n",
              "\t\t<dd>'integer'</dd>\n",
              "\t<dt>FRUIT</dt>\n",
              "\t\t<dd>'integer'</dd>\n",
              "\t<dt>GRASS</dt>\n",
              "\t\t<dd>'integer'</dd>\n",
              "\t<dt>SEA</dt>\n",
              "\t\t<dd>'integer'</dd>\n",
              "\t<dt>SHERRY</dt>\n",
              "\t\t<dd>'integer'</dd>\n",
              "\t<dt>SPICY</dt>\n",
              "\t\t<dd>'integer'</dd>\n",
              "\t<dt>RICH</dt>\n",
              "\t\t<dd>'integer'</dd>\n",
              "\t<dt>soft</dt>\n",
              "\t\t<dd>'integer'</dd>\n",
              "\t<dt>med</dt>\n",
              "\t\t<dd>'integer'</dd>\n",
              "\t<dt>full</dt>\n",
              "\t\t<dd>'integer'</dd>\n",
              "\t<dt>round</dt>\n",
              "\t\t<dd>'integer'</dd>\n",
              "\t<dt>smooth</dt>\n",
              "\t\t<dd>'integer'</dd>\n",
              "\t<dt>light</dt>\n",
              "\t\t<dd>'integer'</dd>\n",
              "\t<dt>firm</dt>\n",
              "\t\t<dd>'integer'</dd>\n",
              "\t<dt>oily</dt>\n",
              "\t\t<dd>'integer'</dd>\n",
              "\t<dt>full.1</dt>\n",
              "\t\t<dd>'integer'</dd>\n",
              "\t<dt>dry</dt>\n",
              "\t\t<dd>'integer'</dd>\n",
              "\t<dt>sherry.1</dt>\n",
              "\t\t<dd>'integer'</dd>\n",
              "\t<dt>big</dt>\n",
              "\t\t<dd>'integer'</dd>\n",
              "\t<dt>light.1</dt>\n",
              "\t\t<dd>'integer'</dd>\n",
              "\t<dt>smooth.1</dt>\n",
              "\t\t<dd>'integer'</dd>\n",
              "\t<dt>clean</dt>\n",
              "\t\t<dd>'integer'</dd>\n",
              "\t<dt>fruit</dt>\n",
              "\t\t<dd>'integer'</dd>\n",
              "\t<dt>grass</dt>\n",
              "\t\t<dd>'integer'</dd>\n",
              "\t<dt>smoke</dt>\n",
              "\t\t<dd>'integer'</dd>\n",
              "\t<dt>sweet</dt>\n",
              "\t\t<dd>'integer'</dd>\n",
              "\t<dt>spice</dt>\n",
              "\t\t<dd>'integer'</dd>\n",
              "\t<dt>oil</dt>\n",
              "\t\t<dd>'integer'</dd>\n",
              "\t<dt>salt</dt>\n",
              "\t\t<dd>'integer'</dd>\n",
              "\t<dt>arome</dt>\n",
              "\t\t<dd>'integer'</dd>\n",
              "\t<dt>full.2</dt>\n",
              "\t\t<dd>'integer'</dd>\n",
              "\t<dt>dry.1</dt>\n",
              "\t\t<dd>'integer'</dd>\n",
              "\t<dt>warm</dt>\n",
              "\t\t<dd>'integer'</dd>\n",
              "\t<dt>big.1</dt>\n",
              "\t\t<dd>'integer'</dd>\n",
              "\t<dt>light.2</dt>\n",
              "\t\t<dd>'integer'</dd>\n",
              "\t<dt>smooth.2</dt>\n",
              "\t\t<dd>'integer'</dd>\n",
              "\t<dt>clean.1</dt>\n",
              "\t\t<dd>'integer'</dd>\n",
              "\t<dt>fruit.1</dt>\n",
              "\t\t<dd>'integer'</dd>\n",
              "\t<dt>grass.1</dt>\n",
              "\t\t<dd>'integer'</dd>\n",
              "\t<dt>smoke.1</dt>\n",
              "\t\t<dd>'integer'</dd>\n",
              "\t<dt>sweet.1</dt>\n",
              "\t\t<dd>'integer'</dd>\n",
              "\t<dt>spice.1</dt>\n",
              "\t\t<dd>'integer'</dd>\n",
              "\t<dt>oil.1</dt>\n",
              "\t\t<dd>'integer'</dd>\n",
              "\t<dt>salt.1</dt>\n",
              "\t\t<dd>'integer'</dd>\n",
              "\t<dt>arome.1</dt>\n",
              "\t\t<dd>'integer'</dd>\n",
              "\t<dt>ling</dt>\n",
              "\t\t<dd>'integer'</dd>\n",
              "\t<dt>long</dt>\n",
              "\t\t<dd>'integer'</dd>\n",
              "\t<dt>very</dt>\n",
              "\t\t<dd>'integer'</dd>\n",
              "\t<dt>quick</dt>\n",
              "\t\t<dd>'integer'</dd>\n",
              "\t<dt>AGE</dt>\n",
              "\t\t<dd>'integer'</dd>\n",
              "\t<dt>DIST</dt>\n",
              "\t\t<dd>'integer'</dd>\n",
              "\t<dt>SCORE</dt>\n",
              "\t\t<dd>'integer'</dd>\n",
              "\t<dt>X.</dt>\n",
              "\t\t<dd>'factor'</dd>\n",
              "\t<dt>REGION</dt>\n",
              "\t\t<dd>'factor'</dd>\n",
              "\t<dt>DISTRICT</dt>\n",
              "\t\t<dd>'factor'</dd>\n",
              "\t<dt>islay</dt>\n",
              "\t\t<dd>'integer'</dd>\n",
              "\t<dt>midland</dt>\n",
              "\t\t<dd>'integer'</dd>\n",
              "\t<dt>spey</dt>\n",
              "\t\t<dd>'integer'</dd>\n",
              "\t<dt>east</dt>\n",
              "\t\t<dd>'integer'</dd>\n",
              "\t<dt>west</dt>\n",
              "\t\t<dd>'integer'</dd>\n",
              "\t<dt>north</dt>\n",
              "\t\t<dd>'integer'</dd>\n",
              "\t<dt>lowland</dt>\n",
              "\t\t<dd>'integer'</dd>\n",
              "\t<dt>campbell</dt>\n",
              "\t\t<dd>'integer'</dd>\n",
              "\t<dt>islands</dt>\n",
              "\t\t<dd>'integer'</dd>\n",
              "</dl>\n"
            ]
          },
          "metadata": {
            "tags": []
          }
        }
      ]
    },
    {
      "cell_type": "markdown",
      "metadata": {
        "id": "lxBWm4rmlp_N",
        "colab_type": "text"
      },
      "source": [
        "Analisando somente os dados categóricos"
      ]
    },
    {
      "cell_type": "code",
      "metadata": {
        "id": "NrKyGZWlkg-b",
        "colab_type": "code",
        "colab": {}
      },
      "source": [
        "data_categ <- data %>% select(REGION, DISTRICT)"
      ],
      "execution_count": 0,
      "outputs": []
    },
    {
      "cell_type": "code",
      "metadata": {
        "id": "61Fcx2Hdl5m2",
        "colab_type": "code",
        "colab": {
          "base_uri": "https://localhost:8080/",
          "height": 203
        },
        "outputId": "6e376ec2-491e-4f4b-cf0c-2c9b28e5675f"
      },
      "source": [
        "distinct(data_categ %>% select(REGION))"
      ],
      "execution_count": 43,
      "outputs": [
        {
          "output_type": "display_data",
          "data": {
            "text/plain": [
              "  REGION\n",
              "1 HIGH  \n",
              "2 ISLAY \n",
              "3 LOW   \n",
              "4 LOW   \n",
              "5       "
            ],
            "text/latex": "A data.frame: 5 × 1\n\\begin{tabular}{r|l}\n REGION\\\\\n <fct>\\\\\n\\hline\n\t HIGH \\\\\n\t ISLAY\\\\\n\t LOW  \\\\\n\t LOW  \\\\\n\t      \\\\\n\\end{tabular}\n",
            "text/markdown": "\nA data.frame: 5 × 1\n\n| REGION &lt;fct&gt; |\n|---|\n| HIGH  |\n| ISLAY |\n| LOW   |\n| LOW   |\n| <!----> |\n\n",
            "text/html": [
              "<table>\n",
              "<caption>A data.frame: 5 × 1</caption>\n",
              "<thead>\n",
              "\t<tr><th scope=col>REGION</th></tr>\n",
              "\t<tr><th scope=col>&lt;fct&gt;</th></tr>\n",
              "</thead>\n",
              "<tbody>\n",
              "\t<tr><td>HIGH </td></tr>\n",
              "\t<tr><td>ISLAY</td></tr>\n",
              "\t<tr><td>LOW  </td></tr>\n",
              "\t<tr><td>LOW  </td></tr>\n",
              "\t<tr><td>     </td></tr>\n",
              "</tbody>\n",
              "</table>\n"
            ]
          },
          "metadata": {
            "tags": []
          }
        }
      ]
    },
    {
      "cell_type": "code",
      "metadata": {
        "id": "-COG6DxGmbx9",
        "colab_type": "code",
        "colab": {
          "base_uri": "https://localhost:8080/",
          "height": 421
        },
        "outputId": "32d7d3e8-6c88-49ab-c9b1-e302dfeb9194"
      },
      "source": [
        "distinct(data_categ %>% select(DISTRICT))"
      ],
      "execution_count": 41,
      "outputs": [
        {
          "output_type": "display_data",
          "data": {
            "text/plain": [
              "   DISTRICT \n",
              "1  MIDLAND  \n",
              "2  SPEY     \n",
              "3  SOUTH    \n",
              "4  WEST     \n",
              "5  NORTH    \n",
              "6  BORDERS  \n",
              "7  LOCH     \n",
              "8  EAST     \n",
              "9  CAMPBEL  \n",
              "10 ORKNEY   \n",
              "11 JURA     \n",
              "12 NORTHWEST\n",
              "13 CENTRAL  \n",
              "14 SKYE     \n",
              "15 MULL     \n",
              "16          "
            ],
            "text/latex": "A data.frame: 16 × 1\n\\begin{tabular}{r|l}\n DISTRICT\\\\\n <fct>\\\\\n\\hline\n\t MIDLAND  \\\\\n\t SPEY     \\\\\n\t SOUTH    \\\\\n\t WEST     \\\\\n\t NORTH    \\\\\n\t BORDERS  \\\\\n\t LOCH     \\\\\n\t EAST     \\\\\n\t CAMPBEL  \\\\\n\t ORKNEY   \\\\\n\t JURA     \\\\\n\t NORTHWEST\\\\\n\t CENTRAL  \\\\\n\t SKYE     \\\\\n\t MULL     \\\\\n\t          \\\\\n\\end{tabular}\n",
            "text/markdown": "\nA data.frame: 16 × 1\n\n| DISTRICT &lt;fct&gt; |\n|---|\n| MIDLAND   |\n| SPEY      |\n| SOUTH     |\n| WEST      |\n| NORTH     |\n| BORDERS   |\n| LOCH      |\n| EAST      |\n| CAMPBEL   |\n| ORKNEY    |\n| JURA      |\n| NORTHWEST |\n| CENTRAL   |\n| SKYE      |\n| MULL      |\n| <!----> |\n\n",
            "text/html": [
              "<table>\n",
              "<caption>A data.frame: 16 × 1</caption>\n",
              "<thead>\n",
              "\t<tr><th scope=col>DISTRICT</th></tr>\n",
              "\t<tr><th scope=col>&lt;fct&gt;</th></tr>\n",
              "</thead>\n",
              "<tbody>\n",
              "\t<tr><td>MIDLAND  </td></tr>\n",
              "\t<tr><td>SPEY     </td></tr>\n",
              "\t<tr><td>SOUTH    </td></tr>\n",
              "\t<tr><td>WEST     </td></tr>\n",
              "\t<tr><td>NORTH    </td></tr>\n",
              "\t<tr><td>BORDERS  </td></tr>\n",
              "\t<tr><td>LOCH     </td></tr>\n",
              "\t<tr><td>EAST     </td></tr>\n",
              "\t<tr><td>CAMPBEL  </td></tr>\n",
              "\t<tr><td>ORKNEY   </td></tr>\n",
              "\t<tr><td>JURA     </td></tr>\n",
              "\t<tr><td>NORTHWEST</td></tr>\n",
              "\t<tr><td>CENTRAL  </td></tr>\n",
              "\t<tr><td>SKYE     </td></tr>\n",
              "\t<tr><td>MULL     </td></tr>\n",
              "\t<tr><td>         </td></tr>\n",
              "</tbody>\n",
              "</table>\n"
            ]
          },
          "metadata": {
            "tags": []
          }
        }
      ]
    },
    {
      "cell_type": "markdown",
      "metadata": {
        "id": "txTRC3vPm6v3",
        "colab_type": "text"
      },
      "source": [
        "Opa! Tem um nome repetido na variável REGION. Provavelmente algum espaço no final da palavra. Vamos limpar também."
      ]
    },
    {
      "cell_type": "code",
      "metadata": {
        "id": "CS7uZLGEm59K",
        "colab_type": "code",
        "colab": {}
      },
      "source": [
        "data_claned <- trim(data_cleaned)"
      ],
      "execution_count": 0,
      "outputs": []
    },
    {
      "cell_type": "code",
      "metadata": {
        "id": "yvf99Am-pWy3",
        "colab_type": "code",
        "colab": {
          "base_uri": "https://localhost:8080/",
          "height": 182
        },
        "outputId": "c3aa97a9-9333-492f-b3ae-3e07936b151d"
      },
      "source": [
        "distinct(data_claned %>% select(REGION))"
      ],
      "execution_count": 57,
      "outputs": [
        {
          "output_type": "display_data",
          "data": {
            "text/plain": [
              "  REGION\n",
              "1 HIGH  \n",
              "2 ISLAY \n",
              "3 LOW   \n",
              "4       "
            ],
            "text/latex": "A data.frame: 4 × 1\n\\begin{tabular}{r|l}\n REGION\\\\\n <fct>\\\\\n\\hline\n\t HIGH \\\\\n\t ISLAY\\\\\n\t LOW  \\\\\n\t      \\\\\n\\end{tabular}\n",
            "text/markdown": "\nA data.frame: 4 × 1\n\n| REGION &lt;fct&gt; |\n|---|\n| HIGH  |\n| ISLAY |\n| LOW   |\n| <!----> |\n\n",
            "text/html": [
              "<table>\n",
              "<caption>A data.frame: 4 × 1</caption>\n",
              "<thead>\n",
              "\t<tr><th scope=col>REGION</th></tr>\n",
              "\t<tr><th scope=col>&lt;fct&gt;</th></tr>\n",
              "</thead>\n",
              "<tbody>\n",
              "\t<tr><td>HIGH </td></tr>\n",
              "\t<tr><td>ISLAY</td></tr>\n",
              "\t<tr><td>LOW  </td></tr>\n",
              "\t<tr><td>     </td></tr>\n",
              "</tbody>\n",
              "</table>\n"
            ]
          },
          "metadata": {
            "tags": []
          }
        }
      ]
    },
    {
      "cell_type": "markdown",
      "metadata": {
        "id": "viBIQFp1pxsn",
        "colab_type": "text"
      },
      "source": [
        "O último passo para termos uma matriz é lidar com os dados faltantes. "
      ]
    },
    {
      "cell_type": "code",
      "metadata": {
        "id": "Q8DWYf3cqII6",
        "colab_type": "code",
        "colab": {}
      },
      "source": [
        ""
      ],
      "execution_count": 0,
      "outputs": []
    }
  ]
}