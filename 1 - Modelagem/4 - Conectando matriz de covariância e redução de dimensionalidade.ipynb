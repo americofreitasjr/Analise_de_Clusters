{
  "nbformat": 4,
  "nbformat_minor": 0,
  "metadata": {
    "colab": {
      "name": "Copy of 1.1 - Visualizando os dados (Whisky).ipynb",
      "version": "0.3.2",
      "provenance": [],
      "include_colab_link": true
    },
    "language_info": {
      "codemirror_mode": "r",
      "file_extension": ".r",
      "mimetype": "text/x-r-source",
      "name": "R",
      "pygments_lexer": "r",
      "version": "3.3.1"
    },
    "kernelspec": {
      "display_name": "R",
      "language": "R",
      "name": "ir"
    }
  },
  "cells": [
    {
      "cell_type": "markdown",
      "metadata": {
        "id": "view-in-github",
        "colab_type": "text"
      },
      "source": [
        "<a href=\"https://colab.research.google.com/github/lauramoraes/Analise_de_Clusters/blob/master/1%20-%20Modelagem/4%20-%20Conectando%20matriz%20de%20covari%C3%A2ncia%20e%20redu%C3%A7%C3%A3o%20de%20dimensionalidade.ipynb\" target=\"_parent\"><img src=\"https://colab.research.google.com/assets/colab-badge.svg\" alt=\"Open In Colab\"/></a>"
      ]
    },
    {
      "cell_type": "markdown",
      "metadata": {
        "id": "wn9t4aUDQH2z",
        "colab_type": "text"
      },
      "source": [
        "# Redução de dimensionalidade"
      ]
    },
    {
      "cell_type": "markdown",
      "metadata": {
        "id": "UixQ-Y9VKjwy",
        "colab_type": "text"
      },
      "source": [
        "### Importando bibliotecas a serem usadas"
      ]
    },
    {
      "cell_type": "code",
      "metadata": {
        "id": "Unsb8k4MKWgb",
        "colab_type": "code",
        "outputId": "93e9ab8e-457a-42f2-96b1-bd3e605f624c",
        "colab": {
          "base_uri": "https://localhost:8080/",
          "height": 444
        }
      },
      "source": [
        "library(tidyverse)\n",
        "library(reshape2)"
      ],
      "execution_count": 8,
      "outputs": [
        {
          "output_type": "stream",
          "text": [
            "Registered S3 methods overwritten by 'ggplot2':\n",
            "  method         from \n",
            "  [.quosures     rlang\n",
            "  c.quosures     rlang\n",
            "  print.quosures rlang\n",
            "Registered S3 method overwritten by 'rvest':\n",
            "  method            from\n",
            "  read_xml.response xml2\n",
            "── \u001b[1mAttaching packages\u001b[22m ─────────────────────────────────────── tidyverse 1.2.1 ──\n",
            "\u001b[32m✔\u001b[39m \u001b[34mggplot2\u001b[39m 3.1.1       \u001b[32m✔\u001b[39m \u001b[34mpurrr  \u001b[39m 0.3.2  \n",
            "\u001b[32m✔\u001b[39m \u001b[34mtibble \u001b[39m 2.1.1       \u001b[32m✔\u001b[39m \u001b[34mdplyr  \u001b[39m 0.8.0.\u001b[31m1\u001b[39m\n",
            "\u001b[32m✔\u001b[39m \u001b[34mtidyr  \u001b[39m 0.8.3       \u001b[32m✔\u001b[39m \u001b[34mstringr\u001b[39m 1.4.0  \n",
            "\u001b[32m✔\u001b[39m \u001b[34mreadr  \u001b[39m 1.3.1       \u001b[32m✔\u001b[39m \u001b[34mforcats\u001b[39m 0.4.0  \n",
            "── \u001b[1mConflicts\u001b[22m ────────────────────────────────────────── tidyverse_conflicts() ──\n",
            "\u001b[31m✖\u001b[39m \u001b[34mdplyr\u001b[39m::\u001b[32mfilter()\u001b[39m masks \u001b[34mstats\u001b[39m::filter()\n",
            "\u001b[31m✖\u001b[39m \u001b[34mdplyr\u001b[39m::\u001b[32mlag()\u001b[39m    masks \u001b[34mstats\u001b[39m::lag()\n",
            "\n",
            "Attaching package: ‘reshape2’\n",
            "\n",
            "The following object is masked from ‘package:tidyr’:\n",
            "\n",
            "    smiths\n",
            "\n"
          ],
          "name": "stderr"
        }
      ]
    },
    {
      "cell_type": "markdown",
      "metadata": {
        "id": "M6AakX8RAiP7",
        "colab_type": "text"
      },
      "source": [
        "## O que a matriz de covariância e a dimensão do dados tem a ver?\n",
        "\n",
        "Mas você deve estar se perguntando, o que a matriz de covariância e a dimensão mencionadas anteriormente tem em comum?\n",
        "\n",
        "Como havíamos dito, a **dimensão do dado** é o número de atributos **independentes** que um dataset contém e que, sendo esse número acima de 3 (ou 4, 5 se adicionarmos informações como forma e cor) fica impossível de visualizarmos.\n",
        "\n",
        "Pois bem, com a matriz de covariância conseguimos descobrir quais atributos possuem relações lineares uns com outros e a magnitude dessa relação. A partir daí, é possível criar novos atributos que sejam **combinações** dos atributos originais, mas **independentes** entre si. \n",
        "\n",
        "#### E como isso ajuda na visualização?\n",
        "Imagine a sua sombra. Ela é a projeção em 2D do nosso objeto 3D (você, no caso). Ao diminuirmos uma dimensão, estamos comprimindo informação. Nesse caso, estamos colocando pontos de diferentes coordenadas (x,y,z) em um mesmo lugar na sombra. Agora, quando conseguimos observar mais detalhes do seu corpo? No sol de meio-dia ou de seis da tarde? A sombra fica maior (portanto, com menos pontos colidindo) quando o sombra está na direção de maior variância do seu corpo. Essa direção não é nem a altura nem a largura, mas uma combinação dos dois.\n",
        "\n",
        "Os **autovetores** e **autovalores** de uma matriz são calculados de uma maneira que apontam para a **direção de maior variância** dos dados. Ou seja, quando descobrirmos essas direções, podemos criar uma \"sombra\" dos dados em dimensão menor e evitar o máximo de colisões possíveis para aquela visualização.\n",
        "\n",
        "#### Redução de dimensionalidade\n",
        "PCA, SVD, ... são alguns nomes que essa técnica possui, diferindo na matriz de entrada. Vamos continuar o exemplo ilustrativo do notebook anterior para entendermos como descobrimos as direções de maior variância a partir da matriz de covariância."
      ]
    },
    {
      "cell_type": "markdown",
      "metadata": {
        "id": "cIdW_b-zLU2W",
        "colab_type": "text"
      },
      "source": [
        "### Matriz de escalonamento\n",
        "Vamos começar transformando os nossos dados com a matriz de escalonamento S, onde a transformação somente escala as componentes x e y multiplicando elas por $s_x$ e $s_y$, respectivamente.\n",
        "\n",
        "$ S = \\begin{bmatrix}\n",
        "s_x & 0\\\\ \n",
        "0 & s_y\n",
        "\\end{bmatrix}$\n",
        "\n",
        "Nesse caso, a matriz de covariância C será:\n",
        "\n",
        "$ C = \\begin{bmatrix}\n",
        "(s_x\\sigma_x)^2 & 0\\\\ \n",
        "0 & (s_y\\sigma_y)^2\n",
        "\\end{bmatrix}$\n",
        "\n",
        "O que significa que conseguimos extrair a matriz de escalonamento S a partir de C, onde $S = \\sqrt{C}$"
      ]
    },
    {
      "cell_type": "code",
      "metadata": {
        "id": "UYBpbrXGzIHL",
        "colab_type": "code",
        "outputId": "4f95c201-5aea-431c-f9dc-5b5ba9a4192e",
        "colab": {
          "base_uri": "https://localhost:8080/",
          "height": 451
        }
      },
      "source": [
        "options(repr.plot.width=3, repr.plot.height=3)\n",
        "# Primeiro, vamos gerar pontos aleatórios com média zero e variância 1 em cada direção (sem correlação entre elas)\n",
        "# Constantes\n",
        "N = 500\n",
        "noise = 0.25\n",
        "\n",
        "# Gerando dados sintéticos\n",
        "x = rnorm(N)\n",
        "y = rnorm(N)\n",
        "\n",
        "# Criando o dataframe e convertendo para matriz\n",
        "df  <- data.frame(x = x, y = y)\n",
        "M <- data.matrix(df)\n",
        "\n",
        "# Criando a matriz de escalonamento\n",
        "sx <- 0.7\n",
        "sy <- 3.4\n",
        "S <- rbind(c(sx,0), c(0,sy))\n",
        "\n",
        "# Transformando a matriz original\n",
        "SM <- M %*% S\n",
        "colnames(SM) <- c(\"x\",\"y\")\n",
        "SM_df  <- data.frame(x = SM[,\"x\"], y = SM[,\"y\"])\n",
        "\n",
        "# Plotando os dados\n",
        "ggplot(data = SM_df, aes(x,y)) + \n",
        "  geom_point() +\n",
        "  coord_cartesian(xlim = c(-10, 10), ylim = c(-10, 10))\n",
        "\n",
        "# Extraindo de volta a matriz S\n",
        "C <- cov(SM)\n",
        "cat(\"Sx = \", sqrt(subset(melt(C), Var1==\"x\" & Var2==\"x\")$value), '\\n')\n",
        "cat(\"Sx original = \", sx, '\\n')\n",
        "cat(\"Sy = \", sqrt(subset(melt(C), Var1==\"y\" & Var2==\"y\")$value), '\\n')\n",
        "cat(\"Sy original = \", sy)"
      ],
      "execution_count": 63,
      "outputs": [
        {
          "output_type": "stream",
          "text": [
            "Sx =  0.7096694 \n",
            "Sx original =  0.7 \n",
            "Sy =  3.338004 \n",
            "Sy original =  3.4"
          ],
          "name": "stdout"
        },
        {
          "output_type": "display_data",
          "data": {
            "image/png": "[encoded data removed]",
            "text/plain": [
              "plot without title"
            ]
          },
          "metadata": {
            "tags": []
          }
        }
      ]
    },
    {
      "cell_type": "markdown",
      "metadata": {
        "id": "0v_KC432Yc4L",
        "colab_type": "text"
      },
      "source": [
        "Agora vamos aplicar uma matriz de transformação T, que consiste em uma matriz de rotação R e a matriz de escalonamento S.\n",
        "\n",
        "$ T = RS $\n",
        "\n",
        "onde R é dado por:\n",
        "\n",
        "$ C = \\begin{bmatrix}\n",
        "cos(\\theta) & -sen(\\theta)\\\\ \n",
        "sen(\\theta) & cos(\\theta)\n",
        "\\end{bmatrix}$\n",
        "\n",
        "Mas, partindo da matriz de covariância C, como recuperar R e S?"
      ]
    },
    {
      "cell_type": "code",
      "metadata": {
        "id": "VTtOabyR2EHf",
        "colab_type": "code",
        "outputId": "7d9ac4a3-8487-45e2-e075-39decf7b2627",
        "colab": {
          "base_uri": "https://localhost:8080/",
          "height": 377
        }
      },
      "source": [
        "options(repr.plot.width=3, repr.plot.height=3)\n",
        "# Primeiro, vamos gerar pontos aleatórios com média zero e variância 1 em cada direção (sem correlação entre elas)\n",
        "# Constantes\n",
        "N = 500\n",
        "noise = 0.25\n",
        "\n",
        "# Gerando dados sintéticos\n",
        "x = rnorm(N)\n",
        "y = rnorm(N)\n",
        "\n",
        "# Criando o dataframe e convertendo para matriz\n",
        "df  <- data.frame(x = x, y = y)\n",
        "M <- data.matrix(df)\n",
        "\n",
        "# Criando a matriz de escalonamento\n",
        "sx <- 0.7\n",
        "sy <- 3.4\n",
        "S <- rbind(c(sx,0), c(0,sy))\n",
        "\n",
        "# Criando a matriz de rotação\n",
        "theta <- 0.77*pi\n",
        "R <- rbind(c(cos(theta),-sin(theta)), c(sin(theta),cos(theta)))\n",
        "\n",
        "# Transformando a matriz original\n",
        "T <- S %*% R\n",
        "TM <- M %*% T\n",
        "colnames(TM) <- c(\"x\",\"y\")\n",
        "TM_df  <- data.frame(x = TM[,\"x\"], y = TM[,\"y\"])\n",
        "\n",
        "# Plotando os dados\n",
        "ggplot(data = TM_df, aes(x,y)) + \n",
        "  geom_point() +\n",
        "  coord_cartesian(ylim = c(-10, 10))"
      ],
      "execution_count": 77,
      "outputs": [
        {
          "output_type": "display_data",
          "data": {
            "image/png": "[encoded data removed]",
            "text/plain": [
              "plot without title"
            ]
          },
          "metadata": {
            "tags": []
          }
        }
      ]
    }
  ]
}