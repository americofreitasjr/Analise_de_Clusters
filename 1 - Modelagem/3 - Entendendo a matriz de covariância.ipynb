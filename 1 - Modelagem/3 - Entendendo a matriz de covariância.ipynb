{
  "nbformat": 4,
  "nbformat_minor": 0,
  "metadata": {
    "colab": {
      "name": "1.1 - Visualizando os dados (Whisky).ipynb",
      "version": "0.3.2",
      "provenance": [],
      "include_colab_link": true
    },
    "language_info": {
      "codemirror_mode": "r",
      "file_extension": ".r",
      "mimetype": "text/x-r-source",
      "name": "R",
      "pygments_lexer": "r",
      "version": "3.3.1"
    },
    "kernelspec": {
      "display_name": "R",
      "language": "R",
      "name": "ir"
    }
  },
  "cells": [
    {
      "cell_type": "markdown",
      "metadata": {
        "id": "view-in-github",
        "colab_type": "text"
      },
      "source": [
        "<a href=\"https://colab.research.google.com/github/lauramoraes/Analise_de_Clusters/blob/master/1%20-%20Modelagem/3%20-%20Entendendo%20a%20matriz%20de%20covari%C3%A2ncia.ipynb\" target=\"_parent\"><img src=\"https://colab.research.google.com/assets/colab-badge.svg\" alt=\"Open In Colab\"/></a>"
      ]
    },
    {
      "cell_type": "markdown",
      "metadata": {
        "id": "wn9t4aUDQH2z",
        "colab_type": "text"
      },
      "source": [
        "# Entendendo a matriz de covariância"
      ]
    },
    {
      "cell_type": "markdown",
      "metadata": {
        "id": "UixQ-Y9VKjwy",
        "colab_type": "text"
      },
      "source": [
        "### Importando bibliotecas a serem usadas"
      ]
    },
    {
      "cell_type": "code",
      "metadata": {
        "id": "Unsb8k4MKWgb",
        "colab_type": "code",
        "outputId": "da5cc9e3-77b8-4f7d-c14e-02ad0c97bf3a",
        "colab": {
          "base_uri": "https://localhost:8080/",
          "height": 314
        }
      },
      "source": [
        "library(tidyverse)"
      ],
      "execution_count": 4,
      "outputs": [
        {
          "output_type": "stream",
          "text": [
            "Registered S3 methods overwritten by 'ggplot2':\n",
            "  method         from \n",
            "  [.quosures     rlang\n",
            "  c.quosures     rlang\n",
            "  print.quosures rlang\n",
            "Registered S3 method overwritten by 'rvest':\n",
            "  method            from\n",
            "  read_xml.response xml2\n",
            "── \u001b[1mAttaching packages\u001b[22m ─────────────────────────────────────── tidyverse 1.2.1 ──\n",
            "\u001b[32m✔\u001b[39m \u001b[34mggplot2\u001b[39m 3.1.1       \u001b[32m✔\u001b[39m \u001b[34mpurrr  \u001b[39m 0.3.2  \n",
            "\u001b[32m✔\u001b[39m \u001b[34mtibble \u001b[39m 2.1.1       \u001b[32m✔\u001b[39m \u001b[34mdplyr  \u001b[39m 0.8.0.\u001b[31m1\u001b[39m\n",
            "\u001b[32m✔\u001b[39m \u001b[34mtidyr  \u001b[39m 0.8.3       \u001b[32m✔\u001b[39m \u001b[34mstringr\u001b[39m 1.4.0  \n",
            "\u001b[32m✔\u001b[39m \u001b[34mreadr  \u001b[39m 1.3.1       \u001b[32m✔\u001b[39m \u001b[34mforcats\u001b[39m 0.4.0  \n",
            "── \u001b[1mConflicts\u001b[22m ────────────────────────────────────────── tidyverse_conflicts() ──\n",
            "\u001b[31m✖\u001b[39m \u001b[34mdplyr\u001b[39m::\u001b[32mfilter()\u001b[39m masks \u001b[34mstats\u001b[39m::filter()\n",
            "\u001b[31m✖\u001b[39m \u001b[34mdplyr\u001b[39m::\u001b[32mlag()\u001b[39m    masks \u001b[34mstats\u001b[39m::lag()\n"
          ],
          "name": "stderr"
        }
      ]
    },
    {
      "cell_type": "markdown",
      "metadata": {
        "id": "M6AakX8RAiP7",
        "colab_type": "text"
      },
      "source": [
        "### Começando com um exemplo\n",
        "\n",
        "Antes de começarmos, vamos relembrar a diferença entre variância e covariância: a variância é uma medida de **dispersão de somente uma variável aleatória** (como a altura de uma pessoa em uma população), enquanto a covariância é a medida do quanto **duas variáveis aletórias se influenciam linearmente** (como a altura e peso das pessoas em uma população).\n",
        "\n",
        "Neste exemplo da população, para medir a influência entre altura e peso, usuaríamos a seguinte fórmula para covariância:\n",
        " \n",
        " **Covariância** $\\sigma_{altura,peso} = \\frac{1}{n-1}\\sum_{i=1}^{n}(idade_i - mediaIdade)(altura_i - mediaAltura)$\n",
        " \n",
        " Ou seja, para cada indivíduo da população, calculamos como sua idade e sua altura diferenciam da média. A covariância dessas duas variáveis é o valor esperado considerando todos os indivíduos.\n",
        " \n",
        " \n",
        "#### Matriz de covariância\n",
        "Fazendo isso para cada combinação de 2 atributos, é possível construir a matriz de covariância. Ela é uma matriz quadrada, onde cada linha e cada coluna representam os atributos medidos. Veja a seguinte tabela:\n",
        "\n",
        "|Altura|Peso|\n",
        "|------|-----|\n",
        "| 1.85 | 109 |\n",
        "| 1.72 | 73  |\n",
        "| 1.47 | 46  |\n",
        "| 1.65 | 64  |\n",
        "| 1.60 | 59  |\n",
        "\n",
        "Se multiplicarmos ela pela transposta obtemos, em forma matricial, o cálculo da covariância. Transformando a equação acima para uma equação matricial, temos que a matriz de covariância C fica:\n",
        "$ C = \\frac{1}{n-1}\\sum_{i=1}^{n}(X_i-\\overline{X})(X_i-\\overline{X})^T$\n",
        "\n",
        "Normalizando os valores dos atributos para terem média zero, podemos simplificar ainda mais a conta:\n",
        "$ C = \\frac{XX^T}{n-1}$\n",
        "\n",
        "Então, vamos aos dados!"
      ]
    },
    {
      "cell_type": "code",
      "metadata": {
        "id": "UYBpbrXGzIHL",
        "colab_type": "code",
        "colab": {
          "base_uri": "https://localhost:8080/",
          "height": 377
        },
        "outputId": "ddc98fda-8dad-4d4e-fb57-1f7893481aab"
      },
      "source": [
        "options(repr.plot.width=3, repr.plot.height=3)\n",
        "# Primeiro, vamos gerar pontos aleatórios com média zero e variância 1 em cada direção (sem correlação entre elas)\n",
        "# Constantes\n",
        "N = 500\n",
        "noise = 0.25\n",
        "\n",
        "# Gerando dados sintéticos\n",
        "x = rnorm(N)\n",
        "y = rnorm(N)\n",
        "\n",
        "# Criando o dataframe e convertendo para matriz\n",
        "df  <- data.frame(x = x, y = y)\n",
        "M = data.matrix(df)\n",
        "\n",
        "# Plotando os dados\n",
        "ggplot(data = df, aes(x,y)) + \n",
        "  geom_point()"
      ],
      "execution_count": 21,
      "outputs": [
        {
          "output_type": "display_data",
          "data": {
            "image/png": "[encoded data removed]",
            "text/plain": [
              "plot without title"
            ]
          },
          "metadata": {
            "tags": []
          }
        }
      ]
    },
    {
      "cell_type": "markdown",
      "metadata": {
        "id": "eErD_kJP0Hve",
        "colab_type": "text"
      },
      "source": [
        "Nesse caso, as coordenadas x e y são totalmente independentes (descorrelacionadas) e a matriz de covariância é dada por:\n",
        "\n",
        "$ C = \\begin{bmatrix}\n",
        "\\sigma(x,x) & 0\\\\ \n",
        "0 & \\sigma(y,y)\n",
        "\\end{bmatrix}$\n",
        "\n",
        "Vamos conferir?"
      ]
    },
    {
      "cell_type": "code",
      "metadata": {
        "id": "VTtOabyR2EHf",
        "colab_type": "code",
        "colab": {
          "base_uri": "https://localhost:8080/",
          "height": 100
        },
        "outputId": "188b73f8-3fd7-41b8-85e9-8c8ac30d6bad"
      },
      "source": [
        "cov(M)"
      ],
      "execution_count": 22,
      "outputs": [
        {
          "output_type": "display_data",
          "data": {
            "text/plain": [
              "  x           y          \n",
              "x  1.03131355 -0.04544015\n",
              "y -0.04544015  1.03399892"
            ],
            "text/latex": "A matrix: 2 × 2 of type dbl\n\\begin{tabular}{r|ll}\n  & x & y\\\\\n\\hline\n\tx &  1.03131355 & -0.04544015\\\\\n\ty & -0.04544015 &  1.03399892\\\\\n\\end{tabular}\n",
            "text/markdown": "\nA matrix: 2 × 2 of type dbl\n\n| <!--/--> | x | y |\n|---|---|---|\n| x |  1.03131355 | -0.04544015 |\n| y | -0.04544015 |  1.03399892 |\n\n",
            "text/html": [
              "<table>\n",
              "<caption>A matrix: 2 × 2 of type dbl</caption>\n",
              "<thead>\n",
              "\t<tr><th></th><th scope=col>x</th><th scope=col>y</th></tr>\n",
              "</thead>\n",
              "<tbody>\n",
              "\t<tr><th scope=row>x</th><td> 1.03131355</td><td>-0.04544015</td></tr>\n",
              "\t<tr><th scope=row>y</th><td>-0.04544015</td><td> 1.03399892</td></tr>\n",
              "</tbody>\n",
              "</table>\n"
            ]
          },
          "metadata": {
            "tags": []
          }
        }
      ]
    },
    {
      "cell_type": "markdown",
      "metadata": {
        "id": "LVmWFq6a2wCP",
        "colab_type": "text"
      },
      "source": [
        "E se a coordenada y fosse totalmente dependente de x? O que obteríamos como matriz de covariância?"
      ]
    },
    {
      "cell_type": "code",
      "metadata": {
        "id": "jHCf49Zf22Gu",
        "colab_type": "code",
        "colab": {
          "base_uri": "https://localhost:8080/",
          "height": 478
        },
        "outputId": "d2f2e0ad-dcea-47d6-fa70-9028d3166e19"
      },
      "source": [
        "options(repr.plot.width=3, repr.plot.height=3)\n",
        "# Primeiro, vamos gerar pontos aleatórios com média zero e variância 1 em cada direção (sem correlação entre elas)\n",
        "# Constantes\n",
        "N = 500\n",
        "noise = 0.25\n",
        "\n",
        "# Gerando dados sintéticos\n",
        "x = rnorm(N)\n",
        "# Coordenada y depende de x\n",
        "y = 2*x\n",
        "\n",
        "# Criando o dataframe e convertendo para matriz\n",
        "df  <- data.frame(x = x, y = y)\n",
        "M = data.matrix(df)\n",
        "\n",
        "# Plotando os dados\n",
        "ggplot(data = df, aes(x,y)) + \n",
        "  geom_point()\n",
        "\n",
        "# Calculando a matriz de covariância\n",
        "cov(M)"
      ],
      "execution_count": 24,
      "outputs": [
        {
          "output_type": "display_data",
          "data": {
            "text/plain": [
              "  x        y       \n",
              "x 1.039357 2.078715\n",
              "y 2.078715 4.157429"
            ],
            "text/latex": "A matrix: 2 × 2 of type dbl\n\\begin{tabular}{r|ll}\n  & x & y\\\\\n\\hline\n\tx & 1.039357 & 2.078715\\\\\n\ty & 2.078715 & 4.157429\\\\\n\\end{tabular}\n",
            "text/markdown": "\nA matrix: 2 × 2 of type dbl\n\n| <!--/--> | x | y |\n|---|---|---|\n| x | 1.039357 | 2.078715 |\n| y | 2.078715 | 4.157429 |\n\n",
            "text/html": [
              "<table>\n",
              "<caption>A matrix: 2 × 2 of type dbl</caption>\n",
              "<thead>\n",
              "\t<tr><th></th><th scope=col>x</th><th scope=col>y</th></tr>\n",
              "</thead>\n",
              "<tbody>\n",
              "\t<tr><th scope=row>x</th><td>1.039357</td><td>2.078715</td></tr>\n",
              "\t<tr><th scope=row>y</th><td>2.078715</td><td>4.157429</td></tr>\n",
              "</tbody>\n",
              "</table>\n"
            ]
          },
          "metadata": {
            "tags": []
          }
        },
        {
          "output_type": "display_data",
          "data": {
            "image/png": "[encoded data removed]",
            "text/plain": [
              "plot without title"
            ]
          },
          "metadata": {
            "tags": []
          }
        }
      ]
    }
  ]
}