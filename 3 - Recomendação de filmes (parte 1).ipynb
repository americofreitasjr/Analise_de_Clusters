{
  "nbformat": 4,
  "nbformat_minor": 0,
  "metadata": {
    "colab": {
      "name": "3 - Recomendação de filmes (parte 1).ipynb",
      "version": "0.3.2",
      "provenance": [],
      "collapsed_sections": [],
      "include_colab_link": true
    },
    "language_info": {
      "codemirror_mode": "r",
      "file_extension": ".r",
      "mimetype": "text/x-r-source",
      "name": "R",
      "pygments_lexer": "r",
      "version": "3.3.1"
    },
    "kernelspec": {
      "display_name": "R",
      "language": "R",
      "name": "ir"
    }
  },
  "cells": [
    {
      "cell_type": "markdown",
      "metadata": {
        "id": "view-in-github",
        "colab_type": "text"
      },
      "source": [
        "<a href=\"https://colab.research.google.com/github/lauramoraes/Analise_de_Clusters/blob/master/3%20-%20Recomenda%C3%A7%C3%A3o%20de%20filmes%20(parte%201).ipynb\" target=\"_parent\"><img src=\"https://colab.research.google.com/assets/colab-badge.svg\" alt=\"Open In Colab\"/></a>"
      ]
    },
    {
      "cell_type": "markdown",
      "metadata": {
        "id": "wn9t4aUDQH2z",
        "colab_type": "text"
      },
      "source": [
        "# Recomendando filmes"
      ]
    },
    {
      "cell_type": "markdown",
      "metadata": {
        "id": "UixQ-Y9VKjwy",
        "colab_type": "text"
      },
      "source": [
        "### Importando bibliotecas a serem usadas"
      ]
    },
    {
      "cell_type": "code",
      "metadata": {
        "id": "t5zWuPjFfo1I",
        "colab_type": "code",
        "outputId": "45b0bffd-609d-4988-8501-4515ac6c28f8",
        "colab": {
          "base_uri": "https://localhost:8080/",
          "height": 0
        }
      },
      "source": [
        "install.packages(\"NMF\")"
      ],
      "execution_count": 8,
      "outputs": [
        {
          "output_type": "stream",
          "text": [
            "Installing package into ‘/usr/local/lib/R/site-library’\n",
            "(as ‘lib’ is unspecified)\n"
          ],
          "name": "stderr"
        }
      ]
    },
    {
      "cell_type": "code",
      "metadata": {
        "id": "Unsb8k4MKWgb",
        "colab_type": "code",
        "colab": {}
      },
      "source": [
        "suppressMessages(suppressWarnings(library(tidyverse)))\n",
        "suppressMessages(suppressWarnings(library(NMF)))"
      ],
      "execution_count": 0,
      "outputs": []
    },
    {
      "cell_type": "code",
      "metadata": {
        "id": "2I5PaNnQk6dd",
        "colab_type": "code",
        "colab": {}
      },
      "source": [
        "multiplot <- function(..., plotlist=NULL, file, cols=1, layout=NULL) {\n",
        "  library(grid)\n",
        "\n",
        "  # Make a list from the ... arguments and plotlist\n",
        "  plots <- c(list(...), plotlist)\n",
        "\n",
        "  numPlots = length(plots)\n",
        "\n",
        "  # If layout is NULL, then use 'cols' to determine layout\n",
        "  if (is.null(layout)) {\n",
        "    # Make the panel\n",
        "    # ncol: Number of columns of plots\n",
        "    # nrow: Number of rows needed, calculated from # of cols\n",
        "    layout <- matrix(seq(1, cols * ceiling(numPlots/cols)),\n",
        "                    ncol = cols, nrow = ceiling(numPlots/cols))\n",
        "  }\n",
        "\n",
        " if (numPlots==1) {\n",
        "    print(plots[[1]])\n",
        "\n",
        "  } else {\n",
        "    # Set up the page\n",
        "    grid.newpage()\n",
        "    pushViewport(viewport(layout = grid.layout(nrow(layout), ncol(layout))))\n",
        "\n",
        "    # Make each plot, in the correct location\n",
        "    for (i in 1:numPlots) {\n",
        "      # Get the i,j matrix positions of the regions that contain this subplot\n",
        "      matchidx <- as.data.frame(which(layout == i, arr.ind = TRUE))\n",
        "\n",
        "      print(plots[[i]], vp = viewport(layout.pos.row = matchidx$row,\n",
        "                                      layout.pos.col = matchidx$col))\n",
        "    }\n",
        "  }\n",
        "}"
      ],
      "execution_count": 0,
      "outputs": []
    },
    {
      "cell_type": "markdown",
      "metadata": {
        "id": "cIdW_b-zLU2W",
        "colab_type": "text"
      },
      "source": [
        "### Vamos inventar uns usuários, filmes e gostos\n",
        "\n",
        "\n"
      ]
    },
    {
      "cell_type": "code",
      "metadata": {
        "id": "IFpAx9EQaqVg",
        "colab_type": "code",
        "colab": {}
      },
      "source": [
        "# Usuarios\n",
        "usuarios <- c(\"Joao\", \"Maria\", \"Camila\", \"Andre\")\n",
        "# Filmes\n",
        "filmes <- c(\"Quem vai ficar com Mary?\", \n",
        "            \"Friends\",\n",
        "            \"Pequena Miss Sunshine\", \n",
        "            \"A Vida é Bela\", \n",
        "            \"Game of Thrones\")\n",
        "# Generos\n",
        "generos <- c(\"comedia\",\"drama\")"
      ],
      "execution_count": 0,
      "outputs": []
    },
    {
      "cell_type": "markdown",
      "metadata": {
        "id": "FPEALNQYtSsw",
        "colab_type": "text"
      },
      "source": [
        "Associando os filmes e os usuários aos gêneros"
      ]
    },
    {
      "cell_type": "code",
      "metadata": {
        "id": "-Nmg_TtHs9hO",
        "colab_type": "code",
        "colab": {
          "base_uri": "https://localhost:8080/",
          "height": 244
        },
        "outputId": "37167019-da0b-4cff-8dd4-c18c8c425bcd"
      },
      "source": [
        "options(repr.plot.width=9, repr.plot.height=3)\n",
        "# Definindo os gostos de cada usuário por genero\n",
        "usuario_genero <- rbind(c(10,0), c(1,0), c(0,3), c(0,1))\n",
        "rownames(usuario_genero) <- usuarios\n",
        "colnames(usuario_genero) <- generos\n",
        "usuario_genero\n",
        "\n",
        "# Definindo os generos de cada filme\n",
        "genero_filme <- rbind(c(1,2,3,0.1,0.1), c(0.1,0.1,0.1,1,2))\n",
        "rownames(genero_filme) <- generos\n",
        "colnames(genero_filme) <- filmes\n",
        "genero_filme"
      ],
      "execution_count": 12,
      "outputs": [
        {
          "output_type": "display_data",
          "data": {
            "text/plain": [
              "       comedia drama\n",
              "Joao   10      0    \n",
              "Maria   1      0    \n",
              "Camila  0      3    \n",
              "Andre   0      1    "
            ],
            "text/latex": "A matrix: 4 × 2 of type dbl\n\\begin{tabular}{r|ll}\n  & comedia & drama\\\\\n\\hline\n\tJoao & 10 & 0\\\\\n\tMaria &  1 & 0\\\\\n\tCamila &  0 & 3\\\\\n\tAndre &  0 & 1\\\\\n\\end{tabular}\n",
            "text/markdown": "\nA matrix: 4 × 2 of type dbl\n\n| <!--/--> | comedia | drama |\n|---|---|---|\n| Joao | 10 | 0 |\n| Maria |  1 | 0 |\n| Camila |  0 | 3 |\n| Andre |  0 | 1 |\n\n",
            "text/html": [
              "<table>\n",
              "<caption>A matrix: 4 × 2 of type dbl</caption>\n",
              "<thead>\n",
              "\t<tr><th></th><th scope=col>comedia</th><th scope=col>drama</th></tr>\n",
              "</thead>\n",
              "<tbody>\n",
              "\t<tr><th scope=row>Joao</th><td>10</td><td>0</td></tr>\n",
              "\t<tr><th scope=row>Maria</th><td> 1</td><td>0</td></tr>\n",
              "\t<tr><th scope=row>Camila</th><td> 0</td><td>3</td></tr>\n",
              "\t<tr><th scope=row>Andre</th><td> 0</td><td>1</td></tr>\n",
              "</tbody>\n",
              "</table>\n"
            ]
          },
          "metadata": {
            "tags": []
          }
        },
        {
          "output_type": "display_data",
          "data": {
            "text/plain": [
              "        Quem vai ficar com Mary? Friends Pequena Miss Sunshine A Vida é Bela\n",
              "comedia 1.0                      2.0     3.0                   0.1          \n",
              "drama   0.1                      0.1     0.1                   1.0          \n",
              "        Game of Thrones\n",
              "comedia 0.1            \n",
              "drama   2.0            "
            ],
            "text/latex": "A matrix: 2 × 5 of type dbl\n\\begin{tabular}{r|lllll}\n  & Quem vai ficar com Mary? & Friends & Pequena Miss Sunshine & A Vida é Bela & Game of Thrones\\\\\n\\hline\n\tcomedia & 1.0 & 2.0 & 3.0 & 0.1 & 0.1\\\\\n\tdrama & 0.1 & 0.1 & 0.1 & 1.0 & 2.0\\\\\n\\end{tabular}\n",
            "text/markdown": "\nA matrix: 2 × 5 of type dbl\n\n| <!--/--> | Quem vai ficar com Mary? | Friends | Pequena Miss Sunshine | A Vida é Bela | Game of Thrones |\n|---|---|---|---|---|---|\n| comedia | 1.0 | 2.0 | 3.0 | 0.1 | 0.1 |\n| drama | 0.1 | 0.1 | 0.1 | 1.0 | 2.0 |\n\n",
            "text/html": [
              "<table>\n",
              "<caption>A matrix: 2 × 5 of type dbl</caption>\n",
              "<thead>\n",
              "\t<tr><th></th><th scope=col>Quem vai ficar com Mary?</th><th scope=col>Friends</th><th scope=col>Pequena Miss Sunshine</th><th scope=col>A Vida é Bela</th><th scope=col>Game of Thrones</th></tr>\n",
              "</thead>\n",
              "<tbody>\n",
              "\t<tr><th scope=row>comedia</th><td>1.0</td><td>2.0</td><td>3.0</td><td>0.1</td><td>0.1</td></tr>\n",
              "\t<tr><th scope=row>drama</th><td>0.1</td><td>0.1</td><td>0.1</td><td>1.0</td><td>2.0</td></tr>\n",
              "</tbody>\n",
              "</table>\n"
            ]
          },
          "metadata": {
            "tags": []
          }
        }
      ]
    },
    {
      "cell_type": "markdown",
      "metadata": {
        "id": "Rcbc-kuutg1_",
        "colab_type": "text"
      },
      "source": [
        "Agora vamos criar uma matriz que quantifica o gosto de cada usuário pelo filme baseado nas informações que temos"
      ]
    },
    {
      "cell_type": "code",
      "metadata": {
        "id": "mbrx__8UtR0n",
        "colab_type": "code",
        "colab": {
          "base_uri": "https://localhost:8080/",
          "height": 143
        },
        "outputId": "1118962e-6f36-47c2-ce94-1ec08d9b3086"
      },
      "source": [
        "usuario_filme <- usuario_genero %*% genero_filme\n",
        "usuario_filme"
      ],
      "execution_count": 13,
      "outputs": [
        {
          "output_type": "display_data",
          "data": {
            "text/plain": [
              "       Quem vai ficar com Mary? Friends Pequena Miss Sunshine A Vida é Bela\n",
              "Joao   10.0                     20.0    30.0                  1.0          \n",
              "Maria   1.0                      2.0     3.0                  0.1          \n",
              "Camila  0.3                      0.3     0.3                  3.0          \n",
              "Andre   0.1                      0.1     0.1                  1.0          \n",
              "       Game of Thrones\n",
              "Joao   1.0            \n",
              "Maria  0.1            \n",
              "Camila 6.0            \n",
              "Andre  2.0            "
            ],
            "text/latex": "A matrix: 4 × 5 of type dbl\n\\begin{tabular}{r|lllll}\n  & Quem vai ficar com Mary? & Friends & Pequena Miss Sunshine & A Vida é Bela & Game of Thrones\\\\\n\\hline\n\tJoao & 10.0 & 20.0 & 30.0 & 1.0 & 1.0\\\\\n\tMaria &  1.0 &  2.0 &  3.0 & 0.1 & 0.1\\\\\n\tCamila &  0.3 &  0.3 &  0.3 & 3.0 & 6.0\\\\\n\tAndre &  0.1 &  0.1 &  0.1 & 1.0 & 2.0\\\\\n\\end{tabular}\n",
            "text/markdown": "\nA matrix: 4 × 5 of type dbl\n\n| <!--/--> | Quem vai ficar com Mary? | Friends | Pequena Miss Sunshine | A Vida é Bela | Game of Thrones |\n|---|---|---|---|---|---|\n| Joao | 10.0 | 20.0 | 30.0 | 1.0 | 1.0 |\n| Maria |  1.0 |  2.0 |  3.0 | 0.1 | 0.1 |\n| Camila |  0.3 |  0.3 |  0.3 | 3.0 | 6.0 |\n| Andre |  0.1 |  0.1 |  0.1 | 1.0 | 2.0 |\n\n",
            "text/html": [
              "<table>\n",
              "<caption>A matrix: 4 × 5 of type dbl</caption>\n",
              "<thead>\n",
              "\t<tr><th></th><th scope=col>Quem vai ficar com Mary?</th><th scope=col>Friends</th><th scope=col>Pequena Miss Sunshine</th><th scope=col>A Vida é Bela</th><th scope=col>Game of Thrones</th></tr>\n",
              "</thead>\n",
              "<tbody>\n",
              "\t<tr><th scope=row>Joao</th><td>10.0</td><td>20.0</td><td>30.0</td><td>1.0</td><td>1.0</td></tr>\n",
              "\t<tr><th scope=row>Maria</th><td> 1.0</td><td> 2.0</td><td> 3.0</td><td>0.1</td><td>0.1</td></tr>\n",
              "\t<tr><th scope=row>Camila</th><td> 0.3</td><td> 0.3</td><td> 0.3</td><td>3.0</td><td>6.0</td></tr>\n",
              "\t<tr><th scope=row>Andre</th><td> 0.1</td><td> 0.1</td><td> 0.1</td><td>1.0</td><td>2.0</td></tr>\n",
              "</tbody>\n",
              "</table>\n"
            ]
          },
          "metadata": {
            "tags": []
          }
        }
      ]
    },
    {
      "cell_type": "markdown",
      "metadata": {
        "id": "gWzbLuojtolG",
        "colab_type": "text"
      },
      "source": [
        "Será que conseguimos obter as matrizes originais? Com os modelos de filmes e usuários?"
      ]
    },
    {
      "cell_type": "code",
      "metadata": {
        "id": "SM4fEtojs7Fw",
        "colab_type": "code",
        "colab": {
          "base_uri": "https://localhost:8080/",
          "height": 205
        },
        "outputId": "f14d852c-95fe-4c63-adb5-8e4e3274be1a"
      },
      "source": [
        "resultado <- nmf(usuario_filme, 2)\n",
        "w <- resultado@fit@W\n",
        "h <- resultado@fit@H\n",
        "w\n",
        "h"
      ],
      "execution_count": 14,
      "outputs": [
        {
          "output_type": "display_data",
          "data": {
            "text/plain": [
              "       [,1]       [,2]      \n",
              "Joao   89.3765510  3.0462358\n",
              "Maria   8.9376551  0.3046236\n",
              "Camila  0.5045514 28.1289809\n",
              "Andre   0.1681838  9.3763270"
            ],
            "text/latex": "A matrix: 4 × 2 of type dbl\n\\begin{tabular}{r|ll}\n\tJoao & 89.3765510 &  3.0462358\\\\\n\tMaria &  8.9376551 &  0.3046236\\\\\n\tCamila &  0.5045514 & 28.1289809\\\\\n\tAndre &  0.1681838 &  9.3763270\\\\\n\\end{tabular}\n",
            "text/markdown": "\nA matrix: 4 × 2 of type dbl\n\n| Joao | 89.3765510 |  3.0462358 |\n| Maria |  8.9376551 |  0.3046236 |\n| Camila |  0.5045514 | 28.1289809 |\n| Andre |  0.1681838 |  9.3763270 |\n\n",
            "text/html": [
              "<table>\n",
              "<caption>A matrix: 4 × 2 of type dbl</caption>\n",
              "<tbody>\n",
              "\t<tr><th scope=row>Joao</th><td>89.3765510</td><td> 3.0462358</td></tr>\n",
              "\t<tr><th scope=row>Maria</th><td> 8.9376551</td><td> 0.3046236</td></tr>\n",
              "\t<tr><th scope=row>Camila</th><td> 0.5045514</td><td>28.1289809</td></tr>\n",
              "\t<tr><th scope=row>Andre</th><td> 0.1681838</td><td> 9.3763270</td></tr>\n",
              "</tbody>\n",
              "</table>\n"
            ]
          },
          "metadata": {
            "tags": []
          }
        },
        {
          "output_type": "display_data",
          "data": {
            "text/plain": [
              "     Quem vai ficar com Mary? Friends     Pequena Miss Sunshine A Vida é Bela\n",
              "[1,] 0.111590889              0.223545503 0.335500117           0.007558215  \n",
              "[2,] 0.008663544              0.006655407 0.004647269           0.106515998  \n",
              "     Game of Thrones\n",
              "[1,] 0.003920968    \n",
              "[2,] 0.213232811    "
            ],
            "text/latex": "A matrix: 2 × 5 of type dbl\n\\begin{tabular}{lllll}\n Quem vai ficar com Mary? & Friends & Pequena Miss Sunshine & A Vida é Bela & Game of Thrones\\\\\n\\hline\n\t 0.111590889 & 0.223545503 & 0.335500117 & 0.007558215 & 0.003920968\\\\\n\t 0.008663544 & 0.006655407 & 0.004647269 & 0.106515998 & 0.213232811\\\\\n\\end{tabular}\n",
            "text/markdown": "\nA matrix: 2 × 5 of type dbl\n\n| Quem vai ficar com Mary? | Friends | Pequena Miss Sunshine | A Vida é Bela | Game of Thrones |\n|---|---|---|---|---|\n| 0.111590889 | 0.223545503 | 0.335500117 | 0.007558215 | 0.003920968 |\n| 0.008663544 | 0.006655407 | 0.004647269 | 0.106515998 | 0.213232811 |\n\n",
            "text/html": [
              "<table>\n",
              "<caption>A matrix: 2 × 5 of type dbl</caption>\n",
              "<thead>\n",
              "\t<tr><th scope=col>Quem vai ficar com Mary?</th><th scope=col>Friends</th><th scope=col>Pequena Miss Sunshine</th><th scope=col>A Vida é Bela</th><th scope=col>Game of Thrones</th></tr>\n",
              "</thead>\n",
              "<tbody>\n",
              "\t<tr><td>0.111590889</td><td>0.223545503</td><td>0.335500117</td><td>0.007558215</td><td>0.003920968</td></tr>\n",
              "\t<tr><td>0.008663544</td><td>0.006655407</td><td>0.004647269</td><td>0.106515998</td><td>0.213232811</td></tr>\n",
              "</tbody>\n",
              "</table>\n"
            ]
          },
          "metadata": {
            "tags": []
          }
        }
      ]
    },
    {
      "cell_type": "markdown",
      "metadata": {
        "id": "hqP5ECRutnxd",
        "colab_type": "text"
      },
      "source": [
        "Compare as matrizes! Elas estão muito diferentes das originais?"
      ]
    },
    {
      "cell_type": "code",
      "metadata": {
        "colab_type": "code",
        "outputId": "07b4b93c-54f7-4f4c-900c-a3a7a11f8c2e",
        "id": "L9jAow9it4V8",
        "colab": {
          "base_uri": "https://localhost:8080/",
          "height": 143
        }
      },
      "source": [
        "approxa <- w %*% h\n",
        "approxa"
      ],
      "execution_count": 15,
      "outputs": [
        {
          "output_type": "display_data",
          "data": {
            "text/plain": [
              "       Quem vai ficar com Mary? Friends Pequena Miss Sunshine A Vida é Bela\n",
              "Joao   10.0                     20.0    30.0                  1.0          \n",
              "Maria   1.0                      2.0     3.0                  0.1          \n",
              "Camila  0.3                      0.3     0.3                  3.0          \n",
              "Andre   0.1                      0.1     0.1                  1.0          \n",
              "       Game of Thrones\n",
              "Joao   1.0            \n",
              "Maria  0.1            \n",
              "Camila 6.0            \n",
              "Andre  2.0            "
            ],
            "text/latex": "A matrix: 4 × 5 of type dbl\n\\begin{tabular}{r|lllll}\n  & Quem vai ficar com Mary? & Friends & Pequena Miss Sunshine & A Vida é Bela & Game of Thrones\\\\\n\\hline\n\tJoao & 10.0 & 20.0 & 30.0 & 1.0 & 1.0\\\\\n\tMaria &  1.0 &  2.0 &  3.0 & 0.1 & 0.1\\\\\n\tCamila &  0.3 &  0.3 &  0.3 & 3.0 & 6.0\\\\\n\tAndre &  0.1 &  0.1 &  0.1 & 1.0 & 2.0\\\\\n\\end{tabular}\n",
            "text/markdown": "\nA matrix: 4 × 5 of type dbl\n\n| <!--/--> | Quem vai ficar com Mary? | Friends | Pequena Miss Sunshine | A Vida é Bela | Game of Thrones |\n|---|---|---|---|---|---|\n| Joao | 10.0 | 20.0 | 30.0 | 1.0 | 1.0 |\n| Maria |  1.0 |  2.0 |  3.0 | 0.1 | 0.1 |\n| Camila |  0.3 |  0.3 |  0.3 | 3.0 | 6.0 |\n| Andre |  0.1 |  0.1 |  0.1 | 1.0 | 2.0 |\n\n",
            "text/html": [
              "<table>\n",
              "<caption>A matrix: 4 × 5 of type dbl</caption>\n",
              "<thead>\n",
              "\t<tr><th></th><th scope=col>Quem vai ficar com Mary?</th><th scope=col>Friends</th><th scope=col>Pequena Miss Sunshine</th><th scope=col>A Vida é Bela</th><th scope=col>Game of Thrones</th></tr>\n",
              "</thead>\n",
              "<tbody>\n",
              "\t<tr><th scope=row>Joao</th><td>10.0</td><td>20.0</td><td>30.0</td><td>1.0</td><td>1.0</td></tr>\n",
              "\t<tr><th scope=row>Maria</th><td> 1.0</td><td> 2.0</td><td> 3.0</td><td>0.1</td><td>0.1</td></tr>\n",
              "\t<tr><th scope=row>Camila</th><td> 0.3</td><td> 0.3</td><td> 0.3</td><td>3.0</td><td>6.0</td></tr>\n",
              "\t<tr><th scope=row>Andre</th><td> 0.1</td><td> 0.1</td><td> 0.1</td><td>1.0</td><td>2.0</td></tr>\n",
              "</tbody>\n",
              "</table>\n"
            ]
          },
          "metadata": {
            "tags": []
          }
        }
      ]
    }
  ]
}