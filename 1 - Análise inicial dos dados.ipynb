{
  "nbformat": 4,
  "nbformat_minor": 0,
  "metadata": {
    "colab": {
      "name": "1 - Análise inicial dos dados.ipynb",
      "version": "0.3.2",
      "provenance": [],
      "include_colab_link": true
    },
    "language_info": {
      "codemirror_mode": "r",
      "file_extension": ".r",
      "mimetype": "text/x-r-source",
      "name": "R",
      "pygments_lexer": "r",
      "version": "3.3.1"
    },
    "kernelspec": {
      "display_name": "R",
      "language": "R",
      "name": "ir"
    }
  },
  "cells": [
    {
      "cell_type": "markdown",
      "metadata": {
        "id": "view-in-github",
        "colab_type": "text"
      },
      "source": [
        "<a href=\"https://colab.research.google.com/github/lauramoraes/Analise_de_Clusters/blob/master/1%20-%20An%C3%A1lise%20inicial%20dos%20dados.ipynb\" target=\"_parent\"><img src=\"https://colab.research.google.com/assets/colab-badge.svg\" alt=\"Open In Colab\"/></a>"
      ]
    },
    {
      "cell_type": "markdown",
      "metadata": {
        "id": "wn9t4aUDQH2z",
        "colab_type": "text"
      },
      "source": [
        "# Datasets"
      ]
    },
    {
      "cell_type": "markdown",
      "metadata": {
        "id": "UixQ-Y9VKjwy",
        "colab_type": "text"
      },
      "source": [
        "### Importando bibliotecas a serem usadas"
      ]
    },
    {
      "cell_type": "code",
      "metadata": {
        "id": "SvGJ9AF0OH45",
        "colab_type": "code",
        "outputId": "49304e46-5428-4804-af95-72b96edc9c70",
        "colab": {
          "base_uri": "https://localhost:8080/",
          "height": 186
        }
      },
      "source": [
        "install.packages('gdata')\n",
        "install.packages('caret')"
      ],
      "execution_count": 0,
      "outputs": [
        {
          "output_type": "stream",
          "text": [
            "Installing package into ‘/usr/local/lib/R/site-library’\n",
            "(as ‘lib’ is unspecified)\n",
            "also installing the dependency ‘gtools’\n",
            "\n",
            "Installing package into ‘/usr/local/lib/R/site-library’\n",
            "(as ‘lib’ is unspecified)\n",
            "also installing the dependencies ‘numDeriv’, ‘SQUAREM’, ‘lava’, ‘prodlim’, ‘iterators’, ‘data.table’, ‘gower’, ‘ipred’, ‘RcppRoll’, ‘timeDate’, ‘foreach’, ‘ModelMetrics’, ‘recipes’\n",
            "\n"
          ],
          "name": "stderr"
        }
      ]
    },
    {
      "cell_type": "code",
      "metadata": {
        "id": "Unsb8k4MKWgb",
        "colab_type": "code",
        "outputId": "5f939f7d-9ac9-4caa-f432-fcaa7687148e",
        "colab": {
          "base_uri": "https://localhost:8080/",
          "height": 1038
        }
      },
      "source": [
        "library(tidyverse)\n",
        "library(gdata)\n",
        "library(caret)\n"
      ],
      "execution_count": 0,
      "outputs": [
        {
          "output_type": "stream",
          "text": [
            "Registered S3 methods overwritten by 'ggplot2':\n",
            "  method         from \n",
            "  [.quosures     rlang\n",
            "  c.quosures     rlang\n",
            "  print.quosures rlang\n",
            "Registered S3 method overwritten by 'rvest':\n",
            "  method            from\n",
            "  read_xml.response xml2\n",
            "── \u001b[1mAttaching packages\u001b[22m ─────────────────────────────────────── tidyverse 1.2.1 ──\n",
            "\u001b[32m✔\u001b[39m \u001b[34mggplot2\u001b[39m 3.1.1       \u001b[32m✔\u001b[39m \u001b[34mpurrr  \u001b[39m 0.3.2  \n",
            "\u001b[32m✔\u001b[39m \u001b[34mtibble \u001b[39m 2.1.1       \u001b[32m✔\u001b[39m \u001b[34mdplyr  \u001b[39m 0.8.0.\u001b[31m1\u001b[39m\n",
            "\u001b[32m✔\u001b[39m \u001b[34mtidyr  \u001b[39m 0.8.3       \u001b[32m✔\u001b[39m \u001b[34mstringr\u001b[39m 1.4.0  \n",
            "\u001b[32m✔\u001b[39m \u001b[34mreadr  \u001b[39m 1.3.1       \u001b[32m✔\u001b[39m \u001b[34mforcats\u001b[39m 0.4.0  \n",
            "── \u001b[1mConflicts\u001b[22m ────────────────────────────────────────── tidyverse_conflicts() ──\n",
            "\u001b[31m✖\u001b[39m \u001b[34mdplyr\u001b[39m::\u001b[32mfilter()\u001b[39m masks \u001b[34mstats\u001b[39m::filter()\n",
            "\u001b[31m✖\u001b[39m \u001b[34mdplyr\u001b[39m::\u001b[32mlag()\u001b[39m    masks \u001b[34mstats\u001b[39m::lag()\n",
            "gdata: read.xls support for 'XLS' (Excel 97-2004) files ENABLED.\n",
            "\n",
            "gdata: Unable to load perl libaries needed by read.xls()\n",
            "gdata: to support 'XLSX' (Excel 2007+) files.\n",
            "\n",
            "gdata: Run the function 'installXLSXsupport()'\n",
            "gdata: to automatically download and install the perl\n",
            "gdata: libaries needed to support Excel XLS and XLSX formats.\n",
            "\n",
            "Attaching package: ‘gdata’\n",
            "\n",
            "The following objects are masked from ‘package:dplyr’:\n",
            "\n",
            "    combine, first, last\n",
            "\n",
            "The following object is masked from ‘package:purrr’:\n",
            "\n",
            "    keep\n",
            "\n",
            "The following object is masked from ‘package:stats’:\n",
            "\n",
            "    nobs\n",
            "\n",
            "The following object is masked from ‘package:utils’:\n",
            "\n",
            "    object.size\n",
            "\n",
            "The following object is masked from ‘package:base’:\n",
            "\n",
            "    startsWith\n",
            "\n",
            "Loading required package: lattice\n",
            "\n",
            "Attaching package: ‘caret’\n",
            "\n",
            "The following object is masked from ‘package:purrr’:\n",
            "\n",
            "    lift\n",
            "\n"
          ],
          "name": "stderr"
        }
      ]
    },
    {
      "cell_type": "markdown",
      "metadata": {
        "id": "M6AakX8RAiP7",
        "colab_type": "text"
      },
      "source": [
        "## Reunindo e explorando alguns datasets disponíveis\n",
        "Lista:\n",
        "\n",
        "\n",
        "1. [Whisky](http://adn.biol.umontreal.ca/~numericalecology/data/scotch.html)\n",
        "2. [Netflix Prize](https://www.kaggle.com/netflix-inc/netflix-prize-dalibrary(dplyr)ta)\n",
        "3. [S&P 500](https://www.kaggle.com/camnugent/sandp500)\n",
        "4. [Circulação de bicicleta](https://github.com/jattenberg/PDS-Spring-2014)\n",
        "5. [Vinho](https://archive.ics.uci.edu/ml/datasets/wine)\n",
        "6. [Housing](https://www.kaggle.com/c/house-prices-advanced-regression-techniques/data)\n",
        "7. [Telco](https://www.kaggle.com/blastchar/telco-customer-churn)\n",
        "\n",
        "\n"
      ]
    },
    {
      "cell_type": "markdown",
      "metadata": {
        "id": "J2pa0m1z05Om",
        "colab_type": "text"
      },
      "source": [
        "### Download dos dados"
      ]
    },
    {
      "cell_type": "code",
      "metadata": {
        "id": "oFhW9pLjAiQo",
        "colab_type": "code",
        "colab": {}
      },
      "source": [
        "whisky <- \"https://www.dropbox.com/s/tw7fb2rtbjh5gvo/scotch.csv?dl=1\"\n",
        "sandp500 <- \"https://www.dropbox.com/s/fg4cz6g1qzbkkc2/all_stocks_5yr.csv?dl=1\"\n",
        "citibike <- \"https://www.dropbox.com/s/ecm3gokkuvtgayc/citi_bike.csv?dl=1\"\n",
        "wine <- \"https://www.dropbox.com/s/m4h8s53ymei4spl/wine_data.csv?dl=1\"\n",
        "telco <- \"https://www.dropbox.com/s/w3jw1fd9u445afy/telco_treino.csv?dl=1\"\n",
        "housing <- \"https://www.dropbox.com/s/2h5lm59tcp0663d/housing_treino.csv?dl=1\"\n",
        "\n",
        "\n",
        "# Escolha um dataset e faça o download\n",
        "data <- read.csv(whisky, sep=\";\")"
      ],
      "execution_count": 0,
      "outputs": []
    },
    {
      "cell_type": "markdown",
      "metadata": {
        "id": "dIJbcVYgMcC1",
        "colab_type": "text"
      },
      "source": [
        "## Objetivo\n",
        "\n",
        "Dado que eu sei um *whisky* que eu gosto e tenho dados sobre a **composição do whisky**, como **recomendar** um outro whisky?"
      ]
    },
    {
      "cell_type": "markdown",
      "metadata": {
        "id": "DgZFJ93dQspD",
        "colab_type": "text"
      },
      "source": [
        "### Qual a ideia por trás?"
      ]
    },
    {
      "cell_type": "markdown",
      "metadata": {
        "id": "JTzDKjWdN07U",
        "colab_type": "text"
      },
      "source": [
        "Para recomendar um novo whisky, precisa-se saber quais são **parecidos** ou **similares** à aqueles que eu tomei e gostei.\n",
        "\n",
        "Existem diversas métricas de similaridade, as mais comuns baseadas em **geometria**. Uma maneira de conseguir calculá-las é representar os dados através de **vetores** e localizá-los em um espaço vetorial. Dessa maneira, é possível utilizar funções de distância entre vetores (como euclidiana, coseno, entre outras) como medidas de similaridade.\n",
        "\n",
        "Para facilitar a visualização das diferentes observações e facilitar os cálculos, podemos reunir um conjunto de **vetores** e realizar as contas todas de uma vez. O conjunto de vetores é chamado **matriz**, onde cada linha representa um dado diferente e cada coluna uma característica ou **atributo** do dado.\n",
        "\n",
        "<img src=\"https://drive.google.com/uc?export=view&id=1o-4M9vM2aJ2dukdSY26Ncfss8I6xEfma\" width=\"50%\"/>\n",
        "\n"
      ]
    },
    {
      "cell_type": "markdown",
      "metadata": {
        "id": "4V-ogs0pAiRc",
        "colab_type": "text"
      },
      "source": [
        "### Colocando nossos dados no espaço vetorial\n",
        "\n",
        "\n",
        "\n",
        "\n"
      ]
    },
    {
      "cell_type": "code",
      "metadata": {
        "id": "sfloOZJPAiRi",
        "colab_type": "code",
        "outputId": "e0ec394f-499c-44c4-acb6-fa9fff04754a",
        "colab": {
          "base_uri": "https://localhost:8080/",
          "height": 1382
        }
      },
      "source": [
        "data"
      ],
      "execution_count": 0,
      "outputs": [
        {
          "output_type": "display_data",
          "data": {
            "text/plain": [
              "    NAME               X          wyne yellow v.pale pale p.gold gold o.gold\n",
              "1   Aberfeldy          Aberfeldy  0    1      0      0    0      0    0     \n",
              "2   Aberlour           Aberlour   0    0      0      0    0      0    0     \n",
              "3   Ardberg            Ardberg    0    0      0      0    0      0    0     \n",
              "4   Ardmore            Ardmore    0    0      0      0    1      0    0     \n",
              "5   Auchentoshan       Auchentosh 0    0      0      0    1      0    0     \n",
              "6   Aultmore           Aultmore   0    0      1      0    0      0    0     \n",
              "7   Balblair           Balblair   1    0      0      0    0      0    0     \n",
              "8   Balmenach          Balmenach  0    0      0      0    1      0    0     \n",
              "9   Balvenie           Balvenie   0    0      0      0    0      0    0     \n",
              "10  Banff              Banff      0    0      0      0    0      0    0     \n",
              "11  Ben Nevis          Ben Nevis  0    0      0      0    0      0    0     \n",
              "12  Benriach           Benriach   0    0      0      0    0      1    0     \n",
              "13  Benrinnes          Benrinnes  0    0      0      0    0      0    0     \n",
              "14  Benromach          Benromach  0    0      0      0    0      0    0     \n",
              "15  Bladnoch           Bladnoch   0    1      0      0    0      0    0     \n",
              "16  Blair Athol        Blair Atho 0    0      0      0    1      0    0     \n",
              "17  Bowmore            Bowmore    0    0      0      0    0      0    1     \n",
              "18  Brackla            Brackla    0    0      0      0    0      0    1     \n",
              "19  Bruichladdich      Bruichladd 0    0      0      1    0      0    0     \n",
              "20  Bunnahabhain       Bunnahabha 0    0      0      0    0      1    0     \n",
              "21  Caol Ila           Caol Ila   1    0      0      0    0      0    0     \n",
              "22  Caperdonich        Caperdonic 0    0      0      0    0      0    0     \n",
              "23  Cardhu             Cardhu     0    0      0      1    0      0    0     \n",
              "24  Clynelish          Clynelish  0    0      0      0    0      0    0     \n",
              "25  Coleburn           Coleburn   0    0      0      0    1      0    0     \n",
              "26  Convalmore         Convalmore 0    0      0      0    0      0    0     \n",
              "27  Cragganmore        Cragganmor 0    0      0      0    0      1    0     \n",
              "28  Craigellachie      Craigellac 0    0      0      0    0      0    0     \n",
              "29  Dailuaine          Dailuaine  0    0      0      0    0      1    0     \n",
              "30  Dallas Dhu         Dallas Dhu 0    0      0      0    0      0    0     \n",
              "⋮   ⋮                  ⋮          ⋮    ⋮      ⋮      ⋮    ⋮      ⋮    ⋮     \n",
              "80  Linkwood           Linkwood   0    0      0      0    0      0    0     \n",
              "81  Littlemill         Littlemill 1    0      0      0    0      0    0     \n",
              "82  Lochnagar          Lochnagar  0    0      0      0    0      0    0     \n",
              "83  Lochside           Lochside   0    0      0      0    0      0    0     \n",
              "84  Longmorn           Longmorn   0    0      0      0    0      0    0     \n",
              "85  Macallan           Macallan   0    0      0      0    0      0    0     \n",
              "86  Millburn           Millburn   0    0      0      0    0      0    0     \n",
              "87  Miltonduff         Miltonduff 0    0      0      0    1      0    0     \n",
              "88  Mortlach           Mortlach   0    0      0      0    0      0    0     \n",
              "89  North Port         North Port 0    0      0      0    0      0    0     \n",
              "90  Oban               Oban       0    0      0      0    0      0    0     \n",
              "91  Port Ellen         Port Ellen 0    0      0      0    0      0    0     \n",
              "92  Pulteney           Pulteney   0    0      0      0    0      0    0     \n",
              "93  Rosebank           Rosebank   0    0      0      0    0      0    0     \n",
              "94  Saint Magdalene    Saint Magd 0    0      0      0    0      0    0     \n",
              "95  Scapa              Scapa      0    0      0      0    0      0    0     \n",
              "96  Singleton          Singleton  0    0      0      0    0      0    0     \n",
              "97  Speyburn           Speyburn   0    0      0      0    0      0    0     \n",
              "98  Springbank         Springbank 0    0      0      0    0      1    0     \n",
              "99  Springbank-Longrow Longrow    0    0      0      0    0      1    0     \n",
              "100 Strathisla         Strathisla 0    0      0      0    0      0    0     \n",
              "101 Talisker           Talisker   0    0      0      0    0      0    0     \n",
              "102 Tamdhu             Tamdhu     0    0      0      0    0      0    0     \n",
              "103 Tamnavulin         Tamnavulin 1    0      0      0    0      0    0     \n",
              "104 Teaninich          Teaninich  0    0      0      0    0      0    0     \n",
              "105 Tobermory          Tobermory  0    0      0      0    0      0    0     \n",
              "106 Tomatin            Tomatin    0    0      0      0    0      0    0     \n",
              "107 Tomintoul          Tomintoul  0    0      0      0    0      0    0     \n",
              "108 Tormore            Tormore    0    0      0      0    0      0    0     \n",
              "109 Tullibardine       Tullibardi 0    0      0      0    0      1    0     \n",
              "    f.gold ⋯ DISTRICT  islay midland spey east west north lowland campbell\n",
              "1   0      ⋯ MIDLAND   0     1       0    0    0    0     0       0       \n",
              "2   0      ⋯ SPEY      0     0       1    0    0    0     0       0       \n",
              "3   0      ⋯ SOUTH     1     0       0    0    0    0     0       0       \n",
              "4   0      ⋯ SPEY      0     0       1    0    0    0     0       0       \n",
              "5   0      ⋯ WEST      0     0       0    0    0    0     1       0       \n",
              "6   0      ⋯ SPEY      0     0       1    0    0    0     0       0       \n",
              "7   0      ⋯ NORTH     0     0       0    0    0    1     0       0       \n",
              "8   0      ⋯ SPEY      0     0       1    0    0    0     0       0       \n",
              "9   0      ⋯ SPEY      0     0       1    0    0    0     0       0       \n",
              "10  1      ⋯ SPEY      0     0       1    0    0    0     0       0       \n",
              "11  0      ⋯ WEST      0     0       0    0    1    0     0       0       \n",
              "12  0      ⋯ SPEY      0     0       1    0    0    0     0       0       \n",
              "13  0      ⋯ SPEY      0     0       1    0    0    0     0       0       \n",
              "14  0      ⋯ SPEY      0     0       1    0    0    0     0       0       \n",
              "15  0      ⋯ BORDERS   0     0       0    0    0    0     1       0       \n",
              "16  0      ⋯ MIDLAND   0     1       0    0    0    0     0       0       \n",
              "17  0      ⋯ LOCH      1     0       0    0    0    0     0       0       \n",
              "18  0      ⋯ SPEY      0     0       1    0    0    0     0       0       \n",
              "19  0      ⋯ LOCH      1     0       0    0    0    0     0       0       \n",
              "20  0      ⋯ NORTH     1     0       0    0    0    0     0       0       \n",
              "21  0      ⋯ NORTH     1     0       0    0    0    0     0       0       \n",
              "22  1      ⋯ SPEY      0     0       1    0    0    0     0       0       \n",
              "23  0      ⋯ SPEY      0     0       1    0    0    0     0       0       \n",
              "24  0      ⋯ NORTH     0     0       0    0    0    1     0       0       \n",
              "25  0      ⋯ SPEY      0     0       1    0    0    0     0       0       \n",
              "26  1      ⋯ SPEY      0     0       1    0    0    0     0       0       \n",
              "27  0      ⋯ SPEY      0     0       1    0    0    0     0       0       \n",
              "28  1      ⋯ SPEY      0     0       1    0    0    0     0       0       \n",
              "29  0      ⋯ SPEY      0     0       1    0    0    0     0       0       \n",
              "30  0      ⋯ SPEY      0     0       1    0    0    0     0       0       \n",
              "⋮   ⋮      ⋱ ⋮         ⋮     ⋮       ⋮    ⋮    ⋮    ⋮     ⋮       ⋮       \n",
              "80  1      ⋯ SPEY      0     0       1    0    0    0     0       0       \n",
              "81  0      ⋯ NORTHWEST 0     0       0    0    0    0     1       0       \n",
              "82  1      ⋯ EAST      0     0       0    1    0    0     0       0       \n",
              "83  0      ⋯ EAST      0     0       0    1    0    0     0       0       \n",
              "84  1      ⋯ SPEY      0     0       1    0    0    0     0       0       \n",
              "85  0      ⋯ SPEY      0     0       1    0    0    0     0       0       \n",
              "86  0      ⋯ SPEY      0     0       1    0    0    0     0       0       \n",
              "87  0      ⋯ SPEY      0     0       1    0    0    0     0       0       \n",
              "88  0      ⋯ SPEY      0     0       1    0    0    0     0       0       \n",
              "89  1      ⋯ EAST      0     0       0    1    0    0     0       0       \n",
              "90  0      ⋯ WEST      0     0       0    1    0    0     0       0       \n",
              "91  0      ⋯ SOUTH     0     0       0    0    1    0     0       0       \n",
              "92  0      ⋯ NORTH     0     0       0    0    0    1     0       0       \n",
              "93  0      ⋯ CENTRAL   0     0       0    0    0    0     1       0       \n",
              "94  0      ⋯ CENTRAL   0     0       0    0    0    0     1       0       \n",
              "95  0      ⋯ ORKNEY    0     0       0    0    0    0     0       0       \n",
              "96  0      ⋯ SPEY      0     0       1    0    0    0     0       0       \n",
              "97  0      ⋯ SPEY      0     0       1    0    0    0     0       0       \n",
              "98  0      ⋯ CAMPBEL   0     0       0    0    0    0     0       1       \n",
              "99  0      ⋯ CAMPBEL   0     0       0    0    0    0     0       1       \n",
              "100 0      ⋯ SPEY      0     0       1    0    0    0     0       0       \n",
              "101 0      ⋯ SKYE      0     0       0    0    0    0     0       0       \n",
              "102 0      ⋯ SPEY      0     0       1    0    0    0     0       0       \n",
              "103 0      ⋯ SPEY      0     0       1    0    0    0     0       0       \n",
              "104 0      ⋯ NORTH     0     0       0    0    0    1     0       0       \n",
              "105 1      ⋯ MULL      0     0       0    0    0    0     0       0       \n",
              "106 1      ⋯ SPEY      0     0       1    0    0    0     0       0       \n",
              "107 1      ⋯ SPEY      0     0       1    0    0    0     0       0       \n",
              "108 1      ⋯ SPEY      0     0       1    0    0    0     0       0       \n",
              "109 0      ⋯ MIDLAND   0     1       0    0    0    0     0       0       \n",
              "    islands\n",
              "1   0      \n",
              "2   0      \n",
              "3   0      \n",
              "4   0      \n",
              "5   0      \n",
              "6   0      \n",
              "7   0      \n",
              "8   0      \n",
              "9   0      \n",
              "10  0      \n",
              "11  0      \n",
              "12  0      \n",
              "13  0      \n",
              "14  0      \n",
              "15  0      \n",
              "16  0      \n",
              "17  0      \n",
              "18  0      \n",
              "19  0      \n",
              "20  0      \n",
              "21  0      \n",
              "22  0      \n",
              "23  0      \n",
              "24  0      \n",
              "25  0      \n",
              "26  0      \n",
              "27  0      \n",
              "28  0      \n",
              "29  0      \n",
              "30  0      \n",
              "⋮   ⋮      \n",
              "80  0      \n",
              "81  0      \n",
              "82  0      \n",
              "83  0      \n",
              "84  0      \n",
              "85  0      \n",
              "86  0      \n",
              "87  0      \n",
              "88  0      \n",
              "89  0      \n",
              "90  0      \n",
              "91  0      \n",
              "92  0      \n",
              "93  0      \n",
              "94  0      \n",
              "95  1      \n",
              "96  0      \n",
              "97  0      \n",
              "98  0      \n",
              "99  0      \n",
              "100 0      \n",
              "101 1      \n",
              "102 0      \n",
              "103 0      \n",
              "104 0      \n",
              "105 1      \n",
              "106 0      \n",
              "107 0      \n",
              "108 0      \n",
              "109 0      "
            ],
            "text/latex": "A data.frame: 109 × 85\n\\begin{tabular}{r|lllllllllllllllllllllllllllllllllllllllllllllllllllllllllllllllllllllllllllllllllllll}\n NAME & X & wyne & yellow & v.pale & pale & p.gold & gold & o.gold & f.gold & bronze & p.amber & amber & f.amber & red & sherry & AROMA & PEAT & SWEET & LIGHT & FRESH & DRY & FRUIT & GRASS & SEA & SHERRY & SPICY & RICH & soft & med & full & round & smooth & light & firm & oily & full.1 & dry & sherry.1 & big & light.1 & smooth.1 & clean & fruit & grass & smoke & sweet & spice & oil & salt & arome & full.2 & dry.1 & warm & big.1 & light.2 & smooth.2 & clean.1 & fruit.1 & grass.1 & smoke.1 & sweet.1 & spice.1 & oil.1 & salt.1 & arome.1 & ling & long & very & quick & AGE & DIST & SCORE & X. & REGION & DISTRICT & islay & midland & spey & east & west & north & lowland & campbell & islands\\\\\n <fct> & <fct> & <int> & <int> & <int> & <int> & <int> & <int> & <int> & <int> & <int> & <int> & <int> & <int> & <int> & <int> & <int> & <int> & <int> & <int> & <int> & <int> & <int> & <int> & <int> & <int> & <int> & <int> & <int> & <int> & <int> & <int> & <int> & <int> & <int> & <int> & <int> & <int> & <int> & <int> & <int> & <int> & <int> & <int> & <int> & <int> & <int> & <int> & <int> & <int> & <int> & <int> & <int> & <int> & <int> & <int> & <int> & <int> & <int> & <int> & <int> & <int> & <int> & <int> & <int> & <int> & <int> & <int> & <int> & <int> & <int> & <int> & <int> & <fct> & <fct> & <fct> & <int> & <int> & <int> & <int> & <int> & <int> & <int> & <int> & <int>\\\\\n\\hline\n\t Aberfeldy     & Aberfeldy  & 0 & 1 & 0 & 0 & 0 & 0 & 0 & 0 & 0 & 0 & 0 & 0 & 0 & 0 & 1 & 1 & 0 & 0 & 0 & 0 & 1 & 0 & 0 & 0 & 0 & 0 & 1 & 1 & 0 & 0 & 0 & 0 & 0 & 0 & 0 & 0 & 1 & 0 & 0 & 0 & 0 & 0 & 0 & 0 & 0 & 0 & 1 & 0 & 0 & 1 & 1 & 0 & 0 & 0 & 0 & 0 & 1 & 0 & 0 & 0 & 1 & 0 & 0 & 0 & 0 & 0 & 0 & 0 & -9 & 2 & 69 & 40 & HIGH  & MIDLAND & 0 & 1 & 0 & 0 & 0 & 0 & 0 & 0 & 0\\\\\n\t Aberlour      & Aberlour   & 0 & 0 & 0 & 0 & 0 & 0 & 0 & 0 & 0 & 0 & 0 & 0 & 1 & 0 & 0 & 0 & 1 & 0 & 0 & 0 & 0 & 0 & 0 & 0 & 0 & 1 & 1 & 1 & 1 & 1 & 1 & 0 & 0 & 0 & 1 & 0 & 1 & 0 & 0 & 0 & 0 & 1 & 0 & 0 & 1 & 1 & 0 & 0 & 0 & 0 & 0 & 0 & 0 & 0 & 0 & 1 & 0 & 0 & 0 & 0 & 0 & 0 & 0 & 0 & 1 & 0 & 0 & 0 & 12 & 4 & 83 & 43 & HIGH  & SPEY    & 0 & 0 & 1 & 0 & 0 & 0 & 0 & 0 & 0\\\\\n\t Ardberg       & Ardberg    & 0 & 0 & 0 & 0 & 0 & 0 & 0 & 0 & 0 & 0 & 0 & 0 & 0 & 1 & 0 & 1 & 0 & 0 & 0 & 1 & 0 & 0 & 1 & 0 & 0 & 0 & 0 & 1 & 1 & 0 & 0 & 1 & 1 & 0 & 0 & 0 & 0 & 0 & 0 & 0 & 0 & 0 & 0 & 0 & 1 & 0 & 0 & 0 & 0 & 0 & 0 & 0 & 0 & 0 & 0 & 0 & 0 & 0 & 0 & 0 & 0 & 0 & 1 & 0 & 0 & 0 & 0 & 0 & 10 & 4 & 85 & 40 & ISLAY & SOUTH   & 1 & 0 & 0 & 0 & 0 & 0 & 0 & 0 & 0\\\\\n\t Ardmore       & Ardmore    & 0 & 0 & 0 & 0 & 1 & 0 & 0 & 0 & 0 & 0 & 0 & 0 & 0 & 0 & 0 & 0 & 1 & 0 & 0 & 0 & 0 & 1 & 0 & 1 & 0 & 0 & 0 & 0 & 1 & 0 & 0 & 0 & 0 & 0 & 0 & 0 & 0 & 1 & 0 & 0 & 0 & 0 & 1 & 0 & 1 & 0 & 0 & 0 & 0 & 0 & 0 & 0 & 1 & 0 & 0 & 0 & 0 & 0 & 0 & 0 & 0 & 0 & 0 & 0 & 0 & 0 & 0 & 0 & 18 & 2 & 66 & 46 & HIGH  & SPEY    & 0 & 0 & 1 & 0 & 0 & 0 & 0 & 0 & 0\\\\\n\t Auchentoshan  & Auchentosh & 0 & 0 & 0 & 0 & 1 & 0 & 0 & 0 & 0 & 0 & 0 & 0 & 0 & 0 & 0 & 0 & 0 & 0 & 1 & 0 & 1 & 1 & 0 & 0 & 0 & 0 & 1 & 0 & 0 & 0 & 0 & 0 & 0 & 0 & 0 & 0 & 0 & 0 & 1 & 0 & 0 & 1 & 1 & 0 & 1 & 0 & 0 & 0 & 0 & 0 & 0 & 0 & 0 & 0 & 0 & 0 & 0 & 0 & 0 & 0 & 1 & 0 & 0 & 0 & 0 & 0 & 0 & 0 & 10 & 5 & 85 & 40 & LOW   & WEST    & 0 & 0 & 0 & 0 & 0 & 0 & 1 & 0 & 0\\\\\n\t Aultmore      & Aultmore   & 0 & 0 & 1 & 0 & 0 & 0 & 0 & 0 & 0 & 0 & 0 & 0 & 0 & 0 & 1 & 0 & 0 & 0 & 1 & 0 & 0 & 0 & 0 & 0 & 0 & 0 & 0 & 0 & 0 & 0 & 0 & 0 & 1 & 0 & 0 & 0 & 0 & 0 & 1 & 0 & 0 & 1 & 0 & 0 & 0 & 1 & 0 & 0 & 0 & 0 & 1 & 0 & 0 & 0 & 0 & 0 & 0 & 0 & 0 & 0 & 0 & 0 & 0 & 0 & 0 & 0 & 0 & 0 & 12 & 3 & 75 & 40 & HIGH  & SPEY    & 0 & 0 & 1 & 0 & 0 & 0 & 0 & 0 & 0\\\\\n\t Balblair      & Balblair   & 1 & 0 & 0 & 0 & 0 & 0 & 0 & 0 & 0 & 0 & 0 & 0 & 0 & 0 & 0 & 0 & 0 & 0 & 1 & 0 & 1 & 0 & 0 & 0 & 0 & 0 & 0 & 0 & 0 & 0 & 0 & 1 & 0 & 0 & 0 & 0 & 0 & 0 & 0 & 0 & 0 & 1 & 0 & 0 & 1 & 1 & 0 & 0 & 0 & 0 & 1 & 0 & 0 & 0 & 0 & 0 & 1 & 0 & 0 & 0 & 0 & 0 & 0 & 0 & 1 & 0 & 0 & 0 & 10 & 3 & 76 & 40 & HIGH  & NORTH   & 0 & 0 & 0 & 0 & 0 & 1 & 0 & 0 & 0\\\\\n\t Balmenach     & Balmenach  & 0 & 0 & 0 & 0 & 1 & 0 & 0 & 0 & 0 & 0 & 0 & 0 & 0 & 0 & 1 & 1 & 1 & 0 & 0 & 0 & 1 & 1 & 0 & 0 & 0 & 0 & 1 & 1 & 0 & 0 & 1 & 1 & 0 & 0 & 0 & 1 & 0 & 0 & 0 & 0 & 0 & 0 & 0 & 0 & 1 & 0 & 0 & 0 & 0 & 0 & 0 & 0 & 0 & 0 & 0 & 0 & 0 & 0 & 0 & 0 & 0 & 0 & 0 & 0 & 0 & 1 & 0 & 0 & -9 & 3 & 69 & 40 & HIGH  & SPEY    & 0 & 0 & 1 & 0 & 0 & 0 & 0 & 0 & 0\\\\\n\t Balvenie      & Balvenie   & 0 & 0 & 0 & 0 & 0 & 0 & 0 & 0 & 0 & 0 & 1 & 0 & 0 & 0 & 1 & 0 & 0 & 0 & 0 & 0 & 1 & 0 & 0 & 0 & 0 & 0 & 0 & 1 & 0 & 0 & 0 & 0 & 0 & 0 & 1 & 1 & 0 & 0 & 0 & 0 & 0 & 0 & 0 & 0 & 1 & 0 & 0 & 0 & 0 & 0 & 0 & 0 & 0 & 0 & 0 & 0 & 0 & 0 & 0 & 0 & 0 & 1 & 0 & 0 & 1 & 0 & 0 & 0 & -9 & 4 & 85 & 40 & HIGH  & SPEY    & 0 & 0 & 1 & 0 & 0 & 0 & 0 & 0 & 0\\\\\n\t Banff         & Banff      & 0 & 0 & 0 & 0 & 0 & 0 & 0 & 1 & 0 & 0 & 0 & 0 & 0 & 0 & 1 & 1 & 0 & 0 & 0 & 0 & 0 & 0 & 0 & 0 & 0 & 0 & 0 & 1 & 0 & 0 & 0 & 0 & 0 & 0 & 0 & 0 & 0 & 0 & 0 & 0 & 1 & 0 & 0 & 1 & 1 & 0 & 0 & 0 & 0 & 0 & 0 & 0 & 0 & 0 & 0 & 1 & 0 & 0 & 0 & 0 & 1 & 0 & 0 & 0 & 0 & 0 & 0 & 0 & -9 & 2 & 66 & 40 & HIGH  & SPEY    & 0 & 0 & 1 & 0 & 0 & 0 & 0 & 0 & 0\\\\\n\t Ben Nevis     & Ben Nevis  & 0 & 0 & 0 & 0 & 0 & 0 & 0 & 0 & 0 & 0 & 0 & 1 & 0 & 0 & 0 & 0 & 0 & 0 & 0 & 0 & 1 & 1 & 0 & 0 & 0 & 0 & 0 & 0 & 0 & 0 & 0 & 0 & 1 & 1 & 0 & 0 & 0 & 0 & 0 & 0 & 0 & 1 & 0 & 0 & 1 & 0 & 0 & 0 & 0 & 0 & 0 & 0 & 0 & 0 & 0 & 0 & 0 & 0 & 0 & 1 & 0 & 0 & 0 & 0 & 0 & 0 & 0 & 0 & -9 & 1 & 55 & 40 & HIGH  & WEST    & 0 & 0 & 0 & 0 & 1 & 0 & 0 & 0 & 0\\\\\n\t Benriach      & Benriach   & 0 & 0 & 0 & 0 & 0 & 1 & 0 & 0 & 0 & 0 & 0 & 0 & 0 & 0 & 1 & 0 & 0 & 0 & 0 & 0 & 0 & 1 & 0 & 0 & 0 & 0 & 0 & 1 & 0 & 0 & 0 & 1 & 0 & 0 & 0 & 1 & 0 & 0 & 0 & 0 & 0 & 0 & 0 & 0 & 1 & 0 & 0 & 0 & 0 & 0 & 1 & 1 & 0 & 0 & 0 & 0 & 0 & 0 & 1 & 0 & 0 & 0 & 0 & 0 & 0 & 0 & 0 & 0 & -9 & 3 & 69 & 40 & HIGH  & SPEY    & 0 & 0 & 1 & 0 & 0 & 0 & 0 & 0 & 0\\\\\n\t Benrinnes     & Benrinnes  & 0 & 0 & 0 & 0 & 0 & 0 & 0 & 0 & 0 & 0 & 1 & 0 & 0 & 0 & 1 & 1 & 0 & 0 & 0 & 0 & 0 & 0 & 0 & 0 & 0 & 0 & 0 & 1 & 0 & 1 & 1 & 0 & 1 & 0 & 1 & 1 & 0 & 0 & 0 & 0 & 0 & 0 & 0 & 0 & 0 & 0 & 0 & 0 & 0 & 0 & 1 & 0 & 1 & 0 & 0 & 0 & 0 & 0 & 1 & 0 & 0 & 0 & 0 & 0 & 0 & 0 & 0 & 0 & -9 & 3 & 78 & 40 & HIGH  & SPEY    & 0 & 0 & 1 & 0 & 0 & 0 & 0 & 0 & 0\\\\\n\t Benromach     & Benromach  & 0 & 0 & 0 & 0 & 0 & 0 & 0 & 0 & 0 & 0 & 1 & 0 & 0 & 0 & 1 & 1 & 0 & 0 & 0 & 1 & 0 & 1 & 0 & 0 & 0 & 0 & 0 & 1 & 0 & 0 & 0 & 0 & 0 & 0 & 1 & 0 & 0 & 0 & 1 & 1 & 0 & 1 & 1 & 1 & 1 & 0 & 0 & 0 & 0 & 0 & 0 & 0 & 0 & 0 & 0 & 0 & 1 & 0 & 1 & 0 & 0 & 0 & 0 & 0 & 0 & 0 & 0 & 0 & -9 & 3 & 75 & 40 & HIGH  & SPEY    & 0 & 0 & 1 & 0 & 0 & 0 & 0 & 0 & 0\\\\\n\t Bladnoch      & Bladnoch   & 0 & 1 & 0 & 0 & 0 & 0 & 0 & 0 & 0 & 0 & 0 & 0 & 0 & 0 & 0 & 0 & 0 & 0 & 0 & 0 & 1 & 1 & 0 & 0 & 0 & 0 & 0 & 0 & 0 & 0 & 0 & 1 & 1 & 0 & 1 & 0 & 0 & 0 & 0 & 0 & 0 & 0 & 0 & 0 & 0 & 0 & 0 & 0 & 0 & 0 & 0 & 0 & 1 & 1 & 0 & 0 & 1 & 0 & 0 & 0 & 0 & 0 & 0 & 0 & 0 & 0 & 0 & 0 &  8 & 4 & 85 & 40 & LOW   & BORDERS & 0 & 0 & 0 & 0 & 0 & 0 & 1 & 0 & 0\\\\\n\t Blair Athol   & Blair Atho & 0 & 0 & 0 & 0 & 1 & 0 & 0 & 0 & 0 & 0 & 0 & 0 & 0 & 0 & 0 & 0 & 0 & 0 & 1 & 0 & 0 & 0 & 0 & 0 & 1 & 0 & 0 & 1 & 0 & 0 & 0 & 1 & 0 & 0 & 0 & 1 & 0 & 0 & 1 & 0 & 0 & 0 & 0 & 0 & 1 & 1 & 0 & 0 & 1 & 0 & 0 & 0 & 0 & 0 & 1 & 0 & 0 & 0 & 0 & 0 & 1 & 0 & 0 & 0 & 0 & 0 & 0 & 0 &  8 & 3 & 75 & 40 & HIGH  & MIDLAND & 0 & 1 & 0 & 0 & 0 & 0 & 0 & 0 & 0\\\\\n\t Bowmore       & Bowmore    & 0 & 0 & 0 & 0 & 0 & 0 & 1 & 0 & 0 & 0 & 0 & 0 & 0 & 0 & 0 & 1 & 0 & 0 & 0 & 1 & 0 & 1 & 1 & 0 & 0 & 0 & 0 & 1 & 0 & 0 & 0 & 1 & 0 & 0 & 0 & 0 & 0 & 0 & 0 & 0 & 0 & 0 & 0 & 0 & 1 & 0 & 0 & 0 & 0 & 0 & 0 & 0 & 0 & 0 & 0 & 0 & 0 & 0 & 0 & 0 & 0 & 0 & 1 & 0 & 0 & 0 & 0 & 1 & 10 & 4 & 81 & 40 & ISLAY & LOCH    & 1 & 0 & 0 & 0 & 0 & 0 & 0 & 0 & 0\\\\\n\t Brackla       & Brackla    & 0 & 0 & 0 & 0 & 0 & 0 & 1 & 0 & 0 & 0 & 0 & 0 & 0 & 0 & 0 & 1 & 1 & 0 & 0 & 0 & 0 & 0 & 0 & 0 & 0 & 0 & 0 & 1 & 1 & 0 & 0 & 0 & 0 & 0 & 0 & 0 & 0 & 0 & 0 & 1 & 0 & 1 & 0 & 0 & 1 & 0 & 0 & 0 & 1 & 0 & 1 & 0 & 0 & 0 & 0 & 0 & 0 & 1 & 0 & 0 & 0 & 0 & 0 & 0 & 0 & 0 & 0 & 0 & -9 & 3 & 77 & 40 & HIGH  & SPEY    & 0 & 0 & 1 & 0 & 0 & 0 & 0 & 0 & 0\\\\\n\t Bruichladdich & Bruichladd & 0 & 0 & 0 & 1 & 0 & 0 & 0 & 0 & 0 & 0 & 0 & 0 & 0 & 0 & 0 & 0 & 0 & 1 & 0 & 0 & 0 & 0 & 0 & 0 & 0 & 0 & 0 & 0 & 0 & 0 & 1 & 1 & 1 & 0 & 0 & 1 & 0 & 0 & 0 & 0 & 1 & 0 & 0 & 1 & 1 & 0 & 0 & 0 & 0 & 1 & 0 & 0 & 0 & 0 & 0 & 0 & 0 & 0 & 0 & 0 & 0 & 0 & 0 & 0 & 0 & 0 & 0 & 0 & 10 & 3 & 76 & 40 & ISLAY & LOCH    & 1 & 0 & 0 & 0 & 0 & 0 & 0 & 0 & 0\\\\\n\t Bunnahabhain  & Bunnahabha & 0 & 0 & 0 & 0 & 0 & 1 & 0 & 0 & 0 & 0 & 0 & 0 & 0 & 0 & 0 & 0 & 0 & 0 & 1 & 0 & 0 & 0 & 1 & 0 & 0 & 0 & 0 & 1 & 0 & 0 & 0 & 1 & 1 & 0 & 0 & 0 & 0 & 0 & 0 & 0 & 1 & 1 & 0 & 0 & 1 & 0 & 0 & 0 & 0 & 1 & 0 & 0 & 0 & 0 & 0 & 0 & 0 & 0 & 0 & 0 & 0 & 0 & 0 & 0 & 0 & 0 & 0 & 0 & 12 & 3 & 77 & 40 & ISLAY & NORTH   & 1 & 0 & 0 & 0 & 0 & 0 & 0 & 0 & 0\\\\\n\t Caol Ila      & Caol Ila   & 1 & 0 & 0 & 0 & 0 & 0 & 0 & 0 & 0 & 0 & 0 & 0 & 0 & 0 & 0 & 1 & 0 & 0 & 0 & 0 & 1 & 0 & 1 & 0 & 0 & 0 & 0 & 0 & 0 & 0 & 0 & 1 & 1 & 1 & 0 & 0 & 0 & 0 & 0 & 0 & 0 & 0 & 0 & 1 & 0 & 1 & 0 & 0 & 0 & 0 & 0 & 1 & 0 & 0 & 0 & 0 & 0 & 0 & 0 & 0 & 1 & 0 & 0 & 0 & 0 & 0 & 0 & 0 & 12 & 4 & 77 & 40 & ISLAY & NORTH   & 1 & 0 & 0 & 0 & 0 & 0 & 0 & 0 & 0\\\\\n\t Caperdonich   & Caperdonic & 0 & 0 & 0 & 0 & 0 & 0 & 0 & 1 & 0 & 0 & 0 & 0 & 0 & 0 & 1 & 1 & 0 & 0 & 0 & 0 & 0 & 0 & 0 & 0 & 0 & 0 & 0 & 1 & 0 & 0 & 0 & 1 & 0 & 0 & 0 & 0 & 0 & 0 & 0 & 0 & 0 & 1 & 0 & 0 & 1 & 0 & 0 & 0 & 0 & 0 & 0 & 1 & 0 & 0 & 0 & 0 & 0 & 0 & 1 & 0 & 0 & 0 & 0 & 0 & 1 & 0 & 0 & 0 & -9 & 3 & 73 & 40 & HIGH  & SPEY    & 0 & 0 & 1 & 0 & 0 & 0 & 0 & 0 & 0\\\\\n\t Cardhu        & Cardhu     & 0 & 0 & 0 & 1 & 0 & 0 & 0 & 0 & 0 & 0 & 0 & 0 & 0 & 0 & 1 & 1 & 0 & 1 & 0 & 0 & 0 & 0 & 0 & 0 & 0 & 0 & 0 & 0 & 0 & 0 & 1 & 1 & 0 & 0 & 0 & 0 & 0 & 0 & 1 & 0 & 0 & 0 & 0 & 0 & 1 & 0 & 0 & 0 & 0 & 0 & 1 & 0 & 0 & 0 & 0 & 0 & 0 & 0 & 1 & 1 & 0 & 1 & 0 & 0 & 1 & 0 & 0 & 0 & 12 & 3 & 72 & 40 & HIGH  & SPEY    & 0 & 0 & 1 & 0 & 0 & 0 & 0 & 0 & 0\\\\\n\t Clynelish     & Clynelish  & 0 & 0 & 0 & 0 & 0 & 0 & 0 & 0 & 0 & 0 & 1 & 0 & 0 & 0 & 0 & 0 & 0 & 0 & 0 & 0 & 0 & 0 & 1 & 0 & 0 & 0 & 0 & 0 & 1 & 0 & 0 & 0 & 0 & 1 & 1 & 0 & 0 & 0 & 0 & 0 & 0 & 0 & 1 & 0 & 1 & 1 & 0 & 1 & 0 & 0 & 0 & 0 & 0 & 0 & 0 & 0 & 0 & 0 & 0 & 0 & 1 & 0 & 0 & 0 & 1 & 0 & 0 & 0 & 12 & 4 & 81 & 40 & HIGH  & NORTH   & 0 & 0 & 0 & 0 & 0 & 1 & 0 & 0 & 0\\\\\n\t Coleburn      & Coleburn   & 0 & 0 & 0 & 0 & 1 & 0 & 0 & 0 & 0 & 0 & 0 & 0 & 0 & 0 & 0 & 0 & 0 & 0 & 0 & 1 & 1 & 1 & 0 & 0 & 0 & 0 & 0 & 0 & 0 & 0 & 0 & 1 & 0 & 1 & 0 & 1 & 0 & 0 & 0 & 0 & 0 & 1 & 0 & 1 & 1 & 0 & 0 & 0 & 1 & 0 & 0 & 0 & 0 & 0 & 0 & 0 & 0 & 0 & 0 & 0 & 0 & 0 & 0 & 0 & 0 & 0 & 0 & 1 & -9 & 2 & 67 & 40 & HIGH  & SPEY    & 0 & 0 & 1 & 0 & 0 & 0 & 0 & 0 & 0\\\\\n\t Convalmore    & Convalmore & 0 & 0 & 0 & 0 & 0 & 0 & 0 & 1 & 0 & 0 & 0 & 0 & 0 & 0 & 0 & 0 & 1 & 0 & 0 & 0 & 0 & 0 & 0 & 0 & 0 & 0 & 0 & 1 & 1 & 0 & 0 & 0 & 0 & 0 & 0 & 1 & 0 & 0 & 0 & 1 & 0 & 0 & 0 & 0 & 1 & 0 & 1 & 0 & 0 & 0 & 1 & 0 & 0 & 0 & 0 & 0 & 0 & 0 & 1 & 0 & 1 & 0 & 0 & 0 & 0 & 0 & 0 & 0 & -9 & 2 & 68 & 40 & HIGH  & SPEY    & 0 & 0 & 1 & 0 & 0 & 0 & 0 & 0 & 0\\\\\n\t Cragganmore   & Cragganmor & 0 & 0 & 0 & 0 & 0 & 1 & 0 & 0 & 0 & 0 & 0 & 0 & 0 & 0 & 1 & 0 & 1 & 0 & 0 & 0 & 0 & 1 & 0 & 0 & 0 & 1 & 0 & 1 & 0 & 0 & 1 & 1 & 1 & 0 & 0 & 0 & 0 & 0 & 0 & 0 & 1 & 0 & 1 & 0 & 0 & 0 & 0 & 0 & 0 & 0 & 0 & 0 & 0 & 0 & 0 & 0 & 0 & 0 & 0 & 0 & 0 & 0 & 0 & 0 & 0 & 1 & 0 & 0 & 12 & 4 & 90 & 40 & HIGH  & SPEY    & 0 & 0 & 1 & 0 & 0 & 0 & 0 & 0 & 0\\\\\n\t Craigellachie & Craigellac & 0 & 0 & 0 & 0 & 0 & 0 & 0 & 1 & 0 & 0 & 0 & 0 & 0 & 0 & 1 & 1 & 1 & 0 & 0 & 1 & 1 & 0 & 0 & 0 & 0 & 0 & 0 & 1 & 0 & 0 & 0 & 0 & 0 & 0 & 0 & 0 & 0 & 0 & 0 & 0 & 0 & 1 & 0 & 0 & 1 & 0 & 0 & 0 & 0 & 0 & 0 & 0 & 1 & 0 & 0 & 0 & 0 & 0 & 0 & 0 & 0 & 0 & 0 & 0 & 0 & 0 & 0 & 0 & -9 & 3 & 72 & 40 & HIGH  & SPEY    & 0 & 0 & 1 & 0 & 0 & 0 & 0 & 0 & 0\\\\\n\t Dailuaine     & Dailuaine  & 0 & 0 & 0 & 0 & 0 & 1 & 0 & 0 & 0 & 0 & 0 & 0 & 0 & 0 & 1 & 0 & 1 & 0 & 0 & 1 & 0 & 0 & 0 & 1 & 0 & 0 & 0 & 1 & 1 & 0 & 0 & 0 & 0 & 0 & 0 & 0 & 0 & 0 & 0 & 0 & 0 & 1 & 0 & 0 & 1 & 0 & 1 & 0 & 0 & 0 & 0 & 0 & 0 & 0 & 0 & 0 & 0 & 1 & 0 & 0 & 0 & 0 & 0 & 0 & 0 & 0 & 0 & 0 & -9 & 3 & 74 & 40 & HIGH  & SPEY    & 0 & 0 & 1 & 0 & 0 & 0 & 0 & 0 & 0\\\\\n\t Dallas Dhu    & Dallas Dhu & 0 & 0 & 0 & 0 & 0 & 0 & 0 & 0 & 0 & 0 & 0 & 1 & 0 & 0 & 0 & 1 & 1 & 0 & 0 & 0 & 0 & 1 & 0 & 0 & 0 & 1 & 0 & 0 & 1 & 0 & 0 & 0 & 0 & 0 & 0 & 0 & 0 & 0 & 0 & 0 & 0 & 0 & 0 & 1 & 1 & 0 & 0 & 0 & 0 & 0 & 1 & 0 & 0 & 0 & 1 & 0 & 0 & 1 & 0 & 0 & 0 & 0 & 0 & 0 & 0 & 1 & 0 & 0 & -9 & 4 & 85 & 40 & HIGH  & SPEY    & 0 & 0 & 1 & 0 & 0 & 0 & 0 & 0 & 0\\\\\n\t ⋮ & ⋮ & ⋮ & ⋮ & ⋮ & ⋮ & ⋮ & ⋮ & ⋮ & ⋮ & ⋮ & ⋮ & ⋮ & ⋮ & ⋮ & ⋮ & ⋮ & ⋮ & ⋮ & ⋮ & ⋮ & ⋮ & ⋮ & ⋮ & ⋮ & ⋮ & ⋮ & ⋮ & ⋮ & ⋮ & ⋮ & ⋮ & ⋮ & ⋮ & ⋮ & ⋮ & ⋮ & ⋮ & ⋮ & ⋮ & ⋮ & ⋮ & ⋮ & ⋮ & ⋮ & ⋮ & ⋮ & ⋮ & ⋮ & ⋮ & ⋮ & ⋮ & ⋮ & ⋮ & ⋮ & ⋮ & ⋮ & ⋮ & ⋮ & ⋮ & ⋮ & ⋮ & ⋮ & ⋮ & ⋮ & ⋮ & ⋮ & ⋮ & ⋮ & ⋮ & ⋮ & ⋮ & ⋮ & ⋮ & ⋮ & ⋮ & ⋮ & ⋮ & ⋮ & ⋮ & ⋮ & ⋮ & ⋮ & ⋮ & ⋮\\\\\n\t Linkwood           & Linkwood   & 0 & 0 & 0 & 0 & 0 & 0 & 0 & 1 & 0 & 0 & 0 & 0 & 0 & 0 & 0 & 0 & 1 & 1 & 0 & 0 & 0 & 0 & 0 & 1 & 0 & 1 & 0 & 1 & 0 & 1 & 0 & 0 & 0 & 0 & 0 & 1 & 0 & 0 & 1 & 0 & 0 & 0 & 0 & 1 & 1 & 0 & 0 & 0 & 0 & 0 & 1 & 0 & 0 & 0 & 1 & 0 & 0 & 0 & 0 & 0 & 0 & 0 & 0 & 0 & 0 & 0 & 0 & 0 & 12 & 4 & 83 & 40   & HIGH  & SPEY      & 0 & 0 & 1 & 0 & 0 & 0 & 0 & 0 & 0\\\\\n\t Littlemill         & Littlemill & 1 & 0 & 0 & 0 & 0 & 0 & 0 & 0 & 0 & 0 & 0 & 0 & 0 & 0 & 0 & 1 & 1 & 0 & 0 & 0 & 0 & 0 & 0 & 0 & 0 & 0 & 1 & 1 & 0 & 0 & 0 & 1 & 0 & 0 & 0 & 0 & 0 & 0 & 0 & 0 & 0 & 0 & 0 & 0 & 1 & 0 & 0 & 0 & 0 & 0 & 1 & 0 & 0 & 0 & 1 & 0 & 1 & 0 & 0 & 0 & 0 & 0 & 0 & 0 & 0 & 0 & 0 & 0 &  8 & 4 & 83 & 43   & LOW   & NORTHWEST & 0 & 0 & 0 & 0 & 0 & 0 & 1 & 0 & 0\\\\\n\t Lochnagar          & Lochnagar  & 0 & 0 & 0 & 0 & 0 & 0 & 0 & 1 & 0 & 0 & 0 & 0 & 0 & 0 & 0 & 1 & 0 & 0 & 0 & 0 & 0 & 0 & 0 & 0 & 0 & 0 & 0 & 1 & 1 & 0 & 1 & 0 & 0 & 0 & 0 & 0 & 0 & 0 & 1 & 0 & 0 & 1 & 0 & 1 & 1 & 0 & 0 & 0 & 0 & 0 & 1 & 0 & 0 & 0 & 0 & 0 & 0 & 0 & 1 & 1 & 0 & 0 & 0 & 0 & 0 & 0 & 0 & 0 & 12 & 4 & 80 & 43   & HIGH  & EAST      & 0 & 0 & 0 & 1 & 0 & 0 & 0 & 0 & 0\\\\\n\t Lochside           & Lochside   & 0 & 0 & 0 & 0 & 0 & 0 & 0 & 0 & 0 & 0 & 1 & 0 & 0 & 0 & 0 & 0 & 0 & 0 & 0 & 0 & 1 & 0 & 0 & 1 & 0 & 1 & 1 & 1 & 0 & 0 & 1 & 0 & 0 & 0 & 0 & 1 & 1 & 0 & 0 & 0 & 0 & 0 & 0 & 0 & 0 & 0 & 0 & 0 & 0 & 0 & 0 & 0 & 1 & 0 & 0 & 0 & 0 & 0 & 0 & 0 & 0 & 0 & 0 & 0 & 0 & 1 & 0 & 0 & -9 & 3 & 71 & 40   & HIGH  & EAST      & 0 & 0 & 0 & 1 & 0 & 0 & 0 & 0 & 0\\\\\n\t Longmorn           & Longmorn   & 0 & 0 & 0 & 0 & 0 & 0 & 0 & 1 & 0 & 0 & 0 & 0 & 0 & 0 & 0 & 0 & 0 & 0 & 0 & 0 & 0 & 1 & 0 & 0 & 0 & 1 & 0 & 0 & 0 & 0 & 1 & 0 & 1 & 0 & 0 & 0 & 0 & 0 & 0 & 0 & 1 & 1 & 1 & 0 & 1 & 0 & 0 & 0 & 0 & 0 & 0 & 0 & 0 & 0 & 1 & 1 & 0 & 0 & 0 & 0 & 0 & 0 & 0 & 0 & 0 & 0 & 0 & 0 & 12 & 4 & 85 & 40   & HIGH  & SPEY      & 0 & 0 & 1 & 0 & 0 & 0 & 0 & 0 & 0\\\\\n\t Macallan           & Macallan   & 0 & 0 & 0 & 0 & 0 & 0 & 0 & 0 & 0 & 0 & 1 & 0 & 0 & 0 & 0 & 0 & 1 & 0 & 0 & 0 & 1 & 0 & 0 & 1 & 0 & 1 & 0 & 0 & 1 & 0 & 0 & 0 & 0 & 0 & 0 & 0 & 1 & 0 & 0 & 0 & 0 & 0 & 0 & 0 & 1 & 0 & 0 & 0 & 0 & 0 & 1 & 0 & 0 & 0 & 0 & 0 & 0 & 0 & 1 & 1 & 1 & 0 & 0 & 0 & 0 & 0 & 0 & 0 & 10 & 5 & 87 & 40   & HIGH  & SPEY      & 0 & 0 & 1 & 0 & 0 & 0 & 0 & 0 & 0\\\\\n\t Millburn           & Millburn   & 0 & 0 & 0 & 0 & 0 & 0 & 0 & 0 & 0 & 0 & 0 & 0 & 1 & 0 & 1 & 0 & 0 & 0 & 0 & 0 & 0 & 0 & 0 & 1 & 0 & 1 & 0 & 0 & 1 & 0 & 1 & 0 & 0 & 0 & 0 & 0 & 1 & 0 & 0 & 0 & 0 & 0 & 0 & 1 & 1 & 0 & 0 & 0 & 0 & 0 & 0 & 1 & 0 & 0 & 0 & 0 & 0 & 0 & 1 & 0 & 0 & 0 & 0 & 0 & 0 & 1 & 0 & 0 & -9 & 3 & 76 & 40   & HIGH  & SPEY      & 0 & 0 & 1 & 0 & 0 & 0 & 0 & 0 & 0\\\\\n\t Miltonduff         & Miltonduff & 0 & 0 & 0 & 0 & 1 & 0 & 0 & 0 & 0 & 0 & 0 & 0 & 0 & 0 & 1 & 1 & 0 & 0 & 0 & 1 & 0 & 1 & 0 & 0 & 0 & 0 & 0 & 1 & 0 & 0 & 1 & 0 & 1 & 0 & 0 & 0 & 0 & 0 & 0 & 0 & 1 & 0 & 0 & 0 & 1 & 0 & 0 & 0 & 1 & 0 & 1 & 0 & 0 & 0 & 0 & 0 & 0 & 0 & 0 & 1 & 0 & 0 & 0 & 1 & 0 & 0 & 0 & 0 & 12 & 3 & 76 & 43   & HIGH  & SPEY      & 0 & 0 & 1 & 0 & 0 & 0 & 0 & 0 & 0\\\\\n\t Mortlach           & Mortlach   & 0 & 0 & 0 & 0 & 0 & 0 & 0 & 0 & 0 & 1 & 0 & 0 & 0 & 0 & 0 & 1 & 1 & 0 & 0 & 0 & 0 & 0 & 0 & 0 & 0 & 1 & 0 & 1 & 1 & 0 & 0 & 0 & 0 & 0 & 1 & 0 & 0 & 0 & 0 & 0 & 0 & 1 & 0 & 1 & 1 & 0 & 0 & 0 & 0 & 0 & 1 & 0 & 0 & 0 & 0 & 0 & 0 & 0 & 0 & 0 & 0 & 0 & 0 & 0 & 0 & 1 & 0 & 0 & 12 & 4 & 81 & 40   & HIGH  & SPEY      & 0 & 0 & 1 & 0 & 0 & 0 & 0 & 0 & 0\\\\\n\t North Port         & North Port & 0 & 0 & 0 & 0 & 0 & 0 & 0 & 1 & 0 & 0 & 0 & 0 & 0 & 0 & 0 & 1 & 0 & 0 & 0 & 1 & 0 & 0 & 0 & 1 & 0 & 0 & 0 & 1 & 0 & 0 & 0 & 1 & 0 & 0 & 1 & 1 & 0 & 0 & 0 & 0 & 0 & 0 & 0 & 1 & 1 & 0 & 0 & 0 & 0 & 0 & 1 & 0 & 0 & 0 & 0 & 0 & 0 & 0 & 0 & 0 & 0 & 0 & 0 & 0 & 0 & 0 & 0 & 0 & -9 & 2 & 64 & 40   & HIGH  & EAST      & 0 & 0 & 0 & 1 & 0 & 0 & 0 & 0 & 0\\\\\n\t Oban               & Oban       & 0 & 0 & 0 & 0 & 0 & 0 & 0 & 0 & 0 & 0 & 1 & 0 & 0 & 0 & 0 & 1 & 1 & 0 & 1 & 0 & 0 & 0 & 1 & 0 & 0 & 0 & 0 & 1 & 1 & 0 & 1 & 0 & 1 & 0 & 0 & 1 & 0 & 0 & 0 & 1 & 0 & 1 & 0 & 1 & 1 & 0 & 0 & 0 & 0 & 0 & 0 & 1 & 0 & 0 & 0 & 0 & 0 & 0 & 0 & 1 & 1 & 0 & 0 & 0 & 0 & 0 & 0 & 0 & 12 & 4 & 76 & 43   & HIGH  & WEST      & 0 & 0 & 0 & 1 & 0 & 0 & 0 & 0 & 0\\\\\n\t Port Ellen         & Port Ellen & 0 & 0 & 0 & 0 & 0 & 0 & 0 & 0 & 0 & 0 & 1 & 0 & 0 & 0 & 1 & 1 & 1 & 0 & 0 & 0 & 0 & 1 & 1 & 0 & 1 & 0 & 0 & 1 & 0 & 0 & 1 & 0 & 0 & 0 & 0 & 1 & 0 & 0 & 0 & 0 & 0 & 0 & 0 & 0 & 1 & 1 & 0 & 0 & 1 & 0 & 0 & 0 & 1 & 0 & 0 & 0 & 0 & 0 & 0 & 0 & 1 & 1 & 0 & 0 & 0 & 1 & 0 & 0 & -9 & 4 & 79 & 40   & ISLAY & SOUTH     & 0 & 0 & 0 & 0 & 1 & 0 & 0 & 0 & 0\\\\\n\t Pulteney           & Pulteney   & 0 & 0 & 0 & 0 & 0 & 0 & 0 & 0 & 0 & 0 & 1 & 0 & 0 & 0 & 0 & 0 & 0 & 0 & 1 & 1 & 0 & 0 & 1 & 0 & 0 & 0 & 0 & 0 & 0 & 0 & 0 & 1 & 1 & 0 & 0 & 0 & 0 & 0 & 0 & 1 & 0 & 0 & 0 & 0 & 1 & 1 & 0 & 1 & 0 & 0 & 0 & 1 & 0 & 0 & 0 & 0 & 0 & 0 & 0 & 0 & 0 & 0 & 1 & 0 & 0 & 1 & 0 & 0 &  8 & 3 & 77 & 40   & HIGH  & NORTH     & 0 & 0 & 0 & 0 & 0 & 1 & 0 & 0 & 0\\\\\n\t Rosebank           & Rosebank   & 0 & 0 & 0 & 0 & 0 & 0 & 0 & 0 & 0 & 0 & 1 & 0 & 0 & 0 & 1 & 0 & 0 & 0 & 0 & 1 & 0 & 1 & 0 & 1 & 0 & 0 & 0 & 0 & 0 & 0 & 1 & 1 & 0 & 0 & 0 & 1 & 0 & 0 & 0 & 0 & 0 & 1 & 1 & 0 & 0 & 0 & 0 & 0 & 0 & 0 & 1 & 0 & 0 & 0 & 0 & 0 & 0 & 0 & 0 & 0 & 0 & 0 & 0 & 0 & 0 & 0 & 0 & 0 &  8 & 4 & 76 & 40   & LOW   & CENTRAL   & 0 & 0 & 0 & 0 & 0 & 0 & 1 & 0 & 0\\\\\n\t Saint Magdalene    & Saint Magd & 0 & 0 & 0 & 0 & 0 & 0 & 0 & 0 & 0 & 0 & 0 & 0 & 1 & 0 & 0 & 1 & 0 & 0 & 0 & 1 & 0 & 0 & 0 & 1 & 0 & 0 & 0 & 1 & 0 & 0 & 1 & 1 & 0 & 0 & 0 & 0 & 0 & 0 & 0 & 0 & 0 & 0 & 1 & 1 & 1 & 0 & 0 & 0 & 0 & 0 & 1 & 0 & 0 & 0 & 0 & 0 & 0 & 1 & 0 & 0 & 0 & 0 & 0 & 0 & 0 & 0 & 0 & 0 & 18 & 2 & 67 & 40   & LOW   & CENTRAL   & 0 & 0 & 0 & 0 & 0 & 0 & 1 & 0 & 0\\\\\n\t Scapa              & Scapa      & 0 & 0 & 0 & 0 & 0 & 0 & 0 & 0 & 0 & 0 & 1 & 0 & 0 & 0 & 0 & 0 & 0 & 0 & 1 & 0 & 1 & 1 & 1 & 0 & 0 & 0 & 0 & 1 & 0 & 0 & 0 & 0 & 0 & 0 & 0 & 0 & 0 & 0 & 0 & 0 & 0 & 0 & 0 & 0 & 0 & 0 & 0 & 1 & 0 & 0 & 1 & 0 & 0 & 0 & 0 & 0 & 0 & 0 & 0 & 0 & 0 & 1 & 0 & 0 & 0 & 0 & 0 & 0 &  8 & 3 & 76 & 40   & HIGH  & ORKNEY    & 0 & 0 & 0 & 0 & 0 & 0 & 0 & 0 & 1\\\\\n\t Singleton          & Singleton  & 0 & 0 & 0 & 0 & 0 & 0 & 0 & 0 & 0 & 0 & 0 & 1 & 0 & 0 & 0 & 0 & 0 & 0 & 0 & 0 & 0 & 0 & 0 & 1 & 0 & 0 & 0 & 1 & 0 & 0 & 1 & 0 & 0 & 0 & 0 & 0 & 1 & 0 & 0 & 0 & 0 & 1 & 0 & 0 & 0 & 1 & 0 & 0 & 0 & 0 & 0 & 0 & 0 & 0 & 0 & 0 & 0 & 0 & 1 & 0 & 0 & 0 & 0 & 0 & 0 & 0 & 0 & 0 & -9 & 4 & 79 & 40   & HIGH  & SPEY      & 0 & 0 & 1 & 0 & 0 & 0 & 0 & 0 & 0\\\\\n\t Speyburn           & Speyburn   & 0 & 0 & 0 & 0 & 0 & 0 & 0 & 0 & 1 & 0 & 0 & 0 & 0 & 0 & 0 & 0 & 0 & 0 & 0 & 1 & 1 & 0 & 0 & 1 & 0 & 0 & 0 & 0 & 0 & 0 & 1 & 0 & 0 & 0 & 0 & 1 & 0 & 0 & 0 & 0 & 0 & 1 & 0 & 0 & 1 & 0 & 0 & 0 & 0 & 0 & 0 & 0 & 0 & 0 & 1 & 0 & 0 & 0 & 0 & 1 & 0 & 0 & 0 & 0 & 0 & 0 & 0 & 1 & -9 & 3 & 71 & 40   & HIGH  & SPEY      & 0 & 0 & 1 & 0 & 0 & 0 & 0 & 0 & 0\\\\\n\t Springbank         & Springbank & 0 & 0 & 0 & 0 & 0 & 1 & 0 & 0 & 0 & 0 & 0 & 0 & 0 & 0 & 0 & 0 & 1 & 0 & 1 & 0 & 0 & 0 & 1 & 0 & 0 & 1 & 0 & 1 & 0 & 1 & 1 & 1 & 0 & 0 & 0 & 0 & 0 & 0 & 1 & 0 & 0 & 0 & 0 & 0 & 1 & 0 & 0 & 1 & 0 & 0 & 0 & 1 & 0 & 0 & 0 & 0 & 0 & 0 & 1 & 1 & 0 & 0 & 1 & 0 & 0 & 0 & 1 & 0 & 15 & 5 & 88 & 46   & LOW   & CAMPBEL   & 0 & 0 & 0 & 0 & 0 & 0 & 0 & 1 & 0\\\\\n\t Springbank-Longrow & Longrow    & 0 & 0 & 0 & 0 & 0 & 1 & 0 & 0 & 0 & 0 & 0 & 0 & 0 & 0 & 0 & 1 & 0 & 0 & 0 & 0 & 0 & 1 & 1 & 0 & 0 & 0 & 0 & 1 & 0 & 0 & 0 & 0 & 0 & 1 & 0 & 1 & 0 & 0 & 0 & 0 & 0 & 0 & 0 & 1 & 0 & 0 & 0 & 0 & 0 & 0 & 0 & 0 & 1 & 0 & 0 & 0 & 0 & 0 & 0 & 0 & 0 & 0 & 1 & 0 & 1 & 0 & 0 & 0 & 14 & 5 & 90 & 46   & LOW   & CAMPBEL   & 0 & 0 & 0 & 0 & 0 & 0 & 0 & 1 & 0\\\\\n\t Strathisla         & Strathisla & 0 & 0 & 0 & 0 & 0 & 0 & 0 & 0 & 0 & 0 & 1 & 0 & 0 & 0 & 0 & 0 & 0 & 0 & 0 & 1 & 0 & 0 & 0 & 1 & 0 & 1 & 0 & 1 & 0 & 0 & 0 & 0 & 1 & 0 & 0 & 1 & 1 & 0 & 0 & 0 & 0 & 0 & 1 & 0 & 1 & 0 & 0 & 0 & 0 & 0 & 1 & 0 & 1 & 0 & 0 & 0 & 0 & 0 & 0 & 0 & 0 & 0 & 0 & 0 & 1 & 0 & 0 & 0 &  8 & 3 & 79 & 40   & HIGH  & SPEY      & 0 & 0 & 1 & 0 & 0 & 0 & 0 & 0 & 0\\\\\n\t Talisker           & Talisker   & 0 & 0 & 0 & 0 & 0 & 0 & 0 & 0 & 0 & 0 & 0 & 0 & 1 & 0 & 0 & 1 & 1 & 0 & 0 & 0 & 0 & 0 & 1 & 0 & 0 & 1 & 0 & 0 & 1 & 0 & 0 & 0 & 0 & 1 & 0 & 0 & 0 & 1 & 0 & 0 & 0 & 0 & 0 & 1 & 1 & 1 & 0 & 0 & 0 & 0 & 0 & 0 & 1 & 0 & 0 & 0 & 0 & 0 & 0 & 0 & 1 & 0 & 0 & 0 & 0 & 1 & 0 & 0 & 10 & 4 & 90 & 45,8 & HIGH  & SKYE      & 0 & 0 & 0 & 0 & 0 & 0 & 0 & 0 & 1\\\\\n\t Tamdhu             & Tamdhu     & 0 & 0 & 0 & 0 & 0 & 0 & 0 & 0 & 0 & 1 & 0 & 0 & 0 & 0 & 0 & 1 & 1 & 1 & 0 & 0 & 0 & 0 & 0 & 1 & 0 & 0 & 0 & 1 & 0 & 1 & 0 & 1 & 0 & 0 & 0 & 0 & 0 & 0 & 0 & 0 & 0 & 0 & 0 & 0 & 1 & 0 & 0 & 0 & 1 & 1 & 0 & 0 & 0 & 0 & 0 & 0 & 0 & 0 & 0 & 0 & 0 & 0 & 0 & 0 & 0 & 0 & 0 & 0 & 10 & 3 & 75 & 40   & HIGH  & SPEY      & 0 & 0 & 1 & 0 & 0 & 0 & 0 & 0 & 0\\\\\n\t Tamnavulin         & Tamnavulin & 1 & 0 & 0 & 0 & 0 & 0 & 0 & 0 & 0 & 0 & 0 & 0 & 0 & 0 & 0 & 1 & 0 & 0 & 0 & 0 & 0 & 1 & 0 & 0 & 0 & 0 & 0 & 0 & 0 & 0 & 1 & 1 & 0 & 0 & 0 & 0 & 0 & 0 & 0 & 0 & 0 & 1 & 1 & 0 & 0 & 0 & 0 & 0 & 0 & 0 & 0 & 0 & 0 & 0 & 0 & 0 & 0 & 0 & 0 & 0 & 0 & 0 & 0 & 1 & 0 & 0 & 0 & 0 & 10 & 3 & 76 & 43   & HIGH  & SPEY      & 0 & 0 & 1 & 0 & 0 & 0 & 0 & 0 & 0\\\\\n\t Teaninich          & Teaninich  & 0 & 0 & 0 & 0 & 0 & 0 & 0 & 0 & 0 & 1 & 0 & 0 & 0 & 0 & 1 & 1 & 0 & 0 & 0 & 1 & 0 & 0 & 0 & 0 & 0 & 0 & 1 & 1 & 0 & 0 & 0 & 0 & 0 & 0 & 1 & 1 & 0 & 0 & 0 & 0 & 0 & 0 & 0 & 1 & 1 & 1 & 0 & 0 & 0 & 0 & 1 & 0 & 0 & 0 & 0 & 0 & 0 & 0 & 1 & 0 & 0 & 0 & 0 & 0 & 0 & 0 & 0 & 0 & -9 & 3 & 71 & 40   & HIGH  & NORTH     & 0 & 0 & 0 & 0 & 0 & 1 & 0 & 0 & 0\\\\\n\t Tobermory          & Tobermory  & 0 & 0 & 0 & 0 & 0 & 0 & 0 & 1 & 0 & 0 & 0 & 0 & 0 & 0 & 0 & 1 & 1 & 1 & 0 & 0 & 0 & 0 & 0 & 0 & 0 & 0 & 1 & 1 & 0 & 0 & 0 & 0 & 0 & 0 & 0 & 1 & 0 & 0 & 0 & 0 & 0 & 1 & 0 & 1 & 0 & 0 & 0 & 0 & 0 & 0 & 0 & 0 & 0 & 1 & 0 & 0 & 0 & 0 & 0 & 1 & 0 & 0 & 0 & 1 & 0 & 0 & 0 & 0 & -9 & 2 & 67 & 40   & HIGH  & MULL      & 0 & 0 & 0 & 0 & 0 & 0 & 0 & 0 & 1\\\\\n\t Tomatin            & Tomatin    & 0 & 0 & 0 & 0 & 0 & 0 & 0 & 1 & 0 & 0 & 0 & 0 & 0 & 0 & 1 & 1 & 1 & 0 & 1 & 1 & 0 & 0 & 0 & 0 & 0 & 0 & 1 & 1 & 0 & 0 & 1 & 0 & 0 & 0 & 0 & 1 & 0 & 0 & 0 & 0 & 0 & 0 & 0 & 0 & 1 & 1 & 0 & 0 & 0 & 0 & 0 & 0 & 0 & 0 & 0 & 0 & 0 & 0 & 0 & 0 & 0 & 1 & 0 & 0 & 0 & 0 & 0 & 0 & 10 & 3 & 75 & 40   & HIGH  & SPEY      & 0 & 0 & 1 & 0 & 0 & 0 & 0 & 0 & 0\\\\\n\t Tomintoul          & Tomintoul  & 0 & 0 & 0 & 0 & 0 & 0 & 0 & 1 & 0 & 0 & 0 & 0 & 0 & 0 & 1 & 0 & 0 & 0 & 0 & 0 & 0 & 1 & 0 & 0 & 0 & 0 & 1 & 0 & 0 & 0 & 1 & 1 & 0 & 0 & 0 & 0 & 0 & 0 & 0 & 0 & 0 & 0 & 1 & 0 & 1 & 0 & 0 & 0 & 0 & 0 & 0 & 0 & 0 & 0 & 0 & 0 & 0 & 0 & 0 & 0 & 0 & 0 & 0 & 0 & 0 & 1 & 0 & 0 & 12 & 3 & 76 & 40   & HIGH  & SPEY      & 0 & 0 & 1 & 0 & 0 & 0 & 0 & 0 & 0\\\\\n\t Tormore            & Tormore    & 0 & 0 & 0 & 0 & 0 & 0 & 0 & 1 & 0 & 0 & 0 & 0 & 0 & 0 & 0 & 1 & 0 & 0 & 0 & 1 & 1 & 0 & 0 & 0 & 0 & 0 & 0 & 1 & 1 & 0 & 1 & 0 & 0 & 0 & 1 & 0 & 0 & 0 & 0 & 1 & 0 & 0 & 0 & 0 & 0 & 0 & 0 & 0 & 0 & 1 & 0 & 0 & 0 & 0 & 1 & 0 & 0 & 0 & 0 & 0 & 0 & 0 & 0 & 0 & 0 & 0 & 1 & 0 & 10 & 3 & 76 & 43   & HIGH  & SPEY      & 0 & 0 & 1 & 0 & 0 & 0 & 0 & 0 & 0\\\\\n\t Tullibardine       & Tullibardi & 0 & 0 & 0 & 0 & 0 & 1 & 0 & 0 & 0 & 0 & 0 & 0 & 0 & 0 & 0 & 0 & 1 & 0 & 0 & 0 & 0 & 0 & 0 & 0 & 0 & 0 & 0 & 1 & 0 & 0 & 1 & 0 & 1 & 0 & 1 & 0 & 0 & 0 & 0 & 0 & 1 & 1 & 1 & 0 & 1 & 0 & 0 & 0 & 0 & 0 & 0 & 0 & 1 & 0 & 0 & 0 & 0 & 0 & 0 & 1 & 0 & 0 & 0 & 1 & 0 & 0 & 0 & 0 & 10 & 3 & 76 & 40   & HIGH  & MIDLAND   & 0 & 1 & 0 & 0 & 0 & 0 & 0 & 0 & 0\\\\\n\\end{tabular}\n",
            "text/markdown": "\nA data.frame: 109 × 85\n\n| NAME &lt;fct&gt; | X &lt;fct&gt; | wyne &lt;int&gt; | yellow &lt;int&gt; | v.pale &lt;int&gt; | pale &lt;int&gt; | p.gold &lt;int&gt; | gold &lt;int&gt; | o.gold &lt;int&gt; | f.gold &lt;int&gt; | ⋯ ⋯ | DISTRICT &lt;fct&gt; | islay &lt;int&gt; | midland &lt;int&gt; | spey &lt;int&gt; | east &lt;int&gt; | west &lt;int&gt; | north &lt;int&gt; | lowland &lt;int&gt; | campbell &lt;int&gt; | islands &lt;int&gt; |\n|---|---|---|---|---|---|---|---|---|---|---|---|---|---|---|---|---|---|---|---|---|\n| Aberfeldy     | Aberfeldy  | 0 | 1 | 0 | 0 | 0 | 0 | 0 | 0 | ⋯ | MIDLAND | 0 | 1 | 0 | 0 | 0 | 0 | 0 | 0 | 0 |\n| Aberlour      | Aberlour   | 0 | 0 | 0 | 0 | 0 | 0 | 0 | 0 | ⋯ | SPEY    | 0 | 0 | 1 | 0 | 0 | 0 | 0 | 0 | 0 |\n| Ardberg       | Ardberg    | 0 | 0 | 0 | 0 | 0 | 0 | 0 | 0 | ⋯ | SOUTH   | 1 | 0 | 0 | 0 | 0 | 0 | 0 | 0 | 0 |\n| Ardmore       | Ardmore    | 0 | 0 | 0 | 0 | 1 | 0 | 0 | 0 | ⋯ | SPEY    | 0 | 0 | 1 | 0 | 0 | 0 | 0 | 0 | 0 |\n| Auchentoshan  | Auchentosh | 0 | 0 | 0 | 0 | 1 | 0 | 0 | 0 | ⋯ | WEST    | 0 | 0 | 0 | 0 | 0 | 0 | 1 | 0 | 0 |\n| Aultmore      | Aultmore   | 0 | 0 | 1 | 0 | 0 | 0 | 0 | 0 | ⋯ | SPEY    | 0 | 0 | 1 | 0 | 0 | 0 | 0 | 0 | 0 |\n| Balblair      | Balblair   | 1 | 0 | 0 | 0 | 0 | 0 | 0 | 0 | ⋯ | NORTH   | 0 | 0 | 0 | 0 | 0 | 1 | 0 | 0 | 0 |\n| Balmenach     | Balmenach  | 0 | 0 | 0 | 0 | 1 | 0 | 0 | 0 | ⋯ | SPEY    | 0 | 0 | 1 | 0 | 0 | 0 | 0 | 0 | 0 |\n| Balvenie      | Balvenie   | 0 | 0 | 0 | 0 | 0 | 0 | 0 | 0 | ⋯ | SPEY    | 0 | 0 | 1 | 0 | 0 | 0 | 0 | 0 | 0 |\n| Banff         | Banff      | 0 | 0 | 0 | 0 | 0 | 0 | 0 | 1 | ⋯ | SPEY    | 0 | 0 | 1 | 0 | 0 | 0 | 0 | 0 | 0 |\n| Ben Nevis     | Ben Nevis  | 0 | 0 | 0 | 0 | 0 | 0 | 0 | 0 | ⋯ | WEST    | 0 | 0 | 0 | 0 | 1 | 0 | 0 | 0 | 0 |\n| Benriach      | Benriach   | 0 | 0 | 0 | 0 | 0 | 1 | 0 | 0 | ⋯ | SPEY    | 0 | 0 | 1 | 0 | 0 | 0 | 0 | 0 | 0 |\n| Benrinnes     | Benrinnes  | 0 | 0 | 0 | 0 | 0 | 0 | 0 | 0 | ⋯ | SPEY    | 0 | 0 | 1 | 0 | 0 | 0 | 0 | 0 | 0 |\n| Benromach     | Benromach  | 0 | 0 | 0 | 0 | 0 | 0 | 0 | 0 | ⋯ | SPEY    | 0 | 0 | 1 | 0 | 0 | 0 | 0 | 0 | 0 |\n| Bladnoch      | Bladnoch   | 0 | 1 | 0 | 0 | 0 | 0 | 0 | 0 | ⋯ | BORDERS | 0 | 0 | 0 | 0 | 0 | 0 | 1 | 0 | 0 |\n| Blair Athol   | Blair Atho | 0 | 0 | 0 | 0 | 1 | 0 | 0 | 0 | ⋯ | MIDLAND | 0 | 1 | 0 | 0 | 0 | 0 | 0 | 0 | 0 |\n| Bowmore       | Bowmore    | 0 | 0 | 0 | 0 | 0 | 0 | 1 | 0 | ⋯ | LOCH    | 1 | 0 | 0 | 0 | 0 | 0 | 0 | 0 | 0 |\n| Brackla       | Brackla    | 0 | 0 | 0 | 0 | 0 | 0 | 1 | 0 | ⋯ | SPEY    | 0 | 0 | 1 | 0 | 0 | 0 | 0 | 0 | 0 |\n| Bruichladdich | Bruichladd | 0 | 0 | 0 | 1 | 0 | 0 | 0 | 0 | ⋯ | LOCH    | 1 | 0 | 0 | 0 | 0 | 0 | 0 | 0 | 0 |\n| Bunnahabhain  | Bunnahabha | 0 | 0 | 0 | 0 | 0 | 1 | 0 | 0 | ⋯ | NORTH   | 1 | 0 | 0 | 0 | 0 | 0 | 0 | 0 | 0 |\n| Caol Ila      | Caol Ila   | 1 | 0 | 0 | 0 | 0 | 0 | 0 | 0 | ⋯ | NORTH   | 1 | 0 | 0 | 0 | 0 | 0 | 0 | 0 | 0 |\n| Caperdonich   | Caperdonic | 0 | 0 | 0 | 0 | 0 | 0 | 0 | 1 | ⋯ | SPEY    | 0 | 0 | 1 | 0 | 0 | 0 | 0 | 0 | 0 |\n| Cardhu        | Cardhu     | 0 | 0 | 0 | 1 | 0 | 0 | 0 | 0 | ⋯ | SPEY    | 0 | 0 | 1 | 0 | 0 | 0 | 0 | 0 | 0 |\n| Clynelish     | Clynelish  | 0 | 0 | 0 | 0 | 0 | 0 | 0 | 0 | ⋯ | NORTH   | 0 | 0 | 0 | 0 | 0 | 1 | 0 | 0 | 0 |\n| Coleburn      | Coleburn   | 0 | 0 | 0 | 0 | 1 | 0 | 0 | 0 | ⋯ | SPEY    | 0 | 0 | 1 | 0 | 0 | 0 | 0 | 0 | 0 |\n| Convalmore    | Convalmore | 0 | 0 | 0 | 0 | 0 | 0 | 0 | 1 | ⋯ | SPEY    | 0 | 0 | 1 | 0 | 0 | 0 | 0 | 0 | 0 |\n| Cragganmore   | Cragganmor | 0 | 0 | 0 | 0 | 0 | 1 | 0 | 0 | ⋯ | SPEY    | 0 | 0 | 1 | 0 | 0 | 0 | 0 | 0 | 0 |\n| Craigellachie | Craigellac | 0 | 0 | 0 | 0 | 0 | 0 | 0 | 1 | ⋯ | SPEY    | 0 | 0 | 1 | 0 | 0 | 0 | 0 | 0 | 0 |\n| Dailuaine     | Dailuaine  | 0 | 0 | 0 | 0 | 0 | 1 | 0 | 0 | ⋯ | SPEY    | 0 | 0 | 1 | 0 | 0 | 0 | 0 | 0 | 0 |\n| Dallas Dhu    | Dallas Dhu | 0 | 0 | 0 | 0 | 0 | 0 | 0 | 0 | ⋯ | SPEY    | 0 | 0 | 1 | 0 | 0 | 0 | 0 | 0 | 0 |\n| ⋮ | ⋮ | ⋮ | ⋮ | ⋮ | ⋮ | ⋮ | ⋮ | ⋮ | ⋮ | ⋱ | ⋮ | ⋮ | ⋮ | ⋮ | ⋮ | ⋮ | ⋮ | ⋮ | ⋮ | ⋮ |\n| Linkwood           | Linkwood   | 0 | 0 | 0 | 0 | 0 | 0 | 0 | 1 | ⋯ | SPEY      | 0 | 0 | 1 | 0 | 0 | 0 | 0 | 0 | 0 |\n| Littlemill         | Littlemill | 1 | 0 | 0 | 0 | 0 | 0 | 0 | 0 | ⋯ | NORTHWEST | 0 | 0 | 0 | 0 | 0 | 0 | 1 | 0 | 0 |\n| Lochnagar          | Lochnagar  | 0 | 0 | 0 | 0 | 0 | 0 | 0 | 1 | ⋯ | EAST      | 0 | 0 | 0 | 1 | 0 | 0 | 0 | 0 | 0 |\n| Lochside           | Lochside   | 0 | 0 | 0 | 0 | 0 | 0 | 0 | 0 | ⋯ | EAST      | 0 | 0 | 0 | 1 | 0 | 0 | 0 | 0 | 0 |\n| Longmorn           | Longmorn   | 0 | 0 | 0 | 0 | 0 | 0 | 0 | 1 | ⋯ | SPEY      | 0 | 0 | 1 | 0 | 0 | 0 | 0 | 0 | 0 |\n| Macallan           | Macallan   | 0 | 0 | 0 | 0 | 0 | 0 | 0 | 0 | ⋯ | SPEY      | 0 | 0 | 1 | 0 | 0 | 0 | 0 | 0 | 0 |\n| Millburn           | Millburn   | 0 | 0 | 0 | 0 | 0 | 0 | 0 | 0 | ⋯ | SPEY      | 0 | 0 | 1 | 0 | 0 | 0 | 0 | 0 | 0 |\n| Miltonduff         | Miltonduff | 0 | 0 | 0 | 0 | 1 | 0 | 0 | 0 | ⋯ | SPEY      | 0 | 0 | 1 | 0 | 0 | 0 | 0 | 0 | 0 |\n| Mortlach           | Mortlach   | 0 | 0 | 0 | 0 | 0 | 0 | 0 | 0 | ⋯ | SPEY      | 0 | 0 | 1 | 0 | 0 | 0 | 0 | 0 | 0 |\n| North Port         | North Port | 0 | 0 | 0 | 0 | 0 | 0 | 0 | 1 | ⋯ | EAST      | 0 | 0 | 0 | 1 | 0 | 0 | 0 | 0 | 0 |\n| Oban               | Oban       | 0 | 0 | 0 | 0 | 0 | 0 | 0 | 0 | ⋯ | WEST      | 0 | 0 | 0 | 1 | 0 | 0 | 0 | 0 | 0 |\n| Port Ellen         | Port Ellen | 0 | 0 | 0 | 0 | 0 | 0 | 0 | 0 | ⋯ | SOUTH     | 0 | 0 | 0 | 0 | 1 | 0 | 0 | 0 | 0 |\n| Pulteney           | Pulteney   | 0 | 0 | 0 | 0 | 0 | 0 | 0 | 0 | ⋯ | NORTH     | 0 | 0 | 0 | 0 | 0 | 1 | 0 | 0 | 0 |\n| Rosebank           | Rosebank   | 0 | 0 | 0 | 0 | 0 | 0 | 0 | 0 | ⋯ | CENTRAL   | 0 | 0 | 0 | 0 | 0 | 0 | 1 | 0 | 0 |\n| Saint Magdalene    | Saint Magd | 0 | 0 | 0 | 0 | 0 | 0 | 0 | 0 | ⋯ | CENTRAL   | 0 | 0 | 0 | 0 | 0 | 0 | 1 | 0 | 0 |\n| Scapa              | Scapa      | 0 | 0 | 0 | 0 | 0 | 0 | 0 | 0 | ⋯ | ORKNEY    | 0 | 0 | 0 | 0 | 0 | 0 | 0 | 0 | 1 |\n| Singleton          | Singleton  | 0 | 0 | 0 | 0 | 0 | 0 | 0 | 0 | ⋯ | SPEY      | 0 | 0 | 1 | 0 | 0 | 0 | 0 | 0 | 0 |\n| Speyburn           | Speyburn   | 0 | 0 | 0 | 0 | 0 | 0 | 0 | 0 | ⋯ | SPEY      | 0 | 0 | 1 | 0 | 0 | 0 | 0 | 0 | 0 |\n| Springbank         | Springbank | 0 | 0 | 0 | 0 | 0 | 1 | 0 | 0 | ⋯ | CAMPBEL   | 0 | 0 | 0 | 0 | 0 | 0 | 0 | 1 | 0 |\n| Springbank-Longrow | Longrow    | 0 | 0 | 0 | 0 | 0 | 1 | 0 | 0 | ⋯ | CAMPBEL   | 0 | 0 | 0 | 0 | 0 | 0 | 0 | 1 | 0 |\n| Strathisla         | Strathisla | 0 | 0 | 0 | 0 | 0 | 0 | 0 | 0 | ⋯ | SPEY      | 0 | 0 | 1 | 0 | 0 | 0 | 0 | 0 | 0 |\n| Talisker           | Talisker   | 0 | 0 | 0 | 0 | 0 | 0 | 0 | 0 | ⋯ | SKYE      | 0 | 0 | 0 | 0 | 0 | 0 | 0 | 0 | 1 |\n| Tamdhu             | Tamdhu     | 0 | 0 | 0 | 0 | 0 | 0 | 0 | 0 | ⋯ | SPEY      | 0 | 0 | 1 | 0 | 0 | 0 | 0 | 0 | 0 |\n| Tamnavulin         | Tamnavulin | 1 | 0 | 0 | 0 | 0 | 0 | 0 | 0 | ⋯ | SPEY      | 0 | 0 | 1 | 0 | 0 | 0 | 0 | 0 | 0 |\n| Teaninich          | Teaninich  | 0 | 0 | 0 | 0 | 0 | 0 | 0 | 0 | ⋯ | NORTH     | 0 | 0 | 0 | 0 | 0 | 1 | 0 | 0 | 0 |\n| Tobermory          | Tobermory  | 0 | 0 | 0 | 0 | 0 | 0 | 0 | 1 | ⋯ | MULL      | 0 | 0 | 0 | 0 | 0 | 0 | 0 | 0 | 1 |\n| Tomatin            | Tomatin    | 0 | 0 | 0 | 0 | 0 | 0 | 0 | 1 | ⋯ | SPEY      | 0 | 0 | 1 | 0 | 0 | 0 | 0 | 0 | 0 |\n| Tomintoul          | Tomintoul  | 0 | 0 | 0 | 0 | 0 | 0 | 0 | 1 | ⋯ | SPEY      | 0 | 0 | 1 | 0 | 0 | 0 | 0 | 0 | 0 |\n| Tormore            | Tormore    | 0 | 0 | 0 | 0 | 0 | 0 | 0 | 1 | ⋯ | SPEY      | 0 | 0 | 1 | 0 | 0 | 0 | 0 | 0 | 0 |\n| Tullibardine       | Tullibardi | 0 | 0 | 0 | 0 | 0 | 1 | 0 | 0 | ⋯ | MIDLAND   | 0 | 1 | 0 | 0 | 0 | 0 | 0 | 0 | 0 |\n\n",
            "text/html": [
              "<table>\n",
              "<caption>A data.frame: 109 × 85</caption>\n",
              "<thead>\n",
              "\t<tr><th scope=col>NAME</th><th scope=col>X</th><th scope=col>wyne</th><th scope=col>yellow</th><th scope=col>v.pale</th><th scope=col>pale</th><th scope=col>p.gold</th><th scope=col>gold</th><th scope=col>o.gold</th><th scope=col>f.gold</th><th scope=col>⋯</th><th scope=col>DISTRICT</th><th scope=col>islay</th><th scope=col>midland</th><th scope=col>spey</th><th scope=col>east</th><th scope=col>west</th><th scope=col>north</th><th scope=col>lowland</th><th scope=col>campbell</th><th scope=col>islands</th></tr>\n",
              "\t<tr><th scope=col>&lt;fct&gt;</th><th scope=col>&lt;fct&gt;</th><th scope=col>&lt;int&gt;</th><th scope=col>&lt;int&gt;</th><th scope=col>&lt;int&gt;</th><th scope=col>&lt;int&gt;</th><th scope=col>&lt;int&gt;</th><th scope=col>&lt;int&gt;</th><th scope=col>&lt;int&gt;</th><th scope=col>&lt;int&gt;</th><th scope=col>⋯</th><th scope=col>&lt;fct&gt;</th><th scope=col>&lt;int&gt;</th><th scope=col>&lt;int&gt;</th><th scope=col>&lt;int&gt;</th><th scope=col>&lt;int&gt;</th><th scope=col>&lt;int&gt;</th><th scope=col>&lt;int&gt;</th><th scope=col>&lt;int&gt;</th><th scope=col>&lt;int&gt;</th><th scope=col>&lt;int&gt;</th></tr>\n",
              "</thead>\n",
              "<tbody>\n",
              "\t<tr><td>Aberfeldy    </td><td>Aberfeldy </td><td>0</td><td>1</td><td>0</td><td>0</td><td>0</td><td>0</td><td>0</td><td>0</td><td>⋯</td><td>MIDLAND</td><td>0</td><td>1</td><td>0</td><td>0</td><td>0</td><td>0</td><td>0</td><td>0</td><td>0</td></tr>\n",
              "\t<tr><td>Aberlour     </td><td>Aberlour  </td><td>0</td><td>0</td><td>0</td><td>0</td><td>0</td><td>0</td><td>0</td><td>0</td><td>⋯</td><td>SPEY   </td><td>0</td><td>0</td><td>1</td><td>0</td><td>0</td><td>0</td><td>0</td><td>0</td><td>0</td></tr>\n",
              "\t<tr><td>Ardberg      </td><td>Ardberg   </td><td>0</td><td>0</td><td>0</td><td>0</td><td>0</td><td>0</td><td>0</td><td>0</td><td>⋯</td><td>SOUTH  </td><td>1</td><td>0</td><td>0</td><td>0</td><td>0</td><td>0</td><td>0</td><td>0</td><td>0</td></tr>\n",
              "\t<tr><td>Ardmore      </td><td>Ardmore   </td><td>0</td><td>0</td><td>0</td><td>0</td><td>1</td><td>0</td><td>0</td><td>0</td><td>⋯</td><td>SPEY   </td><td>0</td><td>0</td><td>1</td><td>0</td><td>0</td><td>0</td><td>0</td><td>0</td><td>0</td></tr>\n",
              "\t<tr><td>Auchentoshan </td><td>Auchentosh</td><td>0</td><td>0</td><td>0</td><td>0</td><td>1</td><td>0</td><td>0</td><td>0</td><td>⋯</td><td>WEST   </td><td>0</td><td>0</td><td>0</td><td>0</td><td>0</td><td>0</td><td>1</td><td>0</td><td>0</td></tr>\n",
              "\t<tr><td>Aultmore     </td><td>Aultmore  </td><td>0</td><td>0</td><td>1</td><td>0</td><td>0</td><td>0</td><td>0</td><td>0</td><td>⋯</td><td>SPEY   </td><td>0</td><td>0</td><td>1</td><td>0</td><td>0</td><td>0</td><td>0</td><td>0</td><td>0</td></tr>\n",
              "\t<tr><td>Balblair     </td><td>Balblair  </td><td>1</td><td>0</td><td>0</td><td>0</td><td>0</td><td>0</td><td>0</td><td>0</td><td>⋯</td><td>NORTH  </td><td>0</td><td>0</td><td>0</td><td>0</td><td>0</td><td>1</td><td>0</td><td>0</td><td>0</td></tr>\n",
              "\t<tr><td>Balmenach    </td><td>Balmenach </td><td>0</td><td>0</td><td>0</td><td>0</td><td>1</td><td>0</td><td>0</td><td>0</td><td>⋯</td><td>SPEY   </td><td>0</td><td>0</td><td>1</td><td>0</td><td>0</td><td>0</td><td>0</td><td>0</td><td>0</td></tr>\n",
              "\t<tr><td>Balvenie     </td><td>Balvenie  </td><td>0</td><td>0</td><td>0</td><td>0</td><td>0</td><td>0</td><td>0</td><td>0</td><td>⋯</td><td>SPEY   </td><td>0</td><td>0</td><td>1</td><td>0</td><td>0</td><td>0</td><td>0</td><td>0</td><td>0</td></tr>\n",
              "\t<tr><td>Banff        </td><td>Banff     </td><td>0</td><td>0</td><td>0</td><td>0</td><td>0</td><td>0</td><td>0</td><td>1</td><td>⋯</td><td>SPEY   </td><td>0</td><td>0</td><td>1</td><td>0</td><td>0</td><td>0</td><td>0</td><td>0</td><td>0</td></tr>\n",
              "\t<tr><td>Ben Nevis    </td><td>Ben Nevis </td><td>0</td><td>0</td><td>0</td><td>0</td><td>0</td><td>0</td><td>0</td><td>0</td><td>⋯</td><td>WEST   </td><td>0</td><td>0</td><td>0</td><td>0</td><td>1</td><td>0</td><td>0</td><td>0</td><td>0</td></tr>\n",
              "\t<tr><td>Benriach     </td><td>Benriach  </td><td>0</td><td>0</td><td>0</td><td>0</td><td>0</td><td>1</td><td>0</td><td>0</td><td>⋯</td><td>SPEY   </td><td>0</td><td>0</td><td>1</td><td>0</td><td>0</td><td>0</td><td>0</td><td>0</td><td>0</td></tr>\n",
              "\t<tr><td>Benrinnes    </td><td>Benrinnes </td><td>0</td><td>0</td><td>0</td><td>0</td><td>0</td><td>0</td><td>0</td><td>0</td><td>⋯</td><td>SPEY   </td><td>0</td><td>0</td><td>1</td><td>0</td><td>0</td><td>0</td><td>0</td><td>0</td><td>0</td></tr>\n",
              "\t<tr><td>Benromach    </td><td>Benromach </td><td>0</td><td>0</td><td>0</td><td>0</td><td>0</td><td>0</td><td>0</td><td>0</td><td>⋯</td><td>SPEY   </td><td>0</td><td>0</td><td>1</td><td>0</td><td>0</td><td>0</td><td>0</td><td>0</td><td>0</td></tr>\n",
              "\t<tr><td>Bladnoch     </td><td>Bladnoch  </td><td>0</td><td>1</td><td>0</td><td>0</td><td>0</td><td>0</td><td>0</td><td>0</td><td>⋯</td><td>BORDERS</td><td>0</td><td>0</td><td>0</td><td>0</td><td>0</td><td>0</td><td>1</td><td>0</td><td>0</td></tr>\n",
              "\t<tr><td>Blair Athol  </td><td>Blair Atho</td><td>0</td><td>0</td><td>0</td><td>0</td><td>1</td><td>0</td><td>0</td><td>0</td><td>⋯</td><td>MIDLAND</td><td>0</td><td>1</td><td>0</td><td>0</td><td>0</td><td>0</td><td>0</td><td>0</td><td>0</td></tr>\n",
              "\t<tr><td>Bowmore      </td><td>Bowmore   </td><td>0</td><td>0</td><td>0</td><td>0</td><td>0</td><td>0</td><td>1</td><td>0</td><td>⋯</td><td>LOCH   </td><td>1</td><td>0</td><td>0</td><td>0</td><td>0</td><td>0</td><td>0</td><td>0</td><td>0</td></tr>\n",
              "\t<tr><td>Brackla      </td><td>Brackla   </td><td>0</td><td>0</td><td>0</td><td>0</td><td>0</td><td>0</td><td>1</td><td>0</td><td>⋯</td><td>SPEY   </td><td>0</td><td>0</td><td>1</td><td>0</td><td>0</td><td>0</td><td>0</td><td>0</td><td>0</td></tr>\n",
              "\t<tr><td>Bruichladdich</td><td>Bruichladd</td><td>0</td><td>0</td><td>0</td><td>1</td><td>0</td><td>0</td><td>0</td><td>0</td><td>⋯</td><td>LOCH   </td><td>1</td><td>0</td><td>0</td><td>0</td><td>0</td><td>0</td><td>0</td><td>0</td><td>0</td></tr>\n",
              "\t<tr><td>Bunnahabhain </td><td>Bunnahabha</td><td>0</td><td>0</td><td>0</td><td>0</td><td>0</td><td>1</td><td>0</td><td>0</td><td>⋯</td><td>NORTH  </td><td>1</td><td>0</td><td>0</td><td>0</td><td>0</td><td>0</td><td>0</td><td>0</td><td>0</td></tr>\n",
              "\t<tr><td>Caol Ila     </td><td>Caol Ila  </td><td>1</td><td>0</td><td>0</td><td>0</td><td>0</td><td>0</td><td>0</td><td>0</td><td>⋯</td><td>NORTH  </td><td>1</td><td>0</td><td>0</td><td>0</td><td>0</td><td>0</td><td>0</td><td>0</td><td>0</td></tr>\n",
              "\t<tr><td>Caperdonich  </td><td>Caperdonic</td><td>0</td><td>0</td><td>0</td><td>0</td><td>0</td><td>0</td><td>0</td><td>1</td><td>⋯</td><td>SPEY   </td><td>0</td><td>0</td><td>1</td><td>0</td><td>0</td><td>0</td><td>0</td><td>0</td><td>0</td></tr>\n",
              "\t<tr><td>Cardhu       </td><td>Cardhu    </td><td>0</td><td>0</td><td>0</td><td>1</td><td>0</td><td>0</td><td>0</td><td>0</td><td>⋯</td><td>SPEY   </td><td>0</td><td>0</td><td>1</td><td>0</td><td>0</td><td>0</td><td>0</td><td>0</td><td>0</td></tr>\n",
              "\t<tr><td>Clynelish    </td><td>Clynelish </td><td>0</td><td>0</td><td>0</td><td>0</td><td>0</td><td>0</td><td>0</td><td>0</td><td>⋯</td><td>NORTH  </td><td>0</td><td>0</td><td>0</td><td>0</td><td>0</td><td>1</td><td>0</td><td>0</td><td>0</td></tr>\n",
              "\t<tr><td>Coleburn     </td><td>Coleburn  </td><td>0</td><td>0</td><td>0</td><td>0</td><td>1</td><td>0</td><td>0</td><td>0</td><td>⋯</td><td>SPEY   </td><td>0</td><td>0</td><td>1</td><td>0</td><td>0</td><td>0</td><td>0</td><td>0</td><td>0</td></tr>\n",
              "\t<tr><td>Convalmore   </td><td>Convalmore</td><td>0</td><td>0</td><td>0</td><td>0</td><td>0</td><td>0</td><td>0</td><td>1</td><td>⋯</td><td>SPEY   </td><td>0</td><td>0</td><td>1</td><td>0</td><td>0</td><td>0</td><td>0</td><td>0</td><td>0</td></tr>\n",
              "\t<tr><td>Cragganmore  </td><td>Cragganmor</td><td>0</td><td>0</td><td>0</td><td>0</td><td>0</td><td>1</td><td>0</td><td>0</td><td>⋯</td><td>SPEY   </td><td>0</td><td>0</td><td>1</td><td>0</td><td>0</td><td>0</td><td>0</td><td>0</td><td>0</td></tr>\n",
              "\t<tr><td>Craigellachie</td><td>Craigellac</td><td>0</td><td>0</td><td>0</td><td>0</td><td>0</td><td>0</td><td>0</td><td>1</td><td>⋯</td><td>SPEY   </td><td>0</td><td>0</td><td>1</td><td>0</td><td>0</td><td>0</td><td>0</td><td>0</td><td>0</td></tr>\n",
              "\t<tr><td>Dailuaine    </td><td>Dailuaine </td><td>0</td><td>0</td><td>0</td><td>0</td><td>0</td><td>1</td><td>0</td><td>0</td><td>⋯</td><td>SPEY   </td><td>0</td><td>0</td><td>1</td><td>0</td><td>0</td><td>0</td><td>0</td><td>0</td><td>0</td></tr>\n",
              "\t<tr><td>Dallas Dhu   </td><td>Dallas Dhu</td><td>0</td><td>0</td><td>0</td><td>0</td><td>0</td><td>0</td><td>0</td><td>0</td><td>⋯</td><td>SPEY   </td><td>0</td><td>0</td><td>1</td><td>0</td><td>0</td><td>0</td><td>0</td><td>0</td><td>0</td></tr>\n",
              "\t<tr><td>⋮</td><td>⋮</td><td>⋮</td><td>⋮</td><td>⋮</td><td>⋮</td><td>⋮</td><td>⋮</td><td>⋮</td><td>⋮</td><td>⋱</td><td>⋮</td><td>⋮</td><td>⋮</td><td>⋮</td><td>⋮</td><td>⋮</td><td>⋮</td><td>⋮</td><td>⋮</td><td>⋮</td></tr>\n",
              "\t<tr><td>Linkwood          </td><td>Linkwood  </td><td>0</td><td>0</td><td>0</td><td>0</td><td>0</td><td>0</td><td>0</td><td>1</td><td>⋯</td><td>SPEY     </td><td>0</td><td>0</td><td>1</td><td>0</td><td>0</td><td>0</td><td>0</td><td>0</td><td>0</td></tr>\n",
              "\t<tr><td>Littlemill        </td><td>Littlemill</td><td>1</td><td>0</td><td>0</td><td>0</td><td>0</td><td>0</td><td>0</td><td>0</td><td>⋯</td><td>NORTHWEST</td><td>0</td><td>0</td><td>0</td><td>0</td><td>0</td><td>0</td><td>1</td><td>0</td><td>0</td></tr>\n",
              "\t<tr><td>Lochnagar         </td><td>Lochnagar </td><td>0</td><td>0</td><td>0</td><td>0</td><td>0</td><td>0</td><td>0</td><td>1</td><td>⋯</td><td>EAST     </td><td>0</td><td>0</td><td>0</td><td>1</td><td>0</td><td>0</td><td>0</td><td>0</td><td>0</td></tr>\n",
              "\t<tr><td>Lochside          </td><td>Lochside  </td><td>0</td><td>0</td><td>0</td><td>0</td><td>0</td><td>0</td><td>0</td><td>0</td><td>⋯</td><td>EAST     </td><td>0</td><td>0</td><td>0</td><td>1</td><td>0</td><td>0</td><td>0</td><td>0</td><td>0</td></tr>\n",
              "\t<tr><td>Longmorn          </td><td>Longmorn  </td><td>0</td><td>0</td><td>0</td><td>0</td><td>0</td><td>0</td><td>0</td><td>1</td><td>⋯</td><td>SPEY     </td><td>0</td><td>0</td><td>1</td><td>0</td><td>0</td><td>0</td><td>0</td><td>0</td><td>0</td></tr>\n",
              "\t<tr><td>Macallan          </td><td>Macallan  </td><td>0</td><td>0</td><td>0</td><td>0</td><td>0</td><td>0</td><td>0</td><td>0</td><td>⋯</td><td>SPEY     </td><td>0</td><td>0</td><td>1</td><td>0</td><td>0</td><td>0</td><td>0</td><td>0</td><td>0</td></tr>\n",
              "\t<tr><td>Millburn          </td><td>Millburn  </td><td>0</td><td>0</td><td>0</td><td>0</td><td>0</td><td>0</td><td>0</td><td>0</td><td>⋯</td><td>SPEY     </td><td>0</td><td>0</td><td>1</td><td>0</td><td>0</td><td>0</td><td>0</td><td>0</td><td>0</td></tr>\n",
              "\t<tr><td>Miltonduff        </td><td>Miltonduff</td><td>0</td><td>0</td><td>0</td><td>0</td><td>1</td><td>0</td><td>0</td><td>0</td><td>⋯</td><td>SPEY     </td><td>0</td><td>0</td><td>1</td><td>0</td><td>0</td><td>0</td><td>0</td><td>0</td><td>0</td></tr>\n",
              "\t<tr><td>Mortlach          </td><td>Mortlach  </td><td>0</td><td>0</td><td>0</td><td>0</td><td>0</td><td>0</td><td>0</td><td>0</td><td>⋯</td><td>SPEY     </td><td>0</td><td>0</td><td>1</td><td>0</td><td>0</td><td>0</td><td>0</td><td>0</td><td>0</td></tr>\n",
              "\t<tr><td>North Port        </td><td>North Port</td><td>0</td><td>0</td><td>0</td><td>0</td><td>0</td><td>0</td><td>0</td><td>1</td><td>⋯</td><td>EAST     </td><td>0</td><td>0</td><td>0</td><td>1</td><td>0</td><td>0</td><td>0</td><td>0</td><td>0</td></tr>\n",
              "\t<tr><td>Oban              </td><td>Oban      </td><td>0</td><td>0</td><td>0</td><td>0</td><td>0</td><td>0</td><td>0</td><td>0</td><td>⋯</td><td>WEST     </td><td>0</td><td>0</td><td>0</td><td>1</td><td>0</td><td>0</td><td>0</td><td>0</td><td>0</td></tr>\n",
              "\t<tr><td>Port Ellen        </td><td>Port Ellen</td><td>0</td><td>0</td><td>0</td><td>0</td><td>0</td><td>0</td><td>0</td><td>0</td><td>⋯</td><td>SOUTH    </td><td>0</td><td>0</td><td>0</td><td>0</td><td>1</td><td>0</td><td>0</td><td>0</td><td>0</td></tr>\n",
              "\t<tr><td>Pulteney          </td><td>Pulteney  </td><td>0</td><td>0</td><td>0</td><td>0</td><td>0</td><td>0</td><td>0</td><td>0</td><td>⋯</td><td>NORTH    </td><td>0</td><td>0</td><td>0</td><td>0</td><td>0</td><td>1</td><td>0</td><td>0</td><td>0</td></tr>\n",
              "\t<tr><td>Rosebank          </td><td>Rosebank  </td><td>0</td><td>0</td><td>0</td><td>0</td><td>0</td><td>0</td><td>0</td><td>0</td><td>⋯</td><td>CENTRAL  </td><td>0</td><td>0</td><td>0</td><td>0</td><td>0</td><td>0</td><td>1</td><td>0</td><td>0</td></tr>\n",
              "\t<tr><td>Saint Magdalene   </td><td>Saint Magd</td><td>0</td><td>0</td><td>0</td><td>0</td><td>0</td><td>0</td><td>0</td><td>0</td><td>⋯</td><td>CENTRAL  </td><td>0</td><td>0</td><td>0</td><td>0</td><td>0</td><td>0</td><td>1</td><td>0</td><td>0</td></tr>\n",
              "\t<tr><td>Scapa             </td><td>Scapa     </td><td>0</td><td>0</td><td>0</td><td>0</td><td>0</td><td>0</td><td>0</td><td>0</td><td>⋯</td><td>ORKNEY   </td><td>0</td><td>0</td><td>0</td><td>0</td><td>0</td><td>0</td><td>0</td><td>0</td><td>1</td></tr>\n",
              "\t<tr><td>Singleton         </td><td>Singleton </td><td>0</td><td>0</td><td>0</td><td>0</td><td>0</td><td>0</td><td>0</td><td>0</td><td>⋯</td><td>SPEY     </td><td>0</td><td>0</td><td>1</td><td>0</td><td>0</td><td>0</td><td>0</td><td>0</td><td>0</td></tr>\n",
              "\t<tr><td>Speyburn          </td><td>Speyburn  </td><td>0</td><td>0</td><td>0</td><td>0</td><td>0</td><td>0</td><td>0</td><td>0</td><td>⋯</td><td>SPEY     </td><td>0</td><td>0</td><td>1</td><td>0</td><td>0</td><td>0</td><td>0</td><td>0</td><td>0</td></tr>\n",
              "\t<tr><td>Springbank        </td><td>Springbank</td><td>0</td><td>0</td><td>0</td><td>0</td><td>0</td><td>1</td><td>0</td><td>0</td><td>⋯</td><td>CAMPBEL  </td><td>0</td><td>0</td><td>0</td><td>0</td><td>0</td><td>0</td><td>0</td><td>1</td><td>0</td></tr>\n",
              "\t<tr><td>Springbank-Longrow</td><td>Longrow   </td><td>0</td><td>0</td><td>0</td><td>0</td><td>0</td><td>1</td><td>0</td><td>0</td><td>⋯</td><td>CAMPBEL  </td><td>0</td><td>0</td><td>0</td><td>0</td><td>0</td><td>0</td><td>0</td><td>1</td><td>0</td></tr>\n",
              "\t<tr><td>Strathisla        </td><td>Strathisla</td><td>0</td><td>0</td><td>0</td><td>0</td><td>0</td><td>0</td><td>0</td><td>0</td><td>⋯</td><td>SPEY     </td><td>0</td><td>0</td><td>1</td><td>0</td><td>0</td><td>0</td><td>0</td><td>0</td><td>0</td></tr>\n",
              "\t<tr><td>Talisker          </td><td>Talisker  </td><td>0</td><td>0</td><td>0</td><td>0</td><td>0</td><td>0</td><td>0</td><td>0</td><td>⋯</td><td>SKYE     </td><td>0</td><td>0</td><td>0</td><td>0</td><td>0</td><td>0</td><td>0</td><td>0</td><td>1</td></tr>\n",
              "\t<tr><td>Tamdhu            </td><td>Tamdhu    </td><td>0</td><td>0</td><td>0</td><td>0</td><td>0</td><td>0</td><td>0</td><td>0</td><td>⋯</td><td>SPEY     </td><td>0</td><td>0</td><td>1</td><td>0</td><td>0</td><td>0</td><td>0</td><td>0</td><td>0</td></tr>\n",
              "\t<tr><td>Tamnavulin        </td><td>Tamnavulin</td><td>1</td><td>0</td><td>0</td><td>0</td><td>0</td><td>0</td><td>0</td><td>0</td><td>⋯</td><td>SPEY     </td><td>0</td><td>0</td><td>1</td><td>0</td><td>0</td><td>0</td><td>0</td><td>0</td><td>0</td></tr>\n",
              "\t<tr><td>Teaninich         </td><td>Teaninich </td><td>0</td><td>0</td><td>0</td><td>0</td><td>0</td><td>0</td><td>0</td><td>0</td><td>⋯</td><td>NORTH    </td><td>0</td><td>0</td><td>0</td><td>0</td><td>0</td><td>1</td><td>0</td><td>0</td><td>0</td></tr>\n",
              "\t<tr><td>Tobermory         </td><td>Tobermory </td><td>0</td><td>0</td><td>0</td><td>0</td><td>0</td><td>0</td><td>0</td><td>1</td><td>⋯</td><td>MULL     </td><td>0</td><td>0</td><td>0</td><td>0</td><td>0</td><td>0</td><td>0</td><td>0</td><td>1</td></tr>\n",
              "\t<tr><td>Tomatin           </td><td>Tomatin   </td><td>0</td><td>0</td><td>0</td><td>0</td><td>0</td><td>0</td><td>0</td><td>1</td><td>⋯</td><td>SPEY     </td><td>0</td><td>0</td><td>1</td><td>0</td><td>0</td><td>0</td><td>0</td><td>0</td><td>0</td></tr>\n",
              "\t<tr><td>Tomintoul         </td><td>Tomintoul </td><td>0</td><td>0</td><td>0</td><td>0</td><td>0</td><td>0</td><td>0</td><td>1</td><td>⋯</td><td>SPEY     </td><td>0</td><td>0</td><td>1</td><td>0</td><td>0</td><td>0</td><td>0</td><td>0</td><td>0</td></tr>\n",
              "\t<tr><td>Tormore           </td><td>Tormore   </td><td>0</td><td>0</td><td>0</td><td>0</td><td>0</td><td>0</td><td>0</td><td>1</td><td>⋯</td><td>SPEY     </td><td>0</td><td>0</td><td>1</td><td>0</td><td>0</td><td>0</td><td>0</td><td>0</td><td>0</td></tr>\n",
              "\t<tr><td>Tullibardine      </td><td>Tullibardi</td><td>0</td><td>0</td><td>0</td><td>0</td><td>0</td><td>1</td><td>0</td><td>0</td><td>⋯</td><td>MIDLAND  </td><td>0</td><td>1</td><td>0</td><td>0</td><td>0</td><td>0</td><td>0</td><td>0</td><td>0</td></tr>\n",
              "</tbody>\n",
              "</table>\n"
            ]
          },
          "metadata": {
            "tags": []
          }
        }
      ]
    },
    {
      "cell_type": "markdown",
      "metadata": {
        "id": "jSIwzt2wHs9A",
        "colab_type": "text"
      },
      "source": [
        "O *dataframe* criado já está bem parecido com uma matriz, exceto por alguns dados extras. Como limpamos isso?"
      ]
    },
    {
      "cell_type": "markdown",
      "metadata": {
        "id": "i1qtHGk8aDqa",
        "colab_type": "text"
      },
      "source": [
        "#### Lidando com dados categóricos\n",
        "\n",
        "Como inserir uma informação categórica em um espaço vetorial? Antes de escolher a melhor maneira, é preciso se perguntar algumas características sobre essa variável.\n",
        "\n",
        "##### Ela é **nominal** ou **ordinal**?\n",
        "\n",
        "**Nominais** são aquelas onde não existe nenhum tipo de ordem ou ranking entre as categorias, como gênero, por exemplo. Já as **ordinais**, possuem alguma ordem embutida, como por exemplo, escolaridade.\n",
        "\n",
        "##### Tipos de codificadores\n",
        " - Ordinal: converte cada valor para um inteiro.\n",
        " - OneHot (ou Dummy) - cria-se uma nova coluna/atributo para cada valor.\n",
        " - Hashing — Como o OneHot, mas utilizando hash. Pode-se perder alguma informação por causa de colisões.\n",
        " \n",
        " \n",
        " Então vamos verificar quais das nossas colunas possui variáveis categóricas e transformá-las para números. Em R, as variáveis do tipo *factor* são as variáveis categóricas."
      ]
    },
    {
      "cell_type": "code",
      "metadata": {
        "id": "54IFTAxlLumx",
        "colab_type": "code",
        "outputId": "4976040f-bd11-4698-e581-b89ea1835ee6",
        "colab": {
          "base_uri": "https://localhost:8080/",
          "height": 132
        }
      },
      "source": [
        "data %>% Filter(f = is.factor) %>% names\n"
      ],
      "execution_count": 0,
      "outputs": [
        {
          "output_type": "display_data",
          "data": {
            "text/plain": [
              "[1] \"NAME\"     \"X\"        \"X.\"       \"REGION\"   \"DISTRICT\""
            ],
            "text/latex": "\\begin{enumerate*}\n\\item 'NAME'\n\\item 'X'\n\\item 'X.'\n\\item 'REGION'\n\\item 'DISTRICT'\n\\end{enumerate*}\n",
            "text/markdown": "1. 'NAME'\n2. 'X'\n3. 'X.'\n4. 'REGION'\n5. 'DISTRICT'\n\n\n",
            "text/html": [
              "<ol class=list-inline>\n",
              "\t<li>'NAME'</li>\n",
              "\t<li>'X'</li>\n",
              "\t<li>'X.'</li>\n",
              "\t<li>'REGION'</li>\n",
              "\t<li>'DISTRICT'</li>\n",
              "</ol>\n"
            ]
          },
          "metadata": {
            "tags": []
          }
        }
      ]
    },
    {
      "cell_type": "code",
      "metadata": {
        "id": "f_cF_bi0Kgpn",
        "colab_type": "code",
        "outputId": "5a015523-6590-48f2-fe4c-0d48abbbe855",
        "colab": {
          "base_uri": "https://localhost:8080/",
          "height": 80
        }
      },
      "source": [
        "data_cleaned <- data %>% select(-NAME, -X, -X.)\n",
        "data_cleaned %>% Filter(f = is.factor) %>% names"
      ],
      "execution_count": 0,
      "outputs": [
        {
          "output_type": "display_data",
          "data": {
            "text/plain": [
              "[1] \"REGION\"   \"DISTRICT\""
            ],
            "text/latex": "\\begin{enumerate*}\n\\item 'REGION'\n\\item 'DISTRICT'\n\\end{enumerate*}\n",
            "text/markdown": "1. 'REGION'\n2. 'DISTRICT'\n\n\n",
            "text/html": [
              "<ol class=list-inline>\n",
              "\t<li>'REGION'</li>\n",
              "\t<li>'DISTRICT'</li>\n",
              "</ol>\n"
            ]
          },
          "metadata": {
            "tags": []
          }
        }
      ]
    },
    {
      "cell_type": "markdown",
      "metadata": {
        "id": "lxBWm4rmlp_N",
        "colab_type": "text"
      },
      "source": [
        "Analisando somente os dados categóricos"
      ]
    },
    {
      "cell_type": "code",
      "metadata": {
        "id": "NrKyGZWlkg-b",
        "colab_type": "code",
        "colab": {}
      },
      "source": [
        "data_categ <- data_cleaned %>% select(REGION, DISTRICT)"
      ],
      "execution_count": 0,
      "outputs": []
    },
    {
      "cell_type": "code",
      "metadata": {
        "id": "61Fcx2Hdl5m2",
        "colab_type": "code",
        "outputId": "890a2527-9727-498a-9ff8-53bc0c725a99",
        "colab": {
          "base_uri": "https://localhost:8080/",
          "height": 199
        }
      },
      "source": [
        "distinct(data_categ %>% select(REGION))"
      ],
      "execution_count": 0,
      "outputs": [
        {
          "output_type": "display_data",
          "data": {
            "text/plain": [
              "  REGION\n",
              "1 HIGH  \n",
              "2 ISLAY \n",
              "3 LOW   \n",
              "4 LOW   "
            ],
            "text/latex": "A data.frame: 4 × 1\n\\begin{tabular}{r|l}\n REGION\\\\\n <fct>\\\\\n\\hline\n\t HIGH \\\\\n\t ISLAY\\\\\n\t LOW  \\\\\n\t LOW  \\\\\n\\end{tabular}\n",
            "text/markdown": "\nA data.frame: 4 × 1\n\n| REGION &lt;fct&gt; |\n|---|\n| HIGH  |\n| ISLAY |\n| LOW   |\n| LOW   |\n\n",
            "text/html": [
              "<table>\n",
              "<caption>A data.frame: 4 × 1</caption>\n",
              "<thead>\n",
              "\t<tr><th scope=col>REGION</th></tr>\n",
              "\t<tr><th scope=col>&lt;fct&gt;</th></tr>\n",
              "</thead>\n",
              "<tbody>\n",
              "\t<tr><td>HIGH </td></tr>\n",
              "\t<tr><td>ISLAY</td></tr>\n",
              "\t<tr><td>LOW  </td></tr>\n",
              "\t<tr><td>LOW  </td></tr>\n",
              "</tbody>\n",
              "</table>\n"
            ]
          },
          "metadata": {
            "tags": []
          }
        }
      ]
    },
    {
      "cell_type": "code",
      "metadata": {
        "id": "-COG6DxGmbx9",
        "colab_type": "code",
        "outputId": "e832dbd0-06c4-4294-d2bb-75d1a34b22c9",
        "colab": {
          "base_uri": "https://localhost:8080/",
          "height": 417
        }
      },
      "source": [
        "distinct(data_categ %>% select(DISTRICT))"
      ],
      "execution_count": 0,
      "outputs": [
        {
          "output_type": "display_data",
          "data": {
            "text/plain": [
              "   DISTRICT \n",
              "1  MIDLAND  \n",
              "2  SPEY     \n",
              "3  SOUTH    \n",
              "4  WEST     \n",
              "5  NORTH    \n",
              "6  BORDERS  \n",
              "7  LOCH     \n",
              "8  EAST     \n",
              "9  CAMPBEL  \n",
              "10 ORKNEY   \n",
              "11 JURA     \n",
              "12 NORTHWEST\n",
              "13 CENTRAL  \n",
              "14 SKYE     \n",
              "15 MULL     "
            ],
            "text/latex": "A data.frame: 15 × 1\n\\begin{tabular}{r|l}\n DISTRICT\\\\\n <fct>\\\\\n\\hline\n\t MIDLAND  \\\\\n\t SPEY     \\\\\n\t SOUTH    \\\\\n\t WEST     \\\\\n\t NORTH    \\\\\n\t BORDERS  \\\\\n\t LOCH     \\\\\n\t EAST     \\\\\n\t CAMPBEL  \\\\\n\t ORKNEY   \\\\\n\t JURA     \\\\\n\t NORTHWEST\\\\\n\t CENTRAL  \\\\\n\t SKYE     \\\\\n\t MULL     \\\\\n\\end{tabular}\n",
            "text/markdown": "\nA data.frame: 15 × 1\n\n| DISTRICT &lt;fct&gt; |\n|---|\n| MIDLAND   |\n| SPEY      |\n| SOUTH     |\n| WEST      |\n| NORTH     |\n| BORDERS   |\n| LOCH      |\n| EAST      |\n| CAMPBEL   |\n| ORKNEY    |\n| JURA      |\n| NORTHWEST |\n| CENTRAL   |\n| SKYE      |\n| MULL      |\n\n",
            "text/html": [
              "<table>\n",
              "<caption>A data.frame: 15 × 1</caption>\n",
              "<thead>\n",
              "\t<tr><th scope=col>DISTRICT</th></tr>\n",
              "\t<tr><th scope=col>&lt;fct&gt;</th></tr>\n",
              "</thead>\n",
              "<tbody>\n",
              "\t<tr><td>MIDLAND  </td></tr>\n",
              "\t<tr><td>SPEY     </td></tr>\n",
              "\t<tr><td>SOUTH    </td></tr>\n",
              "\t<tr><td>WEST     </td></tr>\n",
              "\t<tr><td>NORTH    </td></tr>\n",
              "\t<tr><td>BORDERS  </td></tr>\n",
              "\t<tr><td>LOCH     </td></tr>\n",
              "\t<tr><td>EAST     </td></tr>\n",
              "\t<tr><td>CAMPBEL  </td></tr>\n",
              "\t<tr><td>ORKNEY   </td></tr>\n",
              "\t<tr><td>JURA     </td></tr>\n",
              "\t<tr><td>NORTHWEST</td></tr>\n",
              "\t<tr><td>CENTRAL  </td></tr>\n",
              "\t<tr><td>SKYE     </td></tr>\n",
              "\t<tr><td>MULL     </td></tr>\n",
              "</tbody>\n",
              "</table>\n"
            ]
          },
          "metadata": {
            "tags": []
          }
        }
      ]
    },
    {
      "cell_type": "markdown",
      "metadata": {
        "id": "txTRC3vPm6v3",
        "colab_type": "text"
      },
      "source": [
        "Opa! Tem um nome repetido na variável REGION. Provavelmente algum espaço no final da palavra. Vamos limpar também."
      ]
    },
    {
      "cell_type": "code",
      "metadata": {
        "id": "CS7uZLGEm59K",
        "colab_type": "code",
        "colab": {}
      },
      "source": [
        "data_cleaned <- trim(data_cleaned)"
      ],
      "execution_count": 0,
      "outputs": []
    },
    {
      "cell_type": "code",
      "metadata": {
        "id": "yvf99Am-pWy3",
        "colab_type": "code",
        "outputId": "efcef221-f402-4a87-97e3-884ee17eded8",
        "colab": {
          "base_uri": "https://localhost:8080/",
          "height": 178
        }
      },
      "source": [
        "distinct(data_cleaned %>% select(REGION))"
      ],
      "execution_count": 0,
      "outputs": [
        {
          "output_type": "display_data",
          "data": {
            "text/plain": [
              "  REGION\n",
              "1 HIGH  \n",
              "2 ISLAY \n",
              "3 LOW   "
            ],
            "text/latex": "A data.frame: 3 × 1\n\\begin{tabular}{r|l}\n REGION\\\\\n <fct>\\\\\n\\hline\n\t HIGH \\\\\n\t ISLAY\\\\\n\t LOW  \\\\\n\\end{tabular}\n",
            "text/markdown": "\nA data.frame: 3 × 1\n\n| REGION &lt;fct&gt; |\n|---|\n| HIGH  |\n| ISLAY |\n| LOW   |\n\n",
            "text/html": [
              "<table>\n",
              "<caption>A data.frame: 3 × 1</caption>\n",
              "<thead>\n",
              "\t<tr><th scope=col>REGION</th></tr>\n",
              "\t<tr><th scope=col>&lt;fct&gt;</th></tr>\n",
              "</thead>\n",
              "<tbody>\n",
              "\t<tr><td>HIGH </td></tr>\n",
              "\t<tr><td>ISLAY</td></tr>\n",
              "\t<tr><td>LOW  </td></tr>\n",
              "</tbody>\n",
              "</table>\n"
            ]
          },
          "metadata": {
            "tags": []
          }
        }
      ]
    },
    {
      "cell_type": "markdown",
      "metadata": {
        "id": "-jgdaM_IP8E6",
        "colab_type": "text"
      },
      "source": [
        "Como as colunas REGION e DISTRICT são nominais, vamos utilizar o codificador **One Hot** (ou **Dummy Variables**)"
      ]
    },
    {
      "cell_type": "code",
      "metadata": {
        "id": "Ihy8ko40LWJz",
        "colab_type": "code",
        "outputId": "51ba703a-8174-40c5-e38f-bda36de571b8",
        "colab": {
          "base_uri": "https://localhost:8080/",
          "height": 1382
        }
      },
      "source": [
        "dmy <- dummyVars(\" ~ .\", data = data_cleaned)\n",
        "data_onehot <- data.frame(predict(dmy, newdata = data_cleaned))\n",
        "data_onehot"
      ],
      "execution_count": 0,
      "outputs": [
        {
          "output_type": "display_data",
          "data": {
            "text/plain": [
              "    wyne yellow v.pale pale p.gold gold o.gold f.gold bronze p.amber ⋯\n",
              "1   0    1      0      0    0      0    0      0      0      0       ⋯\n",
              "2   0    0      0      0    0      0    0      0      0      0       ⋯\n",
              "3   0    0      0      0    0      0    0      0      0      0       ⋯\n",
              "4   0    0      0      0    1      0    0      0      0      0       ⋯\n",
              "5   0    0      0      0    1      0    0      0      0      0       ⋯\n",
              "6   0    0      1      0    0      0    0      0      0      0       ⋯\n",
              "7   1    0      0      0    0      0    0      0      0      0       ⋯\n",
              "8   0    0      0      0    1      0    0      0      0      0       ⋯\n",
              "9   0    0      0      0    0      0    0      0      0      0       ⋯\n",
              "10  0    0      0      0    0      0    0      1      0      0       ⋯\n",
              "11  0    0      0      0    0      0    0      0      0      0       ⋯\n",
              "12  0    0      0      0    0      1    0      0      0      0       ⋯\n",
              "13  0    0      0      0    0      0    0      0      0      0       ⋯\n",
              "14  0    0      0      0    0      0    0      0      0      0       ⋯\n",
              "15  0    1      0      0    0      0    0      0      0      0       ⋯\n",
              "16  0    0      0      0    1      0    0      0      0      0       ⋯\n",
              "17  0    0      0      0    0      0    1      0      0      0       ⋯\n",
              "18  0    0      0      0    0      0    1      0      0      0       ⋯\n",
              "19  0    0      0      1    0      0    0      0      0      0       ⋯\n",
              "20  0    0      0      0    0      1    0      0      0      0       ⋯\n",
              "21  1    0      0      0    0      0    0      0      0      0       ⋯\n",
              "22  0    0      0      0    0      0    0      1      0      0       ⋯\n",
              "23  0    0      0      1    0      0    0      0      0      0       ⋯\n",
              "24  0    0      0      0    0      0    0      0      0      0       ⋯\n",
              "25  0    0      0      0    1      0    0      0      0      0       ⋯\n",
              "26  0    0      0      0    0      0    0      1      0      0       ⋯\n",
              "27  0    0      0      0    0      1    0      0      0      0       ⋯\n",
              "28  0    0      0      0    0      0    0      1      0      0       ⋯\n",
              "29  0    0      0      0    0      1    0      0      0      0       ⋯\n",
              "30  0    0      0      0    0      0    0      0      0      0       ⋯\n",
              "⋮   ⋮    ⋮      ⋮      ⋮    ⋮      ⋮    ⋮      ⋮      ⋮      ⋮       ⋱\n",
              "80  0    0      0      0    0      0    0      1      0      0       ⋯\n",
              "81  1    0      0      0    0      0    0      0      0      0       ⋯\n",
              "82  0    0      0      0    0      0    0      1      0      0       ⋯\n",
              "83  0    0      0      0    0      0    0      0      0      0       ⋯\n",
              "84  0    0      0      0    0      0    0      1      0      0       ⋯\n",
              "85  0    0      0      0    0      0    0      0      0      0       ⋯\n",
              "86  0    0      0      0    0      0    0      0      0      0       ⋯\n",
              "87  0    0      0      0    1      0    0      0      0      0       ⋯\n",
              "88  0    0      0      0    0      0    0      0      0      1       ⋯\n",
              "89  0    0      0      0    0      0    0      1      0      0       ⋯\n",
              "90  0    0      0      0    0      0    0      0      0      0       ⋯\n",
              "91  0    0      0      0    0      0    0      0      0      0       ⋯\n",
              "92  0    0      0      0    0      0    0      0      0      0       ⋯\n",
              "93  0    0      0      0    0      0    0      0      0      0       ⋯\n",
              "94  0    0      0      0    0      0    0      0      0      0       ⋯\n",
              "95  0    0      0      0    0      0    0      0      0      0       ⋯\n",
              "96  0    0      0      0    0      0    0      0      0      0       ⋯\n",
              "97  0    0      0      0    0      0    0      0      1      0       ⋯\n",
              "98  0    0      0      0    0      1    0      0      0      0       ⋯\n",
              "99  0    0      0      0    0      1    0      0      0      0       ⋯\n",
              "100 0    0      0      0    0      0    0      0      0      0       ⋯\n",
              "101 0    0      0      0    0      0    0      0      0      0       ⋯\n",
              "102 0    0      0      0    0      0    0      0      0      1       ⋯\n",
              "103 1    0      0      0    0      0    0      0      0      0       ⋯\n",
              "104 0    0      0      0    0      0    0      0      0      1       ⋯\n",
              "105 0    0      0      0    0      0    0      1      0      0       ⋯\n",
              "106 0    0      0      0    0      0    0      1      0      0       ⋯\n",
              "107 0    0      0      0    0      0    0      1      0      0       ⋯\n",
              "108 0    0      0      0    0      0    0      1      0      0       ⋯\n",
              "109 0    0      0      0    0      1    0      0      0      0       ⋯\n",
              "    DISTRICT.WEST islay midland spey east west north lowland campbell islands\n",
              "1   0             0     1       0    0    0    0     0       0        0      \n",
              "2   0             0     0       1    0    0    0     0       0        0      \n",
              "3   0             1     0       0    0    0    0     0       0        0      \n",
              "4   0             0     0       1    0    0    0     0       0        0      \n",
              "5   1             0     0       0    0    0    0     1       0        0      \n",
              "6   0             0     0       1    0    0    0     0       0        0      \n",
              "7   0             0     0       0    0    0    1     0       0        0      \n",
              "8   0             0     0       1    0    0    0     0       0        0      \n",
              "9   0             0     0       1    0    0    0     0       0        0      \n",
              "10  0             0     0       1    0    0    0     0       0        0      \n",
              "11  1             0     0       0    0    1    0     0       0        0      \n",
              "12  0             0     0       1    0    0    0     0       0        0      \n",
              "13  0             0     0       1    0    0    0     0       0        0      \n",
              "14  0             0     0       1    0    0    0     0       0        0      \n",
              "15  0             0     0       0    0    0    0     1       0        0      \n",
              "16  0             0     1       0    0    0    0     0       0        0      \n",
              "17  0             1     0       0    0    0    0     0       0        0      \n",
              "18  0             0     0       1    0    0    0     0       0        0      \n",
              "19  0             1     0       0    0    0    0     0       0        0      \n",
              "20  0             1     0       0    0    0    0     0       0        0      \n",
              "21  0             1     0       0    0    0    0     0       0        0      \n",
              "22  0             0     0       1    0    0    0     0       0        0      \n",
              "23  0             0     0       1    0    0    0     0       0        0      \n",
              "24  0             0     0       0    0    0    1     0       0        0      \n",
              "25  0             0     0       1    0    0    0     0       0        0      \n",
              "26  0             0     0       1    0    0    0     0       0        0      \n",
              "27  0             0     0       1    0    0    0     0       0        0      \n",
              "28  0             0     0       1    0    0    0     0       0        0      \n",
              "29  0             0     0       1    0    0    0     0       0        0      \n",
              "30  0             0     0       1    0    0    0     0       0        0      \n",
              "⋮   ⋮             ⋮     ⋮       ⋮    ⋮    ⋮    ⋮     ⋮       ⋮        ⋮      \n",
              "80  0             0     0       1    0    0    0     0       0        0      \n",
              "81  0             0     0       0    0    0    0     1       0        0      \n",
              "82  0             0     0       0    1    0    0     0       0        0      \n",
              "83  0             0     0       0    1    0    0     0       0        0      \n",
              "84  0             0     0       1    0    0    0     0       0        0      \n",
              "85  0             0     0       1    0    0    0     0       0        0      \n",
              "86  0             0     0       1    0    0    0     0       0        0      \n",
              "87  0             0     0       1    0    0    0     0       0        0      \n",
              "88  0             0     0       1    0    0    0     0       0        0      \n",
              "89  0             0     0       0    1    0    0     0       0        0      \n",
              "90  1             0     0       0    1    0    0     0       0        0      \n",
              "91  0             0     0       0    0    1    0     0       0        0      \n",
              "92  0             0     0       0    0    0    1     0       0        0      \n",
              "93  0             0     0       0    0    0    0     1       0        0      \n",
              "94  0             0     0       0    0    0    0     1       0        0      \n",
              "95  0             0     0       0    0    0    0     0       0        1      \n",
              "96  0             0     0       1    0    0    0     0       0        0      \n",
              "97  0             0     0       1    0    0    0     0       0        0      \n",
              "98  0             0     0       0    0    0    0     0       1        0      \n",
              "99  0             0     0       0    0    0    0     0       1        0      \n",
              "100 0             0     0       1    0    0    0     0       0        0      \n",
              "101 0             0     0       0    0    0    0     0       0        1      \n",
              "102 0             0     0       1    0    0    0     0       0        0      \n",
              "103 0             0     0       1    0    0    0     0       0        0      \n",
              "104 0             0     0       0    0    0    1     0       0        0      \n",
              "105 0             0     0       0    0    0    0     0       0        1      \n",
              "106 0             0     0       1    0    0    0     0       0        0      \n",
              "107 0             0     0       1    0    0    0     0       0        0      \n",
              "108 0             0     0       1    0    0    0     0       0        0      \n",
              "109 0             0     1       0    0    0    0     0       0        0      "
            ],
            "text/latex": "A data.frame: 109 × 98\n\\begin{tabular}{r|llllllllllllllllllllllllllllllllllllllllllllllllllllllllllllllllllllllllllllllllllllllllllllllllll}\n wyne & yellow & v.pale & pale & p.gold & gold & o.gold & f.gold & bronze & p.amber & amber & f.amber & red & sherry & AROMA & PEAT & SWEET & LIGHT & FRESH & DRY & FRUIT & GRASS & SEA & SHERRY & SPICY & RICH & soft & med & full & round & smooth & light & firm & oily & full.1 & dry & sherry.1 & big & light.1 & smooth.1 & clean & fruit & grass & smoke & sweet & spice & oil & salt & arome & full.2 & dry.1 & warm & big.1 & light.2 & smooth.2 & clean.1 & fruit.1 & grass.1 & smoke.1 & sweet.1 & spice.1 & oil.1 & salt.1 & arome.1 & ling & long & very & quick & AGE & DIST & SCORE & REGION.HIGH & REGION.ISLAY & REGION.LOW & DISTRICT.BORDERS & DISTRICT.CAMPBEL & DISTRICT.CENTRAL & DISTRICT.EAST & DISTRICT.JURA & DISTRICT.LOCH & DISTRICT.MIDLAND & DISTRICT.MULL & DISTRICT.NORTH & DISTRICT.NORTHWEST & DISTRICT.ORKNEY & DISTRICT.SKYE & DISTRICT.SOUTH & DISTRICT.SPEY & DISTRICT.WEST & islay & midland & spey & east & west & north & lowland & campbell & islands\\\\\n <dbl> & <dbl> & <dbl> & <dbl> & <dbl> & <dbl> & <dbl> & <dbl> & <dbl> & <dbl> & <dbl> & <dbl> & <dbl> & <dbl> & <dbl> & <dbl> & <dbl> & <dbl> & <dbl> & <dbl> & <dbl> & <dbl> & <dbl> & <dbl> & <dbl> & <dbl> & <dbl> & <dbl> & <dbl> & <dbl> & <dbl> & <dbl> & <dbl> & <dbl> & <dbl> & <dbl> & <dbl> & <dbl> & <dbl> & <dbl> & <dbl> & <dbl> & <dbl> & <dbl> & <dbl> & <dbl> & <dbl> & <dbl> & <dbl> & <dbl> & <dbl> & <dbl> & <dbl> & <dbl> & <dbl> & <dbl> & <dbl> & <dbl> & <dbl> & <dbl> & <dbl> & <dbl> & <dbl> & <dbl> & <dbl> & <dbl> & <dbl> & <dbl> & <dbl> & <dbl> & <dbl> & <dbl> & <dbl> & <dbl> & <dbl> & <dbl> & <dbl> & <dbl> & <dbl> & <dbl> & <dbl> & <dbl> & <dbl> & <dbl> & <dbl> & <dbl> & <dbl> & <dbl> & <dbl> & <dbl> & <dbl> & <dbl> & <dbl> & <dbl> & <dbl> & <dbl> & <dbl> & <dbl>\\\\\n\\hline\n\t 0 & 1 & 0 & 0 & 0 & 0 & 0 & 0 & 0 & 0 & 0 & 0 & 0 & 0 & 1 & 1 & 0 & 0 & 0 & 0 & 1 & 0 & 0 & 0 & 0 & 0 & 1 & 1 & 0 & 0 & 0 & 0 & 0 & 0 & 0 & 0 & 1 & 0 & 0 & 0 & 0 & 0 & 0 & 0 & 0 & 0 & 1 & 0 & 0 & 1 & 1 & 0 & 0 & 0 & 0 & 0 & 1 & 0 & 0 & 0 & 1 & 0 & 0 & 0 & 0 & 0 & 0 & 0 & -9 & 2 & 69 & 1 & 0 & 0 & 0 & 0 & 0 & 0 & 0 & 0 & 1 & 0 & 0 & 0 & 0 & 0 & 0 & 0 & 0 & 0 & 1 & 0 & 0 & 0 & 0 & 0 & 0 & 0\\\\\n\t 0 & 0 & 0 & 0 & 0 & 0 & 0 & 0 & 0 & 0 & 0 & 0 & 1 & 0 & 0 & 0 & 1 & 0 & 0 & 0 & 0 & 0 & 0 & 0 & 0 & 1 & 1 & 1 & 1 & 1 & 1 & 0 & 0 & 0 & 1 & 0 & 1 & 0 & 0 & 0 & 0 & 1 & 0 & 0 & 1 & 1 & 0 & 0 & 0 & 0 & 0 & 0 & 0 & 0 & 0 & 1 & 0 & 0 & 0 & 0 & 0 & 0 & 0 & 0 & 1 & 0 & 0 & 0 & 12 & 4 & 83 & 1 & 0 & 0 & 0 & 0 & 0 & 0 & 0 & 0 & 0 & 0 & 0 & 0 & 0 & 0 & 0 & 1 & 0 & 0 & 0 & 1 & 0 & 0 & 0 & 0 & 0 & 0\\\\\n\t 0 & 0 & 0 & 0 & 0 & 0 & 0 & 0 & 0 & 0 & 0 & 0 & 0 & 1 & 0 & 1 & 0 & 0 & 0 & 1 & 0 & 0 & 1 & 0 & 0 & 0 & 0 & 1 & 1 & 0 & 0 & 1 & 1 & 0 & 0 & 0 & 0 & 0 & 0 & 0 & 0 & 0 & 0 & 0 & 1 & 0 & 0 & 0 & 0 & 0 & 0 & 0 & 0 & 0 & 0 & 0 & 0 & 0 & 0 & 0 & 0 & 0 & 1 & 0 & 0 & 0 & 0 & 0 & 10 & 4 & 85 & 0 & 1 & 0 & 0 & 0 & 0 & 0 & 0 & 0 & 0 & 0 & 0 & 0 & 0 & 0 & 1 & 0 & 0 & 1 & 0 & 0 & 0 & 0 & 0 & 0 & 0 & 0\\\\\n\t 0 & 0 & 0 & 0 & 1 & 0 & 0 & 0 & 0 & 0 & 0 & 0 & 0 & 0 & 0 & 0 & 1 & 0 & 0 & 0 & 0 & 1 & 0 & 1 & 0 & 0 & 0 & 0 & 1 & 0 & 0 & 0 & 0 & 0 & 0 & 0 & 0 & 1 & 0 & 0 & 0 & 0 & 1 & 0 & 1 & 0 & 0 & 0 & 0 & 0 & 0 & 0 & 1 & 0 & 0 & 0 & 0 & 0 & 0 & 0 & 0 & 0 & 0 & 0 & 0 & 0 & 0 & 0 & 18 & 2 & 66 & 1 & 0 & 0 & 0 & 0 & 0 & 0 & 0 & 0 & 0 & 0 & 0 & 0 & 0 & 0 & 0 & 1 & 0 & 0 & 0 & 1 & 0 & 0 & 0 & 0 & 0 & 0\\\\\n\t 0 & 0 & 0 & 0 & 1 & 0 & 0 & 0 & 0 & 0 & 0 & 0 & 0 & 0 & 0 & 0 & 0 & 0 & 1 & 0 & 1 & 1 & 0 & 0 & 0 & 0 & 1 & 0 & 0 & 0 & 0 & 0 & 0 & 0 & 0 & 0 & 0 & 0 & 1 & 0 & 0 & 1 & 1 & 0 & 1 & 0 & 0 & 0 & 0 & 0 & 0 & 0 & 0 & 0 & 0 & 0 & 0 & 0 & 0 & 0 & 1 & 0 & 0 & 0 & 0 & 0 & 0 & 0 & 10 & 5 & 85 & 0 & 0 & 1 & 0 & 0 & 0 & 0 & 0 & 0 & 0 & 0 & 0 & 0 & 0 & 0 & 0 & 0 & 1 & 0 & 0 & 0 & 0 & 0 & 0 & 1 & 0 & 0\\\\\n\t 0 & 0 & 1 & 0 & 0 & 0 & 0 & 0 & 0 & 0 & 0 & 0 & 0 & 0 & 1 & 0 & 0 & 0 & 1 & 0 & 0 & 0 & 0 & 0 & 0 & 0 & 0 & 0 & 0 & 0 & 0 & 0 & 1 & 0 & 0 & 0 & 0 & 0 & 1 & 0 & 0 & 1 & 0 & 0 & 0 & 1 & 0 & 0 & 0 & 0 & 1 & 0 & 0 & 0 & 0 & 0 & 0 & 0 & 0 & 0 & 0 & 0 & 0 & 0 & 0 & 0 & 0 & 0 & 12 & 3 & 75 & 1 & 0 & 0 & 0 & 0 & 0 & 0 & 0 & 0 & 0 & 0 & 0 & 0 & 0 & 0 & 0 & 1 & 0 & 0 & 0 & 1 & 0 & 0 & 0 & 0 & 0 & 0\\\\\n\t 1 & 0 & 0 & 0 & 0 & 0 & 0 & 0 & 0 & 0 & 0 & 0 & 0 & 0 & 0 & 0 & 0 & 0 & 1 & 0 & 1 & 0 & 0 & 0 & 0 & 0 & 0 & 0 & 0 & 0 & 0 & 1 & 0 & 0 & 0 & 0 & 0 & 0 & 0 & 0 & 0 & 1 & 0 & 0 & 1 & 1 & 0 & 0 & 0 & 0 & 1 & 0 & 0 & 0 & 0 & 0 & 1 & 0 & 0 & 0 & 0 & 0 & 0 & 0 & 1 & 0 & 0 & 0 & 10 & 3 & 76 & 1 & 0 & 0 & 0 & 0 & 0 & 0 & 0 & 0 & 0 & 0 & 1 & 0 & 0 & 0 & 0 & 0 & 0 & 0 & 0 & 0 & 0 & 0 & 1 & 0 & 0 & 0\\\\\n\t 0 & 0 & 0 & 0 & 1 & 0 & 0 & 0 & 0 & 0 & 0 & 0 & 0 & 0 & 1 & 1 & 1 & 0 & 0 & 0 & 1 & 1 & 0 & 0 & 0 & 0 & 1 & 1 & 0 & 0 & 1 & 1 & 0 & 0 & 0 & 1 & 0 & 0 & 0 & 0 & 0 & 0 & 0 & 0 & 1 & 0 & 0 & 0 & 0 & 0 & 0 & 0 & 0 & 0 & 0 & 0 & 0 & 0 & 0 & 0 & 0 & 0 & 0 & 0 & 0 & 1 & 0 & 0 & -9 & 3 & 69 & 1 & 0 & 0 & 0 & 0 & 0 & 0 & 0 & 0 & 0 & 0 & 0 & 0 & 0 & 0 & 0 & 1 & 0 & 0 & 0 & 1 & 0 & 0 & 0 & 0 & 0 & 0\\\\\n\t 0 & 0 & 0 & 0 & 0 & 0 & 0 & 0 & 0 & 0 & 1 & 0 & 0 & 0 & 1 & 0 & 0 & 0 & 0 & 0 & 1 & 0 & 0 & 0 & 0 & 0 & 0 & 1 & 0 & 0 & 0 & 0 & 0 & 0 & 1 & 1 & 0 & 0 & 0 & 0 & 0 & 0 & 0 & 0 & 1 & 0 & 0 & 0 & 0 & 0 & 0 & 0 & 0 & 0 & 0 & 0 & 0 & 0 & 0 & 0 & 0 & 1 & 0 & 0 & 1 & 0 & 0 & 0 & -9 & 4 & 85 & 1 & 0 & 0 & 0 & 0 & 0 & 0 & 0 & 0 & 0 & 0 & 0 & 0 & 0 & 0 & 0 & 1 & 0 & 0 & 0 & 1 & 0 & 0 & 0 & 0 & 0 & 0\\\\\n\t 0 & 0 & 0 & 0 & 0 & 0 & 0 & 1 & 0 & 0 & 0 & 0 & 0 & 0 & 1 & 1 & 0 & 0 & 0 & 0 & 0 & 0 & 0 & 0 & 0 & 0 & 0 & 1 & 0 & 0 & 0 & 0 & 0 & 0 & 0 & 0 & 0 & 0 & 0 & 0 & 1 & 0 & 0 & 1 & 1 & 0 & 0 & 0 & 0 & 0 & 0 & 0 & 0 & 0 & 0 & 1 & 0 & 0 & 0 & 0 & 1 & 0 & 0 & 0 & 0 & 0 & 0 & 0 & -9 & 2 & 66 & 1 & 0 & 0 & 0 & 0 & 0 & 0 & 0 & 0 & 0 & 0 & 0 & 0 & 0 & 0 & 0 & 1 & 0 & 0 & 0 & 1 & 0 & 0 & 0 & 0 & 0 & 0\\\\\n\t 0 & 0 & 0 & 0 & 0 & 0 & 0 & 0 & 0 & 0 & 0 & 1 & 0 & 0 & 0 & 0 & 0 & 0 & 0 & 0 & 1 & 1 & 0 & 0 & 0 & 0 & 0 & 0 & 0 & 0 & 0 & 0 & 1 & 1 & 0 & 0 & 0 & 0 & 0 & 0 & 0 & 1 & 0 & 0 & 1 & 0 & 0 & 0 & 0 & 0 & 0 & 0 & 0 & 0 & 0 & 0 & 0 & 0 & 0 & 1 & 0 & 0 & 0 & 0 & 0 & 0 & 0 & 0 & -9 & 1 & 55 & 1 & 0 & 0 & 0 & 0 & 0 & 0 & 0 & 0 & 0 & 0 & 0 & 0 & 0 & 0 & 0 & 0 & 1 & 0 & 0 & 0 & 0 & 1 & 0 & 0 & 0 & 0\\\\\n\t 0 & 0 & 0 & 0 & 0 & 1 & 0 & 0 & 0 & 0 & 0 & 0 & 0 & 0 & 1 & 0 & 0 & 0 & 0 & 0 & 0 & 1 & 0 & 0 & 0 & 0 & 0 & 1 & 0 & 0 & 0 & 1 & 0 & 0 & 0 & 1 & 0 & 0 & 0 & 0 & 0 & 0 & 0 & 0 & 1 & 0 & 0 & 0 & 0 & 0 & 1 & 1 & 0 & 0 & 0 & 0 & 0 & 0 & 1 & 0 & 0 & 0 & 0 & 0 & 0 & 0 & 0 & 0 & -9 & 3 & 69 & 1 & 0 & 0 & 0 & 0 & 0 & 0 & 0 & 0 & 0 & 0 & 0 & 0 & 0 & 0 & 0 & 1 & 0 & 0 & 0 & 1 & 0 & 0 & 0 & 0 & 0 & 0\\\\\n\t 0 & 0 & 0 & 0 & 0 & 0 & 0 & 0 & 0 & 0 & 1 & 0 & 0 & 0 & 1 & 1 & 0 & 0 & 0 & 0 & 0 & 0 & 0 & 0 & 0 & 0 & 0 & 1 & 0 & 1 & 1 & 0 & 1 & 0 & 1 & 1 & 0 & 0 & 0 & 0 & 0 & 0 & 0 & 0 & 0 & 0 & 0 & 0 & 0 & 0 & 1 & 0 & 1 & 0 & 0 & 0 & 0 & 0 & 1 & 0 & 0 & 0 & 0 & 0 & 0 & 0 & 0 & 0 & -9 & 3 & 78 & 1 & 0 & 0 & 0 & 0 & 0 & 0 & 0 & 0 & 0 & 0 & 0 & 0 & 0 & 0 & 0 & 1 & 0 & 0 & 0 & 1 & 0 & 0 & 0 & 0 & 0 & 0\\\\\n\t 0 & 0 & 0 & 0 & 0 & 0 & 0 & 0 & 0 & 0 & 1 & 0 & 0 & 0 & 1 & 1 & 0 & 0 & 0 & 1 & 0 & 1 & 0 & 0 & 0 & 0 & 0 & 1 & 0 & 0 & 0 & 0 & 0 & 0 & 1 & 0 & 0 & 0 & 1 & 1 & 0 & 1 & 1 & 1 & 1 & 0 & 0 & 0 & 0 & 0 & 0 & 0 & 0 & 0 & 0 & 0 & 1 & 0 & 1 & 0 & 0 & 0 & 0 & 0 & 0 & 0 & 0 & 0 & -9 & 3 & 75 & 1 & 0 & 0 & 0 & 0 & 0 & 0 & 0 & 0 & 0 & 0 & 0 & 0 & 0 & 0 & 0 & 1 & 0 & 0 & 0 & 1 & 0 & 0 & 0 & 0 & 0 & 0\\\\\n\t 0 & 1 & 0 & 0 & 0 & 0 & 0 & 0 & 0 & 0 & 0 & 0 & 0 & 0 & 0 & 0 & 0 & 0 & 0 & 0 & 1 & 1 & 0 & 0 & 0 & 0 & 0 & 0 & 0 & 0 & 0 & 1 & 1 & 0 & 1 & 0 & 0 & 0 & 0 & 0 & 0 & 0 & 0 & 0 & 0 & 0 & 0 & 0 & 0 & 0 & 0 & 0 & 1 & 1 & 0 & 0 & 1 & 0 & 0 & 0 & 0 & 0 & 0 & 0 & 0 & 0 & 0 & 0 &  8 & 4 & 85 & 0 & 0 & 1 & 1 & 0 & 0 & 0 & 0 & 0 & 0 & 0 & 0 & 0 & 0 & 0 & 0 & 0 & 0 & 0 & 0 & 0 & 0 & 0 & 0 & 1 & 0 & 0\\\\\n\t 0 & 0 & 0 & 0 & 1 & 0 & 0 & 0 & 0 & 0 & 0 & 0 & 0 & 0 & 0 & 0 & 0 & 0 & 1 & 0 & 0 & 0 & 0 & 0 & 1 & 0 & 0 & 1 & 0 & 0 & 0 & 1 & 0 & 0 & 0 & 1 & 0 & 0 & 1 & 0 & 0 & 0 & 0 & 0 & 1 & 1 & 0 & 0 & 1 & 0 & 0 & 0 & 0 & 0 & 1 & 0 & 0 & 0 & 0 & 0 & 1 & 0 & 0 & 0 & 0 & 0 & 0 & 0 &  8 & 3 & 75 & 1 & 0 & 0 & 0 & 0 & 0 & 0 & 0 & 0 & 1 & 0 & 0 & 0 & 0 & 0 & 0 & 0 & 0 & 0 & 1 & 0 & 0 & 0 & 0 & 0 & 0 & 0\\\\\n\t 0 & 0 & 0 & 0 & 0 & 0 & 1 & 0 & 0 & 0 & 0 & 0 & 0 & 0 & 0 & 1 & 0 & 0 & 0 & 1 & 0 & 1 & 1 & 0 & 0 & 0 & 0 & 1 & 0 & 0 & 0 & 1 & 0 & 0 & 0 & 0 & 0 & 0 & 0 & 0 & 0 & 0 & 0 & 0 & 1 & 0 & 0 & 0 & 0 & 0 & 0 & 0 & 0 & 0 & 0 & 0 & 0 & 0 & 0 & 0 & 0 & 0 & 1 & 0 & 0 & 0 & 0 & 1 & 10 & 4 & 81 & 0 & 1 & 0 & 0 & 0 & 0 & 0 & 0 & 1 & 0 & 0 & 0 & 0 & 0 & 0 & 0 & 0 & 0 & 1 & 0 & 0 & 0 & 0 & 0 & 0 & 0 & 0\\\\\n\t 0 & 0 & 0 & 0 & 0 & 0 & 1 & 0 & 0 & 0 & 0 & 0 & 0 & 0 & 0 & 1 & 1 & 0 & 0 & 0 & 0 & 0 & 0 & 0 & 0 & 0 & 0 & 1 & 1 & 0 & 0 & 0 & 0 & 0 & 0 & 0 & 0 & 0 & 0 & 1 & 0 & 1 & 0 & 0 & 1 & 0 & 0 & 0 & 1 & 0 & 1 & 0 & 0 & 0 & 0 & 0 & 0 & 1 & 0 & 0 & 0 & 0 & 0 & 0 & 0 & 0 & 0 & 0 & -9 & 3 & 77 & 1 & 0 & 0 & 0 & 0 & 0 & 0 & 0 & 0 & 0 & 0 & 0 & 0 & 0 & 0 & 0 & 1 & 0 & 0 & 0 & 1 & 0 & 0 & 0 & 0 & 0 & 0\\\\\n\t 0 & 0 & 0 & 1 & 0 & 0 & 0 & 0 & 0 & 0 & 0 & 0 & 0 & 0 & 0 & 0 & 0 & 1 & 0 & 0 & 0 & 0 & 0 & 0 & 0 & 0 & 0 & 0 & 0 & 0 & 1 & 1 & 1 & 0 & 0 & 1 & 0 & 0 & 0 & 0 & 1 & 0 & 0 & 1 & 1 & 0 & 0 & 0 & 0 & 1 & 0 & 0 & 0 & 0 & 0 & 0 & 0 & 0 & 0 & 0 & 0 & 0 & 0 & 0 & 0 & 0 & 0 & 0 & 10 & 3 & 76 & 0 & 1 & 0 & 0 & 0 & 0 & 0 & 0 & 1 & 0 & 0 & 0 & 0 & 0 & 0 & 0 & 0 & 0 & 1 & 0 & 0 & 0 & 0 & 0 & 0 & 0 & 0\\\\\n\t 0 & 0 & 0 & 0 & 0 & 1 & 0 & 0 & 0 & 0 & 0 & 0 & 0 & 0 & 0 & 0 & 0 & 0 & 1 & 0 & 0 & 0 & 1 & 0 & 0 & 0 & 0 & 1 & 0 & 0 & 0 & 1 & 1 & 0 & 0 & 0 & 0 & 0 & 0 & 0 & 1 & 1 & 0 & 0 & 1 & 0 & 0 & 0 & 0 & 1 & 0 & 0 & 0 & 0 & 0 & 0 & 0 & 0 & 0 & 0 & 0 & 0 & 0 & 0 & 0 & 0 & 0 & 0 & 12 & 3 & 77 & 0 & 1 & 0 & 0 & 0 & 0 & 0 & 0 & 0 & 0 & 0 & 1 & 0 & 0 & 0 & 0 & 0 & 0 & 1 & 0 & 0 & 0 & 0 & 0 & 0 & 0 & 0\\\\\n\t 1 & 0 & 0 & 0 & 0 & 0 & 0 & 0 & 0 & 0 & 0 & 0 & 0 & 0 & 0 & 1 & 0 & 0 & 0 & 0 & 1 & 0 & 1 & 0 & 0 & 0 & 0 & 0 & 0 & 0 & 0 & 1 & 1 & 1 & 0 & 0 & 0 & 0 & 0 & 0 & 0 & 0 & 0 & 1 & 0 & 1 & 0 & 0 & 0 & 0 & 0 & 1 & 0 & 0 & 0 & 0 & 0 & 0 & 0 & 0 & 1 & 0 & 0 & 0 & 0 & 0 & 0 & 0 & 12 & 4 & 77 & 0 & 1 & 0 & 0 & 0 & 0 & 0 & 0 & 0 & 0 & 0 & 1 & 0 & 0 & 0 & 0 & 0 & 0 & 1 & 0 & 0 & 0 & 0 & 0 & 0 & 0 & 0\\\\\n\t 0 & 0 & 0 & 0 & 0 & 0 & 0 & 1 & 0 & 0 & 0 & 0 & 0 & 0 & 1 & 1 & 0 & 0 & 0 & 0 & 0 & 0 & 0 & 0 & 0 & 0 & 0 & 1 & 0 & 0 & 0 & 1 & 0 & 0 & 0 & 0 & 0 & 0 & 0 & 0 & 0 & 1 & 0 & 0 & 1 & 0 & 0 & 0 & 0 & 0 & 0 & 1 & 0 & 0 & 0 & 0 & 0 & 0 & 1 & 0 & 0 & 0 & 0 & 0 & 1 & 0 & 0 & 0 & -9 & 3 & 73 & 1 & 0 & 0 & 0 & 0 & 0 & 0 & 0 & 0 & 0 & 0 & 0 & 0 & 0 & 0 & 0 & 1 & 0 & 0 & 0 & 1 & 0 & 0 & 0 & 0 & 0 & 0\\\\\n\t 0 & 0 & 0 & 1 & 0 & 0 & 0 & 0 & 0 & 0 & 0 & 0 & 0 & 0 & 1 & 1 & 0 & 1 & 0 & 0 & 0 & 0 & 0 & 0 & 0 & 0 & 0 & 0 & 0 & 0 & 1 & 1 & 0 & 0 & 0 & 0 & 0 & 0 & 1 & 0 & 0 & 0 & 0 & 0 & 1 & 0 & 0 & 0 & 0 & 0 & 1 & 0 & 0 & 0 & 0 & 0 & 0 & 0 & 1 & 1 & 0 & 1 & 0 & 0 & 1 & 0 & 0 & 0 & 12 & 3 & 72 & 1 & 0 & 0 & 0 & 0 & 0 & 0 & 0 & 0 & 0 & 0 & 0 & 0 & 0 & 0 & 0 & 1 & 0 & 0 & 0 & 1 & 0 & 0 & 0 & 0 & 0 & 0\\\\\n\t 0 & 0 & 0 & 0 & 0 & 0 & 0 & 0 & 0 & 0 & 1 & 0 & 0 & 0 & 0 & 0 & 0 & 0 & 0 & 0 & 0 & 0 & 1 & 0 & 0 & 0 & 0 & 0 & 1 & 0 & 0 & 0 & 0 & 1 & 1 & 0 & 0 & 0 & 0 & 0 & 0 & 0 & 1 & 0 & 1 & 1 & 0 & 1 & 0 & 0 & 0 & 0 & 0 & 0 & 0 & 0 & 0 & 0 & 0 & 0 & 1 & 0 & 0 & 0 & 1 & 0 & 0 & 0 & 12 & 4 & 81 & 1 & 0 & 0 & 0 & 0 & 0 & 0 & 0 & 0 & 0 & 0 & 1 & 0 & 0 & 0 & 0 & 0 & 0 & 0 & 0 & 0 & 0 & 0 & 1 & 0 & 0 & 0\\\\\n\t 0 & 0 & 0 & 0 & 1 & 0 & 0 & 0 & 0 & 0 & 0 & 0 & 0 & 0 & 0 & 0 & 0 & 0 & 0 & 1 & 1 & 1 & 0 & 0 & 0 & 0 & 0 & 0 & 0 & 0 & 0 & 1 & 0 & 1 & 0 & 1 & 0 & 0 & 0 & 0 & 0 & 1 & 0 & 1 & 1 & 0 & 0 & 0 & 1 & 0 & 0 & 0 & 0 & 0 & 0 & 0 & 0 & 0 & 0 & 0 & 0 & 0 & 0 & 0 & 0 & 0 & 0 & 1 & -9 & 2 & 67 & 1 & 0 & 0 & 0 & 0 & 0 & 0 & 0 & 0 & 0 & 0 & 0 & 0 & 0 & 0 & 0 & 1 & 0 & 0 & 0 & 1 & 0 & 0 & 0 & 0 & 0 & 0\\\\\n\t 0 & 0 & 0 & 0 & 0 & 0 & 0 & 1 & 0 & 0 & 0 & 0 & 0 & 0 & 0 & 0 & 1 & 0 & 0 & 0 & 0 & 0 & 0 & 0 & 0 & 0 & 0 & 1 & 1 & 0 & 0 & 0 & 0 & 0 & 0 & 1 & 0 & 0 & 0 & 1 & 0 & 0 & 0 & 0 & 1 & 0 & 1 & 0 & 0 & 0 & 1 & 0 & 0 & 0 & 0 & 0 & 0 & 0 & 1 & 0 & 1 & 0 & 0 & 0 & 0 & 0 & 0 & 0 & -9 & 2 & 68 & 1 & 0 & 0 & 0 & 0 & 0 & 0 & 0 & 0 & 0 & 0 & 0 & 0 & 0 & 0 & 0 & 1 & 0 & 0 & 0 & 1 & 0 & 0 & 0 & 0 & 0 & 0\\\\\n\t 0 & 0 & 0 & 0 & 0 & 1 & 0 & 0 & 0 & 0 & 0 & 0 & 0 & 0 & 1 & 0 & 1 & 0 & 0 & 0 & 0 & 1 & 0 & 0 & 0 & 1 & 0 & 1 & 0 & 0 & 1 & 1 & 1 & 0 & 0 & 0 & 0 & 0 & 0 & 0 & 1 & 0 & 1 & 0 & 0 & 0 & 0 & 0 & 0 & 0 & 0 & 0 & 0 & 0 & 0 & 0 & 0 & 0 & 0 & 0 & 0 & 0 & 0 & 0 & 0 & 1 & 0 & 0 & 12 & 4 & 90 & 1 & 0 & 0 & 0 & 0 & 0 & 0 & 0 & 0 & 0 & 0 & 0 & 0 & 0 & 0 & 0 & 1 & 0 & 0 & 0 & 1 & 0 & 0 & 0 & 0 & 0 & 0\\\\\n\t 0 & 0 & 0 & 0 & 0 & 0 & 0 & 1 & 0 & 0 & 0 & 0 & 0 & 0 & 1 & 1 & 1 & 0 & 0 & 1 & 1 & 0 & 0 & 0 & 0 & 0 & 0 & 1 & 0 & 0 & 0 & 0 & 0 & 0 & 0 & 0 & 0 & 0 & 0 & 0 & 0 & 1 & 0 & 0 & 1 & 0 & 0 & 0 & 0 & 0 & 0 & 0 & 1 & 0 & 0 & 0 & 0 & 0 & 0 & 0 & 0 & 0 & 0 & 0 & 0 & 0 & 0 & 0 & -9 & 3 & 72 & 1 & 0 & 0 & 0 & 0 & 0 & 0 & 0 & 0 & 0 & 0 & 0 & 0 & 0 & 0 & 0 & 1 & 0 & 0 & 0 & 1 & 0 & 0 & 0 & 0 & 0 & 0\\\\\n\t 0 & 0 & 0 & 0 & 0 & 1 & 0 & 0 & 0 & 0 & 0 & 0 & 0 & 0 & 1 & 0 & 1 & 0 & 0 & 1 & 0 & 0 & 0 & 1 & 0 & 0 & 0 & 1 & 1 & 0 & 0 & 0 & 0 & 0 & 0 & 0 & 0 & 0 & 0 & 0 & 0 & 1 & 0 & 0 & 1 & 0 & 1 & 0 & 0 & 0 & 0 & 0 & 0 & 0 & 0 & 0 & 0 & 1 & 0 & 0 & 0 & 0 & 0 & 0 & 0 & 0 & 0 & 0 & -9 & 3 & 74 & 1 & 0 & 0 & 0 & 0 & 0 & 0 & 0 & 0 & 0 & 0 & 0 & 0 & 0 & 0 & 0 & 1 & 0 & 0 & 0 & 1 & 0 & 0 & 0 & 0 & 0 & 0\\\\\n\t 0 & 0 & 0 & 0 & 0 & 0 & 0 & 0 & 0 & 0 & 0 & 1 & 0 & 0 & 0 & 1 & 1 & 0 & 0 & 0 & 0 & 1 & 0 & 0 & 0 & 1 & 0 & 0 & 1 & 0 & 0 & 0 & 0 & 0 & 0 & 0 & 0 & 0 & 0 & 0 & 0 & 0 & 0 & 1 & 1 & 0 & 0 & 0 & 0 & 0 & 1 & 0 & 0 & 0 & 1 & 0 & 0 & 1 & 0 & 0 & 0 & 0 & 0 & 0 & 0 & 1 & 0 & 0 & -9 & 4 & 85 & 1 & 0 & 0 & 0 & 0 & 0 & 0 & 0 & 0 & 0 & 0 & 0 & 0 & 0 & 0 & 0 & 1 & 0 & 0 & 0 & 1 & 0 & 0 & 0 & 0 & 0 & 0\\\\\n\t ⋮ & ⋮ & ⋮ & ⋮ & ⋮ & ⋮ & ⋮ & ⋮ & ⋮ & ⋮ & ⋮ & ⋮ & ⋮ & ⋮ & ⋮ & ⋮ & ⋮ & ⋮ & ⋮ & ⋮ & ⋮ & ⋮ & ⋮ & ⋮ & ⋮ & ⋮ & ⋮ & ⋮ & ⋮ & ⋮ & ⋮ & ⋮ & ⋮ & ⋮ & ⋮ & ⋮ & ⋮ & ⋮ & ⋮ & ⋮ & ⋮ & ⋮ & ⋮ & ⋮ & ⋮ & ⋮ & ⋮ & ⋮ & ⋮ & ⋮ & ⋮ & ⋮ & ⋮ & ⋮ & ⋮ & ⋮ & ⋮ & ⋮ & ⋮ & ⋮ & ⋮ & ⋮ & ⋮ & ⋮ & ⋮ & ⋮ & ⋮ & ⋮ & ⋮ & ⋮ & ⋮ & ⋮ & ⋮ & ⋮ & ⋮ & ⋮ & ⋮ & ⋮ & ⋮ & ⋮ & ⋮ & ⋮ & ⋮ & ⋮ & ⋮ & ⋮ & ⋮ & ⋮ & ⋮ & ⋮ & ⋮ & ⋮ & ⋮ & ⋮ & ⋮ & ⋮ & ⋮ & ⋮\\\\\n\t 0 & 0 & 0 & 0 & 0 & 0 & 0 & 1 & 0 & 0 & 0 & 0 & 0 & 0 & 0 & 0 & 1 & 1 & 0 & 0 & 0 & 0 & 0 & 1 & 0 & 1 & 0 & 1 & 0 & 1 & 0 & 0 & 0 & 0 & 0 & 1 & 0 & 0 & 1 & 0 & 0 & 0 & 0 & 1 & 1 & 0 & 0 & 0 & 0 & 0 & 1 & 0 & 0 & 0 & 1 & 0 & 0 & 0 & 0 & 0 & 0 & 0 & 0 & 0 & 0 & 0 & 0 & 0 & 12 & 4 & 83 & 1 & 0 & 0 & 0 & 0 & 0 & 0 & 0 & 0 & 0 & 0 & 0 & 0 & 0 & 0 & 0 & 1 & 0 & 0 & 0 & 1 & 0 & 0 & 0 & 0 & 0 & 0\\\\\n\t 1 & 0 & 0 & 0 & 0 & 0 & 0 & 0 & 0 & 0 & 0 & 0 & 0 & 0 & 0 & 1 & 1 & 0 & 0 & 0 & 0 & 0 & 0 & 0 & 0 & 0 & 1 & 1 & 0 & 0 & 0 & 1 & 0 & 0 & 0 & 0 & 0 & 0 & 0 & 0 & 0 & 0 & 0 & 0 & 1 & 0 & 0 & 0 & 0 & 0 & 1 & 0 & 0 & 0 & 1 & 0 & 1 & 0 & 0 & 0 & 0 & 0 & 0 & 0 & 0 & 0 & 0 & 0 &  8 & 4 & 83 & 0 & 0 & 1 & 0 & 0 & 0 & 0 & 0 & 0 & 0 & 0 & 0 & 1 & 0 & 0 & 0 & 0 & 0 & 0 & 0 & 0 & 0 & 0 & 0 & 1 & 0 & 0\\\\\n\t 0 & 0 & 0 & 0 & 0 & 0 & 0 & 1 & 0 & 0 & 0 & 0 & 0 & 0 & 0 & 1 & 0 & 0 & 0 & 0 & 0 & 0 & 0 & 0 & 0 & 0 & 0 & 1 & 1 & 0 & 1 & 0 & 0 & 0 & 0 & 0 & 0 & 0 & 1 & 0 & 0 & 1 & 0 & 1 & 1 & 0 & 0 & 0 & 0 & 0 & 1 & 0 & 0 & 0 & 0 & 0 & 0 & 0 & 1 & 1 & 0 & 0 & 0 & 0 & 0 & 0 & 0 & 0 & 12 & 4 & 80 & 1 & 0 & 0 & 0 & 0 & 0 & 1 & 0 & 0 & 0 & 0 & 0 & 0 & 0 & 0 & 0 & 0 & 0 & 0 & 0 & 0 & 1 & 0 & 0 & 0 & 0 & 0\\\\\n\t 0 & 0 & 0 & 0 & 0 & 0 & 0 & 0 & 0 & 0 & 1 & 0 & 0 & 0 & 0 & 0 & 0 & 0 & 0 & 0 & 1 & 0 & 0 & 1 & 0 & 1 & 1 & 1 & 0 & 0 & 1 & 0 & 0 & 0 & 0 & 1 & 1 & 0 & 0 & 0 & 0 & 0 & 0 & 0 & 0 & 0 & 0 & 0 & 0 & 0 & 0 & 0 & 1 & 0 & 0 & 0 & 0 & 0 & 0 & 0 & 0 & 0 & 0 & 0 & 0 & 1 & 0 & 0 & -9 & 3 & 71 & 1 & 0 & 0 & 0 & 0 & 0 & 1 & 0 & 0 & 0 & 0 & 0 & 0 & 0 & 0 & 0 & 0 & 0 & 0 & 0 & 0 & 1 & 0 & 0 & 0 & 0 & 0\\\\\n\t 0 & 0 & 0 & 0 & 0 & 0 & 0 & 1 & 0 & 0 & 0 & 0 & 0 & 0 & 0 & 0 & 0 & 0 & 0 & 0 & 0 & 1 & 0 & 0 & 0 & 1 & 0 & 0 & 0 & 0 & 1 & 0 & 1 & 0 & 0 & 0 & 0 & 0 & 0 & 0 & 1 & 1 & 1 & 0 & 1 & 0 & 0 & 0 & 0 & 0 & 0 & 0 & 0 & 0 & 1 & 1 & 0 & 0 & 0 & 0 & 0 & 0 & 0 & 0 & 0 & 0 & 0 & 0 & 12 & 4 & 85 & 1 & 0 & 0 & 0 & 0 & 0 & 0 & 0 & 0 & 0 & 0 & 0 & 0 & 0 & 0 & 0 & 1 & 0 & 0 & 0 & 1 & 0 & 0 & 0 & 0 & 0 & 0\\\\\n\t 0 & 0 & 0 & 0 & 0 & 0 & 0 & 0 & 0 & 0 & 1 & 0 & 0 & 0 & 0 & 0 & 1 & 0 & 0 & 0 & 1 & 0 & 0 & 1 & 0 & 1 & 0 & 0 & 1 & 0 & 0 & 0 & 0 & 0 & 0 & 0 & 1 & 0 & 0 & 0 & 0 & 0 & 0 & 0 & 1 & 0 & 0 & 0 & 0 & 0 & 1 & 0 & 0 & 0 & 0 & 0 & 0 & 0 & 1 & 1 & 1 & 0 & 0 & 0 & 0 & 0 & 0 & 0 & 10 & 5 & 87 & 1 & 0 & 0 & 0 & 0 & 0 & 0 & 0 & 0 & 0 & 0 & 0 & 0 & 0 & 0 & 0 & 1 & 0 & 0 & 0 & 1 & 0 & 0 & 0 & 0 & 0 & 0\\\\\n\t 0 & 0 & 0 & 0 & 0 & 0 & 0 & 0 & 0 & 0 & 0 & 0 & 1 & 0 & 1 & 0 & 0 & 0 & 0 & 0 & 0 & 0 & 0 & 1 & 0 & 1 & 0 & 0 & 1 & 0 & 1 & 0 & 0 & 0 & 0 & 0 & 1 & 0 & 0 & 0 & 0 & 0 & 0 & 1 & 1 & 0 & 0 & 0 & 0 & 0 & 0 & 1 & 0 & 0 & 0 & 0 & 0 & 0 & 1 & 0 & 0 & 0 & 0 & 0 & 0 & 1 & 0 & 0 & -9 & 3 & 76 & 1 & 0 & 0 & 0 & 0 & 0 & 0 & 0 & 0 & 0 & 0 & 0 & 0 & 0 & 0 & 0 & 1 & 0 & 0 & 0 & 1 & 0 & 0 & 0 & 0 & 0 & 0\\\\\n\t 0 & 0 & 0 & 0 & 1 & 0 & 0 & 0 & 0 & 0 & 0 & 0 & 0 & 0 & 1 & 1 & 0 & 0 & 0 & 1 & 0 & 1 & 0 & 0 & 0 & 0 & 0 & 1 & 0 & 0 & 1 & 0 & 1 & 0 & 0 & 0 & 0 & 0 & 0 & 0 & 1 & 0 & 0 & 0 & 1 & 0 & 0 & 0 & 1 & 0 & 1 & 0 & 0 & 0 & 0 & 0 & 0 & 0 & 0 & 1 & 0 & 0 & 0 & 1 & 0 & 0 & 0 & 0 & 12 & 3 & 76 & 1 & 0 & 0 & 0 & 0 & 0 & 0 & 0 & 0 & 0 & 0 & 0 & 0 & 0 & 0 & 0 & 1 & 0 & 0 & 0 & 1 & 0 & 0 & 0 & 0 & 0 & 0\\\\\n\t 0 & 0 & 0 & 0 & 0 & 0 & 0 & 0 & 0 & 1 & 0 & 0 & 0 & 0 & 0 & 1 & 1 & 0 & 0 & 0 & 0 & 0 & 0 & 0 & 0 & 1 & 0 & 1 & 1 & 0 & 0 & 0 & 0 & 0 & 1 & 0 & 0 & 0 & 0 & 0 & 0 & 1 & 0 & 1 & 1 & 0 & 0 & 0 & 0 & 0 & 1 & 0 & 0 & 0 & 0 & 0 & 0 & 0 & 0 & 0 & 0 & 0 & 0 & 0 & 0 & 1 & 0 & 0 & 12 & 4 & 81 & 1 & 0 & 0 & 0 & 0 & 0 & 0 & 0 & 0 & 0 & 0 & 0 & 0 & 0 & 0 & 0 & 1 & 0 & 0 & 0 & 1 & 0 & 0 & 0 & 0 & 0 & 0\\\\\n\t 0 & 0 & 0 & 0 & 0 & 0 & 0 & 1 & 0 & 0 & 0 & 0 & 0 & 0 & 0 & 1 & 0 & 0 & 0 & 1 & 0 & 0 & 0 & 1 & 0 & 0 & 0 & 1 & 0 & 0 & 0 & 1 & 0 & 0 & 1 & 1 & 0 & 0 & 0 & 0 & 0 & 0 & 0 & 1 & 1 & 0 & 0 & 0 & 0 & 0 & 1 & 0 & 0 & 0 & 0 & 0 & 0 & 0 & 0 & 0 & 0 & 0 & 0 & 0 & 0 & 0 & 0 & 0 & -9 & 2 & 64 & 1 & 0 & 0 & 0 & 0 & 0 & 1 & 0 & 0 & 0 & 0 & 0 & 0 & 0 & 0 & 0 & 0 & 0 & 0 & 0 & 0 & 1 & 0 & 0 & 0 & 0 & 0\\\\\n\t 0 & 0 & 0 & 0 & 0 & 0 & 0 & 0 & 0 & 0 & 1 & 0 & 0 & 0 & 0 & 1 & 1 & 0 & 1 & 0 & 0 & 0 & 1 & 0 & 0 & 0 & 0 & 1 & 1 & 0 & 1 & 0 & 1 & 0 & 0 & 1 & 0 & 0 & 0 & 1 & 0 & 1 & 0 & 1 & 1 & 0 & 0 & 0 & 0 & 0 & 0 & 1 & 0 & 0 & 0 & 0 & 0 & 0 & 0 & 1 & 1 & 0 & 0 & 0 & 0 & 0 & 0 & 0 & 12 & 4 & 76 & 1 & 0 & 0 & 0 & 0 & 0 & 0 & 0 & 0 & 0 & 0 & 0 & 0 & 0 & 0 & 0 & 0 & 1 & 0 & 0 & 0 & 1 & 0 & 0 & 0 & 0 & 0\\\\\n\t 0 & 0 & 0 & 0 & 0 & 0 & 0 & 0 & 0 & 0 & 1 & 0 & 0 & 0 & 1 & 1 & 1 & 0 & 0 & 0 & 0 & 1 & 1 & 0 & 1 & 0 & 0 & 1 & 0 & 0 & 1 & 0 & 0 & 0 & 0 & 1 & 0 & 0 & 0 & 0 & 0 & 0 & 0 & 0 & 1 & 1 & 0 & 0 & 1 & 0 & 0 & 0 & 1 & 0 & 0 & 0 & 0 & 0 & 0 & 0 & 1 & 1 & 0 & 0 & 0 & 1 & 0 & 0 & -9 & 4 & 79 & 0 & 1 & 0 & 0 & 0 & 0 & 0 & 0 & 0 & 0 & 0 & 0 & 0 & 0 & 0 & 1 & 0 & 0 & 0 & 0 & 0 & 0 & 1 & 0 & 0 & 0 & 0\\\\\n\t 0 & 0 & 0 & 0 & 0 & 0 & 0 & 0 & 0 & 0 & 1 & 0 & 0 & 0 & 0 & 0 & 0 & 0 & 1 & 1 & 0 & 0 & 1 & 0 & 0 & 0 & 0 & 0 & 0 & 0 & 0 & 1 & 1 & 0 & 0 & 0 & 0 & 0 & 0 & 1 & 0 & 0 & 0 & 0 & 1 & 1 & 0 & 1 & 0 & 0 & 0 & 1 & 0 & 0 & 0 & 0 & 0 & 0 & 0 & 0 & 0 & 0 & 1 & 0 & 0 & 1 & 0 & 0 &  8 & 3 & 77 & 1 & 0 & 0 & 0 & 0 & 0 & 0 & 0 & 0 & 0 & 0 & 1 & 0 & 0 & 0 & 0 & 0 & 0 & 0 & 0 & 0 & 0 & 0 & 1 & 0 & 0 & 0\\\\\n\t 0 & 0 & 0 & 0 & 0 & 0 & 0 & 0 & 0 & 0 & 1 & 0 & 0 & 0 & 1 & 0 & 0 & 0 & 0 & 1 & 0 & 1 & 0 & 1 & 0 & 0 & 0 & 0 & 0 & 0 & 1 & 1 & 0 & 0 & 0 & 1 & 0 & 0 & 0 & 0 & 0 & 1 & 1 & 0 & 0 & 0 & 0 & 0 & 0 & 0 & 1 & 0 & 0 & 0 & 0 & 0 & 0 & 0 & 0 & 0 & 0 & 0 & 0 & 0 & 0 & 0 & 0 & 0 &  8 & 4 & 76 & 0 & 0 & 1 & 0 & 0 & 1 & 0 & 0 & 0 & 0 & 0 & 0 & 0 & 0 & 0 & 0 & 0 & 0 & 0 & 0 & 0 & 0 & 0 & 0 & 1 & 0 & 0\\\\\n\t 0 & 0 & 0 & 0 & 0 & 0 & 0 & 0 & 0 & 0 & 0 & 0 & 1 & 0 & 0 & 1 & 0 & 0 & 0 & 1 & 0 & 0 & 0 & 1 & 0 & 0 & 0 & 1 & 0 & 0 & 1 & 1 & 0 & 0 & 0 & 0 & 0 & 0 & 0 & 0 & 0 & 0 & 1 & 1 & 1 & 0 & 0 & 0 & 0 & 0 & 1 & 0 & 0 & 0 & 0 & 0 & 0 & 1 & 0 & 0 & 0 & 0 & 0 & 0 & 0 & 0 & 0 & 0 & 18 & 2 & 67 & 0 & 0 & 1 & 0 & 0 & 1 & 0 & 0 & 0 & 0 & 0 & 0 & 0 & 0 & 0 & 0 & 0 & 0 & 0 & 0 & 0 & 0 & 0 & 0 & 1 & 0 & 0\\\\\n\t 0 & 0 & 0 & 0 & 0 & 0 & 0 & 0 & 0 & 0 & 1 & 0 & 0 & 0 & 0 & 0 & 0 & 0 & 1 & 0 & 1 & 1 & 1 & 0 & 0 & 0 & 0 & 1 & 0 & 0 & 0 & 0 & 0 & 0 & 0 & 0 & 0 & 0 & 0 & 0 & 0 & 0 & 0 & 0 & 0 & 0 & 0 & 1 & 0 & 0 & 1 & 0 & 0 & 0 & 0 & 0 & 0 & 0 & 0 & 0 & 0 & 1 & 0 & 0 & 0 & 0 & 0 & 0 &  8 & 3 & 76 & 1 & 0 & 0 & 0 & 0 & 0 & 0 & 0 & 0 & 0 & 0 & 0 & 0 & 1 & 0 & 0 & 0 & 0 & 0 & 0 & 0 & 0 & 0 & 0 & 0 & 0 & 1\\\\\n\t 0 & 0 & 0 & 0 & 0 & 0 & 0 & 0 & 0 & 0 & 0 & 1 & 0 & 0 & 0 & 0 & 0 & 0 & 0 & 0 & 0 & 0 & 0 & 1 & 0 & 0 & 0 & 1 & 0 & 0 & 1 & 0 & 0 & 0 & 0 & 0 & 1 & 0 & 0 & 0 & 0 & 1 & 0 & 0 & 0 & 1 & 0 & 0 & 0 & 0 & 0 & 0 & 0 & 0 & 0 & 0 & 0 & 0 & 1 & 0 & 0 & 0 & 0 & 0 & 0 & 0 & 0 & 0 & -9 & 4 & 79 & 1 & 0 & 0 & 0 & 0 & 0 & 0 & 0 & 0 & 0 & 0 & 0 & 0 & 0 & 0 & 0 & 1 & 0 & 0 & 0 & 1 & 0 & 0 & 0 & 0 & 0 & 0\\\\\n\t 0 & 0 & 0 & 0 & 0 & 0 & 0 & 0 & 1 & 0 & 0 & 0 & 0 & 0 & 0 & 0 & 0 & 0 & 0 & 1 & 1 & 0 & 0 & 1 & 0 & 0 & 0 & 0 & 0 & 0 & 1 & 0 & 0 & 0 & 0 & 1 & 0 & 0 & 0 & 0 & 0 & 1 & 0 & 0 & 1 & 0 & 0 & 0 & 0 & 0 & 0 & 0 & 0 & 0 & 1 & 0 & 0 & 0 & 0 & 1 & 0 & 0 & 0 & 0 & 0 & 0 & 0 & 1 & -9 & 3 & 71 & 1 & 0 & 0 & 0 & 0 & 0 & 0 & 0 & 0 & 0 & 0 & 0 & 0 & 0 & 0 & 0 & 1 & 0 & 0 & 0 & 1 & 0 & 0 & 0 & 0 & 0 & 0\\\\\n\t 0 & 0 & 0 & 0 & 0 & 1 & 0 & 0 & 0 & 0 & 0 & 0 & 0 & 0 & 0 & 0 & 1 & 0 & 1 & 0 & 0 & 0 & 1 & 0 & 0 & 1 & 0 & 1 & 0 & 1 & 1 & 1 & 0 & 0 & 0 & 0 & 0 & 0 & 1 & 0 & 0 & 0 & 0 & 0 & 1 & 0 & 0 & 1 & 0 & 0 & 0 & 1 & 0 & 0 & 0 & 0 & 0 & 0 & 1 & 1 & 0 & 0 & 1 & 0 & 0 & 0 & 1 & 0 & 15 & 5 & 88 & 0 & 0 & 1 & 0 & 1 & 0 & 0 & 0 & 0 & 0 & 0 & 0 & 0 & 0 & 0 & 0 & 0 & 0 & 0 & 0 & 0 & 0 & 0 & 0 & 0 & 1 & 0\\\\\n\t 0 & 0 & 0 & 0 & 0 & 1 & 0 & 0 & 0 & 0 & 0 & 0 & 0 & 0 & 0 & 1 & 0 & 0 & 0 & 0 & 0 & 1 & 1 & 0 & 0 & 0 & 0 & 1 & 0 & 0 & 0 & 0 & 0 & 1 & 0 & 1 & 0 & 0 & 0 & 0 & 0 & 0 & 0 & 1 & 0 & 0 & 0 & 0 & 0 & 0 & 0 & 0 & 1 & 0 & 0 & 0 & 0 & 0 & 0 & 0 & 0 & 0 & 1 & 0 & 1 & 0 & 0 & 0 & 14 & 5 & 90 & 0 & 0 & 1 & 0 & 1 & 0 & 0 & 0 & 0 & 0 & 0 & 0 & 0 & 0 & 0 & 0 & 0 & 0 & 0 & 0 & 0 & 0 & 0 & 0 & 0 & 1 & 0\\\\\n\t 0 & 0 & 0 & 0 & 0 & 0 & 0 & 0 & 0 & 0 & 1 & 0 & 0 & 0 & 0 & 0 & 0 & 0 & 0 & 1 & 0 & 0 & 0 & 1 & 0 & 1 & 0 & 1 & 0 & 0 & 0 & 0 & 1 & 0 & 0 & 1 & 1 & 0 & 0 & 0 & 0 & 0 & 1 & 0 & 1 & 0 & 0 & 0 & 0 & 0 & 1 & 0 & 1 & 0 & 0 & 0 & 0 & 0 & 0 & 0 & 0 & 0 & 0 & 0 & 1 & 0 & 0 & 0 &  8 & 3 & 79 & 1 & 0 & 0 & 0 & 0 & 0 & 0 & 0 & 0 & 0 & 0 & 0 & 0 & 0 & 0 & 0 & 1 & 0 & 0 & 0 & 1 & 0 & 0 & 0 & 0 & 0 & 0\\\\\n\t 0 & 0 & 0 & 0 & 0 & 0 & 0 & 0 & 0 & 0 & 0 & 0 & 1 & 0 & 0 & 1 & 1 & 0 & 0 & 0 & 0 & 0 & 1 & 0 & 0 & 1 & 0 & 0 & 1 & 0 & 0 & 0 & 0 & 1 & 0 & 0 & 0 & 1 & 0 & 0 & 0 & 0 & 0 & 1 & 1 & 1 & 0 & 0 & 0 & 0 & 0 & 0 & 1 & 0 & 0 & 0 & 0 & 0 & 0 & 0 & 1 & 0 & 0 & 0 & 0 & 1 & 0 & 0 & 10 & 4 & 90 & 1 & 0 & 0 & 0 & 0 & 0 & 0 & 0 & 0 & 0 & 0 & 0 & 0 & 0 & 1 & 0 & 0 & 0 & 0 & 0 & 0 & 0 & 0 & 0 & 0 & 0 & 1\\\\\n\t 0 & 0 & 0 & 0 & 0 & 0 & 0 & 0 & 0 & 1 & 0 & 0 & 0 & 0 & 0 & 1 & 1 & 1 & 0 & 0 & 0 & 0 & 0 & 1 & 0 & 0 & 0 & 1 & 0 & 1 & 0 & 1 & 0 & 0 & 0 & 0 & 0 & 0 & 0 & 0 & 0 & 0 & 0 & 0 & 1 & 0 & 0 & 0 & 1 & 1 & 0 & 0 & 0 & 0 & 0 & 0 & 0 & 0 & 0 & 0 & 0 & 0 & 0 & 0 & 0 & 0 & 0 & 0 & 10 & 3 & 75 & 1 & 0 & 0 & 0 & 0 & 0 & 0 & 0 & 0 & 0 & 0 & 0 & 0 & 0 & 0 & 0 & 1 & 0 & 0 & 0 & 1 & 0 & 0 & 0 & 0 & 0 & 0\\\\\n\t 1 & 0 & 0 & 0 & 0 & 0 & 0 & 0 & 0 & 0 & 0 & 0 & 0 & 0 & 0 & 1 & 0 & 0 & 0 & 0 & 0 & 1 & 0 & 0 & 0 & 0 & 0 & 0 & 0 & 0 & 1 & 1 & 0 & 0 & 0 & 0 & 0 & 0 & 0 & 0 & 0 & 1 & 1 & 0 & 0 & 0 & 0 & 0 & 0 & 0 & 0 & 0 & 0 & 0 & 0 & 0 & 0 & 0 & 0 & 0 & 0 & 0 & 0 & 1 & 0 & 0 & 0 & 0 & 10 & 3 & 76 & 1 & 0 & 0 & 0 & 0 & 0 & 0 & 0 & 0 & 0 & 0 & 0 & 0 & 0 & 0 & 0 & 1 & 0 & 0 & 0 & 1 & 0 & 0 & 0 & 0 & 0 & 0\\\\\n\t 0 & 0 & 0 & 0 & 0 & 0 & 0 & 0 & 0 & 1 & 0 & 0 & 0 & 0 & 1 & 1 & 0 & 0 & 0 & 1 & 0 & 0 & 0 & 0 & 0 & 0 & 1 & 1 & 0 & 0 & 0 & 0 & 0 & 0 & 1 & 1 & 0 & 0 & 0 & 0 & 0 & 0 & 0 & 1 & 1 & 1 & 0 & 0 & 0 & 0 & 1 & 0 & 0 & 0 & 0 & 0 & 0 & 0 & 1 & 0 & 0 & 0 & 0 & 0 & 0 & 0 & 0 & 0 & -9 & 3 & 71 & 1 & 0 & 0 & 0 & 0 & 0 & 0 & 0 & 0 & 0 & 0 & 1 & 0 & 0 & 0 & 0 & 0 & 0 & 0 & 0 & 0 & 0 & 0 & 1 & 0 & 0 & 0\\\\\n\t 0 & 0 & 0 & 0 & 0 & 0 & 0 & 1 & 0 & 0 & 0 & 0 & 0 & 0 & 0 & 1 & 1 & 1 & 0 & 0 & 0 & 0 & 0 & 0 & 0 & 0 & 1 & 1 & 0 & 0 & 0 & 0 & 0 & 0 & 0 & 1 & 0 & 0 & 0 & 0 & 0 & 1 & 0 & 1 & 0 & 0 & 0 & 0 & 0 & 0 & 0 & 0 & 0 & 1 & 0 & 0 & 0 & 0 & 0 & 1 & 0 & 0 & 0 & 1 & 0 & 0 & 0 & 0 & -9 & 2 & 67 & 1 & 0 & 0 & 0 & 0 & 0 & 0 & 0 & 0 & 0 & 1 & 0 & 0 & 0 & 0 & 0 & 0 & 0 & 0 & 0 & 0 & 0 & 0 & 0 & 0 & 0 & 1\\\\\n\t 0 & 0 & 0 & 0 & 0 & 0 & 0 & 1 & 0 & 0 & 0 & 0 & 0 & 0 & 1 & 1 & 1 & 0 & 1 & 1 & 0 & 0 & 0 & 0 & 0 & 0 & 1 & 1 & 0 & 0 & 1 & 0 & 0 & 0 & 0 & 1 & 0 & 0 & 0 & 0 & 0 & 0 & 0 & 0 & 1 & 1 & 0 & 0 & 0 & 0 & 0 & 0 & 0 & 0 & 0 & 0 & 0 & 0 & 0 & 0 & 0 & 1 & 0 & 0 & 0 & 0 & 0 & 0 & 10 & 3 & 75 & 1 & 0 & 0 & 0 & 0 & 0 & 0 & 0 & 0 & 0 & 0 & 0 & 0 & 0 & 0 & 0 & 1 & 0 & 0 & 0 & 1 & 0 & 0 & 0 & 0 & 0 & 0\\\\\n\t 0 & 0 & 0 & 0 & 0 & 0 & 0 & 1 & 0 & 0 & 0 & 0 & 0 & 0 & 1 & 0 & 0 & 0 & 0 & 0 & 0 & 1 & 0 & 0 & 0 & 0 & 1 & 0 & 0 & 0 & 1 & 1 & 0 & 0 & 0 & 0 & 0 & 0 & 0 & 0 & 0 & 0 & 1 & 0 & 1 & 0 & 0 & 0 & 0 & 0 & 0 & 0 & 0 & 0 & 0 & 0 & 0 & 0 & 0 & 0 & 0 & 0 & 0 & 0 & 0 & 1 & 0 & 0 & 12 & 3 & 76 & 1 & 0 & 0 & 0 & 0 & 0 & 0 & 0 & 0 & 0 & 0 & 0 & 0 & 0 & 0 & 0 & 1 & 0 & 0 & 0 & 1 & 0 & 0 & 0 & 0 & 0 & 0\\\\\n\t 0 & 0 & 0 & 0 & 0 & 0 & 0 & 1 & 0 & 0 & 0 & 0 & 0 & 0 & 0 & 1 & 0 & 0 & 0 & 1 & 1 & 0 & 0 & 0 & 0 & 0 & 0 & 1 & 1 & 0 & 1 & 0 & 0 & 0 & 1 & 0 & 0 & 0 & 0 & 1 & 0 & 0 & 0 & 0 & 0 & 0 & 0 & 0 & 0 & 1 & 0 & 0 & 0 & 0 & 1 & 0 & 0 & 0 & 0 & 0 & 0 & 0 & 0 & 0 & 0 & 0 & 1 & 0 & 10 & 3 & 76 & 1 & 0 & 0 & 0 & 0 & 0 & 0 & 0 & 0 & 0 & 0 & 0 & 0 & 0 & 0 & 0 & 1 & 0 & 0 & 0 & 1 & 0 & 0 & 0 & 0 & 0 & 0\\\\\n\t 0 & 0 & 0 & 0 & 0 & 1 & 0 & 0 & 0 & 0 & 0 & 0 & 0 & 0 & 0 & 0 & 1 & 0 & 0 & 0 & 0 & 0 & 0 & 0 & 0 & 0 & 0 & 1 & 0 & 0 & 1 & 0 & 1 & 0 & 1 & 0 & 0 & 0 & 0 & 0 & 1 & 1 & 1 & 0 & 1 & 0 & 0 & 0 & 0 & 0 & 0 & 0 & 1 & 0 & 0 & 0 & 0 & 0 & 0 & 1 & 0 & 0 & 0 & 1 & 0 & 0 & 0 & 0 & 10 & 3 & 76 & 1 & 0 & 0 & 0 & 0 & 0 & 0 & 0 & 0 & 1 & 0 & 0 & 0 & 0 & 0 & 0 & 0 & 0 & 0 & 1 & 0 & 0 & 0 & 0 & 0 & 0 & 0\\\\\n\\end{tabular}\n",
            "text/markdown": "\nA data.frame: 109 × 98\n\n| wyne &lt;dbl&gt; | yellow &lt;dbl&gt; | v.pale &lt;dbl&gt; | pale &lt;dbl&gt; | p.gold &lt;dbl&gt; | gold &lt;dbl&gt; | o.gold &lt;dbl&gt; | f.gold &lt;dbl&gt; | bronze &lt;dbl&gt; | p.amber &lt;dbl&gt; | ⋯ ⋯ | DISTRICT.WEST &lt;dbl&gt; | islay &lt;dbl&gt; | midland &lt;dbl&gt; | spey &lt;dbl&gt; | east &lt;dbl&gt; | west &lt;dbl&gt; | north &lt;dbl&gt; | lowland &lt;dbl&gt; | campbell &lt;dbl&gt; | islands &lt;dbl&gt; |\n|---|---|---|---|---|---|---|---|---|---|---|---|---|---|---|---|---|---|---|---|---|\n| 0 | 1 | 0 | 0 | 0 | 0 | 0 | 0 | 0 | 0 | ⋯ | 0 | 0 | 1 | 0 | 0 | 0 | 0 | 0 | 0 | 0 |\n| 0 | 0 | 0 | 0 | 0 | 0 | 0 | 0 | 0 | 0 | ⋯ | 0 | 0 | 0 | 1 | 0 | 0 | 0 | 0 | 0 | 0 |\n| 0 | 0 | 0 | 0 | 0 | 0 | 0 | 0 | 0 | 0 | ⋯ | 0 | 1 | 0 | 0 | 0 | 0 | 0 | 0 | 0 | 0 |\n| 0 | 0 | 0 | 0 | 1 | 0 | 0 | 0 | 0 | 0 | ⋯ | 0 | 0 | 0 | 1 | 0 | 0 | 0 | 0 | 0 | 0 |\n| 0 | 0 | 0 | 0 | 1 | 0 | 0 | 0 | 0 | 0 | ⋯ | 1 | 0 | 0 | 0 | 0 | 0 | 0 | 1 | 0 | 0 |\n| 0 | 0 | 1 | 0 | 0 | 0 | 0 | 0 | 0 | 0 | ⋯ | 0 | 0 | 0 | 1 | 0 | 0 | 0 | 0 | 0 | 0 |\n| 1 | 0 | 0 | 0 | 0 | 0 | 0 | 0 | 0 | 0 | ⋯ | 0 | 0 | 0 | 0 | 0 | 0 | 1 | 0 | 0 | 0 |\n| 0 | 0 | 0 | 0 | 1 | 0 | 0 | 0 | 0 | 0 | ⋯ | 0 | 0 | 0 | 1 | 0 | 0 | 0 | 0 | 0 | 0 |\n| 0 | 0 | 0 | 0 | 0 | 0 | 0 | 0 | 0 | 0 | ⋯ | 0 | 0 | 0 | 1 | 0 | 0 | 0 | 0 | 0 | 0 |\n| 0 | 0 | 0 | 0 | 0 | 0 | 0 | 1 | 0 | 0 | ⋯ | 0 | 0 | 0 | 1 | 0 | 0 | 0 | 0 | 0 | 0 |\n| 0 | 0 | 0 | 0 | 0 | 0 | 0 | 0 | 0 | 0 | ⋯ | 1 | 0 | 0 | 0 | 0 | 1 | 0 | 0 | 0 | 0 |\n| 0 | 0 | 0 | 0 | 0 | 1 | 0 | 0 | 0 | 0 | ⋯ | 0 | 0 | 0 | 1 | 0 | 0 | 0 | 0 | 0 | 0 |\n| 0 | 0 | 0 | 0 | 0 | 0 | 0 | 0 | 0 | 0 | ⋯ | 0 | 0 | 0 | 1 | 0 | 0 | 0 | 0 | 0 | 0 |\n| 0 | 0 | 0 | 0 | 0 | 0 | 0 | 0 | 0 | 0 | ⋯ | 0 | 0 | 0 | 1 | 0 | 0 | 0 | 0 | 0 | 0 |\n| 0 | 1 | 0 | 0 | 0 | 0 | 0 | 0 | 0 | 0 | ⋯ | 0 | 0 | 0 | 0 | 0 | 0 | 0 | 1 | 0 | 0 |\n| 0 | 0 | 0 | 0 | 1 | 0 | 0 | 0 | 0 | 0 | ⋯ | 0 | 0 | 1 | 0 | 0 | 0 | 0 | 0 | 0 | 0 |\n| 0 | 0 | 0 | 0 | 0 | 0 | 1 | 0 | 0 | 0 | ⋯ | 0 | 1 | 0 | 0 | 0 | 0 | 0 | 0 | 0 | 0 |\n| 0 | 0 | 0 | 0 | 0 | 0 | 1 | 0 | 0 | 0 | ⋯ | 0 | 0 | 0 | 1 | 0 | 0 | 0 | 0 | 0 | 0 |\n| 0 | 0 | 0 | 1 | 0 | 0 | 0 | 0 | 0 | 0 | ⋯ | 0 | 1 | 0 | 0 | 0 | 0 | 0 | 0 | 0 | 0 |\n| 0 | 0 | 0 | 0 | 0 | 1 | 0 | 0 | 0 | 0 | ⋯ | 0 | 1 | 0 | 0 | 0 | 0 | 0 | 0 | 0 | 0 |\n| 1 | 0 | 0 | 0 | 0 | 0 | 0 | 0 | 0 | 0 | ⋯ | 0 | 1 | 0 | 0 | 0 | 0 | 0 | 0 | 0 | 0 |\n| 0 | 0 | 0 | 0 | 0 | 0 | 0 | 1 | 0 | 0 | ⋯ | 0 | 0 | 0 | 1 | 0 | 0 | 0 | 0 | 0 | 0 |\n| 0 | 0 | 0 | 1 | 0 | 0 | 0 | 0 | 0 | 0 | ⋯ | 0 | 0 | 0 | 1 | 0 | 0 | 0 | 0 | 0 | 0 |\n| 0 | 0 | 0 | 0 | 0 | 0 | 0 | 0 | 0 | 0 | ⋯ | 0 | 0 | 0 | 0 | 0 | 0 | 1 | 0 | 0 | 0 |\n| 0 | 0 | 0 | 0 | 1 | 0 | 0 | 0 | 0 | 0 | ⋯ | 0 | 0 | 0 | 1 | 0 | 0 | 0 | 0 | 0 | 0 |\n| 0 | 0 | 0 | 0 | 0 | 0 | 0 | 1 | 0 | 0 | ⋯ | 0 | 0 | 0 | 1 | 0 | 0 | 0 | 0 | 0 | 0 |\n| 0 | 0 | 0 | 0 | 0 | 1 | 0 | 0 | 0 | 0 | ⋯ | 0 | 0 | 0 | 1 | 0 | 0 | 0 | 0 | 0 | 0 |\n| 0 | 0 | 0 | 0 | 0 | 0 | 0 | 1 | 0 | 0 | ⋯ | 0 | 0 | 0 | 1 | 0 | 0 | 0 | 0 | 0 | 0 |\n| 0 | 0 | 0 | 0 | 0 | 1 | 0 | 0 | 0 | 0 | ⋯ | 0 | 0 | 0 | 1 | 0 | 0 | 0 | 0 | 0 | 0 |\n| 0 | 0 | 0 | 0 | 0 | 0 | 0 | 0 | 0 | 0 | ⋯ | 0 | 0 | 0 | 1 | 0 | 0 | 0 | 0 | 0 | 0 |\n| ⋮ | ⋮ | ⋮ | ⋮ | ⋮ | ⋮ | ⋮ | ⋮ | ⋮ | ⋮ | ⋱ | ⋮ | ⋮ | ⋮ | ⋮ | ⋮ | ⋮ | ⋮ | ⋮ | ⋮ | ⋮ |\n| 0 | 0 | 0 | 0 | 0 | 0 | 0 | 1 | 0 | 0 | ⋯ | 0 | 0 | 0 | 1 | 0 | 0 | 0 | 0 | 0 | 0 |\n| 1 | 0 | 0 | 0 | 0 | 0 | 0 | 0 | 0 | 0 | ⋯ | 0 | 0 | 0 | 0 | 0 | 0 | 0 | 1 | 0 | 0 |\n| 0 | 0 | 0 | 0 | 0 | 0 | 0 | 1 | 0 | 0 | ⋯ | 0 | 0 | 0 | 0 | 1 | 0 | 0 | 0 | 0 | 0 |\n| 0 | 0 | 0 | 0 | 0 | 0 | 0 | 0 | 0 | 0 | ⋯ | 0 | 0 | 0 | 0 | 1 | 0 | 0 | 0 | 0 | 0 |\n| 0 | 0 | 0 | 0 | 0 | 0 | 0 | 1 | 0 | 0 | ⋯ | 0 | 0 | 0 | 1 | 0 | 0 | 0 | 0 | 0 | 0 |\n| 0 | 0 | 0 | 0 | 0 | 0 | 0 | 0 | 0 | 0 | ⋯ | 0 | 0 | 0 | 1 | 0 | 0 | 0 | 0 | 0 | 0 |\n| 0 | 0 | 0 | 0 | 0 | 0 | 0 | 0 | 0 | 0 | ⋯ | 0 | 0 | 0 | 1 | 0 | 0 | 0 | 0 | 0 | 0 |\n| 0 | 0 | 0 | 0 | 1 | 0 | 0 | 0 | 0 | 0 | ⋯ | 0 | 0 | 0 | 1 | 0 | 0 | 0 | 0 | 0 | 0 |\n| 0 | 0 | 0 | 0 | 0 | 0 | 0 | 0 | 0 | 1 | ⋯ | 0 | 0 | 0 | 1 | 0 | 0 | 0 | 0 | 0 | 0 |\n| 0 | 0 | 0 | 0 | 0 | 0 | 0 | 1 | 0 | 0 | ⋯ | 0 | 0 | 0 | 0 | 1 | 0 | 0 | 0 | 0 | 0 |\n| 0 | 0 | 0 | 0 | 0 | 0 | 0 | 0 | 0 | 0 | ⋯ | 1 | 0 | 0 | 0 | 1 | 0 | 0 | 0 | 0 | 0 |\n| 0 | 0 | 0 | 0 | 0 | 0 | 0 | 0 | 0 | 0 | ⋯ | 0 | 0 | 0 | 0 | 0 | 1 | 0 | 0 | 0 | 0 |\n| 0 | 0 | 0 | 0 | 0 | 0 | 0 | 0 | 0 | 0 | ⋯ | 0 | 0 | 0 | 0 | 0 | 0 | 1 | 0 | 0 | 0 |\n| 0 | 0 | 0 | 0 | 0 | 0 | 0 | 0 | 0 | 0 | ⋯ | 0 | 0 | 0 | 0 | 0 | 0 | 0 | 1 | 0 | 0 |\n| 0 | 0 | 0 | 0 | 0 | 0 | 0 | 0 | 0 | 0 | ⋯ | 0 | 0 | 0 | 0 | 0 | 0 | 0 | 1 | 0 | 0 |\n| 0 | 0 | 0 | 0 | 0 | 0 | 0 | 0 | 0 | 0 | ⋯ | 0 | 0 | 0 | 0 | 0 | 0 | 0 | 0 | 0 | 1 |\n| 0 | 0 | 0 | 0 | 0 | 0 | 0 | 0 | 0 | 0 | ⋯ | 0 | 0 | 0 | 1 | 0 | 0 | 0 | 0 | 0 | 0 |\n| 0 | 0 | 0 | 0 | 0 | 0 | 0 | 0 | 1 | 0 | ⋯ | 0 | 0 | 0 | 1 | 0 | 0 | 0 | 0 | 0 | 0 |\n| 0 | 0 | 0 | 0 | 0 | 1 | 0 | 0 | 0 | 0 | ⋯ | 0 | 0 | 0 | 0 | 0 | 0 | 0 | 0 | 1 | 0 |\n| 0 | 0 | 0 | 0 | 0 | 1 | 0 | 0 | 0 | 0 | ⋯ | 0 | 0 | 0 | 0 | 0 | 0 | 0 | 0 | 1 | 0 |\n| 0 | 0 | 0 | 0 | 0 | 0 | 0 | 0 | 0 | 0 | ⋯ | 0 | 0 | 0 | 1 | 0 | 0 | 0 | 0 | 0 | 0 |\n| 0 | 0 | 0 | 0 | 0 | 0 | 0 | 0 | 0 | 0 | ⋯ | 0 | 0 | 0 | 0 | 0 | 0 | 0 | 0 | 0 | 1 |\n| 0 | 0 | 0 | 0 | 0 | 0 | 0 | 0 | 0 | 1 | ⋯ | 0 | 0 | 0 | 1 | 0 | 0 | 0 | 0 | 0 | 0 |\n| 1 | 0 | 0 | 0 | 0 | 0 | 0 | 0 | 0 | 0 | ⋯ | 0 | 0 | 0 | 1 | 0 | 0 | 0 | 0 | 0 | 0 |\n| 0 | 0 | 0 | 0 | 0 | 0 | 0 | 0 | 0 | 1 | ⋯ | 0 | 0 | 0 | 0 | 0 | 0 | 1 | 0 | 0 | 0 |\n| 0 | 0 | 0 | 0 | 0 | 0 | 0 | 1 | 0 | 0 | ⋯ | 0 | 0 | 0 | 0 | 0 | 0 | 0 | 0 | 0 | 1 |\n| 0 | 0 | 0 | 0 | 0 | 0 | 0 | 1 | 0 | 0 | ⋯ | 0 | 0 | 0 | 1 | 0 | 0 | 0 | 0 | 0 | 0 |\n| 0 | 0 | 0 | 0 | 0 | 0 | 0 | 1 | 0 | 0 | ⋯ | 0 | 0 | 0 | 1 | 0 | 0 | 0 | 0 | 0 | 0 |\n| 0 | 0 | 0 | 0 | 0 | 0 | 0 | 1 | 0 | 0 | ⋯ | 0 | 0 | 0 | 1 | 0 | 0 | 0 | 0 | 0 | 0 |\n| 0 | 0 | 0 | 0 | 0 | 1 | 0 | 0 | 0 | 0 | ⋯ | 0 | 0 | 1 | 0 | 0 | 0 | 0 | 0 | 0 | 0 |\n\n",
            "text/html": [
              "<table>\n",
              "<caption>A data.frame: 109 × 98</caption>\n",
              "<thead>\n",
              "\t<tr><th scope=col>wyne</th><th scope=col>yellow</th><th scope=col>v.pale</th><th scope=col>pale</th><th scope=col>p.gold</th><th scope=col>gold</th><th scope=col>o.gold</th><th scope=col>f.gold</th><th scope=col>bronze</th><th scope=col>p.amber</th><th scope=col>⋯</th><th scope=col>DISTRICT.WEST</th><th scope=col>islay</th><th scope=col>midland</th><th scope=col>spey</th><th scope=col>east</th><th scope=col>west</th><th scope=col>north</th><th scope=col>lowland</th><th scope=col>campbell</th><th scope=col>islands</th></tr>\n",
              "\t<tr><th scope=col>&lt;dbl&gt;</th><th scope=col>&lt;dbl&gt;</th><th scope=col>&lt;dbl&gt;</th><th scope=col>&lt;dbl&gt;</th><th scope=col>&lt;dbl&gt;</th><th scope=col>&lt;dbl&gt;</th><th scope=col>&lt;dbl&gt;</th><th scope=col>&lt;dbl&gt;</th><th scope=col>&lt;dbl&gt;</th><th scope=col>&lt;dbl&gt;</th><th scope=col>⋯</th><th scope=col>&lt;dbl&gt;</th><th scope=col>&lt;dbl&gt;</th><th scope=col>&lt;dbl&gt;</th><th scope=col>&lt;dbl&gt;</th><th scope=col>&lt;dbl&gt;</th><th scope=col>&lt;dbl&gt;</th><th scope=col>&lt;dbl&gt;</th><th scope=col>&lt;dbl&gt;</th><th scope=col>&lt;dbl&gt;</th><th scope=col>&lt;dbl&gt;</th></tr>\n",
              "</thead>\n",
              "<tbody>\n",
              "\t<tr><td>0</td><td>1</td><td>0</td><td>0</td><td>0</td><td>0</td><td>0</td><td>0</td><td>0</td><td>0</td><td>⋯</td><td>0</td><td>0</td><td>1</td><td>0</td><td>0</td><td>0</td><td>0</td><td>0</td><td>0</td><td>0</td></tr>\n",
              "\t<tr><td>0</td><td>0</td><td>0</td><td>0</td><td>0</td><td>0</td><td>0</td><td>0</td><td>0</td><td>0</td><td>⋯</td><td>0</td><td>0</td><td>0</td><td>1</td><td>0</td><td>0</td><td>0</td><td>0</td><td>0</td><td>0</td></tr>\n",
              "\t<tr><td>0</td><td>0</td><td>0</td><td>0</td><td>0</td><td>0</td><td>0</td><td>0</td><td>0</td><td>0</td><td>⋯</td><td>0</td><td>1</td><td>0</td><td>0</td><td>0</td><td>0</td><td>0</td><td>0</td><td>0</td><td>0</td></tr>\n",
              "\t<tr><td>0</td><td>0</td><td>0</td><td>0</td><td>1</td><td>0</td><td>0</td><td>0</td><td>0</td><td>0</td><td>⋯</td><td>0</td><td>0</td><td>0</td><td>1</td><td>0</td><td>0</td><td>0</td><td>0</td><td>0</td><td>0</td></tr>\n",
              "\t<tr><td>0</td><td>0</td><td>0</td><td>0</td><td>1</td><td>0</td><td>0</td><td>0</td><td>0</td><td>0</td><td>⋯</td><td>1</td><td>0</td><td>0</td><td>0</td><td>0</td><td>0</td><td>0</td><td>1</td><td>0</td><td>0</td></tr>\n",
              "\t<tr><td>0</td><td>0</td><td>1</td><td>0</td><td>0</td><td>0</td><td>0</td><td>0</td><td>0</td><td>0</td><td>⋯</td><td>0</td><td>0</td><td>0</td><td>1</td><td>0</td><td>0</td><td>0</td><td>0</td><td>0</td><td>0</td></tr>\n",
              "\t<tr><td>1</td><td>0</td><td>0</td><td>0</td><td>0</td><td>0</td><td>0</td><td>0</td><td>0</td><td>0</td><td>⋯</td><td>0</td><td>0</td><td>0</td><td>0</td><td>0</td><td>0</td><td>1</td><td>0</td><td>0</td><td>0</td></tr>\n",
              "\t<tr><td>0</td><td>0</td><td>0</td><td>0</td><td>1</td><td>0</td><td>0</td><td>0</td><td>0</td><td>0</td><td>⋯</td><td>0</td><td>0</td><td>0</td><td>1</td><td>0</td><td>0</td><td>0</td><td>0</td><td>0</td><td>0</td></tr>\n",
              "\t<tr><td>0</td><td>0</td><td>0</td><td>0</td><td>0</td><td>0</td><td>0</td><td>0</td><td>0</td><td>0</td><td>⋯</td><td>0</td><td>0</td><td>0</td><td>1</td><td>0</td><td>0</td><td>0</td><td>0</td><td>0</td><td>0</td></tr>\n",
              "\t<tr><td>0</td><td>0</td><td>0</td><td>0</td><td>0</td><td>0</td><td>0</td><td>1</td><td>0</td><td>0</td><td>⋯</td><td>0</td><td>0</td><td>0</td><td>1</td><td>0</td><td>0</td><td>0</td><td>0</td><td>0</td><td>0</td></tr>\n",
              "\t<tr><td>0</td><td>0</td><td>0</td><td>0</td><td>0</td><td>0</td><td>0</td><td>0</td><td>0</td><td>0</td><td>⋯</td><td>1</td><td>0</td><td>0</td><td>0</td><td>0</td><td>1</td><td>0</td><td>0</td><td>0</td><td>0</td></tr>\n",
              "\t<tr><td>0</td><td>0</td><td>0</td><td>0</td><td>0</td><td>1</td><td>0</td><td>0</td><td>0</td><td>0</td><td>⋯</td><td>0</td><td>0</td><td>0</td><td>1</td><td>0</td><td>0</td><td>0</td><td>0</td><td>0</td><td>0</td></tr>\n",
              "\t<tr><td>0</td><td>0</td><td>0</td><td>0</td><td>0</td><td>0</td><td>0</td><td>0</td><td>0</td><td>0</td><td>⋯</td><td>0</td><td>0</td><td>0</td><td>1</td><td>0</td><td>0</td><td>0</td><td>0</td><td>0</td><td>0</td></tr>\n",
              "\t<tr><td>0</td><td>0</td><td>0</td><td>0</td><td>0</td><td>0</td><td>0</td><td>0</td><td>0</td><td>0</td><td>⋯</td><td>0</td><td>0</td><td>0</td><td>1</td><td>0</td><td>0</td><td>0</td><td>0</td><td>0</td><td>0</td></tr>\n",
              "\t<tr><td>0</td><td>1</td><td>0</td><td>0</td><td>0</td><td>0</td><td>0</td><td>0</td><td>0</td><td>0</td><td>⋯</td><td>0</td><td>0</td><td>0</td><td>0</td><td>0</td><td>0</td><td>0</td><td>1</td><td>0</td><td>0</td></tr>\n",
              "\t<tr><td>0</td><td>0</td><td>0</td><td>0</td><td>1</td><td>0</td><td>0</td><td>0</td><td>0</td><td>0</td><td>⋯</td><td>0</td><td>0</td><td>1</td><td>0</td><td>0</td><td>0</td><td>0</td><td>0</td><td>0</td><td>0</td></tr>\n",
              "\t<tr><td>0</td><td>0</td><td>0</td><td>0</td><td>0</td><td>0</td><td>1</td><td>0</td><td>0</td><td>0</td><td>⋯</td><td>0</td><td>1</td><td>0</td><td>0</td><td>0</td><td>0</td><td>0</td><td>0</td><td>0</td><td>0</td></tr>\n",
              "\t<tr><td>0</td><td>0</td><td>0</td><td>0</td><td>0</td><td>0</td><td>1</td><td>0</td><td>0</td><td>0</td><td>⋯</td><td>0</td><td>0</td><td>0</td><td>1</td><td>0</td><td>0</td><td>0</td><td>0</td><td>0</td><td>0</td></tr>\n",
              "\t<tr><td>0</td><td>0</td><td>0</td><td>1</td><td>0</td><td>0</td><td>0</td><td>0</td><td>0</td><td>0</td><td>⋯</td><td>0</td><td>1</td><td>0</td><td>0</td><td>0</td><td>0</td><td>0</td><td>0</td><td>0</td><td>0</td></tr>\n",
              "\t<tr><td>0</td><td>0</td><td>0</td><td>0</td><td>0</td><td>1</td><td>0</td><td>0</td><td>0</td><td>0</td><td>⋯</td><td>0</td><td>1</td><td>0</td><td>0</td><td>0</td><td>0</td><td>0</td><td>0</td><td>0</td><td>0</td></tr>\n",
              "\t<tr><td>1</td><td>0</td><td>0</td><td>0</td><td>0</td><td>0</td><td>0</td><td>0</td><td>0</td><td>0</td><td>⋯</td><td>0</td><td>1</td><td>0</td><td>0</td><td>0</td><td>0</td><td>0</td><td>0</td><td>0</td><td>0</td></tr>\n",
              "\t<tr><td>0</td><td>0</td><td>0</td><td>0</td><td>0</td><td>0</td><td>0</td><td>1</td><td>0</td><td>0</td><td>⋯</td><td>0</td><td>0</td><td>0</td><td>1</td><td>0</td><td>0</td><td>0</td><td>0</td><td>0</td><td>0</td></tr>\n",
              "\t<tr><td>0</td><td>0</td><td>0</td><td>1</td><td>0</td><td>0</td><td>0</td><td>0</td><td>0</td><td>0</td><td>⋯</td><td>0</td><td>0</td><td>0</td><td>1</td><td>0</td><td>0</td><td>0</td><td>0</td><td>0</td><td>0</td></tr>\n",
              "\t<tr><td>0</td><td>0</td><td>0</td><td>0</td><td>0</td><td>0</td><td>0</td><td>0</td><td>0</td><td>0</td><td>⋯</td><td>0</td><td>0</td><td>0</td><td>0</td><td>0</td><td>0</td><td>1</td><td>0</td><td>0</td><td>0</td></tr>\n",
              "\t<tr><td>0</td><td>0</td><td>0</td><td>0</td><td>1</td><td>0</td><td>0</td><td>0</td><td>0</td><td>0</td><td>⋯</td><td>0</td><td>0</td><td>0</td><td>1</td><td>0</td><td>0</td><td>0</td><td>0</td><td>0</td><td>0</td></tr>\n",
              "\t<tr><td>0</td><td>0</td><td>0</td><td>0</td><td>0</td><td>0</td><td>0</td><td>1</td><td>0</td><td>0</td><td>⋯</td><td>0</td><td>0</td><td>0</td><td>1</td><td>0</td><td>0</td><td>0</td><td>0</td><td>0</td><td>0</td></tr>\n",
              "\t<tr><td>0</td><td>0</td><td>0</td><td>0</td><td>0</td><td>1</td><td>0</td><td>0</td><td>0</td><td>0</td><td>⋯</td><td>0</td><td>0</td><td>0</td><td>1</td><td>0</td><td>0</td><td>0</td><td>0</td><td>0</td><td>0</td></tr>\n",
              "\t<tr><td>0</td><td>0</td><td>0</td><td>0</td><td>0</td><td>0</td><td>0</td><td>1</td><td>0</td><td>0</td><td>⋯</td><td>0</td><td>0</td><td>0</td><td>1</td><td>0</td><td>0</td><td>0</td><td>0</td><td>0</td><td>0</td></tr>\n",
              "\t<tr><td>0</td><td>0</td><td>0</td><td>0</td><td>0</td><td>1</td><td>0</td><td>0</td><td>0</td><td>0</td><td>⋯</td><td>0</td><td>0</td><td>0</td><td>1</td><td>0</td><td>0</td><td>0</td><td>0</td><td>0</td><td>0</td></tr>\n",
              "\t<tr><td>0</td><td>0</td><td>0</td><td>0</td><td>0</td><td>0</td><td>0</td><td>0</td><td>0</td><td>0</td><td>⋯</td><td>0</td><td>0</td><td>0</td><td>1</td><td>0</td><td>0</td><td>0</td><td>0</td><td>0</td><td>0</td></tr>\n",
              "\t<tr><td>⋮</td><td>⋮</td><td>⋮</td><td>⋮</td><td>⋮</td><td>⋮</td><td>⋮</td><td>⋮</td><td>⋮</td><td>⋮</td><td>⋱</td><td>⋮</td><td>⋮</td><td>⋮</td><td>⋮</td><td>⋮</td><td>⋮</td><td>⋮</td><td>⋮</td><td>⋮</td><td>⋮</td></tr>\n",
              "\t<tr><td>0</td><td>0</td><td>0</td><td>0</td><td>0</td><td>0</td><td>0</td><td>1</td><td>0</td><td>0</td><td>⋯</td><td>0</td><td>0</td><td>0</td><td>1</td><td>0</td><td>0</td><td>0</td><td>0</td><td>0</td><td>0</td></tr>\n",
              "\t<tr><td>1</td><td>0</td><td>0</td><td>0</td><td>0</td><td>0</td><td>0</td><td>0</td><td>0</td><td>0</td><td>⋯</td><td>0</td><td>0</td><td>0</td><td>0</td><td>0</td><td>0</td><td>0</td><td>1</td><td>0</td><td>0</td></tr>\n",
              "\t<tr><td>0</td><td>0</td><td>0</td><td>0</td><td>0</td><td>0</td><td>0</td><td>1</td><td>0</td><td>0</td><td>⋯</td><td>0</td><td>0</td><td>0</td><td>0</td><td>1</td><td>0</td><td>0</td><td>0</td><td>0</td><td>0</td></tr>\n",
              "\t<tr><td>0</td><td>0</td><td>0</td><td>0</td><td>0</td><td>0</td><td>0</td><td>0</td><td>0</td><td>0</td><td>⋯</td><td>0</td><td>0</td><td>0</td><td>0</td><td>1</td><td>0</td><td>0</td><td>0</td><td>0</td><td>0</td></tr>\n",
              "\t<tr><td>0</td><td>0</td><td>0</td><td>0</td><td>0</td><td>0</td><td>0</td><td>1</td><td>0</td><td>0</td><td>⋯</td><td>0</td><td>0</td><td>0</td><td>1</td><td>0</td><td>0</td><td>0</td><td>0</td><td>0</td><td>0</td></tr>\n",
              "\t<tr><td>0</td><td>0</td><td>0</td><td>0</td><td>0</td><td>0</td><td>0</td><td>0</td><td>0</td><td>0</td><td>⋯</td><td>0</td><td>0</td><td>0</td><td>1</td><td>0</td><td>0</td><td>0</td><td>0</td><td>0</td><td>0</td></tr>\n",
              "\t<tr><td>0</td><td>0</td><td>0</td><td>0</td><td>0</td><td>0</td><td>0</td><td>0</td><td>0</td><td>0</td><td>⋯</td><td>0</td><td>0</td><td>0</td><td>1</td><td>0</td><td>0</td><td>0</td><td>0</td><td>0</td><td>0</td></tr>\n",
              "\t<tr><td>0</td><td>0</td><td>0</td><td>0</td><td>1</td><td>0</td><td>0</td><td>0</td><td>0</td><td>0</td><td>⋯</td><td>0</td><td>0</td><td>0</td><td>1</td><td>0</td><td>0</td><td>0</td><td>0</td><td>0</td><td>0</td></tr>\n",
              "\t<tr><td>0</td><td>0</td><td>0</td><td>0</td><td>0</td><td>0</td><td>0</td><td>0</td><td>0</td><td>1</td><td>⋯</td><td>0</td><td>0</td><td>0</td><td>1</td><td>0</td><td>0</td><td>0</td><td>0</td><td>0</td><td>0</td></tr>\n",
              "\t<tr><td>0</td><td>0</td><td>0</td><td>0</td><td>0</td><td>0</td><td>0</td><td>1</td><td>0</td><td>0</td><td>⋯</td><td>0</td><td>0</td><td>0</td><td>0</td><td>1</td><td>0</td><td>0</td><td>0</td><td>0</td><td>0</td></tr>\n",
              "\t<tr><td>0</td><td>0</td><td>0</td><td>0</td><td>0</td><td>0</td><td>0</td><td>0</td><td>0</td><td>0</td><td>⋯</td><td>1</td><td>0</td><td>0</td><td>0</td><td>1</td><td>0</td><td>0</td><td>0</td><td>0</td><td>0</td></tr>\n",
              "\t<tr><td>0</td><td>0</td><td>0</td><td>0</td><td>0</td><td>0</td><td>0</td><td>0</td><td>0</td><td>0</td><td>⋯</td><td>0</td><td>0</td><td>0</td><td>0</td><td>0</td><td>1</td><td>0</td><td>0</td><td>0</td><td>0</td></tr>\n",
              "\t<tr><td>0</td><td>0</td><td>0</td><td>0</td><td>0</td><td>0</td><td>0</td><td>0</td><td>0</td><td>0</td><td>⋯</td><td>0</td><td>0</td><td>0</td><td>0</td><td>0</td><td>0</td><td>1</td><td>0</td><td>0</td><td>0</td></tr>\n",
              "\t<tr><td>0</td><td>0</td><td>0</td><td>0</td><td>0</td><td>0</td><td>0</td><td>0</td><td>0</td><td>0</td><td>⋯</td><td>0</td><td>0</td><td>0</td><td>0</td><td>0</td><td>0</td><td>0</td><td>1</td><td>0</td><td>0</td></tr>\n",
              "\t<tr><td>0</td><td>0</td><td>0</td><td>0</td><td>0</td><td>0</td><td>0</td><td>0</td><td>0</td><td>0</td><td>⋯</td><td>0</td><td>0</td><td>0</td><td>0</td><td>0</td><td>0</td><td>0</td><td>1</td><td>0</td><td>0</td></tr>\n",
              "\t<tr><td>0</td><td>0</td><td>0</td><td>0</td><td>0</td><td>0</td><td>0</td><td>0</td><td>0</td><td>0</td><td>⋯</td><td>0</td><td>0</td><td>0</td><td>0</td><td>0</td><td>0</td><td>0</td><td>0</td><td>0</td><td>1</td></tr>\n",
              "\t<tr><td>0</td><td>0</td><td>0</td><td>0</td><td>0</td><td>0</td><td>0</td><td>0</td><td>0</td><td>0</td><td>⋯</td><td>0</td><td>0</td><td>0</td><td>1</td><td>0</td><td>0</td><td>0</td><td>0</td><td>0</td><td>0</td></tr>\n",
              "\t<tr><td>0</td><td>0</td><td>0</td><td>0</td><td>0</td><td>0</td><td>0</td><td>0</td><td>1</td><td>0</td><td>⋯</td><td>0</td><td>0</td><td>0</td><td>1</td><td>0</td><td>0</td><td>0</td><td>0</td><td>0</td><td>0</td></tr>\n",
              "\t<tr><td>0</td><td>0</td><td>0</td><td>0</td><td>0</td><td>1</td><td>0</td><td>0</td><td>0</td><td>0</td><td>⋯</td><td>0</td><td>0</td><td>0</td><td>0</td><td>0</td><td>0</td><td>0</td><td>0</td><td>1</td><td>0</td></tr>\n",
              "\t<tr><td>0</td><td>0</td><td>0</td><td>0</td><td>0</td><td>1</td><td>0</td><td>0</td><td>0</td><td>0</td><td>⋯</td><td>0</td><td>0</td><td>0</td><td>0</td><td>0</td><td>0</td><td>0</td><td>0</td><td>1</td><td>0</td></tr>\n",
              "\t<tr><td>0</td><td>0</td><td>0</td><td>0</td><td>0</td><td>0</td><td>0</td><td>0</td><td>0</td><td>0</td><td>⋯</td><td>0</td><td>0</td><td>0</td><td>1</td><td>0</td><td>0</td><td>0</td><td>0</td><td>0</td><td>0</td></tr>\n",
              "\t<tr><td>0</td><td>0</td><td>0</td><td>0</td><td>0</td><td>0</td><td>0</td><td>0</td><td>0</td><td>0</td><td>⋯</td><td>0</td><td>0</td><td>0</td><td>0</td><td>0</td><td>0</td><td>0</td><td>0</td><td>0</td><td>1</td></tr>\n",
              "\t<tr><td>0</td><td>0</td><td>0</td><td>0</td><td>0</td><td>0</td><td>0</td><td>0</td><td>0</td><td>1</td><td>⋯</td><td>0</td><td>0</td><td>0</td><td>1</td><td>0</td><td>0</td><td>0</td><td>0</td><td>0</td><td>0</td></tr>\n",
              "\t<tr><td>1</td><td>0</td><td>0</td><td>0</td><td>0</td><td>0</td><td>0</td><td>0</td><td>0</td><td>0</td><td>⋯</td><td>0</td><td>0</td><td>0</td><td>1</td><td>0</td><td>0</td><td>0</td><td>0</td><td>0</td><td>0</td></tr>\n",
              "\t<tr><td>0</td><td>0</td><td>0</td><td>0</td><td>0</td><td>0</td><td>0</td><td>0</td><td>0</td><td>1</td><td>⋯</td><td>0</td><td>0</td><td>0</td><td>0</td><td>0</td><td>0</td><td>1</td><td>0</td><td>0</td><td>0</td></tr>\n",
              "\t<tr><td>0</td><td>0</td><td>0</td><td>0</td><td>0</td><td>0</td><td>0</td><td>1</td><td>0</td><td>0</td><td>⋯</td><td>0</td><td>0</td><td>0</td><td>0</td><td>0</td><td>0</td><td>0</td><td>0</td><td>0</td><td>1</td></tr>\n",
              "\t<tr><td>0</td><td>0</td><td>0</td><td>0</td><td>0</td><td>0</td><td>0</td><td>1</td><td>0</td><td>0</td><td>⋯</td><td>0</td><td>0</td><td>0</td><td>1</td><td>0</td><td>0</td><td>0</td><td>0</td><td>0</td><td>0</td></tr>\n",
              "\t<tr><td>0</td><td>0</td><td>0</td><td>0</td><td>0</td><td>0</td><td>0</td><td>1</td><td>0</td><td>0</td><td>⋯</td><td>0</td><td>0</td><td>0</td><td>1</td><td>0</td><td>0</td><td>0</td><td>0</td><td>0</td><td>0</td></tr>\n",
              "\t<tr><td>0</td><td>0</td><td>0</td><td>0</td><td>0</td><td>0</td><td>0</td><td>1</td><td>0</td><td>0</td><td>⋯</td><td>0</td><td>0</td><td>0</td><td>1</td><td>0</td><td>0</td><td>0</td><td>0</td><td>0</td><td>0</td></tr>\n",
              "\t<tr><td>0</td><td>0</td><td>0</td><td>0</td><td>0</td><td>1</td><td>0</td><td>0</td><td>0</td><td>0</td><td>⋯</td><td>0</td><td>0</td><td>1</td><td>0</td><td>0</td><td>0</td><td>0</td><td>0</td><td>0</td><td>0</td></tr>\n",
              "</tbody>\n",
              "</table>\n"
            ]
          },
          "metadata": {
            "tags": []
          }
        }
      ]
    },
    {
      "cell_type": "code",
      "metadata": {
        "id": "XnyrpWK2TLWe",
        "colab_type": "code",
        "colab": {}
      },
      "source": [
        "save(data_onehot, file = \"data_onehot.Rdata\")\n",
        "save(data_cleaned, file = \"data_cleaned.Rdata\")"
      ],
      "execution_count": 0,
      "outputs": []
    }
  ]
}