{
  "nbformat": 4,
  "nbformat_minor": 0,
  "metadata": {
    "colab": {
      "name": "5 - Recomendação de filmes.ipynb",
      "version": "0.3.2",
      "provenance": [],
      "collapsed_sections": [],
      "include_colab_link": true
    },
    "kernelspec": {
      "name": "python3",
      "display_name": "Python 3"
    }
  },
  "cells": [
    {
      "cell_type": "markdown",
      "metadata": {
        "id": "view-in-github",
        "colab_type": "text"
      },
      "source": [
        "<a href=\"https://colab.research.google.com/github/lauramoraes/Analise_de_Clusters/blob/master/5%20-%20Recomenda%C3%A7%C3%A3o%20de%20filmes.ipynb\" target=\"_parent\"><img src=\"https://colab.research.google.com/assets/colab-badge.svg\" alt=\"Open In Colab\"/></a>"
      ]
    },
    {
      "cell_type": "markdown",
      "metadata": {
        "id": "5dIp7CsDYqnf",
        "colab_type": "text"
      },
      "source": [
        "# Recomendação de filmes"
      ]
    },
    {
      "cell_type": "markdown",
      "metadata": {
        "id": "9omZ7WLdmnxC",
        "colab_type": "text"
      },
      "source": [
        "Retirado de: https://alyssaq.github.io/2015/20150426-simple-movie-recommender-using-svd/"
      ]
    },
    {
      "cell_type": "code",
      "metadata": {
        "id": "uTP314MNZ0f4",
        "colab_type": "code",
        "colab": {}
      },
      "source": [
        "import numpy as np\n",
        "import pandas as pd"
      ],
      "execution_count": 0,
      "outputs": []
    },
    {
      "cell_type": "markdown",
      "metadata": {
        "id": "IqrG1B0nZAYP",
        "colab_type": "text"
      },
      "source": [
        "Carregando os dados já transformados para matriz"
      ]
    },
    {
      "cell_type": "code",
      "metadata": {
        "id": "l2svCu7DYsho",
        "colab_type": "code",
        "colab": {}
      },
      "source": [
        "movie_data = pd.io.parsers.read_csv('https://www.dropbox.com/s/4fh04q6w4vn0kcv/movies.dat?dl=1',\n",
        "    names=['movie_id', 'title', 'genre'],\n",
        "    engine='python', delimiter='::', encoding=\"ISO-8859-1\")\n",
        "\n",
        "ratings_df = pd.read_csv(\"https://www.dropbox.com/s/ucwh8f86hk2hm6k/ml-1m.csv?dl=1\", delimiter=\",\")\n",
        "ratings_mat = ratings_df.values"
      ],
      "execution_count": 0,
      "outputs": []
    },
    {
      "cell_type": "markdown",
      "metadata": {
        "id": "a1Lsoj_EkOTF",
        "colab_type": "text"
      },
      "source": [
        "Separando nome dos filmes do resto da matriz"
      ]
    },
    {
      "cell_type": "code",
      "metadata": {
        "id": "9JRUclQNjh-_",
        "colab_type": "code",
        "colab": {}
      },
      "source": [
        "movie_names = ratings_mat[:,0]\n",
        "ratings_mat = ratings_mat[:,1:].astype(np.uint8)"
      ],
      "execution_count": 0,
      "outputs": []
    },
    {
      "cell_type": "markdown",
      "metadata": {
        "id": "kSQfO6q0kRlm",
        "colab_type": "text"
      },
      "source": [
        "Normalizando os dados"
      ]
    },
    {
      "cell_type": "code",
      "metadata": {
        "id": "G3Fi79SkkCtW",
        "colab_type": "code",
        "colab": {}
      },
      "source": [
        "normalised_mat = ratings_mat - np.asarray([(np.mean(ratings_mat, 1))]).T"
      ],
      "execution_count": 0,
      "outputs": []
    },
    {
      "cell_type": "markdown",
      "metadata": {
        "id": "1gBbiXzwlEng",
        "colab_type": "text"
      },
      "source": [
        "Calculando SVD"
      ]
    },
    {
      "cell_type": "code",
      "metadata": {
        "id": "VUM91DD5kTS1",
        "colab_type": "code",
        "colab": {}
      },
      "source": [
        "A = normalised_mat.T / np.sqrt(ratings_mat.shape[0] - 1)\n",
        "U, S, V = np.linalg.svd(A)"
      ],
      "execution_count": 0,
      "outputs": []
    },
    {
      "cell_type": "markdown",
      "metadata": {
        "id": "PuhbFUFul85l",
        "colab_type": "text"
      },
      "source": [
        "Calculando similaridade de coseno"
      ]
    },
    {
      "cell_type": "code",
      "metadata": {
        "id": "yrdu2PaJmAB6",
        "colab_type": "code",
        "colab": {}
      },
      "source": [
        "def top_cosine_similarity(data, movie_id, top_n=10):\n",
        "    index = movie_id - 1 # Movie id starts from 1\n",
        "    movie_row = data[index, :]\n",
        "    magnitude = np.sqrt(np.einsum('ij, ij -> i', data, data))\n",
        "    similarity = np.dot(movie_row, data.T) / (magnitude[index] * magnitude)\n",
        "    sort_indexes = np.argsort(-similarity)\n",
        "    return sort_indexes[:top_n]\n",
        "\n",
        "# Helper function to print top N similar movies\n",
        "def print_similar_movies(movie_data, movie_id, top_indexes):\n",
        "    print('Recommendations for {0}: \\n'.format(\n",
        "    movie_data[movie_data.movie_id == movie_id].title.values[0]))\n",
        "    for id in top_indexes + 1:\n",
        "        print(movie_data[movie_data.movie_id == id].title.values[0])"
      ],
      "execution_count": 0,
      "outputs": []
    },
    {
      "cell_type": "markdown",
      "metadata": {
        "id": "zYMBROiumBG0",
        "colab_type": "text"
      },
      "source": [
        "Vamos testar!"
      ]
    },
    {
      "cell_type": "code",
      "metadata": {
        "id": "HaSAUxvJlGUS",
        "colab_type": "code",
        "colab": {
          "base_uri": "https://localhost:8080/",
          "height": 225
        },
        "outputId": "520ed4f0-1bef-4340-99bd-b71d026426f9"
      },
      "source": [
        "k = 50\n",
        "movie_id = 1 # Grab an id from movies.dat\n",
        "top_n = 10\n",
        "\n",
        "sliced = V.T[:, :k] # representative data\n",
        "indexes = top_cosine_similarity(sliced, movie_id, top_n)\n",
        "print_similar_movies(movie_data, movie_id, indexes)"
      ],
      "execution_count": 26,
      "outputs": [
        {
          "output_type": "stream",
          "text": [
            "Recommendations for Toy Story (1995): \n",
            "\n",
            "Toy Story (1995)\n",
            "Men in Black (1997)\n",
            "There's Something About Mary (1998)\n",
            "Austin Powers: International Man of Mystery (1997)\n",
            "Pleasantville (1998)\n",
            "Clueless (1995)\n",
            "Dunston Checks In (1996)\n",
            "Full Monty, The (1997)\n",
            "Wedding Singer, The (1998)\n",
            "Grosse Pointe Blank (1997)\n"
          ],
          "name": "stdout"
        }
      ]
    }
  ]
}