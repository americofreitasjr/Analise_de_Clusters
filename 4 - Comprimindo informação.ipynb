{
  "nbformat": 4,
  "nbformat_minor": 0,
  "metadata": {
    "colab": {
      "name": "4 - Comprimindo informação.ipynb",
      "version": "0.3.2",
      "provenance": [],
      "include_colab_link": true
    },
    "language_info": {
      "codemirror_mode": "r",
      "file_extension": ".r",
      "mimetype": "text/x-r-source",
      "name": "R",
      "pygments_lexer": "r",
      "version": "3.5.1"
    },
    "kernelspec": {
      "display_name": "R",
      "language": "R",
      "name": "ir"
    }
  },
  "cells": [
    {
      "cell_type": "markdown",
      "metadata": {
        "id": "view-in-github",
        "colab_type": "text"
      },
      "source": [
        "<a href=\"https://colab.research.google.com/github/lauramoraes/Analise_de_Clusters/blob/master/4%20-%20Comprimindo%20informa%C3%A7%C3%A3o.ipynb\" target=\"_parent\"><img src=\"https://colab.research.google.com/assets/colab-badge.svg\" alt=\"Open In Colab\"/></a>"
      ]
    },
    {
      "cell_type": "markdown",
      "metadata": {
        "id": "2ax1wW1bqsNP",
        "colab_type": "text"
      },
      "source": [
        "# Visualização dos dados de alta dimensão"
      ]
    },
    {
      "cell_type": "markdown",
      "metadata": {
        "id": "WBU1VCsAqsNU",
        "colab_type": "text"
      },
      "source": [
        "### Importando bibliotecas a serem usadas"
      ]
    },
    {
      "cell_type": "code",
      "metadata": {
        "id": "Er2PmKaBqsNX",
        "colab_type": "code",
        "colab": {}
      },
      "source": [
        "suppressMessages(suppressWarnings(library(tidyverse)))\n",
        "suppressMessages(suppressWarnings(library(ggplot2)))"
      ],
      "execution_count": 0,
      "outputs": []
    },
    {
      "cell_type": "code",
      "metadata": {
        "id": "fEzjBnBTqsNk",
        "colab_type": "code",
        "colab": {}
      },
      "source": [
        "# Multiple plot function\n",
        "#\n",
        "# ggplot objects can be passed in ..., or to plotlist (as a list of ggplot objects)\n",
        "# - cols:   Number of columns in layout\n",
        "# - layout: A matrix specifying the layout. If present, 'cols' is ignored.\n",
        "#\n",
        "# If the layout is something like matrix(c(1,2,3,3), nrow=2, byrow=TRUE),\n",
        "# then plot 1 will go in the upper left, 2 will go in the upper right, and\n",
        "# 3 will go all the way across the bottom.\n",
        "#\n",
        "multiplot <- function(..., plotlist=NULL, file, cols=1, layout=NULL) {\n",
        "  library(grid)\n",
        "\n",
        "  # Make a list from the ... arguments and plotlist\n",
        "  plots <- c(list(...), plotlist)\n",
        "\n",
        "  numPlots = length(plots)\n",
        "\n",
        "  # If layout is NULL, then use 'cols' to determine layout\n",
        "  if (is.null(layout)) {\n",
        "    # Make the panel\n",
        "    # ncol: Number of columns of plots\n",
        "    # nrow: Number of rows needed, calculated from # of cols\n",
        "    layout <- matrix(seq(1, cols * ceiling(numPlots/cols)),\n",
        "                    ncol = cols, nrow = ceiling(numPlots/cols))\n",
        "  }\n",
        "\n",
        " if (numPlots==1) {\n",
        "    print(plots[[1]])\n",
        "\n",
        "  } else {\n",
        "    # Set up the page\n",
        "    grid.newpage()\n",
        "    pushViewport(viewport(layout = grid.layout(nrow(layout), ncol(layout))))\n",
        "\n",
        "    # Make each plot, in the correct location\n",
        "    for (i in 1:numPlots) {\n",
        "      # Get the i,j matrix positions of the regions that contain this subplot\n",
        "      matchidx <- as.data.frame(which(layout == i, arr.ind = TRUE))\n",
        "\n",
        "      print(plots[[i]], vp = viewport(layout.pos.row = matchidx$row,\n",
        "                                      layout.pos.col = matchidx$col))\n",
        "    }\n",
        "  }\n",
        "}"
      ],
      "execution_count": 0,
      "outputs": []
    },
    {
      "cell_type": "markdown",
      "metadata": {
        "id": "aU3O09tQqsNt",
        "colab_type": "text"
      },
      "source": [
        "### Carregando os dados salvos anteriormente"
      ]
    },
    {
      "cell_type": "code",
      "metadata": {
        "id": "z7eXqEyrqsNw",
        "colab_type": "code",
        "outputId": "c821ba4d-c810-43ea-b227-4756e09731f3",
        "colab": {}
      },
      "source": [
        "list.files()"
      ],
      "execution_count": 0,
      "outputs": [
        {
          "output_type": "display_data",
          "data": {
            "text/html": [
              "<ol class=list-inline>\n",
              "\t<li>'0 - Datasets.ipynb'</li>\n",
              "\t<li>'1 - Análise inicial dos dados.ipynb'</li>\n",
              "\t<li>'2 - Visualizando os dados.ipynb'</li>\n",
              "\t<li>'3 - Entendendo a matriz de covariância.ipynb'</li>\n",
              "\t<li>'4 - Conectando matriz de covariância e redução de dimensionalidade.ipynb'</li>\n",
              "\t<li>'Untitled.ipynb'</li>\n",
              "\t<li>'Untitled1.ipynb'</li>\n",
              "\t<li>'variancia_cumulativa.png'</li>\n",
              "\t<li>'variancia_individual.png'</li>\n",
              "</ol>\n"
            ],
            "text/latex": "\\begin{enumerate*}\n\\item '0 - Datasets.ipynb'\n\\item '1 - Análise inicial dos dados.ipynb'\n\\item '2 - Visualizando os dados.ipynb'\n\\item '3 - Entendendo a matriz de covariância.ipynb'\n\\item '4 - Conectando matriz de covariância e redução de dimensionalidade.ipynb'\n\\item 'Untitled.ipynb'\n\\item 'Untitled1.ipynb'\n\\item 'variancia\\_cumulativa.png'\n\\item 'variancia\\_individual.png'\n\\end{enumerate*}\n",
            "text/markdown": "1. '0 - Datasets.ipynb'\n2. '1 - Análise inicial dos dados.ipynb'\n3. '2 - Visualizando os dados.ipynb'\n4. '3 - Entendendo a matriz de covariância.ipynb'\n5. '4 - Conectando matriz de covariância e redução de dimensionalidade.ipynb'\n6. 'Untitled.ipynb'\n7. 'Untitled1.ipynb'\n8. 'variancia_cumulativa.png'\n9. 'variancia_individual.png'\n\n\n",
            "text/plain": [
              "[1] \"0 - Datasets.ipynb\"                                                      \n",
              "[2] \"1 - Análise inicial dos dados.ipynb\"                                     \n",
              "[3] \"2 - Visualizando os dados.ipynb\"                                         \n",
              "[4] \"3 - Entendendo a matriz de covariância.ipynb\"                            \n",
              "[5] \"4 - Conectando matriz de covariância e redução de dimensionalidade.ipynb\"\n",
              "[6] \"Untitled.ipynb\"                                                          \n",
              "[7] \"Untitled1.ipynb\"                                                         \n",
              "[8] \"variancia_cumulativa.png\"                                                \n",
              "[9] \"variancia_individual.png\"                                                "
            ]
          },
          "metadata": {
            "tags": []
          }
        }
      ]
    },
    {
      "cell_type": "code",
      "metadata": {
        "id": "_93wCJQ1qsN6",
        "colab_type": "code",
        "outputId": "c56f8609-e52b-464c-b0a8-eaeca9911a07",
        "colab": {}
      },
      "source": [
        "load(\"data_cleaned.Rdata\")\n",
        "load(\"data_onehot.Rdata\")\n",
        "head(data_onehot)"
      ],
      "execution_count": 0,
      "outputs": [
        {
          "output_type": "stream",
          "text": [
            "Warning message in readChar(con, 5L, useBytes = TRUE):\n",
            "\"não foi possível abrir o arquivo comprimido 'data_cleaned.Rdata', motivo provável 'No such file or directory'\""
          ],
          "name": "stderr"
        },
        {
          "output_type": "error",
          "ename": "ERROR",
          "evalue": "Error in readChar(con, 5L, useBytes = TRUE): não é possível abrir a conexão\n",
          "traceback": [
            "Error in readChar(con, 5L, useBytes = TRUE): não é possível abrir a conexão\nTraceback:\n",
            "1. load(\"data_cleaned.Rdata\")",
            "2. readChar(con, 5L, useBytes = TRUE)"
          ]
        }
      ]
    },
    {
      "cell_type": "markdown",
      "metadata": {
        "id": "ayLEI-zIqsOC",
        "colab_type": "text"
      },
      "source": [
        "### Visualizando em 2D"
      ]
    },
    {
      "cell_type": "code",
      "metadata": {
        "id": "GRfnJWp1qsOE",
        "colab_type": "code",
        "outputId": "a18cd733-1dc1-4533-ec08-ae8d4ea1ef2c",
        "colab": {}
      },
      "source": [
        "options(repr.plot.width=6, repr.plot.height=3)\n",
        "\n",
        "pca <- prcomp(data_onehot, scale=TRUE, center=TRUE)\n",
        "pca_df <- data.frame(x=pca$x[,\"PC1\"], y=pca$x[,\"PC2\"])\n",
        "\n",
        "# Plotando as direções de maior variância\n",
        "ggplot(data = pca_df, aes(x,y)) + \n",
        "  geom_point() + xlab(\"PC1\") + ylab(\"PC2\")"
      ],
      "execution_count": 0,
      "outputs": [
        {
          "output_type": "display_data",
          "data": {
            "image/png": "[encoded data removed]",
            "text/plain": [
              "plot without title"
            ]
          },
          "metadata": {
            "tags": []
          }
        }
      ]
    },
    {
      "cell_type": "markdown",
      "metadata": {
        "id": "ICk4WS4BqsON",
        "colab_type": "text"
      },
      "source": [
        "### Adicionando um pouco mais de informação (cores!)\n",
        "Dá para perceber como a localização é grande parte das componentes principais"
      ]
    },
    {
      "cell_type": "code",
      "metadata": {
        "id": "ZHR5tvjSqsOQ",
        "colab_type": "code",
        "outputId": "c71d7057-5bbf-4b79-acf1-8e068a180df6",
        "colab": {}
      },
      "source": [
        "options(repr.plot.width=6, repr.plot.height=3)\n",
        "\n",
        "# Choose column to color\n",
        "color = \"REGION\"\n",
        "# color = \"DISTRICT\"\n",
        "# color = \"DISTRICT.SPEY\"\n",
        "\n",
        "# Choose dataset version\n",
        "data = data_cleaned\n",
        "# data = data_onehot\n",
        "\n",
        "pca <- prcomp(data_onehot, scale=TRUE, center=TRUE)\n",
        "pca_df <- data.frame(x=pca$x[,\"PC1\"], y=pca$x[,\"PC2\"], color=data[, color])\n",
        "\n",
        "# Plotando as direções de maior variância\n",
        "ggplot(data = pca_df, aes(x,y, color=color)) + \n",
        "  geom_point() + xlab(\"PC1\") + ylab(\"PC2\")"
      ],
      "execution_count": 0,
      "outputs": [
        {
          "output_type": "error",
          "ename": "ERROR",
          "evalue": "Error in eval(expr, envir, enclos): objeto 'data_cleaned' não encontrado\n",
          "traceback": [
            "Error in eval(expr, envir, enclos): objeto 'data_cleaned' não encontrado\nTraceback:\n"
          ]
        }
      ]
    },
    {
      "cell_type": "markdown",
      "metadata": {
        "id": "tUvwTPdqqsOe",
        "colab_type": "text"
      },
      "source": [
        "### Como vamos para um espaço reduzido que equilibre quantidade de informação e erro?\n",
        "Podemos escolher ir para dimensões baixas (que vimos que nos ajuda a **visualizar**), mas, se o nosso dado tiver muitos atributos essas dimensões não são suficientes para conter **toda a informação** necessária para uma análise, deixando o **erro** em relação à informação original **muito grande**. Além disso, nem sempre precisamos visualizar o dado. Se quisermos utilizar essa informação para eliminar ruído e realizar um **agrupamento ou um sistema de recomendação**, podemos ainda trabalhar em dimensões altas (mas não tão altas quanto o original). Mas qual seria uma dimensão boa?\n",
        "\n",
        "#### Variância explicada ou erro acumulado\n",
        "Uma técnica utilizada é verificar o quanto que cada nova dimensão está contribuindo na explicação do dado (aumento da variância ou diminuição do erro). Em determinado momento, as novas dimensões contribuem tão pouco que podemos dispensá-las. Essa técnica é chamada de \"cotovelo\" ou \"joelho\", pois no ponto em que as dimensões passam a contribuir bem menos do que vinham contribuindo antes, a curva forma um joelho."
      ]
    },
    {
      "cell_type": "code",
      "metadata": {
        "id": "i-2vhX1_qsOg",
        "colab_type": "code",
        "outputId": "54564af0-4bc9-449d-a78f-e0e19fb73719",
        "colab": {}
      },
      "source": [
        "# Resultado do PCA\n",
        "summary(pca)"
      ],
      "execution_count": 0,
      "outputs": [
        {
          "output_type": "error",
          "ename": "ERROR",
          "evalue": "Error in summary(pca): objeto 'pca' não encontrado\n",
          "traceback": [
            "Error in summary(pca): objeto 'pca' não encontrado\nTraceback:\n",
            "1. summary(pca)"
          ]
        }
      ]
    },
    {
      "cell_type": "code",
      "metadata": {
        "id": "h_ZklTzmqsOz",
        "colab_type": "code",
        "outputId": "2914ea22-5ff8-47cd-98de-aa0235085d77",
        "colab": {}
      },
      "source": [
        "options(repr.plot.width=8, repr.plot.height=4)\n",
        "\n",
        "variancia_explicada <- cumsum(pca$sdev^2 / sum(pca$sdev^2))\n",
        "shifted <- c(0, variancia_explicada)\n",
        "diff <- c(variancia_explicada, 1) - shifted\n",
        "var_df <- data.frame(x=1:nrow(matrix(variancia_explicada)), \n",
        "                     y=variancia_explicada, \n",
        "                     y2=pca$sdev^2,\n",
        "                     diff=matrix(diff)[-nrow(matrix(diff))])\n",
        "\n",
        "# png(filename=\"variancia_cumulativa.png\", width = 600, height = 300, res=72)\n",
        "ggplot(data = var_df, aes(x,y, color=diff, size=diff)) + \n",
        "  geom_point() + xlab(\"Numero de componentes\") + ylab(\"Variância cumulativa\") +\n",
        "  theme(axis.title=element_text(size=18), axis.text=element_text(size=16),\n",
        "       legend.text=element_text(size=16)) + coord_trans(y = \"log10\")\n",
        "# dev.off()\n",
        "\n",
        "# png(filename=\"variancia_cumulativa.png\", width = 600, height = 300, res=72)\n",
        "ggplot(data = var_df, aes(x,y, color=diff, size=diff)) + \n",
        "  geom_point() + xlab(\"Numero de componentes\") + ylab(\"Variância cumulativa\") +\n",
        "  theme(axis.title=element_text(size=18), axis.text=element_text(size=16),\n",
        "       legend.text=element_text(size=16))\n",
        "# dev.off()\n",
        "\n",
        "# png(filename=\"variancia_individual.png\")\n",
        "ggplot(data = var_df, aes(x,y2, fill=diff)) + \n",
        "  geom_bar(stat=\"identity\") + xlab(\"Número de componentes\") + ylab(\"Variância de cada componentes principal\")\n",
        "# dev.off()"
      ],
      "execution_count": 0,
      "outputs": [
        {
          "output_type": "display_data",
          "data": {
            "image/png": "[encoded data removed]",
            "text/plain": [
              "plot without title"
            ]
          },
          "metadata": {
            "tags": []
          }
        },
        {
          "output_type": "display_data",
          "data": {
            "image/png": "[encoded data removed]",
            "text/plain": [
              "plot without title"
            ]
          },
          "metadata": {
            "tags": []
          }
        },
        {
          "output_type": "display_data",
          "data": {
            "image/png": "[encoded data removed]",
            "text/plain": [
              "plot without title"
            ]
          },
          "metadata": {
            "tags": []
          }
        }
      ]
    }
  ]
}