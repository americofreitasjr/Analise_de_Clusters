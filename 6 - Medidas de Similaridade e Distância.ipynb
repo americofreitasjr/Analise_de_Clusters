{
  "nbformat": 4,
  "nbformat_minor": 0,
  "metadata": {
    "colab": {
      "name": "6 - Medidas de Similaridade e Distância.ipynb",
      "version": "0.3.2",
      "provenance": [],
      "include_colab_link": true
    },
    "language_info": {
      "codemirror_mode": "r",
      "file_extension": ".r",
      "mimetype": "text/x-r-source",
      "name": "R",
      "pygments_lexer": "r",
      "version": "3.5.1"
    },
    "kernelspec": {
      "display_name": "R",
      "language": "R",
      "name": "ir"
    }
  },
  "cells": [
    {
      "cell_type": "markdown",
      "metadata": {
        "id": "view-in-github",
        "colab_type": "text"
      },
      "source": [
        "<a href=\"https://colab.research.google.com/github/lauramoraes/Analise_de_Clusters/blob/master/6%20-%20Medidas%20de%20Similaridade%20e%20Dist%C3%A2ncia.ipynb\" target=\"_parent\"><img src=\"https://colab.research.google.com/assets/colab-badge.svg\" alt=\"Open In Colab\"/></a>"
      ]
    },
    {
      "cell_type": "markdown",
      "metadata": {
        "id": "2ax1wW1bqsNP",
        "colab_type": "text"
      },
      "source": [
        "# Similaridade e distância\n",
        "\n",
        "Utilizamos medidas de similaridade (ou distância) para quantificar o quanto dois objetos se parecem. Essa informação é útil em diversas aplicações, como:\n",
        "\n",
        "1. Sistemas de recomendação\n",
        "2. Agrupamentos\n",
        "3. Classificação e regressão\n",
        "4. Detecção de anomalias/outliers\n",
        "5. Descoberta de casos parecidos (diagnóstico médico, precedentes legais)\n"
      ]
    },
    {
      "cell_type": "markdown",
      "metadata": {
        "id": "WBU1VCsAqsNU",
        "colab_type": "text"
      },
      "source": [
        "### Importando bibliotecas a serem usadas"
      ]
    },
    {
      "cell_type": "code",
      "metadata": {
        "id": "X66BM1SWgf0N",
        "colab_type": "code",
        "colab": {
          "base_uri": "https://localhost:8080/",
          "height": 90
        },
        "outputId": "896ac1f0-4057-4e85-80a3-fb6f23fd6352"
      },
      "source": [
        "install.packages(\"proxy\")\n",
        "install.packages(\"gdata\")"
      ],
      "execution_count": 21,
      "outputs": [
        {
          "output_type": "stream",
          "text": [
            "Installing package into ‘/usr/local/lib/R/site-library’\n",
            "(as ‘lib’ is unspecified)\n",
            "Installing package into ‘/usr/local/lib/R/site-library’\n",
            "(as ‘lib’ is unspecified)\n"
          ],
          "name": "stderr"
        }
      ]
    },
    {
      "cell_type": "code",
      "metadata": {
        "id": "Er2PmKaBqsNX",
        "colab_type": "code",
        "colab": {}
      },
      "source": [
        "suppressMessages(suppressWarnings(library(tidyverse)))\n",
        "suppressMessages(suppressWarnings(library(proxy)))\n",
        "suppressMessages(suppressWarnings(library(gdata)))"
      ],
      "execution_count": 0,
      "outputs": []
    },
    {
      "cell_type": "code",
      "metadata": {
        "id": "fEzjBnBTqsNk",
        "colab_type": "code",
        "colab": {}
      },
      "source": [
        "# Multiple plot function\n",
        "#\n",
        "# ggplot objects can be passed in ..., or to plotlist (as a list of ggplot objects)\n",
        "# - cols:   Number of columns in layout\n",
        "# - layout: A matrix specifying the layout. If present, 'cols' is ignored.\n",
        "#\n",
        "# If the layout is something like matrix(c(1,2,3,3), nrow=2, byrow=TRUE),\n",
        "# then plot 1 will go in the upper left, 2 will go in the upper right, and\n",
        "# 3 will go all the way across the bottom.\n",
        "#\n",
        "multiplot <- function(..., plotlist=NULL, file, cols=1, layout=NULL) {\n",
        "  library(grid)\n",
        "\n",
        "  # Make a list from the ... arguments and plotlist\n",
        "  plots <- c(list(...), plotlist)\n",
        "\n",
        "  numPlots = length(plots)\n",
        "\n",
        "  # If layout is NULL, then use 'cols' to determine layout\n",
        "  if (is.null(layout)) {\n",
        "    # Make the panel\n",
        "    # ncol: Number of columns of plots\n",
        "    # nrow: Number of rows needed, calculated from # of cols\n",
        "    layout <- matrix(seq(1, cols * ceiling(numPlots/cols)),\n",
        "                    ncol = cols, nrow = ceiling(numPlots/cols))\n",
        "  }\n",
        "\n",
        " if (numPlots==1) {\n",
        "    print(plots[[1]])\n",
        "\n",
        "  } else {\n",
        "    # Set up the page\n",
        "    grid.newpage()\n",
        "    pushViewport(viewport(layout = grid.layout(nrow(layout), ncol(layout))))\n",
        "\n",
        "    # Make each plot, in the correct location\n",
        "    for (i in 1:numPlots) {\n",
        "      # Get the i,j matrix positions of the regions that contain this subplot\n",
        "      matchidx <- as.data.frame(which(layout == i, arr.ind = TRUE))\n",
        "\n",
        "      print(plots[[i]], vp = viewport(layout.pos.row = matchidx$row,\n",
        "                                      layout.pos.col = matchidx$col))\n",
        "    }\n",
        "  }\n",
        "}"
      ],
      "execution_count": 0,
      "outputs": []
    },
    {
      "cell_type": "markdown",
      "metadata": {
        "id": "sYQHf2c3g9C6",
        "colab_type": "text"
      },
      "source": [
        "# Whisky Analytics\n",
        "\n",
        "Foram criadas caraterísticas numéricas que resumem as informações das notas de degustação. Foram definidos cinco atributos gerais de uísquem cada um com muitos valores:\n",
        "\n",
        "<img src=\"https://drive.google.com/uc?export=view&id=1mN_UmQeD43_8WfA9hiIRANXLnzAcgKIM\">\n",
        "\n",
        "É importante notar que essas categorias de valores **não** são mutuamente exclusivas por exemplo, o paladar de Aberlour é descrito como médio, íntegro, suave, completo e macio). Em geral, qualquer um dos valores pode ocorrer ao mesmo tempo (embora alguns deles, como a cor ser clara e esfumaçada nunca acontece), mas como podem coocorrer, cada valor de cada variável foi codificado como uma característica separada."
      ]
    },
    {
      "cell_type": "markdown",
      "metadata": {
        "id": "aU3O09tQqsNt",
        "colab_type": "text"
      },
      "source": [
        "### Carregando os dados salvos anteriormente"
      ]
    },
    {
      "cell_type": "code",
      "metadata": {
        "id": "z7eXqEyrqsNw",
        "colab_type": "code",
        "outputId": "7b0055ce-025a-4ee2-eca6-4c671aec0826",
        "colab": {
          "base_uri": "https://localhost:8080/",
          "height": 118
        }
      },
      "source": [
        "list.files()"
      ],
      "execution_count": 8,
      "outputs": [
        {
          "output_type": "display_data",
          "data": {
            "text/plain": [
              "[1] \"data_cleaned.Rdata\" \"data_names.Rdata\"   \"data_onehot.Rdata\" \n",
              "[4] \"sample_data\"       "
            ],
            "text/latex": "\\begin{enumerate*}\n\\item 'data\\_cleaned.Rdata'\n\\item 'data\\_names.Rdata'\n\\item 'data\\_onehot.Rdata'\n\\item 'sample\\_data'\n\\end{enumerate*}\n",
            "text/markdown": "1. 'data_cleaned.Rdata'\n2. 'data_names.Rdata'\n3. 'data_onehot.Rdata'\n4. 'sample_data'\n\n\n",
            "text/html": [
              "<ol class=list-inline>\n",
              "\t<li>'data_cleaned.Rdata'</li>\n",
              "\t<li>'data_names.Rdata'</li>\n",
              "\t<li>'data_onehot.Rdata'</li>\n",
              "\t<li>'sample_data'</li>\n",
              "</ol>\n"
            ]
          },
          "metadata": {
            "tags": []
          }
        }
      ]
    },
    {
      "cell_type": "code",
      "metadata": {
        "id": "_93wCJQ1qsN6",
        "colab_type": "code",
        "outputId": "dfa2b6c2-edac-4a8e-ef40-c40f3e249665",
        "colab": {
          "base_uri": "https://localhost:8080/",
          "height": 259
        }
      },
      "source": [
        "vars = load(\"data_names.Rdata\")\n",
        "vars\n",
        "vars = load(\"data_cleaned.Rdata\")\n",
        "vars\n",
        "vars = load(\"data_onehot.Rdata\")\n",
        "vars\n",
        "head(data_cleaned)"
      ],
      "execution_count": 61,
      "outputs": [
        {
          "output_type": "display_data",
          "data": {
            "text/plain": [
              "[1] \"data_names\""
            ],
            "text/latex": "'data\\_names'",
            "text/markdown": "'data_names'",
            "text/html": [
              "'data_names'"
            ]
          },
          "metadata": {
            "tags": []
          }
        },
        {
          "output_type": "display_data",
          "data": {
            "text/plain": [
              "[1] \"data_cleaned\""
            ],
            "text/latex": "'data\\_cleaned'",
            "text/markdown": "'data_cleaned'",
            "text/html": [
              "'data_cleaned'"
            ]
          },
          "metadata": {
            "tags": []
          }
        },
        {
          "output_type": "display_data",
          "data": {
            "text/plain": [
              "[1] \"data_onehot\""
            ],
            "text/latex": "'data\\_onehot'",
            "text/markdown": "'data_onehot'",
            "text/html": [
              "'data_onehot'"
            ]
          },
          "metadata": {
            "tags": []
          }
        },
        {
          "output_type": "display_data",
          "data": {
            "text/plain": [
              "  wyne yellow v.pale pale p.gold gold o.gold f.gold bronze p.amber ⋯ DISTRICT\n",
              "1 0    1      0      0    0      0    0      0      0      0       ⋯ MIDLAND \n",
              "2 0    0      0      0    0      0    0      0      0      0       ⋯ SPEY    \n",
              "3 0    0      0      0    0      0    0      0      0      0       ⋯ SOUTH   \n",
              "4 0    0      0      0    1      0    0      0      0      0       ⋯ SPEY    \n",
              "5 0    0      0      0    1      0    0      0      0      0       ⋯ WEST    \n",
              "6 0    0      1      0    0      0    0      0      0      0       ⋯ SPEY    \n",
              "  islay midland spey east west north lowland campbell islands\n",
              "1 0     1       0    0    0    0     0       0        0      \n",
              "2 0     0       1    0    0    0     0       0        0      \n",
              "3 1     0       0    0    0    0     0       0        0      \n",
              "4 0     0       1    0    0    0     0       0        0      \n",
              "5 0     0       0    0    0    0     1       0        0      \n",
              "6 0     0       1    0    0    0     0       0        0      "
            ],
            "text/latex": "A data.frame: 6 × 82\n\\begin{tabular}{r|llllllllllllllllllllllllllllllllllllllllllllllllllllllllllllllllllllllllllllllllll}\n wyne & yellow & v.pale & pale & p.gold & gold & o.gold & f.gold & bronze & p.amber & amber & f.amber & red & sherry & AROMA & PEAT & SWEET & LIGHT & FRESH & DRY & FRUIT & GRASS & SEA & SHERRY & SPICY & RICH & soft & med & full & round & smooth & light & firm & oily & full.1 & dry & sherry.1 & big & light.1 & smooth.1 & clean & fruit & grass & smoke & sweet & spice & oil & salt & arome & full.2 & dry.1 & warm & big.1 & light.2 & smooth.2 & clean.1 & fruit.1 & grass.1 & smoke.1 & sweet.1 & spice.1 & oil.1 & salt.1 & arome.1 & ling & long & very & quick & AGE & DIST & SCORE & REGION & DISTRICT & islay & midland & spey & east & west & north & lowland & campbell & islands\\\\\n <int> & <int> & <int> & <int> & <int> & <int> & <int> & <int> & <int> & <int> & <int> & <int> & <int> & <int> & <int> & <int> & <int> & <int> & <int> & <int> & <int> & <int> & <int> & <int> & <int> & <int> & <int> & <int> & <int> & <int> & <int> & <int> & <int> & <int> & <int> & <int> & <int> & <int> & <int> & <int> & <int> & <int> & <int> & <int> & <int> & <int> & <int> & <int> & <int> & <int> & <int> & <int> & <int> & <int> & <int> & <int> & <int> & <int> & <int> & <int> & <int> & <int> & <int> & <int> & <int> & <int> & <int> & <int> & <int> & <int> & <int> & <fct> & <fct> & <int> & <int> & <int> & <int> & <int> & <int> & <int> & <int> & <int>\\\\\n\\hline\n\t 0 & 1 & 0 & 0 & 0 & 0 & 0 & 0 & 0 & 0 & 0 & 0 & 0 & 0 & 1 & 1 & 0 & 0 & 0 & 0 & 1 & 0 & 0 & 0 & 0 & 0 & 1 & 1 & 0 & 0 & 0 & 0 & 0 & 0 & 0 & 0 & 1 & 0 & 0 & 0 & 0 & 0 & 0 & 0 & 0 & 0 & 1 & 0 & 0 & 1 & 1 & 0 & 0 & 0 & 0 & 0 & 1 & 0 & 0 & 0 & 1 & 0 & 0 & 0 & 0 & 0 & 0 & 0 & -9 & 2 & 69 & HIGH  & MIDLAND & 0 & 1 & 0 & 0 & 0 & 0 & 0 & 0 & 0\\\\\n\t 0 & 0 & 0 & 0 & 0 & 0 & 0 & 0 & 0 & 0 & 0 & 0 & 1 & 0 & 0 & 0 & 1 & 0 & 0 & 0 & 0 & 0 & 0 & 0 & 0 & 1 & 1 & 1 & 1 & 1 & 1 & 0 & 0 & 0 & 1 & 0 & 1 & 0 & 0 & 0 & 0 & 1 & 0 & 0 & 1 & 1 & 0 & 0 & 0 & 0 & 0 & 0 & 0 & 0 & 0 & 1 & 0 & 0 & 0 & 0 & 0 & 0 & 0 & 0 & 1 & 0 & 0 & 0 & 12 & 4 & 83 & HIGH  & SPEY    & 0 & 0 & 1 & 0 & 0 & 0 & 0 & 0 & 0\\\\\n\t 0 & 0 & 0 & 0 & 0 & 0 & 0 & 0 & 0 & 0 & 0 & 0 & 0 & 1 & 0 & 1 & 0 & 0 & 0 & 1 & 0 & 0 & 1 & 0 & 0 & 0 & 0 & 1 & 1 & 0 & 0 & 1 & 1 & 0 & 0 & 0 & 0 & 0 & 0 & 0 & 0 & 0 & 0 & 0 & 1 & 0 & 0 & 0 & 0 & 0 & 0 & 0 & 0 & 0 & 0 & 0 & 0 & 0 & 0 & 0 & 0 & 0 & 1 & 0 & 0 & 0 & 0 & 0 & 10 & 4 & 85 & ISLAY & SOUTH   & 1 & 0 & 0 & 0 & 0 & 0 & 0 & 0 & 0\\\\\n\t 0 & 0 & 0 & 0 & 1 & 0 & 0 & 0 & 0 & 0 & 0 & 0 & 0 & 0 & 0 & 0 & 1 & 0 & 0 & 0 & 0 & 1 & 0 & 1 & 0 & 0 & 0 & 0 & 1 & 0 & 0 & 0 & 0 & 0 & 0 & 0 & 0 & 1 & 0 & 0 & 0 & 0 & 1 & 0 & 1 & 0 & 0 & 0 & 0 & 0 & 0 & 0 & 1 & 0 & 0 & 0 & 0 & 0 & 0 & 0 & 0 & 0 & 0 & 0 & 0 & 0 & 0 & 0 & 18 & 2 & 66 & HIGH  & SPEY    & 0 & 0 & 1 & 0 & 0 & 0 & 0 & 0 & 0\\\\\n\t 0 & 0 & 0 & 0 & 1 & 0 & 0 & 0 & 0 & 0 & 0 & 0 & 0 & 0 & 0 & 0 & 0 & 0 & 1 & 0 & 1 & 1 & 0 & 0 & 0 & 0 & 1 & 0 & 0 & 0 & 0 & 0 & 0 & 0 & 0 & 0 & 0 & 0 & 1 & 0 & 0 & 1 & 1 & 0 & 1 & 0 & 0 & 0 & 0 & 0 & 0 & 0 & 0 & 0 & 0 & 0 & 0 & 0 & 0 & 0 & 1 & 0 & 0 & 0 & 0 & 0 & 0 & 0 & 10 & 5 & 85 & LOW   & WEST    & 0 & 0 & 0 & 0 & 0 & 0 & 1 & 0 & 0\\\\\n\t 0 & 0 & 1 & 0 & 0 & 0 & 0 & 0 & 0 & 0 & 0 & 0 & 0 & 0 & 1 & 0 & 0 & 0 & 1 & 0 & 0 & 0 & 0 & 0 & 0 & 0 & 0 & 0 & 0 & 0 & 0 & 0 & 1 & 0 & 0 & 0 & 0 & 0 & 1 & 0 & 0 & 1 & 0 & 0 & 0 & 1 & 0 & 0 & 0 & 0 & 1 & 0 & 0 & 0 & 0 & 0 & 0 & 0 & 0 & 0 & 0 & 0 & 0 & 0 & 0 & 0 & 0 & 0 & 12 & 3 & 75 & HIGH  & SPEY    & 0 & 0 & 1 & 0 & 0 & 0 & 0 & 0 & 0\\\\\n\\end{tabular}\n",
            "text/markdown": "\nA data.frame: 6 × 82\n\n| wyne &lt;int&gt; | yellow &lt;int&gt; | v.pale &lt;int&gt; | pale &lt;int&gt; | p.gold &lt;int&gt; | gold &lt;int&gt; | o.gold &lt;int&gt; | f.gold &lt;int&gt; | bronze &lt;int&gt; | p.amber &lt;int&gt; | ⋯ ⋯ | DISTRICT &lt;fct&gt; | islay &lt;int&gt; | midland &lt;int&gt; | spey &lt;int&gt; | east &lt;int&gt; | west &lt;int&gt; | north &lt;int&gt; | lowland &lt;int&gt; | campbell &lt;int&gt; | islands &lt;int&gt; |\n|---|---|---|---|---|---|---|---|---|---|---|---|---|---|---|---|---|---|---|---|---|\n| 0 | 1 | 0 | 0 | 0 | 0 | 0 | 0 | 0 | 0 | ⋯ | MIDLAND | 0 | 1 | 0 | 0 | 0 | 0 | 0 | 0 | 0 |\n| 0 | 0 | 0 | 0 | 0 | 0 | 0 | 0 | 0 | 0 | ⋯ | SPEY    | 0 | 0 | 1 | 0 | 0 | 0 | 0 | 0 | 0 |\n| 0 | 0 | 0 | 0 | 0 | 0 | 0 | 0 | 0 | 0 | ⋯ | SOUTH   | 1 | 0 | 0 | 0 | 0 | 0 | 0 | 0 | 0 |\n| 0 | 0 | 0 | 0 | 1 | 0 | 0 | 0 | 0 | 0 | ⋯ | SPEY    | 0 | 0 | 1 | 0 | 0 | 0 | 0 | 0 | 0 |\n| 0 | 0 | 0 | 0 | 1 | 0 | 0 | 0 | 0 | 0 | ⋯ | WEST    | 0 | 0 | 0 | 0 | 0 | 0 | 1 | 0 | 0 |\n| 0 | 0 | 1 | 0 | 0 | 0 | 0 | 0 | 0 | 0 | ⋯ | SPEY    | 0 | 0 | 1 | 0 | 0 | 0 | 0 | 0 | 0 |\n\n",
            "text/html": [
              "<table>\n",
              "<caption>A data.frame: 6 × 82</caption>\n",
              "<thead>\n",
              "\t<tr><th scope=col>wyne</th><th scope=col>yellow</th><th scope=col>v.pale</th><th scope=col>pale</th><th scope=col>p.gold</th><th scope=col>gold</th><th scope=col>o.gold</th><th scope=col>f.gold</th><th scope=col>bronze</th><th scope=col>p.amber</th><th scope=col>⋯</th><th scope=col>DISTRICT</th><th scope=col>islay</th><th scope=col>midland</th><th scope=col>spey</th><th scope=col>east</th><th scope=col>west</th><th scope=col>north</th><th scope=col>lowland</th><th scope=col>campbell</th><th scope=col>islands</th></tr>\n",
              "\t<tr><th scope=col>&lt;int&gt;</th><th scope=col>&lt;int&gt;</th><th scope=col>&lt;int&gt;</th><th scope=col>&lt;int&gt;</th><th scope=col>&lt;int&gt;</th><th scope=col>&lt;int&gt;</th><th scope=col>&lt;int&gt;</th><th scope=col>&lt;int&gt;</th><th scope=col>&lt;int&gt;</th><th scope=col>&lt;int&gt;</th><th scope=col>⋯</th><th scope=col>&lt;fct&gt;</th><th scope=col>&lt;int&gt;</th><th scope=col>&lt;int&gt;</th><th scope=col>&lt;int&gt;</th><th scope=col>&lt;int&gt;</th><th scope=col>&lt;int&gt;</th><th scope=col>&lt;int&gt;</th><th scope=col>&lt;int&gt;</th><th scope=col>&lt;int&gt;</th><th scope=col>&lt;int&gt;</th></tr>\n",
              "</thead>\n",
              "<tbody>\n",
              "\t<tr><td>0</td><td>1</td><td>0</td><td>0</td><td>0</td><td>0</td><td>0</td><td>0</td><td>0</td><td>0</td><td>⋯</td><td>MIDLAND</td><td>0</td><td>1</td><td>0</td><td>0</td><td>0</td><td>0</td><td>0</td><td>0</td><td>0</td></tr>\n",
              "\t<tr><td>0</td><td>0</td><td>0</td><td>0</td><td>0</td><td>0</td><td>0</td><td>0</td><td>0</td><td>0</td><td>⋯</td><td>SPEY   </td><td>0</td><td>0</td><td>1</td><td>0</td><td>0</td><td>0</td><td>0</td><td>0</td><td>0</td></tr>\n",
              "\t<tr><td>0</td><td>0</td><td>0</td><td>0</td><td>0</td><td>0</td><td>0</td><td>0</td><td>0</td><td>0</td><td>⋯</td><td>SOUTH  </td><td>1</td><td>0</td><td>0</td><td>0</td><td>0</td><td>0</td><td>0</td><td>0</td><td>0</td></tr>\n",
              "\t<tr><td>0</td><td>0</td><td>0</td><td>0</td><td>1</td><td>0</td><td>0</td><td>0</td><td>0</td><td>0</td><td>⋯</td><td>SPEY   </td><td>0</td><td>0</td><td>1</td><td>0</td><td>0</td><td>0</td><td>0</td><td>0</td><td>0</td></tr>\n",
              "\t<tr><td>0</td><td>0</td><td>0</td><td>0</td><td>1</td><td>0</td><td>0</td><td>0</td><td>0</td><td>0</td><td>⋯</td><td>WEST   </td><td>0</td><td>0</td><td>0</td><td>0</td><td>0</td><td>0</td><td>1</td><td>0</td><td>0</td></tr>\n",
              "\t<tr><td>0</td><td>0</td><td>1</td><td>0</td><td>0</td><td>0</td><td>0</td><td>0</td><td>0</td><td>0</td><td>⋯</td><td>SPEY   </td><td>0</td><td>0</td><td>1</td><td>0</td><td>0</td><td>0</td><td>0</td><td>0</td><td>0</td></tr>\n",
              "</tbody>\n",
              "</table>\n"
            ]
          },
          "metadata": {
            "tags": []
          }
        }
      ]
    },
    {
      "cell_type": "code",
      "metadata": {
        "id": "XN8j0ml1obmP",
        "colab_type": "code",
        "colab": {
          "base_uri": "https://localhost:8080/",
          "height": 1382
        },
        "outputId": "29ea4abd-4e0d-4de3-a31e-b31ecd017eb0"
      },
      "source": [
        "data_names"
      ],
      "execution_count": 62,
      "outputs": [
        {
          "output_type": "display_data",
          "data": {
            "text/plain": [
              "    NAME              \n",
              "1   Aberfeldy         \n",
              "2   Aberlour          \n",
              "3   Ardberg           \n",
              "4   Ardmore           \n",
              "5   Auchentoshan      \n",
              "6   Aultmore          \n",
              "7   Balblair          \n",
              "8   Balmenach         \n",
              "9   Balvenie          \n",
              "10  Banff             \n",
              "11  Ben Nevis         \n",
              "12  Benriach          \n",
              "13  Benrinnes         \n",
              "14  Benromach         \n",
              "15  Bladnoch          \n",
              "16  Blair Athol       \n",
              "17  Bowmore           \n",
              "18  Brackla           \n",
              "19  Bruichladdich     \n",
              "20  Bunnahabhain      \n",
              "21  Caol Ila          \n",
              "22  Caperdonich       \n",
              "23  Cardhu            \n",
              "24  Clynelish         \n",
              "25  Coleburn          \n",
              "26  Convalmore        \n",
              "27  Cragganmore       \n",
              "28  Craigellachie     \n",
              "29  Dailuaine         \n",
              "30  Dallas Dhu        \n",
              "⋮   ⋮                 \n",
              "80  Linkwood          \n",
              "81  Littlemill        \n",
              "82  Lochnagar         \n",
              "83  Lochside          \n",
              "84  Longmorn          \n",
              "85  Macallan          \n",
              "86  Millburn          \n",
              "87  Miltonduff        \n",
              "88  Mortlach          \n",
              "89  North Port        \n",
              "90  Oban              \n",
              "91  Port Ellen        \n",
              "92  Pulteney          \n",
              "93  Rosebank          \n",
              "94  Saint Magdalene   \n",
              "95  Scapa             \n",
              "96  Singleton         \n",
              "97  Speyburn          \n",
              "98  Springbank        \n",
              "99  Springbank-Longrow\n",
              "100 Strathisla        \n",
              "101 Talisker          \n",
              "102 Tamdhu            \n",
              "103 Tamnavulin        \n",
              "104 Teaninich         \n",
              "105 Tobermory         \n",
              "106 Tomatin           \n",
              "107 Tomintoul         \n",
              "108 Tormore           \n",
              "109 Tullibardine      "
            ],
            "text/latex": "A data.frame: 109 × 1\n\\begin{tabular}{r|l}\n NAME\\\\\n <fct>\\\\\n\\hline\n\t Aberfeldy    \\\\\n\t Aberlour     \\\\\n\t Ardberg      \\\\\n\t Ardmore      \\\\\n\t Auchentoshan \\\\\n\t Aultmore     \\\\\n\t Balblair     \\\\\n\t Balmenach    \\\\\n\t Balvenie     \\\\\n\t Banff        \\\\\n\t Ben Nevis    \\\\\n\t Benriach     \\\\\n\t Benrinnes    \\\\\n\t Benromach    \\\\\n\t Bladnoch     \\\\\n\t Blair Athol  \\\\\n\t Bowmore      \\\\\n\t Brackla      \\\\\n\t Bruichladdich\\\\\n\t Bunnahabhain \\\\\n\t Caol Ila     \\\\\n\t Caperdonich  \\\\\n\t Cardhu       \\\\\n\t Clynelish    \\\\\n\t Coleburn     \\\\\n\t Convalmore   \\\\\n\t Cragganmore  \\\\\n\t Craigellachie\\\\\n\t Dailuaine    \\\\\n\t Dallas Dhu   \\\\\n\t ⋮\\\\\n\t Linkwood          \\\\\n\t Littlemill        \\\\\n\t Lochnagar         \\\\\n\t Lochside          \\\\\n\t Longmorn          \\\\\n\t Macallan          \\\\\n\t Millburn          \\\\\n\t Miltonduff        \\\\\n\t Mortlach          \\\\\n\t North Port        \\\\\n\t Oban              \\\\\n\t Port Ellen        \\\\\n\t Pulteney          \\\\\n\t Rosebank          \\\\\n\t Saint Magdalene   \\\\\n\t Scapa             \\\\\n\t Singleton         \\\\\n\t Speyburn          \\\\\n\t Springbank        \\\\\n\t Springbank-Longrow\\\\\n\t Strathisla        \\\\\n\t Talisker          \\\\\n\t Tamdhu            \\\\\n\t Tamnavulin        \\\\\n\t Teaninich         \\\\\n\t Tobermory         \\\\\n\t Tomatin           \\\\\n\t Tomintoul         \\\\\n\t Tormore           \\\\\n\t Tullibardine      \\\\\n\\end{tabular}\n",
            "text/markdown": "\nA data.frame: 109 × 1\n\n| NAME &lt;fct&gt; |\n|---|\n| Aberfeldy     |\n| Aberlour      |\n| Ardberg       |\n| Ardmore       |\n| Auchentoshan  |\n| Aultmore      |\n| Balblair      |\n| Balmenach     |\n| Balvenie      |\n| Banff         |\n| Ben Nevis     |\n| Benriach      |\n| Benrinnes     |\n| Benromach     |\n| Bladnoch      |\n| Blair Athol   |\n| Bowmore       |\n| Brackla       |\n| Bruichladdich |\n| Bunnahabhain  |\n| Caol Ila      |\n| Caperdonich   |\n| Cardhu        |\n| Clynelish     |\n| Coleburn      |\n| Convalmore    |\n| Cragganmore   |\n| Craigellachie |\n| Dailuaine     |\n| Dallas Dhu    |\n| ⋮ |\n| Linkwood           |\n| Littlemill         |\n| Lochnagar          |\n| Lochside           |\n| Longmorn           |\n| Macallan           |\n| Millburn           |\n| Miltonduff         |\n| Mortlach           |\n| North Port         |\n| Oban               |\n| Port Ellen         |\n| Pulteney           |\n| Rosebank           |\n| Saint Magdalene    |\n| Scapa              |\n| Singleton          |\n| Speyburn           |\n| Springbank         |\n| Springbank-Longrow |\n| Strathisla         |\n| Talisker           |\n| Tamdhu             |\n| Tamnavulin         |\n| Teaninich          |\n| Tobermory          |\n| Tomatin            |\n| Tomintoul          |\n| Tormore            |\n| Tullibardine       |\n\n",
            "text/html": [
              "<table>\n",
              "<caption>A data.frame: 109 × 1</caption>\n",
              "<thead>\n",
              "\t<tr><th scope=col>NAME</th></tr>\n",
              "\t<tr><th scope=col>&lt;fct&gt;</th></tr>\n",
              "</thead>\n",
              "<tbody>\n",
              "\t<tr><td>Aberfeldy    </td></tr>\n",
              "\t<tr><td>Aberlour     </td></tr>\n",
              "\t<tr><td>Ardberg      </td></tr>\n",
              "\t<tr><td>Ardmore      </td></tr>\n",
              "\t<tr><td>Auchentoshan </td></tr>\n",
              "\t<tr><td>Aultmore     </td></tr>\n",
              "\t<tr><td>Balblair     </td></tr>\n",
              "\t<tr><td>Balmenach    </td></tr>\n",
              "\t<tr><td>Balvenie     </td></tr>\n",
              "\t<tr><td>Banff        </td></tr>\n",
              "\t<tr><td>Ben Nevis    </td></tr>\n",
              "\t<tr><td>Benriach     </td></tr>\n",
              "\t<tr><td>Benrinnes    </td></tr>\n",
              "\t<tr><td>Benromach    </td></tr>\n",
              "\t<tr><td>Bladnoch     </td></tr>\n",
              "\t<tr><td>Blair Athol  </td></tr>\n",
              "\t<tr><td>Bowmore      </td></tr>\n",
              "\t<tr><td>Brackla      </td></tr>\n",
              "\t<tr><td>Bruichladdich</td></tr>\n",
              "\t<tr><td>Bunnahabhain </td></tr>\n",
              "\t<tr><td>Caol Ila     </td></tr>\n",
              "\t<tr><td>Caperdonich  </td></tr>\n",
              "\t<tr><td>Cardhu       </td></tr>\n",
              "\t<tr><td>Clynelish    </td></tr>\n",
              "\t<tr><td>Coleburn     </td></tr>\n",
              "\t<tr><td>Convalmore   </td></tr>\n",
              "\t<tr><td>Cragganmore  </td></tr>\n",
              "\t<tr><td>Craigellachie</td></tr>\n",
              "\t<tr><td>Dailuaine    </td></tr>\n",
              "\t<tr><td>Dallas Dhu   </td></tr>\n",
              "\t<tr><td>⋮</td></tr>\n",
              "\t<tr><td>Linkwood          </td></tr>\n",
              "\t<tr><td>Littlemill        </td></tr>\n",
              "\t<tr><td>Lochnagar         </td></tr>\n",
              "\t<tr><td>Lochside          </td></tr>\n",
              "\t<tr><td>Longmorn          </td></tr>\n",
              "\t<tr><td>Macallan          </td></tr>\n",
              "\t<tr><td>Millburn          </td></tr>\n",
              "\t<tr><td>Miltonduff        </td></tr>\n",
              "\t<tr><td>Mortlach          </td></tr>\n",
              "\t<tr><td>North Port        </td></tr>\n",
              "\t<tr><td>Oban              </td></tr>\n",
              "\t<tr><td>Port Ellen        </td></tr>\n",
              "\t<tr><td>Pulteney          </td></tr>\n",
              "\t<tr><td>Rosebank          </td></tr>\n",
              "\t<tr><td>Saint Magdalene   </td></tr>\n",
              "\t<tr><td>Scapa             </td></tr>\n",
              "\t<tr><td>Singleton         </td></tr>\n",
              "\t<tr><td>Speyburn          </td></tr>\n",
              "\t<tr><td>Springbank        </td></tr>\n",
              "\t<tr><td>Springbank-Longrow</td></tr>\n",
              "\t<tr><td>Strathisla        </td></tr>\n",
              "\t<tr><td>Talisker          </td></tr>\n",
              "\t<tr><td>Tamdhu            </td></tr>\n",
              "\t<tr><td>Tamnavulin        </td></tr>\n",
              "\t<tr><td>Teaninich         </td></tr>\n",
              "\t<tr><td>Tobermory         </td></tr>\n",
              "\t<tr><td>Tomatin           </td></tr>\n",
              "\t<tr><td>Tomintoul         </td></tr>\n",
              "\t<tr><td>Tormore           </td></tr>\n",
              "\t<tr><td>Tullibardine      </td></tr>\n",
              "</tbody>\n",
              "</table>\n"
            ]
          },
          "metadata": {
            "tags": []
          }
        }
      ]
    },
    {
      "cell_type": "markdown",
      "metadata": {
        "id": "ayLEI-zIqsOC",
        "colab_type": "text"
      },
      "source": [
        "\n",
        "### Calculando distâncias"
      ]
    },
    {
      "cell_type": "code",
      "metadata": {
        "id": "GRfnJWp1qsOE",
        "colab_type": "code",
        "outputId": "6142c8ca-9f8a-4d25-819d-5ee93da09fab",
        "colab": {
          "base_uri": "https://localhost:8080/",
          "height": 207
        }
      },
      "source": [
        "# Adicionando coluna de nome\n",
        "rownames(data_cleaned) <- data_names$NAME\n",
        "\n",
        "# Selecionando alguns Whiskies\n",
        "names_list <- c(\"Bunnahabhain\", \"Glenglassaugh\", \"Tullibardine\", \"Ardberg\", \"Bruichladdich\", \"Glenmorangie\")\n",
        "data_selected <- data_cleaned[names_list,]\n",
        "\n",
        "# Selecionando algumas propriedades\n",
        "color <- c(\"gold\", \"pale\", \"sherry\", \"p.gold\")\n",
        "body <- c('soft','med', 'full', 'round', 'smooth', 'light', 'firm', 'oily')\n",
        "palate <- c('full.1', 'dry', 'sherry.1', 'big', 'light.1', 'smooth.1', 'clean', 'fruit', 'grass', 'smoke', 'sweet', 'spice', 'oil', 'salt', 'arome')\n",
        "nose <- c(\"AROMA\", 'PEAT', 'SWEET', 'LIGHT', 'FRESH', 'DRY', 'FRUIT', 'GRASS', 'SEA', 'SHERRY', 'SPICY', 'RICH')\n",
        "finish <- c('full.2', 'dry.1', 'warm', 'big.1', 'light.2', 'smooth.2', 'clean.1', 'fruit.1', 'grass.1', 'smoke.1', 'sweet.1', 'spice.1', 'oil.1', 'salt.1', 'arome.1', 'ling', 'long', 'very', 'quick')\n",
        "attributes <- c(color, body, palate, nose, finish)\n",
        "data_selected <- data_selected[,attributes]\n",
        "data_selected"
      ],
      "execution_count": 137,
      "outputs": [
        {
          "output_type": "display_data",
          "data": {
            "text/plain": [
              "              gold pale sherry p.gold soft med full round smooth light ⋯\n",
              "Bunnahabhain  1    0    0      0      0    1   0    0     0      1     ⋯\n",
              "Glenglassaugh 1    0    0      0      0    0   0    0     1      1     ⋯\n",
              "Tullibardine  1    0    0      0      0    1   0    0     1      0     ⋯\n",
              "Ardberg       0    0    1      0      0    1   1    0     0      1     ⋯\n",
              "Bruichladdich 0    1    0      0      0    0   0    0     1      1     ⋯\n",
              "Glenmorangie  0    0    0      1      0    1   0    0     0      1     ⋯\n",
              "              smoke.1 sweet.1 spice.1 oil.1 salt.1 arome.1 ling long very quick\n",
              "Bunnahabhain  0       0       0       0     0      0       0    0    0    0    \n",
              "Glenglassaugh 0       0       0       0     0      0       0    0    0    0    \n",
              "Tullibardine  0       1       0       0     0      1       0    0    0    0    \n",
              "Ardberg       0       0       0       0     1      0       0    0    0    0    \n",
              "Bruichladdich 0       0       0       0     0      0       0    0    0    0    \n",
              "Glenmorangie  0       0       0       0     0      0       0    1    0    0    "
            ],
            "text/latex": "A data.frame: 6 × 58\n\\begin{tabular}{r|llllllllllllllllllllllllllllllllllllllllllllllllllllllllll}\n  & gold & pale & sherry & p.gold & soft & med & full & round & smooth & light & firm & oily & full.1 & dry & sherry.1 & big & light.1 & smooth.1 & clean & fruit & grass & smoke & sweet & spice & oil & salt & arome & AROMA & PEAT & SWEET & LIGHT & FRESH & DRY & FRUIT & GRASS & SEA & SHERRY & SPICY & RICH & full.2 & dry.1 & warm & big.1 & light.2 & smooth.2 & clean.1 & fruit.1 & grass.1 & smoke.1 & sweet.1 & spice.1 & oil.1 & salt.1 & arome.1 & ling & long & very & quick\\\\\n  & <int> & <int> & <int> & <int> & <int> & <int> & <int> & <int> & <int> & <int> & <int> & <int> & <int> & <int> & <int> & <int> & <int> & <int> & <int> & <int> & <int> & <int> & <int> & <int> & <int> & <int> & <int> & <int> & <int> & <int> & <int> & <int> & <int> & <int> & <int> & <int> & <int> & <int> & <int> & <int> & <int> & <int> & <int> & <int> & <int> & <int> & <int> & <int> & <int> & <int> & <int> & <int> & <int> & <int> & <int> & <int> & <int> & <int>\\\\\n\\hline\n\tBunnahabhain & 1 & 0 & 0 & 0 & 0 & 1 & 0 & 0 & 0 & 1 & 1 & 0 & 0 & 0 & 0 & 0 & 0 & 0 & 1 & 1 & 0 & 0 & 1 & 0 & 0 & 0 & 0 & 0 & 0 & 0 & 0 & 1 & 0 & 0 & 0 & 1 & 0 & 0 & 0 & 1 & 0 & 0 & 0 & 0 & 0 & 0 & 0 & 0 & 0 & 0 & 0 & 0 & 0 & 0 & 0 & 0 & 0 & 0\\\\\n\tGlenglassaugh & 1 & 0 & 0 & 0 & 0 & 0 & 0 & 0 & 1 & 1 & 1 & 0 & 0 & 0 & 0 & 0 & 0 & 0 & 0 & 0 & 1 & 0 & 1 & 0 & 0 & 0 & 0 & 0 & 0 & 0 & 0 & 1 & 0 & 0 & 1 & 0 & 0 & 0 & 0 & 0 & 1 & 0 & 0 & 0 & 0 & 0 & 0 & 0 & 0 & 0 & 0 & 0 & 0 & 0 & 0 & 0 & 0 & 0\\\\\n\tTullibardine & 1 & 0 & 0 & 0 & 0 & 1 & 0 & 0 & 1 & 0 & 1 & 0 & 1 & 0 & 0 & 0 & 0 & 0 & 1 & 1 & 1 & 0 & 1 & 0 & 0 & 0 & 0 & 0 & 0 & 1 & 0 & 0 & 0 & 0 & 0 & 0 & 0 & 0 & 0 & 0 & 0 & 0 & 1 & 0 & 0 & 0 & 0 & 0 & 0 & 1 & 0 & 0 & 0 & 1 & 0 & 0 & 0 & 0\\\\\n\tArdberg & 0 & 0 & 1 & 0 & 0 & 1 & 1 & 0 & 0 & 1 & 1 & 0 & 0 & 0 & 0 & 0 & 0 & 0 & 0 & 0 & 0 & 0 & 1 & 0 & 0 & 0 & 0 & 0 & 1 & 0 & 0 & 0 & 1 & 0 & 0 & 1 & 0 & 0 & 0 & 0 & 0 & 0 & 0 & 0 & 0 & 0 & 0 & 0 & 0 & 0 & 0 & 0 & 1 & 0 & 0 & 0 & 0 & 0\\\\\n\tBruichladdich & 0 & 1 & 0 & 0 & 0 & 0 & 0 & 0 & 1 & 1 & 1 & 0 & 0 & 1 & 0 & 0 & 0 & 0 & 1 & 0 & 0 & 1 & 1 & 0 & 0 & 0 & 0 & 0 & 0 & 0 & 1 & 0 & 0 & 0 & 0 & 0 & 0 & 0 & 0 & 1 & 0 & 0 & 0 & 0 & 0 & 0 & 0 & 0 & 0 & 0 & 0 & 0 & 0 & 0 & 0 & 0 & 0 & 0\\\\\n\tGlenmorangie & 0 & 0 & 0 & 1 & 0 & 1 & 0 & 0 & 0 & 1 & 0 & 1 & 0 & 0 & 0 & 0 & 0 & 0 & 0 & 0 & 1 & 0 & 1 & 1 & 0 & 0 & 0 & 0 & 0 & 1 & 0 & 1 & 0 & 0 & 1 & 1 & 0 & 1 & 0 & 1 & 0 & 0 & 0 & 0 & 0 & 0 & 0 & 0 & 0 & 0 & 0 & 0 & 0 & 0 & 0 & 1 & 0 & 0\\\\\n\\end{tabular}\n",
            "text/markdown": "\nA data.frame: 6 × 58\n\n| <!--/--> | gold &lt;int&gt; | pale &lt;int&gt; | sherry &lt;int&gt; | p.gold &lt;int&gt; | soft &lt;int&gt; | med &lt;int&gt; | full &lt;int&gt; | round &lt;int&gt; | smooth &lt;int&gt; | light &lt;int&gt; | ⋯ ⋯ | smoke.1 &lt;int&gt; | sweet.1 &lt;int&gt; | spice.1 &lt;int&gt; | oil.1 &lt;int&gt; | salt.1 &lt;int&gt; | arome.1 &lt;int&gt; | ling &lt;int&gt; | long &lt;int&gt; | very &lt;int&gt; | quick &lt;int&gt; |\n|---|---|---|---|---|---|---|---|---|---|---|---|---|---|---|---|---|---|---|---|---|---|\n| Bunnahabhain | 1 | 0 | 0 | 0 | 0 | 1 | 0 | 0 | 0 | 1 | ⋯ | 0 | 0 | 0 | 0 | 0 | 0 | 0 | 0 | 0 | 0 |\n| Glenglassaugh | 1 | 0 | 0 | 0 | 0 | 0 | 0 | 0 | 1 | 1 | ⋯ | 0 | 0 | 0 | 0 | 0 | 0 | 0 | 0 | 0 | 0 |\n| Tullibardine | 1 | 0 | 0 | 0 | 0 | 1 | 0 | 0 | 1 | 0 | ⋯ | 0 | 1 | 0 | 0 | 0 | 1 | 0 | 0 | 0 | 0 |\n| Ardberg | 0 | 0 | 1 | 0 | 0 | 1 | 1 | 0 | 0 | 1 | ⋯ | 0 | 0 | 0 | 0 | 1 | 0 | 0 | 0 | 0 | 0 |\n| Bruichladdich | 0 | 1 | 0 | 0 | 0 | 0 | 0 | 0 | 1 | 1 | ⋯ | 0 | 0 | 0 | 0 | 0 | 0 | 0 | 0 | 0 | 0 |\n| Glenmorangie | 0 | 0 | 0 | 1 | 0 | 1 | 0 | 0 | 0 | 1 | ⋯ | 0 | 0 | 0 | 0 | 0 | 0 | 0 | 1 | 0 | 0 |\n\n",
            "text/html": [
              "<table>\n",
              "<caption>A data.frame: 6 × 58</caption>\n",
              "<thead>\n",
              "\t<tr><th></th><th scope=col>gold</th><th scope=col>pale</th><th scope=col>sherry</th><th scope=col>p.gold</th><th scope=col>soft</th><th scope=col>med</th><th scope=col>full</th><th scope=col>round</th><th scope=col>smooth</th><th scope=col>light</th><th scope=col>⋯</th><th scope=col>smoke.1</th><th scope=col>sweet.1</th><th scope=col>spice.1</th><th scope=col>oil.1</th><th scope=col>salt.1</th><th scope=col>arome.1</th><th scope=col>ling</th><th scope=col>long</th><th scope=col>very</th><th scope=col>quick</th></tr>\n",
              "\t<tr><th></th><th scope=col>&lt;int&gt;</th><th scope=col>&lt;int&gt;</th><th scope=col>&lt;int&gt;</th><th scope=col>&lt;int&gt;</th><th scope=col>&lt;int&gt;</th><th scope=col>&lt;int&gt;</th><th scope=col>&lt;int&gt;</th><th scope=col>&lt;int&gt;</th><th scope=col>&lt;int&gt;</th><th scope=col>&lt;int&gt;</th><th scope=col>⋯</th><th scope=col>&lt;int&gt;</th><th scope=col>&lt;int&gt;</th><th scope=col>&lt;int&gt;</th><th scope=col>&lt;int&gt;</th><th scope=col>&lt;int&gt;</th><th scope=col>&lt;int&gt;</th><th scope=col>&lt;int&gt;</th><th scope=col>&lt;int&gt;</th><th scope=col>&lt;int&gt;</th><th scope=col>&lt;int&gt;</th></tr>\n",
              "</thead>\n",
              "<tbody>\n",
              "\t<tr><th scope=row>Bunnahabhain</th><td>1</td><td>0</td><td>0</td><td>0</td><td>0</td><td>1</td><td>0</td><td>0</td><td>0</td><td>1</td><td>⋯</td><td>0</td><td>0</td><td>0</td><td>0</td><td>0</td><td>0</td><td>0</td><td>0</td><td>0</td><td>0</td></tr>\n",
              "\t<tr><th scope=row>Glenglassaugh</th><td>1</td><td>0</td><td>0</td><td>0</td><td>0</td><td>0</td><td>0</td><td>0</td><td>1</td><td>1</td><td>⋯</td><td>0</td><td>0</td><td>0</td><td>0</td><td>0</td><td>0</td><td>0</td><td>0</td><td>0</td><td>0</td></tr>\n",
              "\t<tr><th scope=row>Tullibardine</th><td>1</td><td>0</td><td>0</td><td>0</td><td>0</td><td>1</td><td>0</td><td>0</td><td>1</td><td>0</td><td>⋯</td><td>0</td><td>1</td><td>0</td><td>0</td><td>0</td><td>1</td><td>0</td><td>0</td><td>0</td><td>0</td></tr>\n",
              "\t<tr><th scope=row>Ardberg</th><td>0</td><td>0</td><td>1</td><td>0</td><td>0</td><td>1</td><td>1</td><td>0</td><td>0</td><td>1</td><td>⋯</td><td>0</td><td>0</td><td>0</td><td>0</td><td>1</td><td>0</td><td>0</td><td>0</td><td>0</td><td>0</td></tr>\n",
              "\t<tr><th scope=row>Bruichladdich</th><td>0</td><td>1</td><td>0</td><td>0</td><td>0</td><td>0</td><td>0</td><td>0</td><td>1</td><td>1</td><td>⋯</td><td>0</td><td>0</td><td>0</td><td>0</td><td>0</td><td>0</td><td>0</td><td>0</td><td>0</td><td>0</td></tr>\n",
              "\t<tr><th scope=row>Glenmorangie</th><td>0</td><td>0</td><td>0</td><td>1</td><td>0</td><td>1</td><td>0</td><td>0</td><td>0</td><td>1</td><td>⋯</td><td>0</td><td>0</td><td>0</td><td>0</td><td>0</td><td>0</td><td>0</td><td>1</td><td>0</td><td>0</td></tr>\n",
              "</tbody>\n",
              "</table>\n"
            ]
          },
          "metadata": {
            "tags": []
          }
        }
      ]
    },
    {
      "cell_type": "markdown",
      "metadata": {
        "id": "aD6P0jvd17Gl",
        "colab_type": "text"
      },
      "source": [
        "Existem diversos tipos de distância. Quando os atributos são heterogêneos e categóricos, temos algumas alternativas:\n",
        "1. Categorizá-los em números (como fizemos anteriormente)\n",
        "2. Usar uma distância apropriada para dados categóricos (como a de Jaccard, por exemplo, utilizada nesse exemplo do Whisky).\n",
        "\n",
        "Exemplos de distância são:\n",
        "1. Distância Euclidiana: normalmente a mais utilizada. É geral, intuitiva e computacionalmente muito rápida.\n",
        "1. Distância de Manhattan\n",
        "2. Distância de coseno: útil quando se quer ignorar diferenças de escala, como o tamanho dos textos.\n",
        "3. Distância de Jaccard: Trata dois objetos como conjuntos de características. Apropriado para problemas em que a posse de uma característica comum é importante, mas a ausência não.\n"
      ]
    },
    {
      "cell_type": "code",
      "metadata": {
        "id": "HkTefc5brpa9",
        "colab_type": "code",
        "colab": {
          "base_uri": "https://localhost:8080/",
          "height": 127
        },
        "outputId": "75110709-5e16-4f5e-fa8b-420272b4813d"
      },
      "source": [
        "dist(data_selected, method=\"Jaccard\", by_rows=TRUE)"
      ],
      "execution_count": 136,
      "outputs": [
        {
          "output_type": "display_data",
          "data": {
            "text/plain": [
              "              Bunnahabhain Glenglassaugh Tullibardine   Ardberg Bruichladdich\n",
              "Glenglassaugh    0.6428571                                                   \n",
              "Tullibardine     0.6470588     0.7058824                                     \n",
              "Ardberg          0.6666667     0.8125000    0.8500000                        \n",
              "Bruichladdich    0.6666667     0.7333333    0.7894737 0.8235294              \n",
              "Glenmorangie     0.6666667     0.7222222    0.8260870 0.8000000     0.8571429"
            ]
          },
          "metadata": {
            "tags": []
          }
        }
      ]
    }
  ]
}