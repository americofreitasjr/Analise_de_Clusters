{
  "nbformat": 4,
  "nbformat_minor": 0,
  "metadata": {
    "colab": {
      "name": "Transformação dos dados de MovieLens.ipynb",
      "version": "0.3.2",
      "provenance": [],
      "include_colab_link": true
    },
    "language_info": {
      "codemirror_mode": {
        "name": "ipython",
        "version": 3
      },
      "file_extension": ".py",
      "mimetype": "text/x-python",
      "name": "python",
      "nbconvert_exporter": "python",
      "pygments_lexer": "ipython3",
      "version": "3.7.3"
    },
    "kernelspec": {
      "display_name": "Python 3",
      "language": "python",
      "name": "python3"
    }
  },
  "cells": [
    {
      "cell_type": "markdown",
      "metadata": {
        "id": "view-in-github",
        "colab_type": "text"
      },
      "source": [
        "<a href=\"https://colab.research.google.com/github/lauramoraes/Analise_de_Clusters/blob/master/Extras/Transforma%C3%A7%C3%A3o%20dos%20dados%20de%20MovieLens.ipynb\" target=\"_parent\"><img src=\"https://colab.research.google.com/assets/colab-badge.svg\" alt=\"Open In Colab\"/></a>"
      ]
    },
    {
      "cell_type": "code",
      "metadata": {
        "id": "cQ8Q1RF9oRtb",
        "colab_type": "code",
        "colab": {}
      },
      "source": [
        "import numpy as np\n",
        "import pandas as pd"
      ],
      "execution_count": 0,
      "outputs": []
    },
    {
      "cell_type": "markdown",
      "metadata": {
        "id": "vaoIaGFzoRtq",
        "colab_type": "text"
      },
      "source": [
        "### Load data and transform to matrix format"
      ]
    },
    {
      "cell_type": "code",
      "metadata": {
        "id": "gI7Tmkz2oRtt",
        "colab_type": "code",
        "colab": {}
      },
      "source": [
        "data = pd.io.parsers.read_csv('https://www.dropbox.com/s/1cpoehysc3t0lzg/ratings.dat?dl=1', \n",
        "    names=['user_id', 'movie_id', 'rating', 'time'],\n",
        "    engine='python', delimiter='::', encoding=\"ISO-8859-1\")\n",
        "movie_data = pd.io.parsers.read_csv('https://www.dropbox.com/s/1z10ni8vwh1421f/movies.dat?dl=1',\n",
        "    names=['movie_id', 'title', 'genre'],\n",
        "    engine='python', delimiter='::', encoding=\"ISO-8859-1\")\n",
        "user_data = pd.io.parsers.read_csv('https://www.dropbox.com/s/yuvm2mczfma83be/users.dat?dl=1',\n",
        "    names=[\"user_id\", \"gender\", \"age\", \"occupation\", \"zip-code\"],\n",
        "    engine='python', delimiter='::', encoding=\"ISO-8859-1\")"
      ],
      "execution_count": 0,
      "outputs": []
    },
    {
      "cell_type": "code",
      "metadata": {
        "id": "5RspUIA6oRt1",
        "colab_type": "code",
        "colab": {}
      },
      "source": [
        "ratings_mat = np.ndarray(\n",
        "    shape=(np.max(data.movie_id.values), np.max(data.user_id.values)),\n",
        "    dtype=np.uint8)\n",
        "ratings_mat[data.movie_id.values-1, data.user_id.values-1] = data.rating.values"
      ],
      "execution_count": 0,
      "outputs": []
    },
    {
      "cell_type": "markdown",
      "metadata": {
        "id": "20KxvqN8oRt-",
        "colab_type": "text"
      },
      "source": [
        "Get movie names"
      ]
    },
    {
      "cell_type": "code",
      "metadata": {
        "id": "c3xPlmSqoRuB",
        "colab_type": "code",
        "colab": {}
      },
      "source": [
        "movies_mat = np.ndarray(\n",
        "    shape=(np.max(movie_data.movie_id.values), 1),\n",
        "    dtype=object)\n",
        "movies_mat[movie_data.movie_id.values-1, 0] = movie_data.title.values"
      ],
      "execution_count": 0,
      "outputs": []
    },
    {
      "cell_type": "code",
      "metadata": {
        "id": "AurNIfTUoRuH",
        "colab_type": "code",
        "colab": {}
      },
      "source": [
        "df = pd.DataFrame(ratings_mat, index=movies_mat[:,0].tolist())\n",
        "df.to_csv(\"ml-1m.csv\", sep=',')"
      ],
      "execution_count": 0,
      "outputs": []
    }
  ]
}